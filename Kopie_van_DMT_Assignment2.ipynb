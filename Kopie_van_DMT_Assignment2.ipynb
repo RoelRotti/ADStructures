{
  "nbformat": 4,
  "nbformat_minor": 0,
  "metadata": {
    "colab": {
      "name": "Kopie van DMT_Assignment2.ipynb",
      "provenance": [],
      "collapsed_sections": [],
      "include_colab_link": true
    },
    "kernelspec": {
      "display_name": "Python 3",
      "name": "python3"
    },
    "language_info": {
      "name": "python"
    }
  },
  "cells": [
    {
      "cell_type": "markdown",
      "metadata": {
        "id": "view-in-github",
        "colab_type": "text"
      },
      "source": [
        "<a href=\"https://colab.research.google.com/github/RoelRotti/ADStructures/blob/master/Kopie_van_DMT_Assignment2.ipynb\" target=\"_parent\"><img src=\"https://colab.research.google.com/assets/colab-badge.svg\" alt=\"Open In Colab\"/></a>"
      ]
    },
    {
      "cell_type": "markdown",
      "metadata": {
        "id": "0V5keZ_ukERc"
      },
      "source": [
        "# Data Mining Techniques Group 66 Assignment 2\n"
      ]
    },
    {
      "cell_type": "code",
      "metadata": {
        "id": "Sxq4FR64sTA0",
        "colab": {
          "base_uri": "https://localhost:8080/"
        },
        "outputId": "d3127e21-5d2d-4f8e-a4da-24eac1a5a74a"
      },
      "source": [
        "!pip install kaggle --upgrade\n",
        "!pip install xgboost"
      ],
      "execution_count": null,
      "outputs": [
        {
          "output_type": "stream",
          "text": [
            "Requirement already up-to-date: kaggle in /usr/local/lib/python3.7/dist-packages (1.5.12)\n",
            "Requirement already satisfied, skipping upgrade: python-slugify in /usr/local/lib/python3.7/dist-packages (from kaggle) (5.0.2)\n",
            "Requirement already satisfied, skipping upgrade: tqdm in /usr/local/lib/python3.7/dist-packages (from kaggle) (4.41.1)\n",
            "Requirement already satisfied, skipping upgrade: python-dateutil in /usr/local/lib/python3.7/dist-packages (from kaggle) (2.8.1)\n",
            "Requirement already satisfied, skipping upgrade: urllib3 in /usr/local/lib/python3.7/dist-packages (from kaggle) (1.24.3)\n",
            "Requirement already satisfied, skipping upgrade: requests in /usr/local/lib/python3.7/dist-packages (from kaggle) (2.23.0)\n",
            "Requirement already satisfied, skipping upgrade: certifi in /usr/local/lib/python3.7/dist-packages (from kaggle) (2020.12.5)\n",
            "Requirement already satisfied, skipping upgrade: six>=1.10 in /usr/local/lib/python3.7/dist-packages (from kaggle) (1.15.0)\n",
            "Requirement already satisfied, skipping upgrade: text-unidecode>=1.3 in /usr/local/lib/python3.7/dist-packages (from python-slugify->kaggle) (1.3)\n",
            "Requirement already satisfied, skipping upgrade: chardet<4,>=3.0.2 in /usr/local/lib/python3.7/dist-packages (from requests->kaggle) (3.0.4)\n",
            "Requirement already satisfied, skipping upgrade: idna<3,>=2.5 in /usr/local/lib/python3.7/dist-packages (from requests->kaggle) (2.10)\n",
            "Requirement already satisfied: xgboost in /usr/local/lib/python3.7/dist-packages (0.90)\n",
            "Requirement already satisfied: scipy in /usr/local/lib/python3.7/dist-packages (from xgboost) (1.4.1)\n",
            "Requirement already satisfied: numpy in /usr/local/lib/python3.7/dist-packages (from xgboost) (1.19.5)\n"
          ],
          "name": "stdout"
        }
      ]
    },
    {
      "cell_type": "code",
      "metadata": {
        "id": "RcKVjhr_Jsek"
      },
      "source": [
        "# All imports together\n",
        "import numpy as np\n",
        "import seaborn as sns\n",
        "import matplotlib.pyplot as plt\n",
        "import pandas as pd\n",
        "import os\n",
        "import csv\n",
        "from sklearn.model_selection import train_test_split\n",
        "from sklearn.ensemble import RandomForestRegressor\n",
        "from google.colab import drive\n",
        "import gc\n",
        "from xgboost import XGBRegressor\n",
        "from matplotlib import pyplot\n",
        "import pickle\n",
        "\n",
        "# Ensemble:\n",
        "from sklearn import model_selection\n",
        "# from sklearn.linear_model import LogisticRegression\n",
        "# from sklearn.tree import DecisionTreeClassifier\n",
        "# from sklearn.neighbors import KNeighborsClassifier\n",
        "# from sklearn.svm import SVC\n",
        "from sklearn.ensemble import VotingClassifier\n",
        "\n",
        "RANDOM_STATE = 42"
      ],
      "execution_count": null,
      "outputs": []
    },
    {
      "cell_type": "code",
      "metadata": {
        "colab": {
          "base_uri": "https://localhost:8080/"
        },
        "id": "7h69wffD1-Yt",
        "outputId": "72756a67-b170-490a-beb5-e62335cfb1cd"
      },
      "source": [
        "# Create folder in drive where datasets can be stored, in this folder you \n",
        "# need to store the JSON file with the Kaggle API key (Account-> 'Create new API token')\n",
        "RUN = True\n",
        "if RUN:\n",
        "    drive.mount('/content/gdrive')\n",
        "\n",
        "    os.environ['KAGGLE_CONFIG_DIR'] = \"/content/gdrive/My Drive/Kaggle\"\n",
        "\n",
        "    %cd /content/gdrive/My Drive/Kaggle\n",
        "\n",
        "    # load datasets into folder named \"Kaggle\"\n",
        "    !kaggle competitions download -c 2nd-assignment-dmt-2021\n",
        "\n",
        "    !unzip \\*.zip  && rm *.zip"
      ],
      "execution_count": null,
      "outputs": [
        {
          "output_type": "stream",
          "text": [
            "Mounted at /content/gdrive\n",
            "/content/gdrive/My Drive/Kaggle\n",
            "Warning: Looks like you're using an outdated API Version, please consider updating (server 1.5.12 / client 1.5.4)\n",
            "Downloading training_set_VU_DM.csv.zip to /content/gdrive/My Drive/Kaggle\n",
            " 95% 125M/132M [00:01<00:00, 106MB/s]\n",
            "100% 132M/132M [00:01<00:00, 108MB/s]\n",
            "Downloading test_set_VU_DM.csv.zip to /content/gdrive/My Drive/Kaggle\n",
            " 90% 109M/121M [00:01<00:00, 20.7MB/s] \n",
            "100% 121M/121M [00:01<00:00, 83.3MB/s]\n",
            "Downloading submission_sample.csv.zip to /content/gdrive/My Drive/Kaggle\n",
            " 88% 17.0M/19.4M [00:00<00:00, 36.0MB/s]\n",
            "100% 19.4M/19.4M [00:00<00:00, 49.0MB/s]\n",
            "Archive:  training_set_VU_DM.csv.zip\n",
            "replace training_set_VU_DM.csv? [y]es, [n]o, [A]ll, [N]one, [r]ename: n\n",
            "\n",
            "Archive:  test_set_VU_DM.csv.zip\n",
            "replace test_set_VU_DM.csv? [y]es, [n]o, [A]ll, [N]one, [r]ename: n\n",
            "\n",
            "Archive:  submission_sample.csv.zip\n",
            "replace submission_sample.csv? [y]es, [n]o, [A]ll, [N]one, [r]ename: n\n",
            "\n",
            "3 archives were successfully processed.\n"
          ],
          "name": "stdout"
        }
      ]
    },
    {
      "cell_type": "code",
      "metadata": {
        "id": "soLYrB-9Hw0W"
      },
      "source": [
        "# Loading the data into a pandas dataframe\n",
        "df_train = pd.read_csv(\"training_set_VU_DM.csv\", parse_dates=[\"date_time\"])\n",
        "df_test = pd.read_csv(\"test_set_VU_DM.csv\", parse_dates=[\"date_time\"])"
      ],
      "execution_count": null,
      "outputs": []
    },
    {
      "cell_type": "code",
      "metadata": {
        "id": "-rp_c7zGLT3B"
      },
      "source": [
        "# scoring function\n",
        "def dcg_at_k(sorted_labels, k = 5):\n",
        "  if k > 0:\n",
        "    k = min(sorted_labels.shape[0], k)\n",
        "  else:\n",
        "    k = sorted_labels.shape[0]\n",
        "  denom = 1./np.log2(np.arange(k)+2.)\n",
        "  nom = 2**sorted_labels-1.\n",
        "  dcg = np.sum(nom[:k]*denom)\n",
        "  return dcg\n",
        "\n",
        "def ndcg_at_k(sorted_labels, ideal_labels, k = 5):\n",
        "  return dcg_at_k(sorted_labels, k) / dcg_at_k(ideal_labels, k)"
      ],
      "execution_count": null,
      "outputs": []
    },
    {
      "cell_type": "code",
      "metadata": {
        "id": "ufbYicIzX1sn"
      },
      "source": [
        "# relevance label function\n",
        "def label_relevance(row):\n",
        "  if row.booking_bool == 1:\n",
        "    return 5\n",
        "  elif row.click_bool == 1:\n",
        "    return 1\n",
        "  else:\n",
        "    return 0"
      ],
      "execution_count": null,
      "outputs": []
    },
    {
      "cell_type": "markdown",
      "metadata": {
        "id": "X7E4E7EsiR2d"
      },
      "source": [
        "## Business Understanding (Literature Research)\n",
        "\n",
        "\n",
        "*Your task is to predict what hotels properties listed as a result of a hotel search a user is most\n",
        "likely to click on. Of course, more people have worked on such predictions. Can you find\n",
        "some other people that have tried to make such predictions (e.g. from the Kaggle competition)? And what have they used as most prominent predictors? Have other people that\n",
        "participate in the competition mentioned anything about their approaches? Please spend a\n",
        "couple of paragraphs on this topic (i.e. related work) in your report.*\n",
        "\n",
        "\n",
        "Links to other codes and explanations of this project.\n",
        "https://www.kaggle.com/c/expedia-hotel-recommendations/code\n",
        "\n",
        "Options:\n",
        "- Feature importance again can be checked with correlation and the importance scores in the Random Forest as we've done in the previous assignment. Some other options are given (for example specifically for XGBoost) in this tutorial for python (**!!!!!!!!! THIS LINK IS REALLY NICE FOR FEATURE IMPORTANCE EXTRACTION https://machinelearningmastery.com/calculate-feature-importance-with-python/ !!!!!!!!**)\n",
        "- K-nearest Neighbour & Aglomerative Clustering (https://www.kaggle.com/xseungyeonleex/expedia-hotel-recommendations-practice)\n",
        "- Random Forest (https://www.kaggle.com/noddabodder/random-forest)\n",
        "- Paper compares RF : Random Forest, SGD : Stochastic Gradient\n",
        "Descent, NB : Naive Bayes, XGB : XGBoost, EL :\n",
        "Ensemble Learning, DL : Data Leak, DMC : Distance\n",
        "Matrix Completion https://arxiv.org/pdf/1908.07498.pdf (XGBoost works very well here, I never heard of Data Leakage, but combination of that and Ensemble Learning (all models chained together) worked best in this paper, Random Forest also already predicts quite well)\n",
        "- Compares NN approach to decision tree and ensemble of decision trees (https://towardsdatascience.com/predicting-hotel-bookings-on-expedia-d93b0c7e1411) \n",
        "- XGBOOST apparently is an algorithm that is dominating ML currently (https://machinelearningmastery.com/gentle-introduction-xgboost-applied-machine-learning/) and is also used for this dataset before(https://rishabhmisra.github.io/projectsDepricated/).\n",
        "- Naive Bayes is also mentioned often.\n",
        "- Counterfactual Learning to Rank as in Information Retrieval (Loss function via Inverse Propensity scoring, Propensity weighted learning to rank with DCG), because we don't have an ideal ranking but we only have the implicit signal: clicks?\n",
        "- Not much NN approaches from what I've read, but for the CounterFLTR I think we need to use a NN given that we have a loss function defined with inverse propensity scoring. \n",
        "\n",
        "**Maybe make a majority vote ensemble of algorithsm like Random Forest, XGBoost, CFLTR, SGD , Feed Forward Neural Net and Naive Bayes?**"
      ]
    },
    {
      "cell_type": "markdown",
      "metadata": {
        "id": "vjuuBoMzIa0j"
      },
      "source": [
        "## Data Understanding (Data Exploration)\n",
        "\n",
        "*Essentially, this is a subtask that requires you do exploratory data analysis (EDA). Explore\n",
        "the dataset, count, summarize, plot things, and report findings that are useful for your task.\n",
        "Remember that EDA is not necessary done once and then you move on. It might very well\n",
        "be possible that you do some EDA, build some models, then some idea comes up, do some\n",
        "more EDA, modify your model according to what it shows, and so on.*"
      ]
    },
    {
      "cell_type": "code",
      "metadata": {
        "colab": {
          "base_uri": "https://localhost:8080/"
        },
        "id": "5vv-7YN2vLYp",
        "outputId": "7d12b170-6711-40a9-b486-adcc9781045b"
      },
      "source": [
        "print(\"Size of dataframe:\", df_train.shape)"
      ],
      "execution_count": null,
      "outputs": [
        {
          "output_type": "stream",
          "text": [
            "Size of dataframe: (4958347, 54)\n"
          ],
          "name": "stdout"
        }
      ]
    },
    {
      "cell_type": "markdown",
      "metadata": {
        "id": "czpizr4A5TCX"
      },
      "source": [
        "In total there are around 5 million observations in this dataset. There are 54 attributes in the dataset.\n"
      ]
    },
    {
      "cell_type": "code",
      "metadata": {
        "colab": {
          "base_uri": "https://localhost:8080/"
        },
        "id": "gJ34xZG-t8hG",
        "outputId": "5ff59d64-f102-42d6-e517-cc7733ec62c4"
      },
      "source": [
        "# Frequency of country where visitor of the website comes from\n",
        "df_train['visitor_location_country_id'].value_counts(normalize=True)"
      ],
      "execution_count": null,
      "outputs": [
        {
          "output_type": "execute_result",
          "data": {
            "text/plain": [
              "219    0.583358\n",
              "100    0.099928\n",
              "55     0.058580\n",
              "216    0.043842\n",
              "220    0.035152\n",
              "         ...   \n",
              "226    0.000005\n",
              "190    0.000005\n",
              "146    0.000003\n",
              "83     0.000003\n",
              "150    0.000002\n",
              "Name: visitor_location_country_id, Length: 210, dtype: float64"
            ]
          },
          "metadata": {
            "tags": []
          },
          "execution_count": 8
        }
      ]
    },
    {
      "cell_type": "markdown",
      "metadata": {
        "id": "GwzLGxAOyXIu"
      },
      "source": [
        "So there are 210 different countries from where visitors of the websites linked to expedia are booking from. The majority (58%) of the visitors is from country 219. The rest of the countries appear much less (second country entails just below 10% of the visitors)."
      ]
    },
    {
      "cell_type": "code",
      "metadata": {
        "colab": {
          "base_uri": "https://localhost:8080/"
        },
        "id": "EhPIZ74TvBEQ",
        "outputId": "d6680049-d377-47ec-a70c-f4f84d9a43b8"
      },
      "source": [
        "# Frequency of site where the user books from\n",
        "fig, ax = plt.subplots()\n",
        "fig.set_size_inches(13, 8)\n",
        "sns.countplot('site_id', data=df_train, ax=ax)\n",
        "# Only print the top 3 sites to show the main idea\n",
        "df_train['site_id'].value_counts(normalize=True)[0:3]"
      ],
      "execution_count": null,
      "outputs": [
        {
          "output_type": "stream",
          "text": [
            "/usr/local/lib/python3.7/dist-packages/seaborn/_decorators.py:43: FutureWarning: Pass the following variable as a keyword arg: x. From version 0.12, the only valid positional argument will be `data`, and passing other arguments without an explicit keyword will result in an error or misinterpretation.\n",
            "  FutureWarning\n"
          ],
          "name": "stderr"
        },
        {
          "output_type": "execute_result",
          "data": {
            "text/plain": [
              "5     0.622386\n",
              "14    0.097142\n",
              "15    0.062680\n",
              "Name: site_id, dtype: float64"
            ]
          },
          "metadata": {
            "tags": []
          },
          "execution_count": 9
        },
        {
          "output_type": "display_data",
          "data": {
            "image/png": "[encoded data removed]",
            "text/plain": [
              "<Figure size 936x576 with 1 Axes>"
            ]
          },
          "metadata": {
            "tags": [],
            "needs_background": "light"
          }
        }
      ]
    },
    {
      "cell_type": "markdown",
      "metadata": {
        "id": "D9AlPYC-0Ewb"
      },
      "source": [
        "Expedia has 34 different websites from which people can book their holiday homes (such as expedia.com, expedia.co.uk, expedia.co.jp etc). The majority (62%) booked from the site with id 5 (probably expedia.com since this is the most general one). The rest of the sites appears much less (second country entails just below 10% of the visitors)."
      ]
    },
    {
      "cell_type": "code",
      "metadata": {
        "colab": {
          "base_uri": "https://localhost:8080/"
        },
        "id": "ui-JXjgC2RD_",
        "outputId": "c3d3f535-72a3-45df-9a95-334c034b763e"
      },
      "source": [
        "print(\"Summary of available origin to destination distances\")\n",
        "print(df_train['orig_destination_distance'].describe().round(2))"
      ],
      "execution_count": null,
      "outputs": [
        {
          "output_type": "stream",
          "text": [
            "Summary of available origin to destination distances\n",
            "count    3350565.00\n",
            "mean        1301.23\n",
            "std         2023.95\n",
            "min            0.01\n",
            "25%          139.80\n",
            "50%          386.60\n",
            "75%         1500.67\n",
            "max        11666.64\n",
            "Name: orig_destination_distance, dtype: float64\n"
          ],
          "name": "stdout"
        }
      ]
    },
    {
      "cell_type": "markdown",
      "metadata": {
        "id": "khLOhpZI4s2x"
      },
      "source": [
        "There are over 3 million observations for origin to destination distances (meaning that for only 1% of the observations this value is known). The average distance to a holiday destination is 1301.23 miles, the minimal distance is 0.01 miles and the maximum distance is 11666.64 miles (the units of measurement are not known whithin this project, however we assume it is in miles given the maximum distance that is close to halve the circumference of the earth in miles, for kilometers the max distance would have been higher since when I am looking to hotels in Melbourne right now I would have a distance of 16.000 km)"
      ]
    },
    {
      "cell_type": "code",
      "metadata": {
        "colab": {
          "base_uri": "https://localhost:8080/"
        },
        "id": "SYBp1LdpFX8n",
        "outputId": "ed9f1db7-fdd4-4e9b-9c63-32d29ed94428"
      },
      "source": [
        "print(\"First observation: \", df_train['date_time'].min())\n",
        "print(\"Last observation: \", df_train['date_time'].max())"
      ],
      "execution_count": null,
      "outputs": [
        {
          "output_type": "stream",
          "text": [
            "First observation:  2012-11-01 00:08:29\n",
            "Last observation:  2013-06-30 23:58:24\n"
          ],
          "name": "stdout"
        }
      ]
    },
    {
      "cell_type": "markdown",
      "metadata": {
        "id": "fFBzyBgFGUBR"
      },
      "source": [
        "Data is collected from the first day of November in 2012 till the last day of June in 2013."
      ]
    },
    {
      "cell_type": "code",
      "metadata": {
        "colab": {
          "base_uri": "https://localhost:8080/"
        },
        "id": "SMaHPmDIHmoV",
        "outputId": "af9eb42a-8d71-46db-9cce-b0204b94578e"
      },
      "source": [
        "# Frequency of searches per hour of the day\n",
        "fig, ax = plt.subplots()\n",
        "fig.set_size_inches(13, 8)\n",
        "g = sns.countplot(df_train['date_time'].dt.hour, data=df_train, ax=ax)\n",
        "g.set_title(\"Searches per hour of the day\");"
      ],
      "execution_count": null,
      "outputs": [
        {
          "output_type": "stream",
          "text": [
            "/usr/local/lib/python3.7/dist-packages/seaborn/_decorators.py:43: FutureWarning: Pass the following variable as a keyword arg: x. From version 0.12, the only valid positional argument will be `data`, and passing other arguments without an explicit keyword will result in an error or misinterpretation.\n",
            "  FutureWarning\n"
          ],
          "name": "stderr"
        },
        {
          "output_type": "display_data",
          "data": {
            "image/png": "[encoded data removed]",
            "text/plain": [
              "<Figure size 936x576 with 1 Axes>"
            ]
          },
          "metadata": {
            "tags": [],
            "needs_background": "light"
          }
        }
      ]
    },
    {
      "cell_type": "markdown",
      "metadata": {
        "id": "GjlSGX6xHzKQ"
      },
      "source": [
        "People searched for holiday destinations mostly during daytime especially slightly more in the later mornings(11/12-ish) and at the start of the evening (17/18/19-ish)."
      ]
    },
    {
      "cell_type": "code",
      "metadata": {
        "colab": {
          "base_uri": "https://localhost:8080/",
          "height": 568
        },
        "id": "1N0Sezib9TPT",
        "outputId": "f558ec1b-e683-4468-8663-f21b3297c6f9"
      },
      "source": [
        "# Frequency of searches per day of the week\n",
        "fig, ax = plt.subplots()\n",
        "fig.set_size_inches(13, 8)\n",
        "g = sns.countplot(df_train['date_time'].dt.weekday, data=df_train, ax=ax)\n",
        "g.set_xticklabels(['Monday','Tuesday','Wednesday','Thursday','Friday','Saturday','Sunday'])\n",
        "g.set_title(\"Searches per day of the week\");"
      ],
      "execution_count": null,
      "outputs": [
        {
          "output_type": "stream",
          "text": [
            "/usr/local/lib/python3.7/dist-packages/seaborn/_decorators.py:43: FutureWarning: Pass the following variable as a keyword arg: x. From version 0.12, the only valid positional argument will be `data`, and passing other arguments without an explicit keyword will result in an error or misinterpretation.\n",
            "  FutureWarning\n"
          ],
          "name": "stderr"
        },
        {
          "output_type": "display_data",
          "data": {
            "image/png": "[encoded data removed]",
            "text/plain": [
              "<Figure size 936x576 with 1 Axes>"
            ]
          },
          "metadata": {
            "tags": [],
            "needs_background": "light"
          }
        }
      ]
    },
    {
      "cell_type": "markdown",
      "metadata": {
        "id": "mvRkFvQmF112"
      },
      "source": [
        "During the weeekend less searches are performed than during the working days, which is in my opinion surprising since I would have thought people use the weekends to plan their holidays."
      ]
    },
    {
      "cell_type": "code",
      "metadata": {
        "colab": {
          "base_uri": "https://localhost:8080/",
          "height": 568
        },
        "id": "Xqunjkl9EzsJ",
        "outputId": "98555ae4-2157-45da-9ad7-f27d68e7264b"
      },
      "source": [
        "# Frequency of searches per day of the week\n",
        "fig, ax = plt.subplots()\n",
        "fig.set_size_inches(13, 8)\n",
        "g = sns.countplot(df_train['date_time'].dt.month, data=df_train, ax=ax)\n",
        "#g.set_xticklabels(['January','February','March','April','May','June','July', 'August', 'September', 'October', 'December'])\n",
        "g.set_title(\"Searches per month\");"
      ],
      "execution_count": null,
      "outputs": [
        {
          "output_type": "stream",
          "text": [
            "/usr/local/lib/python3.7/dist-packages/seaborn/_decorators.py:43: FutureWarning: Pass the following variable as a keyword arg: x. From version 0.12, the only valid positional argument will be `data`, and passing other arguments without an explicit keyword will result in an error or misinterpretation.\n",
            "  FutureWarning\n"
          ],
          "name": "stderr"
        },
        {
          "output_type": "display_data",
          "data": {
            "image/png": "[encoded data removed]",
            "text/plain": [
              "<Figure size 936x576 with 1 Axes>"
            ]
          },
          "metadata": {
            "tags": [],
            "needs_background": "light"
          }
        }
      ]
    },
    {
      "cell_type": "markdown",
      "metadata": {
        "id": "s-yJtUwHGsX2"
      },
      "source": [
        "In November and December 2012 people searched less to holiday destinations than in the beginning of 2013. March, May and June are months in which most of the holidays are planned. "
      ]
    },
    {
      "cell_type": "code",
      "metadata": {
        "colab": {
          "base_uri": "https://localhost:8080/",
          "height": 602
        },
        "id": "NXJnDVBkFoYC",
        "outputId": "19528255-e9f8-4461-b100-40ca32866373"
      },
      "source": [
        "# Frequency of searches per day of the week\n",
        "fig, ax = plt.subplots()\n",
        "fig.set_size_inches(13, 8)\n",
        "g = sns.countplot(df_train['date_time'].dt.week, data=df_train, ax=ax)\n",
        "g.set_title(\"Searches per week number\");"
      ],
      "execution_count": null,
      "outputs": [
        {
          "output_type": "stream",
          "text": [
            "/usr/local/lib/python3.7/dist-packages/ipykernel_launcher.py:4: FutureWarning: Series.dt.weekofyear and Series.dt.week have been deprecated.  Please use Series.dt.isocalendar().week instead.\n",
            "  after removing the cwd from sys.path.\n",
            "/usr/local/lib/python3.7/dist-packages/seaborn/_decorators.py:43: FutureWarning: Pass the following variable as a keyword arg: x. From version 0.12, the only valid positional argument will be `data`, and passing other arguments without an explicit keyword will result in an error or misinterpretation.\n",
            "  FutureWarning\n"
          ],
          "name": "stderr"
        },
        {
          "output_type": "display_data",
          "data": {
            "image/png": "[encoded data removed]",
            "text/plain": [
              "<Figure size 936x576 with 1 Axes>"
            ]
          },
          "metadata": {
            "tags": [],
            "needs_background": "light"
          }
        }
      ]
    },
    {
      "cell_type": "markdown",
      "metadata": {
        "id": "U1eemhqoHMce"
      },
      "source": [
        "Does not add much to the information."
      ]
    },
    {
      "cell_type": "code",
      "metadata": {
        "colab": {
          "base_uri": "https://localhost:8080/"
        },
        "id": "Hz5bMDJpJ27I",
        "outputId": "9ca86705-4574-44b5-818c-f5cc8615593e"
      },
      "source": [
        "df_train['prop_id'].value_counts().count()"
      ],
      "execution_count": null,
      "outputs": [
        {
          "output_type": "execute_result",
          "data": {
            "text/plain": [
              "129113"
            ]
          },
          "metadata": {
            "tags": []
          },
          "execution_count": 16
        }
      ]
    },
    {
      "cell_type": "markdown",
      "metadata": {
        "id": "BwyIynS_Kien"
      },
      "source": [
        "In total there are 129113 unique hotels that people came across in the search results."
      ]
    },
    {
      "cell_type": "code",
      "metadata": {
        "colab": {
          "base_uri": "https://localhost:8080/"
        },
        "id": "yDRHaqLjLZvK",
        "outputId": "01b7c98f-f4b2-48a8-fa62-88957aba24ff"
      },
      "source": [
        "df_train['prop_brand_bool'].value_counts(normalize=True)"
      ],
      "execution_count": null,
      "outputs": [
        {
          "output_type": "execute_result",
          "data": {
            "text/plain": [
              "1    0.634699\n",
              "0    0.365301\n",
              "Name: prop_brand_bool, dtype: float64"
            ]
          },
          "metadata": {
            "tags": []
          },
          "execution_count": 17
        }
      ]
    },
    {
      "cell_type": "markdown",
      "metadata": {
        "id": "wQp3qT1GLotG"
      },
      "source": [
        "63% of the hotels are from a major hotel chain, 37% of the hotels are independent."
      ]
    },
    {
      "cell_type": "code",
      "metadata": {
        "colab": {
          "base_uri": "https://localhost:8080/"
        },
        "id": "zKfL0tA_L8hv",
        "outputId": "de87a1c2-cd47-4f10-8eb8-67a0e970d689"
      },
      "source": [
        "print(\"Summary of prices of the hotels in USD\")\n",
        "print(df_train['price_usd'].describe().round(2))"
      ],
      "execution_count": null,
      "outputs": [
        {
          "output_type": "stream",
          "text": [
            "Summary of prices of the hotels in USD\n",
            "count     4958347.00\n",
            "mean          254.21\n",
            "std         16001.24\n",
            "min             0.00\n",
            "25%            85.00\n",
            "50%           122.00\n",
            "75%           184.96\n",
            "max      19726328.00\n",
            "Name: price_usd, dtype: float64\n"
          ],
          "name": "stdout"
        }
      ]
    },
    {
      "cell_type": "markdown",
      "metadata": {
        "id": "Cdk4ZUc6MH_h"
      },
      "source": [
        "Average price for the search results of the customers (note it can be for one day but also multiple days and taxes and fees are excluded from this price) are around 254 USD. Someone managed to get a search result with a price of over 19 million US dollars..."
      ]
    },
    {
      "cell_type": "code",
      "metadata": {
        "colab": {
          "base_uri": "https://localhost:8080/"
        },
        "id": "nubVZk5eNR9c",
        "outputId": "e58f363d-ceab-4c75-a61d-dea688949067"
      },
      "source": [
        "print(\"Length of stay\")\n",
        "print(df_train['srch_length_of_stay'].describe().round(2))"
      ],
      "execution_count": null,
      "outputs": [
        {
          "output_type": "stream",
          "text": [
            "Length of stay\n",
            "count    4958347.00\n",
            "mean           2.39\n",
            "std            2.05\n",
            "min            1.00\n",
            "25%            1.00\n",
            "50%            2.00\n",
            "75%            3.00\n",
            "max           57.00\n",
            "Name: srch_length_of_stay, dtype: float64\n"
          ],
          "name": "stdout"
        }
      ]
    },
    {
      "cell_type": "markdown",
      "metadata": {
        "id": "MNr3FGp1ON_h"
      },
      "source": [
        "The lenght of stay on average is 2.39 days with a minimum of 1 and a maximum of 57."
      ]
    },
    {
      "cell_type": "code",
      "metadata": {
        "colab": {
          "base_uri": "https://localhost:8080/"
        },
        "id": "hHLZnOmQNSgq",
        "outputId": "4f7f41c4-dc62-458a-e25f-0b147de82123"
      },
      "source": [
        "print(\"Number of days the booking is in the future\")\n",
        "print(df_train['srch_booking_window'].describe().round(2))\n"
      ],
      "execution_count": null,
      "outputs": [
        {
          "output_type": "stream",
          "text": [
            "Number of days the booking is in the future\n",
            "count    4958347.00\n",
            "mean          37.47\n",
            "std           51.99\n",
            "min            0.00\n",
            "25%            4.00\n",
            "50%           17.00\n",
            "75%           48.00\n",
            "max          492.00\n",
            "Name: srch_booking_window, dtype: float64\n"
          ],
          "name": "stdout"
        }
      ]
    },
    {
      "cell_type": "markdown",
      "metadata": {
        "id": "aTRkdR9aOv-t"
      },
      "source": [
        "On average searched for a destination 37.47 days ahead with a minimum of zero (same day) and a maximum of 492 days! (well planned)"
      ]
    },
    {
      "cell_type": "code",
      "metadata": {
        "colab": {
          "base_uri": "https://localhost:8080/"
        },
        "id": "2SKm1L5gNYmY",
        "outputId": "bc5e7716-0c9b-4d45-f9c1-617784120f07"
      },
      "source": [
        "print(\"Rooms\")\n",
        "print(df_train['srch_room_count'].describe().round(2))"
      ],
      "execution_count": null,
      "outputs": [
        {
          "output_type": "stream",
          "text": [
            "Rooms\n",
            "count    4958347.00\n",
            "mean           1.11\n",
            "std            0.42\n",
            "min            1.00\n",
            "25%            1.00\n",
            "50%            1.00\n",
            "75%            1.00\n",
            "max            8.00\n",
            "Name: srch_room_count, dtype: float64\n"
          ],
          "name": "stdout"
        }
      ]
    },
    {
      "cell_type": "markdown",
      "metadata": {
        "id": "_OW2YXoKPMnG"
      },
      "source": [
        "People are mostly searching for just one room, the average is arround 1.11. The maximum amount of rooms that is searched for is 8."
      ]
    },
    {
      "cell_type": "code",
      "metadata": {
        "colab": {
          "base_uri": "https://localhost:8080/"
        },
        "id": "PHjE3DwUNnZL",
        "outputId": "0f8e4028-92de-4128-b5b0-d43046bfbd63"
      },
      "source": [
        "print(\"Saterday night included\")\n",
        "df_train['srch_saturday_night_bool'].value_counts(normalize=True)"
      ],
      "execution_count": null,
      "outputs": [
        {
          "output_type": "stream",
          "text": [
            "Saterday night included\n"
          ],
          "name": "stdout"
        },
        {
          "output_type": "execute_result",
          "data": {
            "text/plain": [
              "1    0.502213\n",
              "0    0.497787\n",
              "Name: srch_saturday_night_bool, dtype: float64"
            ]
          },
          "metadata": {
            "tags": []
          },
          "execution_count": 22
        }
      ]
    },
    {
      "cell_type": "markdown",
      "metadata": {
        "id": "TH_OWvVcPioF"
      },
      "source": [
        "In a little more than half of the searches a saterday night is included in the search criteria."
      ]
    },
    {
      "cell_type": "markdown",
      "metadata": {
        "id": "r3kpfOFUN4M8"
      },
      "source": [
        "*Only in training dataset*"
      ]
    },
    {
      "cell_type": "code",
      "metadata": {
        "colab": {
          "base_uri": "https://localhost:8080/",
          "height": 265
        },
        "id": "A6py6-SLNyWy",
        "outputId": "4927670c-acff-4f96-b5da-a15b2aa332d1"
      },
      "source": [
        "a = df_train.groupby('position')['click_bool'].value_counts(normalize=True)\n",
        "a1 = a[0:20].unstack(0)\n",
        "\n",
        "df_plot_clicks = pd.DataFrame({'clicked': a1.loc[1],\n",
        "                   'not clicked': a1.loc[0]}, index=a1.columns)\n",
        "df_plot_clicks.plot.barh(stacked=True).invert_yaxis()"
      ],
      "execution_count": null,
      "outputs": [
        {
          "output_type": "display_data",
          "data": {
            "image/png": "[encoded data removed]",
            "text/plain": [
              "<Figure size 432x288 with 1 Axes>"
            ]
          },
          "metadata": {
            "tags": [],
            "needs_background": "light"
          }
        }
      ]
    },
    {
      "cell_type": "code",
      "metadata": {
        "colab": {
          "base_uri": "https://localhost:8080/",
          "height": 265
        },
        "id": "4HboQlnjNzM7",
        "outputId": "7c62cec1-5a5e-4ef3-9e18-2e05ba39a2ce"
      },
      "source": [
        "a = df_train.groupby('position')['booking_bool'].value_counts(normalize=True)\n",
        "a1 = a[0:20].unstack(0)\n",
        "\n",
        "df_plot_clicks = pd.DataFrame({'booked': a1.loc[1],\n",
        "                   'not booked': a1.loc[0]}, index=a1.columns)\n",
        "df_plot_clicks.plot.barh(stacked=True).invert_yaxis()"
      ],
      "execution_count": null,
      "outputs": [
        {
          "output_type": "display_data",
          "data": {
            "image/png": "[encoded data removed]",
            "text/plain": [
              "<Figure size 432x288 with 1 Axes>"
            ]
          },
          "metadata": {
            "tags": [],
            "needs_background": "light"
          }
        }
      ]
    },
    {
      "cell_type": "markdown",
      "metadata": {
        "id": "UF3ZbOb7hULY"
      },
      "source": [
        "From the two plots above it can be seen that the more prominent a hotel is positioned the bigger the chances that it is clicked and booked (note position 1 is the top of the page!). Only the first 10 positions are shown because the clickrates below position 10 are very low and do not provide extra insights."
      ]
    },
    {
      "cell_type": "code",
      "metadata": {
        "colab": {
          "base_uri": "https://localhost:8080/"
        },
        "id": "fyXL54cMi_Wu",
        "outputId": "1476ae5e-a5d0-49bb-b868-3121031570aa"
      },
      "source": [
        "missing_stats = (df_train.isna().mean().round(4) * 100).sort_values()\n",
        "plt.figure(figsize=(15, 6))\n",
        "sns.barplot(missing_stats.index, missing_stats.values, alpha=0.8)\n",
        "plt.title('Percentage missing values in training set', fontsize=20)\n",
        "plt.ylabel('Missing(%)', fontsize=12)\n",
        "plt.xlabel('Attributes', fontsize=12)\n",
        "plt.xticks(rotation=90)\n",
        "plt.grid()\n",
        "plt.show()"
      ],
      "execution_count": null,
      "outputs": [
        {
          "output_type": "stream",
          "text": [
            "/usr/local/lib/python3.7/dist-packages/seaborn/_decorators.py:43: FutureWarning: Pass the following variables as keyword args: x, y. From version 0.12, the only valid positional argument will be `data`, and passing other arguments without an explicit keyword will result in an error or misinterpretation.\n",
            "  FutureWarning\n"
          ],
          "name": "stderr"
        },
        {
          "output_type": "display_data",
          "data": {
            "image/png": "[encoded data removed]",
            "text/plain": [
              "<Figure size 1080x432 with 1 Axes>"
            ]
          },
          "metadata": {
            "tags": [],
            "needs_background": "light"
          }
        }
      ]
    },
    {
      "cell_type": "markdown",
      "metadata": {
        "id": "cd5Wc7OHJmMl"
      },
      "source": [
        "## Data Preparation\n",
        "*You’ll certainly need to work on the dataset, to create, modify or add new features. For instance, you might want to compare the different properties that resulted from the search\n",
        "instead of learning from them one by one. There are certain attributes with a large amount of\n",
        "missing values, do they still provide useful information? And how will you handle a missing\n",
        "value if this shows to be the case? Finally, in order to test your approach (since you do not\n",
        "4\n",
        "know the answers for the test set) you will need to split up your data to test your approach\n",
        "yourself before you generate your answers on our test set. Of course, you are also allowed to\n",
        "use external data sources if you find ones that are useful.*"
      ]
    },
    {
      "cell_type": "code",
      "metadata": {
        "id": "X5NjOnd8duxP",
        "colab": {
          "base_uri": "https://localhost:8080/"
        },
        "outputId": "4f1dc1a8-1228-4048-8dbf-5dacd48b4721"
      },
      "source": [
        "# limited dataset for testing purposes\n",
        "CUT = 500000\n",
        "\n",
        "def feature_engineering(df, train_or_test, method):\n",
        "\n",
        "    # use part of the dataset, not the whole when training\n",
        "    if train_or_test == 'train':\n",
        "        df = df[:CUT]\n",
        "    else:\n",
        "        df.set_index('srch_id',inplace=True)\n",
        "\n",
        "    ## According to Jun Wang et. al (2nd price in 2013) these 2 were quite important:\n",
        "    # Differences be-tween  historical  (avg)  star  rating of  user  and  current  starrating\n",
        "    df['diff_hist_starrating'] = df['visitor_hist_starrating'] - df['prop_starrating']\n",
        "\n",
        "    # Differences be-tween  historical  (avg)  price  of  user  and  current price\n",
        "    df['diff_hist_price'] = df['visitor_hist_adr_usd'] - df['price_usd']\n",
        "\n",
        "    ## According to Owen Zhang (1st price in 2013) these were important:\n",
        "    # Difference between price most recent hotel and current hotel\n",
        "\n",
        "    ##############\n",
        "    # THIS KEEPS CRASHING MY RAM\n",
        "    ##############\n",
        "\n",
        "    #df['price_diff_recent'] = df.groupby('srch_id').apply(lambda x: x['price_usd'] - x['price_usd'].shift(1)).fillna(0).reset_index(drop=True)\n",
        "\n",
        "    ##############\n",
        "\n",
        "    #priceorder: order ofprice within same srchid,\n",
        "    df['price_order'] = df.groupby('srch_id')['price_usd'].rank()\n",
        "    # .reset_index(drop=True)\n",
        "\n",
        "    df[\"weekday\"] = df[\"date_time\"].dt.weekday\n",
        "    df[\"week_of_year\"] = df[\"date_time\"].dt.week\n",
        "\n",
        "    df[\"hour\"] = df[\"date_time\"].dt.hour\n",
        "    df[\"minute\"] = df[\"date_time\"].dt.minute\n",
        "    ## total time elapsed - allows model to learn continous trend over time to a degree\n",
        "    df[\"time_epoch\"] = df[\"date_time\"].astype('int64')//1e9\n",
        "    df[\"early_night\"] = ((df[\"hour\"]>19) | (df[\"hour\"]<3)) # no added value from feature \n",
        "    \n",
        "    # compute relevance from clicks and bookings\n",
        "    df['relevance'] = df.apply(lambda row: label_relevance(row), axis=1)\n",
        "\n",
        "    # Hotel  quality,  where  they  estimated  theprobability of each hotel being \n",
        "    # booked/clicked by for example:(number oftime property is booked)/(number of \n",
        "    # times property appeared indata).\n",
        "\n",
        "    df_properties = df.groupby(['prop_id']).size().reset_index(name='observations')\n",
        "    df_properties_book = df.groupby(['prop_id', 'booking_bool']).size().reset_index(name='bookings')\n",
        "    df_properties_book = df_properties_book[(df_properties_book['booking_bool']>0)]\n",
        "    df_book_prob = pd.merge(df_properties, df_properties_book, on='prop_id')\n",
        "    df_properties_click = df.groupby(['prop_id', 'click_bool']).size().reset_index(name='clicks')\n",
        "    df_properties_click = df_properties_click[(df_properties_click['click_bool']>0)]\n",
        "    df_book_prob = pd.merge(df_book_prob, df_properties_click, on='prop_id')\n",
        "    df_book_prob.pop('booking_bool')\n",
        "    df_book_prob.pop('click_bool')\n",
        "    df_book_prob['book_prob'] = df_book_prob['bookings'] / df_book_prob['observations']\n",
        "    df_book_prob['click_prob'] = df_book_prob['clicks'] / df_book_prob['observations']\n",
        "    df_book_prob.pop('observations')\n",
        "    df_book_prob.pop('bookings')\n",
        "    df_book_prob.pop('clicks')\n",
        "\n",
        "    dict_book_prob = dict(zip(df_book_prob['prop_id'], df_book_prob['book_prob']))\n",
        "    dict_click_prob = dict(zip(df_book_prob['prop_id'], df_book_prob['click_prob']))\n",
        "\n",
        "    del df_book_prob\n",
        "    del df_properties_book\n",
        "    del df_properties\n",
        "\n",
        "    ##### Not tested:\n",
        "    # save\n",
        "    with open('dict_book_prob.pkl','wb') as f:\n",
        "        pickle.dump(dict_book_prob,f)\n",
        "    # save\n",
        "    with open('dict_click_prob.pkl','wb') as f:\n",
        "        pickle.dump(dict_click_prob,f)\n",
        "    #####\n",
        "\n",
        "    df['book_prob'] = df['prop_id'].map(dict_book_prob)#.fillna(0)\n",
        "    df['click_prob'] = df['prop_id'].map(dict_click_prob)#.fillna(0)\n",
        "\n",
        "    # set dates to ordinals (otherwise you cannot train)\n",
        "    df['date_time'] = df['date_time'].apply(lambda x: x.toordinal())\n",
        "\n",
        "    if method=='rf':\n",
        "        # fill comparisons with zero (saying no diffferance between two when the difference is unknown)\n",
        "        df['comp5_inv'] = df['comp5_inv'].fillna(0)\n",
        "        df['comp5_rate'] = df['comp5_rate'].fillna(0)\n",
        "        df['comp5_rate_percent_diff'] = df['comp5_rate_percent_diff'].fillna(0)\n",
        "        df['comp3_inv'] = df['comp3_inv'].fillna(0)\n",
        "        df['comp3_rate'] = df['comp3_rate'].fillna(0)\n",
        "        df['comp3_rate_percent_diff'] = df['comp3_rate_percent_diff'].fillna(0)\n",
        "        df['comp2_inv'] = df['comp2_inv'].fillna(0)\n",
        "        df['comp2_rate'] = df['comp2_rate'].fillna(0)\n",
        "        df['comp2_rate_percent_diff'] = df['comp2_rate_percent_diff'].fillna(0)\n",
        "        df['comp8_inv'] = df['comp8_inv'].fillna(0)\n",
        "        df['comp8_rate'] = df['comp8_rate'].fillna(0)\n",
        "        df['comp8_rate_percent_diff'] = df['comp8_rate_percent_diff'].fillna(0)\n",
        "\n",
        "        # take means to fill missing values\n",
        "        df['prop_location_score2'] = df['prop_location_score2'].fillna(df['prop_location_score2'].mean())\n",
        "        df['orig_destination_distance'] = df['orig_destination_distance'].fillna(df['orig_destination_distance'].mean())\n",
        "        df['srch_query_affinity_score'] = df['srch_query_affinity_score'].fillna(df['srch_query_affinity_score'].mean())\n",
        "        df['visitor_hist_adr_usd'] = df['visitor_hist_adr_usd'].fillna(df['visitor_hist_adr_usd'].mean())\n",
        "        df['visitor_hist_starrating'] = df['visitor_hist_starrating'].fillna(df['visitor_hist_starrating'].mean())\n",
        "        df = df.dropna(axis=1)\n",
        "        \n",
        "    return df, dict_book_prob, dict_click_prob\n",
        "\n",
        "# Only used for training the model\n",
        "def split_features_and_labels(df):\n",
        "\n",
        "    saved_srch_ids = df['srch_id']\n",
        "    features = df.drop(['relevance', 'gross_bookings_usd', 'booking_bool', 'click_bool', 'position', 'srch_id'], axis=1)\n",
        "    labels = df['relevance']\n",
        "    \n",
        "    train_cut = int(CUT * 0.8)\n",
        "\n",
        "    train_features, train_labels = features[:train_cut], labels[:train_cut]\n",
        "    validation_ids, validation_features, validation_labels = saved_srch_ids[train_cut:], features[train_cut:], labels[train_cut:]\n",
        "\n",
        "    return train_features, train_labels, validation_ids, validation_features, validation_labels\n",
        "\n",
        "gc.collect()\n",
        "df_train, dict_book_prob, dict_click_prob = feature_engineering(df_train, \"train\", method='xgb')\n",
        "train_features, train_labels, validation_ids, validation_features, validation_labels = split_features_and_labels(df_train)\n",
        "df_test = feature_engineering(df_test, \"test\", method = 'xgb')\n",
        "gc.collect()"
      ],
      "execution_count": null,
      "outputs": [
        {
          "output_type": "stream",
          "text": [
            "/usr/local/lib/python3.7/dist-packages/ipykernel_launcher.py:14: SettingWithCopyWarning: \n",
            "A value is trying to be set on a copy of a slice from a DataFrame.\n",
            "Try using .loc[row_indexer,col_indexer] = value instead\n",
            "\n",
            "See the caveats in the documentation: https://pandas.pydata.org/pandas-docs/stable/user_guide/indexing.html#returning-a-view-versus-a-copy\n",
            "  \n",
            "/usr/local/lib/python3.7/dist-packages/ipykernel_launcher.py:17: SettingWithCopyWarning: \n",
            "A value is trying to be set on a copy of a slice from a DataFrame.\n",
            "Try using .loc[row_indexer,col_indexer] = value instead\n",
            "\n",
            "See the caveats in the documentation: https://pandas.pydata.org/pandas-docs/stable/user_guide/indexing.html#returning-a-view-versus-a-copy\n",
            "/usr/local/lib/python3.7/dist-packages/ipykernel_launcher.py:31: SettingWithCopyWarning: \n",
            "A value is trying to be set on a copy of a slice from a DataFrame.\n",
            "Try using .loc[row_indexer,col_indexer] = value instead\n",
            "\n",
            "See the caveats in the documentation: https://pandas.pydata.org/pandas-docs/stable/user_guide/indexing.html#returning-a-view-versus-a-copy\n",
            "/usr/local/lib/python3.7/dist-packages/ipykernel_launcher.py:34: SettingWithCopyWarning: \n",
            "A value is trying to be set on a copy of a slice from a DataFrame.\n",
            "Try using .loc[row_indexer,col_indexer] = value instead\n",
            "\n",
            "See the caveats in the documentation: https://pandas.pydata.org/pandas-docs/stable/user_guide/indexing.html#returning-a-view-versus-a-copy\n",
            "/usr/local/lib/python3.7/dist-packages/ipykernel_launcher.py:35: FutureWarning: Series.dt.weekofyear and Series.dt.week have been deprecated.  Please use Series.dt.isocalendar().week instead.\n",
            "/usr/local/lib/python3.7/dist-packages/ipykernel_launcher.py:35: SettingWithCopyWarning: \n",
            "A value is trying to be set on a copy of a slice from a DataFrame.\n",
            "Try using .loc[row_indexer,col_indexer] = value instead\n",
            "\n",
            "See the caveats in the documentation: https://pandas.pydata.org/pandas-docs/stable/user_guide/indexing.html#returning-a-view-versus-a-copy\n",
            "/usr/local/lib/python3.7/dist-packages/ipykernel_launcher.py:37: SettingWithCopyWarning: \n",
            "A value is trying to be set on a copy of a slice from a DataFrame.\n",
            "Try using .loc[row_indexer,col_indexer] = value instead\n",
            "\n",
            "See the caveats in the documentation: https://pandas.pydata.org/pandas-docs/stable/user_guide/indexing.html#returning-a-view-versus-a-copy\n",
            "/usr/local/lib/python3.7/dist-packages/ipykernel_launcher.py:38: SettingWithCopyWarning: \n",
            "A value is trying to be set on a copy of a slice from a DataFrame.\n",
            "Try using .loc[row_indexer,col_indexer] = value instead\n",
            "\n",
            "See the caveats in the documentation: https://pandas.pydata.org/pandas-docs/stable/user_guide/indexing.html#returning-a-view-versus-a-copy\n",
            "/usr/local/lib/python3.7/dist-packages/ipykernel_launcher.py:40: SettingWithCopyWarning: \n",
            "A value is trying to be set on a copy of a slice from a DataFrame.\n",
            "Try using .loc[row_indexer,col_indexer] = value instead\n",
            "\n",
            "See the caveats in the documentation: https://pandas.pydata.org/pandas-docs/stable/user_guide/indexing.html#returning-a-view-versus-a-copy\n",
            "/usr/local/lib/python3.7/dist-packages/ipykernel_launcher.py:41: SettingWithCopyWarning: \n",
            "A value is trying to be set on a copy of a slice from a DataFrame.\n",
            "Try using .loc[row_indexer,col_indexer] = value instead\n",
            "\n",
            "See the caveats in the documentation: https://pandas.pydata.org/pandas-docs/stable/user_guide/indexing.html#returning-a-view-versus-a-copy\n",
            "/usr/local/lib/python3.7/dist-packages/ipykernel_launcher.py:44: SettingWithCopyWarning: \n",
            "A value is trying to be set on a copy of a slice from a DataFrame.\n",
            "Try using .loc[row_indexer,col_indexer] = value instead\n",
            "\n",
            "See the caveats in the documentation: https://pandas.pydata.org/pandas-docs/stable/user_guide/indexing.html#returning-a-view-versus-a-copy\n",
            "/usr/local/lib/python3.7/dist-packages/ipykernel_launcher.py:81: SettingWithCopyWarning: \n",
            "A value is trying to be set on a copy of a slice from a DataFrame.\n",
            "Try using .loc[row_indexer,col_indexer] = value instead\n",
            "\n",
            "See the caveats in the documentation: https://pandas.pydata.org/pandas-docs/stable/user_guide/indexing.html#returning-a-view-versus-a-copy\n",
            "/usr/local/lib/python3.7/dist-packages/ipykernel_launcher.py:82: SettingWithCopyWarning: \n",
            "A value is trying to be set on a copy of a slice from a DataFrame.\n",
            "Try using .loc[row_indexer,col_indexer] = value instead\n",
            "\n",
            "See the caveats in the documentation: https://pandas.pydata.org/pandas-docs/stable/user_guide/indexing.html#returning-a-view-versus-a-copy\n",
            "/usr/local/lib/python3.7/dist-packages/ipykernel_launcher.py:85: SettingWithCopyWarning: \n",
            "A value is trying to be set on a copy of a slice from a DataFrame.\n",
            "Try using .loc[row_indexer,col_indexer] = value instead\n",
            "\n",
            "See the caveats in the documentation: https://pandas.pydata.org/pandas-docs/stable/user_guide/indexing.html#returning-a-view-versus-a-copy\n",
            "/usr/local/lib/python3.7/dist-packages/ipykernel_launcher.py:35: FutureWarning: Series.dt.weekofyear and Series.dt.week have been deprecated.  Please use Series.dt.isocalendar().week instead.\n"
          ],
          "name": "stderr"
        }
      ]
    },
    {
      "cell_type": "markdown",
      "metadata": {
        "id": "RSfMUjRClIvc"
      },
      "source": [
        "## Modeling & Evaluation\n",
        "\n",
        "*Naturally, once you prepare the dataset, you should be able to build models. Use whatever\n",
        "technique you want, though the choice might be influenced by how we would like to measure\n",
        "your predictions at the end (described later in this document). To test how your model is\n",
        "compared to other, you can upload your answers for the test set on the in class Kaggle website:\n",
        "https://www.kaggle.com/c/2nd-assignment-dmt-2021/ , see previous instructions for\n",
        "signing up using a different URL. Note that the score shown there is only for part of the test\n",
        "set, the score on the rest of the test set will only be disclosed on the final lecture and will form\n",
        "part of your final grade.*"
      ]
    },
    {
      "cell_type": "markdown",
      "metadata": {
        "id": "kRjRXJ9RHjMC"
      },
      "source": [
        "### Baseline"
      ]
    },
    {
      "cell_type": "code",
      "metadata": {
        "id": "TsDxlC2BPHln"
      },
      "source": [
        "# To be able to run everything at once\n",
        "baseline = False\n",
        "if baseline:\n",
        "    baseline = []\n",
        "    srch_ids = df_test_idx.index.unique()\n",
        "    for srch_id in srch_ids:\n",
        "        search = df_test_idx.loc[df_test_idx.index == srch_id]\n",
        "        sample = search.sample(n=len(search), replace=False, random_state=RANDOM_STATE, axis=0)\n",
        "    for line in sample.prop_id:\n",
        "        baseline.append([srch_id,line])\n",
        "\n",
        "    with open('baseline.csv', 'w+') as f:\n",
        "    csvWriter = csv.writer(f,delimiter=',')\n",
        "    csvWriter.writerow(['srch_id','prop_id'])\n",
        "    csvWriter.writerows(baseline)"
      ],
      "execution_count": null,
      "outputs": []
    },
    {
      "cell_type": "markdown",
      "metadata": {
        "id": "vJJAZyfp8B8F"
      },
      "source": [
        "# Ensemble models\n",
        "estimators=[]"
      ]
    },
    {
      "cell_type": "markdown",
      "metadata": {
        "id": "fTAwBovj2cww"
      },
      "source": [
        "### XGBoost"
      ]
    },
    {
      "cell_type": "code",
      "metadata": {
        "id": "CnnugUjQ2eaa"
      },
      "source": [
        "xgb = XGBRegressor( objective='rank:pairwise') #reg:squarederror or rank:pairwise (similar results, rank:ndcg get weird results)\n",
        "\n",
        "# ENSEMBLE:\n",
        "estimators.append((\"XGB\",xgb))\n",
        "\n",
        "xgb.fit(train_features, train_labels)\n",
        "\n",
        "feature_list = list(train_features.columns)\n",
        "\n",
        "# get importance\n",
        "importances = list(xgb.feature_importances_)\n",
        "\n",
        "# List of tuples with variable and importance\n",
        "feature_importances = [(feature, round(importance, 2)) for feature, importance in \n",
        "                       zip(feature_list, importances)]\n",
        "# Sort the feature importances by most important first\n",
        "feature_importances = sorted(feature_importances, key = lambda x: x[1], reverse = True)"
      ],
      "execution_count": null,
      "outputs": []
    },
    {
      "cell_type": "code",
      "metadata": {
        "id": "EwKQ93ne4-BP"
      },
      "source": [
        "%matplotlib inline\n",
        "# Set the style\n",
        "plt.figure(figsize=(12,12))\n",
        "plt.style.use('fivethirtyeight')\n",
        "plt.rcParams['axes.facecolor'] = 'lightgrey'\n",
        "x_values = list(range(len(importances)))\n",
        "plt.barh(list(reversed(feature_list)), list(reversed(importances)))\n",
        "cutoff = max(importances)/4\n",
        "boolimp = importances < cutoff\n",
        "plt.ylabel('Variable'); plt.title('Variable Importances for XGBoost')"
      ],
      "execution_count": null,
      "outputs": []
    },
    {
      "cell_type": "code",
      "metadata": {
        "id": "zofeQRs1b72O"
      },
      "source": [
        "# evaluate model\n",
        "\n",
        "predictions = xgb.predict(validation_features)\n",
        "\n",
        "df_scoring = validation_ids.to_frame()\n",
        "df_scoring['labels'] = validation_labels\n",
        "df_scoring['predictions'] = predictions\n",
        "df_scoring.set_index('srch_id',inplace=True)\n",
        "\n",
        "df\n",
        "ndcgs = []\n",
        "srch_ids = df_scoring.index.unique()\n",
        "\n",
        "for srch_id in srch_ids:\n",
        "  search = df_scoring.loc[df_scoring.index == srch_id]\n",
        "  search = search.sort_values(by='labels', axis=0,ascending=False)\n",
        "  ideal_labels = search['labels']\n",
        "  search = search.sort_values(by='predictions', axis=0,ascending=False)\n",
        "  sorted_labels = search['labels']\n",
        "  #print(ndcg_at_k(sorted_labels,ideal_labels, k=5))\n",
        "  ndcgs.append(ndcg_at_k(sorted_labels,ideal_labels, k=5))\n",
        "\n",
        "avg_ndcg = sum(ndcgs)/len(ndcgs)\n",
        "print()\n",
        "print(avg_ndcg)"
      ],
      "execution_count": null,
      "outputs": []
    },
    {
      "cell_type": "code",
      "metadata": {
        "id": "k1vEJtflzbb1"
      },
      "source": [
        "# save\n",
        "with open('xgb_test.pkl','wb') as f:\n",
        "    pickle.dump(xgb,f)"
      ],
      "execution_count": null,
      "outputs": []
    },
    {
      "cell_type": "code",
      "metadata": {
        "id": "52K-h1zn1Vwx"
      },
      "source": [
        "df_test['book_prob'] = df_test['prop_id'].map(dict_book_prob)\n",
        "df_test['click_prob'] = df_test['prop_id'].map(dict_click_prob)\n",
        "\n",
        "predictions = xgb.predict(df_test)\n",
        "df_test['predictions'] = predictions\n",
        "\n",
        "# write predictions\n",
        "xgb_list = []\n",
        "srch_ids = df_test.index.unique()\n",
        "for srch_id in srch_ids:\n",
        "  search = df_test.loc[df_test_mod.index == srch_id]\n",
        "  search = search.sort_values(by='predictions', axis=0,ascending=False)\n",
        "  for line in search.prop_id:\n",
        "    xgb_list.append([srch_id,line])\n",
        "\n",
        "print(xgb_list)\n",
        "\n",
        "with open('XGBoost.csv', 'w+') as f:\n",
        "  csvWriter = csv.writer(f,delimiter=',')\n",
        "  csvWriter.writerow(['srch_id','prop_id'])\n",
        "  csvWriter.writerows(xgb_list)"
      ],
      "execution_count": null,
      "outputs": []
    },
    {
      "cell_type": "markdown",
      "metadata": {
        "id": "vYjUyxhM8bxD"
      },
      "source": [
        "Still To do:\n",
        "-fit (rgb.fit)\n",
        "-predict\n",
        "-calc ncdg\n",
        "\n",
        "\n",
        "As I understand it XGBoost makes use of the LambdaMART algorithm, and by specifying the parameters like this you can optimise for ndcg:\n",
        "\n",
        "https://stackoverflow.com/questions/63400523/xgboost-ranking-objectives-pairwise-vs-ndcg-map \n",
        "\n",
        "but rank:pairwise seems to result in better outcome: https://github.com/dmlc/xgboost/issues/4177\n",
        "\n",
        "General Tutorial:\n",
        "https://www.datacamp.com/community/tutorials/xgboost-in-python\n",
        "\n",
        "Has internal structure for handling missing values: \n",
        "https://github.com/dmlc/xgboost/issues/21"
      ]
    },
    {
      "cell_type": "markdown",
      "metadata": {
        "id": "l-qf_wwe_p-n"
      },
      "source": [
        "### Random Forest"
      ]
    },
    {
      "cell_type": "code",
      "metadata": {
        "id": "dwjTxRgERCj8"
      },
      "source": [
        "# Feature engineer the data for RF: now the NA's have to be (and are) handled manually\n",
        "\n",
        "# fill comparisons with zero (saying no diffferance between two when the difference is unknown)\n",
        "df['comp5_inv'] = df['comp5_inv'].fillna(0)\n",
        "df['comp5_rate'] = df['comp5_rate'].fillna(0)\n",
        "df['comp5_rate_percent_diff'] = df['comp5_rate_percent_diff'].fillna(0)\n",
        "df['comp3_inv'] = df['comp3_inv'].fillna(0)\n",
        "df['comp3_rate'] = df['comp3_rate'].fillna(0)\n",
        "df['comp3_rate_percent_diff'] = df['comp3_rate_percent_diff'].fillna(0)\n",
        "df['comp2_inv'] = df['comp2_inv'].fillna(0)\n",
        "df['comp2_rate'] = df['comp2_rate'].fillna(0)\n",
        "df['comp2_rate_percent_diff'] = df['comp2_rate_percent_diff'].fillna(0)\n",
        "df['comp8_inv'] = df['comp8_inv'].fillna(0)\n",
        "df['comp8_rate'] = df['comp8_rate'].fillna(0)\n",
        "df['comp8_rate_percent_diff'] = df['comp8_rate_percent_diff'].fillna(0)\n",
        "\n",
        "# take means to fill missing values\n",
        "df['prop_location_score2'] = df['prop_location_score2'].fillna(df['prop_location_score2'].mean())\n",
        "df['orig_destination_distance'] = df['orig_destination_distance'].fillna(df['orig_destination_distance'].mean())\n",
        "df['srch_query_affinity_score'] = df['srch_query_affinity_score'].fillna(df['srch_query_affinity_score'].mean())\n",
        "df['visitor_hist_adr_usd'] = df['visitor_hist_adr_usd'].fillna(df['visitor_hist_adr_usd'].mean())\n",
        "df['visitor_hist_starrating'] = df['visitor_hist_starrating'].fillna(df['visitor_hist_starrating'].mean())\n",
        "df = df.dropna(axis=1)\n",
        "#df_train, dict_book_prob, dict_click_prob = feature_engineering(df_train, \"train\", method='rf')"
      ],
      "execution_count": null,
      "outputs": []
    },
    {
      "cell_type": "code",
      "metadata": {
        "id": "IHOMtJvt8jWo"
      },
      "source": [
        "# fit the model\n",
        "rf = RandomForestRegressor(n_estimators = 20, random_state = 42)\n",
        "\n",
        "# ENSEMBLE:\n",
        "estimators.append((\"RF\",rf))\n",
        "\n",
        "rf.fit(train_features, train_labels)"
      ],
      "execution_count": null,
      "outputs": []
    },
    {
      "cell_type": "code",
      "metadata": {
        "id": "sDvqgxN0-4LQ"
      },
      "source": [
        "# feature importances\n",
        "feature_list = list(train_features.columns)\n",
        "\n",
        "importances = list(rf.feature_importances_)\n",
        "# List of tuples with variable and importance\n",
        "feature_importances = [(feature, round(importance, 2)) for feature, importance in \n",
        "                       zip(feature_list, importances)]\n",
        "# Sort the feature importances by most important first\n",
        "feature_importances = sorted(feature_importances, key = lambda x: x[1], reverse = True)\n",
        "\n",
        "%matplotlib inline\n",
        "plt.style.use('fivethirtyeight')\n",
        "plt.rcParams['axes.facecolor'] = 'lightgrey'\n",
        "x_values = list(range(len(importances)))\n",
        "plt.barh(list(reversed(feature_list)), list(reversed(importances)))\n",
        "cutoff = max(importances)/4\n",
        "boolimp = importances < cutoff\n",
        "for i in range(len(boolimp)):\n",
        "    if boolimp[i]: \n",
        "        print(feature_list[i]) \n",
        "plt.ylabel('Variable'); plt.title('Variable Importances for RF')"
      ],
      "execution_count": null,
      "outputs": []
    },
    {
      "cell_type": "code",
      "metadata": {
        "id": "vjQb6lSvhmQo"
      },
      "source": [
        "# evaluate model\n",
        "\n",
        "predictions = rf.predict(valid_features)\n",
        "\n",
        "df_scoring = valid_ids.to_frame()[1:]\n",
        "df_scoring['labels'] = valid_labels[1:]\n",
        "df_scoring['predictions'] = predictions[1:]\n",
        "df_scoring.set_index('srch_id',inplace=True)\n",
        "\n",
        "ndcgs = []\n",
        "srch_ids = df_scoring.index.unique()\n",
        "\n",
        "for srch_id in srch_ids:\n",
        "  search = df_scoring.loc[df_scoring.index == srch_id]\n",
        "  search = search.sort_values(by='labels', axis=0,ascending=False)\n",
        "  ideal_labels = search['labels']\n",
        "  search = search.sort_values(by='predictions', axis=0,ascending=False)\n",
        "  sorted_labels = search['labels']\n",
        "  ndcgs.append(ndcg_at_k(sorted_labels,ideal_labels, k=5))\n",
        "\n",
        "avg_ndcg = sum(ndcgs)/len(ndcgs)\n",
        "print(\"NDCG:\", avg_ndcg)"
      ],
      "execution_count": null,
      "outputs": []
    },
    {
      "cell_type": "code",
      "metadata": {
        "id": "4ogbXgrEyNrV"
      },
      "source": [
        "# save\n",
        "with open('rf_test.pkl','wb') as f:\n",
        "    pickle.dump(rf,f)"
      ],
      "execution_count": null,
      "outputs": []
    },
    {
      "cell_type": "code",
      "metadata": {
        "id": "W4weXCq_ZXhm"
      },
      "source": [
        "predictions = rf.predict(df_test)\n",
        "df_test['predictions'] = predictions"
      ],
      "execution_count": null,
      "outputs": []
    },
    {
      "cell_type": "code",
      "metadata": {
        "id": "q2aYXCCSZkKj"
      },
      "source": [
        "# write predictions\n",
        "rf = []\n",
        "srch_ids = df_test.index.unique()\n",
        "for srch_id in srch_ids:\n",
        "  search = df_test.loc[df_test.index == srch_id]\n",
        "  search = search.sort_values(by='predictions', axis=0,ascending=False)\n",
        "  for line in search.prop_id:\n",
        "    rf.append([srch_id,line])\n",
        "\n",
        "print(rf)\n",
        "\n",
        "with open('randomForest.csv', 'w+') as f:\n",
        "  csvWriter = csv.writer(f,delimiter=',')\n",
        "  csvWriter.writerow(['srch_id','prop_id'])\n",
        "  csvWriter.writerows(rf)"
      ],
      "execution_count": null,
      "outputs": []
    },
    {
      "cell_type": "markdown",
      "metadata": {
        "id": "w0VvBnXClMmK"
      },
      "source": [
        "### Listwise LTR"
      ]
    },
    {
      "cell_type": "code",
      "metadata": {
        "id": "QbqQ2VNMmCn1"
      },
      "source": [
        "import time\n",
        "import torch\n",
        "from torch import nn\n",
        "from argparse import Namespace\n",
        "from torch.optim import Adam"
      ],
      "execution_count": null,
      "outputs": []
    },
    {
      "cell_type": "code",
      "metadata": {
        "id": "lVKiIQbAmL1F"
      },
      "source": [
        "# define loss function\n",
        "\n",
        "def listwise_loss(scores, labels):\n",
        "    \n",
        "    \"\"\"\n",
        "    Compute the LambdaRank loss. (assume sigma=1.)\n",
        "    returns: a tensor of size [N, 1]\n",
        "    \"\"\"\n",
        "    \n",
        "    # YOUR CODE HERE\n",
        "    from math import e\n",
        "    sigma = 1\n",
        "    diff_ij = scores.view(-1,1) - scores.view(1,-1)\n",
        "    s_ij = torch.sign(labels.view(-1,1) - labels.view(1,-1))\n",
        "    lambda_ij = sigma *( 0.5 * (1-s_ij) - 1/(1+e**(sigma*diff_ij)))\n",
        "    \n",
        "    #idcg - same value for every dcg\n",
        "    labels_sort = torch.sort(labels,0, descending = True)[0]\n",
        "    denom_sort = np.log2(torch.arange(2, len(labels_sort) + 1 + 1))\n",
        "    idcg = torch.sum((2**labels_sort-1)/denom_sort)\n",
        "    if idcg == 0.0:\n",
        "        return None\n",
        "    \n",
        "    sort_index = np.argsort(list(scores))[::-1]\n",
        "    sorted_labels = labels.numpy()[sort_index]\n",
        "    current_ndcg = dcg_at_k(sorted_labels,0) / dcg_at_k(np.array(labels_sort),0)\n",
        "    #ndcg\n",
        "    dcg_denom = np.log2(np.arange(scores.size()[0])+2.) # log2(i+1)\n",
        "    label_matrix = torch.zeros(scores.size()[0], scores.size()[0], scores.size()[0])\n",
        "    label_matrix[:, :] = torch.from_numpy(sorted_labels)\n",
        "    \n",
        "    #delta ndcg\n",
        "    vertical_matrix, horizontal_matrix = np.meshgrid(np.arange(scores.size()[0]), np.arange(scores.size()[0]))\n",
        "    vertical_matrix = list(vertical_matrix.flatten())\n",
        "    horizontal_matrix = list(horizontal_matrix.flatten())\n",
        "    label_matrix[vertical_matrix,horizontal_matrix,[vertical_matrix,horizontal_matrix]] = label_matrix[vertical_matrix,horizontal_matrix,[horizontal_matrix,vertical_matrix]]\n",
        "    dcg_nom = 2**label_matrix-1\n",
        "    \n",
        "        \n",
        "    ndcg_swapped = torch.sum(dcg_nom/dcg_denom, dim=2) / idcg\n",
        "    delta_ndcg = torch.abs(ndcg_swapped - current_ndcg)\n",
        "    loss = torch.sum(delta_ndcg * lambda_ij, dim = 1)\n",
        "    \n",
        "    return torch.unsqueeze(loss,1)"
      ],
      "execution_count": null,
      "outputs": []
    },
    {
      "cell_type": "code",
      "metadata": {
        "id": "OI9p5Vr6mP59"
      },
      "source": [
        "class NeuralModule(nn.Module):\n",
        "    def __init__(self, output_dim):\n",
        "        \"\"\"\n",
        "        Input: output_dim: it is either 1 (regression) or 5 (classification)\n",
        "        \"\"\"\n",
        "        super().__init__()\n",
        "        self.model = nn.Sequential(\n",
        "                nn.Linear(63,36),\n",
        "                nn.ReLU(),\n",
        "                nn.Linear(36,output_dim)\n",
        "        )\n",
        "        \n",
        "    def forward(self, x):\n",
        "        \"\"\"\n",
        "        Takes in an input feature vector (of size 20) and produces the (regression/classification) output \n",
        "        Input: x: a [N, 501] tensor\n",
        "        Output: a [N, output_dim] tensor\n",
        "        \"\"\"\n",
        "        # YOUR CODE HERE\n",
        "        return self.model(x)"
      ],
      "execution_count": null,
      "outputs": []
    },
    {
      "cell_type": "code",
      "metadata": {
        "id": "HL7VwtHMJzmb"
      },
      "source": [
        "# data preparation\n",
        "\n",
        "cut = 300000\n",
        "df_train_limited = df_train[:cut]\n",
        "\n",
        "def label_relevance(row):\n",
        "  if row.booking_bool == 1:\n",
        "    return 5\n",
        "  elif row.click_bool == 1:\n",
        "    return 1\n",
        "  else:\n",
        "    return 0\n",
        "\n",
        "df_train_limited['relevance'] = df_train_limited.apply(lambda row: label_relevance(row), axis=1)\n",
        "\n",
        "df_train_limited = df_train_limited.dropna(axis='columns')\n",
        "df_train_limited['date_time']=df_train_limited['date_time'].apply(lambda x: x.toordinal())\n",
        "\n",
        "df_train_limited.set_index('srch_id',inplace=True)\n",
        "\n",
        "normalize(df_train_limited,[ 'prop_location_score1', 'prop_log_historical_price', \n",
        "                            'price_usd', 'srch_length_of_stay', 'srch_booking_window','srch_adults_count',\n",
        "                            'srch_children_count', 'srch_room_count', 'orig_destination_distance',\n",
        "                            'visitor_hist_adr_usd','visitor_hist_starrating'])\n",
        "\n",
        "df_train_limited = pd.get_dummies(df_train_limited,columns=['site_id'])\n",
        "\n",
        "train_cut = int(cut * 0.8)\n",
        "\n",
        "train_data = df_train_limited[:train_cut]\n",
        "valid_data = df_train_limited[train_cut:]"
      ],
      "execution_count": null,
      "outputs": []
    },
    {
      "cell_type": "code",
      "metadata": {
        "id": "xhuquS15mhPd"
      },
      "source": [
        "def train_listwise(net, params):\n",
        "    \"\"\"\n",
        "    This function should train the given network using the listwise (LambdaRank) loss\n",
        "    \"\"\"\n",
        "    \n",
        "    val_metrics_epoch = []\n",
        "    train_metrics_epoch = []\n",
        "    # YOUR CODE HERE\n",
        "    optimizer = Adam(net.parameters(), params.lr)\n",
        "    loss_func = listwise_loss\n",
        "    time_list = []\n",
        "    srch_ids = train_data.index.unique()\n",
        "    for epoch in range(params.epochs):\n",
        "        running_loss = 0.0\n",
        "        start_time = time.perf_counter()\n",
        "        for phase in {\"train\",\"eval\"}:\n",
        "            if phase == \"train\":\n",
        "                net.train()\n",
        "                print(f\"epoch {epoch + 1}\")\n",
        "                for srch_id in srch_ids:\n",
        "                        search = train_data.loc[train_data.index == srch_id]\n",
        "                        features_i = torch.tensor(search.drop(['relevance', 'booking_bool', 'click_bool',\n",
        "                                                               'prop_id', 'prop_country_id', 'srch_destination_id',\n",
        "                                                               'position','visitor_location_country_id'], axis =1).values).float()\n",
        "                        labels_i = torch.tensor(search['relevance'].values)\n",
        "                        optimizer.zero_grad()\n",
        "                        output = net(features_i)\n",
        "                        #output = torch.squeeze(output) # the output from net(features_i) is tensor([[]]) - there is an extra dimension\n",
        "                        # Compute loss between output and y\n",
        "\n",
        "                        lambda_ = loss_func(output, labels_i)\n",
        "                        #the case when the loss is None - in this case we do not compute the gradients\n",
        "                        if lambda_ is None:\n",
        "                            continue\n",
        "                        # Compute gradients\n",
        "\n",
        "                        #loss.backward()\n",
        "                        \n",
        "                        torch.autograd.backward(output, lambda_)\n",
        "\n",
        "                        # Update weights\n",
        "                        optimizer.step()\n",
        "                end_time = time.perf_counter()\n",
        "                time_list.append(end_time-start_time)\n",
        "            else:\n",
        "              pass\n",
        "                # net.eval()\n",
        "                # train_eval = evaluate_model(net, \"train\", print_results=False)\n",
        "                # val_eval = evaluate_model(net, \"validation\", print_results=False)\n",
        "\n",
        "                # aggr_train = {}\n",
        "                # aggr_val = {}\n",
        "                # for metric in params.metrics:\n",
        "                #     aggr_train[metric] = train_eval[metric]\n",
        "                #     aggr_val[metric] = val_eval[metric]\n",
        "\n",
        "                # val_metrics_epoch.append(aggr_train)\n",
        "                # train_metrics_epoch.append(aggr_val)\n",
        "                \n",
        "    #perf_dict['listwise_time'] = time_list\n",
        "\n",
        "    # return {\n",
        "    #     \"metrics_val\": val_metrics_epoch,\n",
        "    #     \"metrics_train\": train_metrics_epoch\n",
        "    # }\n",
        "\n",
        "    return net"
      ],
      "execution_count": null,
      "outputs": []
    },
    {
      "cell_type": "code",
      "metadata": {
        "id": "Rs718JRyJW3e"
      },
      "source": [
        "listwise_params_test = Namespace(epochs=1, lr=1e-3, batch_size=1, metrics={\"ndcg\"})\n",
        "listwise_net = NeuralModule(1)\n",
        "trained_model = train_listwise(listwise_net, listwise_params_test)"
      ],
      "execution_count": null,
      "outputs": []
    },
    {
      "cell_type": "code",
      "metadata": {
        "id": "kCXAif73lCmb"
      },
      "source": [
        "def standardize(data):\n",
        "    data_mean = data.mean(axis=0)\n",
        "    data_std = data.std(axis=0)\n",
        "    data = (data - data_mean) / data_std\n",
        "\n",
        "    return data\n",
        "\n",
        "def normalize(data):\n",
        "    data = (data-data.min())/(data.max()-data.min())\n",
        "\n",
        "    return data\n",
        "\n",
        "\n",
        "valid_data_normalized = normalize(valid_data)        "
      ],
      "execution_count": null,
      "outputs": []
    },
    {
      "cell_type": "code",
      "metadata": {
        "id": "8SOx-hxTQzCu"
      },
      "source": [
        "# evaluate predicitons\n",
        "\n",
        "ndcgs = []\n",
        "srch_ids = valid_data.index.unique() # remove 1: when splitting fixed\n",
        "trained_model.eval\n",
        "\n",
        "for srch_id in srch_ids:\n",
        "    search = valid_data.loc[valid_data.index == srch_id].copy()\n",
        "    predictions = trained_model(torch.tensor(search.drop(['relevance', 'booking_bool', 'click_bool','position',\n",
        "                                                       'prop_id', 'prop_country_id', 'srch_destination_id',\n",
        "                                                        'visitor_location_country_id'], axis =1).values).float())\n",
        "    search['predictions'] = list(predictions)\n",
        "    search = search.sort_values(by='relevance', axis=0,ascending=False)\n",
        "    ideal_labels = search['relevance']\n",
        "    search = search.sort_values(by='predictions', axis=0,ascending=False)\n",
        "    sorted_labels = search['relevance']\n",
        "    #print(ndcg_at_k(sorted_labels,ideal_labels, k=5))\n",
        "    ndcgs.append(ndcg_at_k(sorted_labels,ideal_labels, k=5))\n",
        "\n",
        "avg_ndcg = sum(ndcgs)/len(ndcgs)\n",
        "print()\n",
        "print(avg_ndcg)"
      ],
      "execution_count": null,
      "outputs": []
    },
    {
      "cell_type": "markdown",
      "metadata": {
        "id": "RcSgFYv49Fu6"
      },
      "source": [
        "# Ensemble\n",
        "\n"
      ]
    },
    {
      "cell_type": "code",
      "metadata": {
        "id": "RqQ9jv5h9FHM"
      },
      "source": [
        "ensemble = VotingClassifier(estimators)\n",
        "ec = ensemble.fit(train_features, train_labels)\n",
        "predictions = ec.predict(validation_features)"
      ],
      "execution_count": null,
      "outputs": []
    },
    {
      "cell_type": "code",
      "metadata": {
        "id": "pLidUH_g-FVP"
      },
      "source": [
        "# evaluate model\n",
        "\n",
        "df_scoring = valid_ids.to_frame()[1:]\n",
        "df_scoring['labels'] = valid_labels[1:]\n",
        "df_scoring['predictions'] = predictions[1:]\n",
        "df_scoring.set_index('srch_id',inplace=True)\n",
        "\n",
        "ndcgs = []\n",
        "srch_ids = df_scoring.index.unique()\n",
        "\n",
        "for srch_id in srch_ids:\n",
        "  search = df_scoring.loc[df_scoring.index == srch_id]\n",
        "  search = search.sort_values(by='labels', axis=0,ascending=False)\n",
        "  ideal_labels = search['labels']\n",
        "  search = search.sort_values(by='predictions', axis=0,ascending=False)\n",
        "  sorted_labels = search['labels']\n",
        "  ndcgs.append(ndcg_at_k(sorted_labels,ideal_labels, k=5))\n",
        "\n",
        "avg_ndcg = sum(ndcgs)/len(ndcgs)\n",
        "print(\"NDCG:\", avg_ndcg)"
      ],
      "execution_count": null,
      "outputs": []
    },
    {
      "cell_type": "markdown",
      "metadata": {
        "id": "htZPy6NE8b8Z"
      },
      "source": [
        "ZOOM CALL FRIDAY 07/05\n",
        "\n",
        "Baseline: randomized\n",
        "\n",
        "Ensemble majority vote system algorithm:\n",
        "*   Random Forest\n",
        "*   XGBoost (Gradient Boosting performs well when you have unbalanced data https://www.datasciencecentral.com/profiles/blogs/decision-tree-vs-random-forest-vs-boosted-trees-explained#:~:text=Like%20random%20forests%2C%20gradient%20boosting,The%20two%20main%20differences%20are%3A&text=Combining%20results%3A%20random%20forests%20combine,combines%20results%20along%20the%20way. )\n",
        "*   nr 3: (3 for majority vote): Simple NN? / Support Vector Machine / Naive Bayes => earlier kaggle competitions\n",
        "\n",
        "DATA:\n",
        "*   Lots of NA's (and they mean different stuff: missing data & e.g. 0 stars)\n",
        "\n",
        "TODO\n",
        "* Bussiness understanding: Look at earlier competitions\n",
        "* Looking at preparing the data for models\n",
        "* Implementing RF\n",
        "* Understanding NA values: what to do\n",
        "* Balasz: RF\n",
        "* Roel: Bussiness understanding + XGBoost later\n",
        "\n"
      ]
    }
  ]
}