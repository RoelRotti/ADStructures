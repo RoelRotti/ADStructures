{
  "nbformat": 4,
  "nbformat_minor": 0,
  "metadata": {
    "accelerator": "GPU",
    "colab": {
      "name": "13152416_13371266_10166122.ipynb",
      "provenance": [],
      "collapsed_sections": [
        "g8g6bwK0yg41"
      ],
      "toc_visible": true,
      "include_colab_link": true
    },
    "kernelspec": {
      "display_name": "Python 3",
      "language": "python",
      "name": "python3"
    },
    "language_info": {
      "codemirror_mode": {
        "name": "ipython",
        "version": 3
      },
      "file_extension": ".py",
      "mimetype": "text/x-python",
      "name": "python",
      "nbconvert_exporter": "python",
      "pygments_lexer": "ipython3",
      "version": "3.7.4"
    },
    "widgets": {
      "application/vnd.jupyter.widget-state+json": {
        "078792f5523b481ba7696c0abd70db3b": {
          "model_module": "@jupyter-widgets/controls",
          "model_name": "TextModel",
          "state": {
            "_dom_classes": [],
            "_model_module": "@jupyter-widgets/controls",
            "_model_module_version": "1.5.0",
            "_model_name": "TextModel",
            "_view_count": null,
            "_view_module": "@jupyter-widgets/controls",
            "_view_module_version": "1.5.0",
            "_view_name": "TextView",
            "continuous_update": true,
            "description": "Search Bar",
            "description_tooltip": null,
            "disabled": false,
            "layout": "IPY_MODEL_cdf2f057c45049f8b3d320d2192d61e5",
            "placeholder": "​",
            "style": "IPY_MODEL_8aa0bed19f1a468bb31514d4d9f8732b",
            "value": ""
          }
        },
        "cdf2f057c45049f8b3d320d2192d61e5": {
          "model_module": "@jupyter-widgets/base",
          "model_name": "LayoutModel",
          "state": {
            "_model_module": "@jupyter-widgets/base",
            "_model_module_version": "1.2.0",
            "_model_name": "LayoutModel",
            "_view_count": null,
            "_view_module": "@jupyter-widgets/base",
            "_view_module_version": "1.2.0",
            "_view_name": "LayoutView",
            "align_content": null,
            "align_items": null,
            "align_self": null,
            "border": null,
            "bottom": null,
            "display": null,
            "flex": null,
            "flex_flow": null,
            "grid_area": null,
            "grid_auto_columns": null,
            "grid_auto_flow": null,
            "grid_auto_rows": null,
            "grid_column": null,
            "grid_gap": null,
            "grid_row": null,
            "grid_template_areas": null,
            "grid_template_columns": null,
            "grid_template_rows": null,
            "height": null,
            "justify_content": null,
            "justify_items": null,
            "left": null,
            "margin": null,
            "max_height": null,
            "max_width": null,
            "min_height": null,
            "min_width": null,
            "object_fit": null,
            "object_position": null,
            "order": null,
            "overflow": null,
            "overflow_x": null,
            "overflow_y": null,
            "padding": null,
            "right": null,
            "top": null,
            "visibility": null,
            "width": null
          }
        },
        "8aa0bed19f1a468bb31514d4d9f8732b": {
          "model_module": "@jupyter-widgets/controls",
          "model_name": "DescriptionStyleModel",
          "state": {
            "_model_module": "@jupyter-widgets/controls",
            "_model_module_version": "1.5.0",
            "_model_name": "DescriptionStyleModel",
            "_view_count": null,
            "_view_module": "@jupyter-widgets/base",
            "_view_module_version": "1.2.0",
            "_view_name": "StyleView",
            "description_width": ""
          }
        },
        "6b915e60c55b4cc68107fcb4d0c05fe2": {
          "model_module": "@jupyter-widgets/controls",
          "model_name": "TextModel",
          "state": {
            "_dom_classes": [],
            "_model_module": "@jupyter-widgets/controls",
            "_model_module_version": "1.5.0",
            "_model_name": "TextModel",
            "_view_count": null,
            "_view_module": "@jupyter-widgets/controls",
            "_view_module_version": "1.5.0",
            "_view_name": "TextView",
            "continuous_update": true,
            "description": "Search Bar",
            "description_tooltip": null,
            "disabled": false,
            "layout": "IPY_MODEL_6067188dfa1e42a3aa1f09ad6cc9078c",
            "placeholder": "​",
            "style": "IPY_MODEL_4947ff2b7d7a4a5ea161afc54ff9bb5f",
            "value": ""
          }
        },
        "6067188dfa1e42a3aa1f09ad6cc9078c": {
          "model_module": "@jupyter-widgets/base",
          "model_name": "LayoutModel",
          "state": {
            "_model_module": "@jupyter-widgets/base",
            "_model_module_version": "1.2.0",
            "_model_name": "LayoutModel",
            "_view_count": null,
            "_view_module": "@jupyter-widgets/base",
            "_view_module_version": "1.2.0",
            "_view_name": "LayoutView",
            "align_content": null,
            "align_items": null,
            "align_self": null,
            "border": null,
            "bottom": null,
            "display": null,
            "flex": null,
            "flex_flow": null,
            "grid_area": null,
            "grid_auto_columns": null,
            "grid_auto_flow": null,
            "grid_auto_rows": null,
            "grid_column": null,
            "grid_gap": null,
            "grid_row": null,
            "grid_template_areas": null,
            "grid_template_columns": null,
            "grid_template_rows": null,
            "height": null,
            "justify_content": null,
            "justify_items": null,
            "left": null,
            "margin": null,
            "max_height": null,
            "max_width": null,
            "min_height": null,
            "min_width": null,
            "object_fit": null,
            "object_position": null,
            "order": null,
            "overflow": null,
            "overflow_x": null,
            "overflow_y": null,
            "padding": null,
            "right": null,
            "top": null,
            "visibility": null,
            "width": null
          }
        },
        "4947ff2b7d7a4a5ea161afc54ff9bb5f": {
          "model_module": "@jupyter-widgets/controls",
          "model_name": "DescriptionStyleModel",
          "state": {
            "_model_module": "@jupyter-widgets/controls",
            "_model_module_version": "1.5.0",
            "_model_name": "DescriptionStyleModel",
            "_view_count": null,
            "_view_module": "@jupyter-widgets/base",
            "_view_module_version": "1.2.0",
            "_view_name": "StyleView",
            "description_width": ""
          }
        },
        "569af64beaab4597bcead076d6308940": {
          "model_module": "@jupyter-widgets/controls",
          "model_name": "TextModel",
          "state": {
            "_dom_classes": [],
            "_model_module": "@jupyter-widgets/controls",
            "_model_module_version": "1.5.0",
            "_model_name": "TextModel",
            "_view_count": null,
            "_view_module": "@jupyter-widgets/controls",
            "_view_module_version": "1.5.0",
            "_view_name": "TextView",
            "continuous_update": true,
            "description": "Search Bar",
            "description_tooltip": null,
            "disabled": false,
            "layout": "IPY_MODEL_5398d6691a0c4ac0a6901984281c92a9",
            "placeholder": "​",
            "style": "IPY_MODEL_5a5d0fdb61c54fecab8791568625c216",
            "value": ""
          }
        },
        "5398d6691a0c4ac0a6901984281c92a9": {
          "model_module": "@jupyter-widgets/base",
          "model_name": "LayoutModel",
          "state": {
            "_model_module": "@jupyter-widgets/base",
            "_model_module_version": "1.2.0",
            "_model_name": "LayoutModel",
            "_view_count": null,
            "_view_module": "@jupyter-widgets/base",
            "_view_module_version": "1.2.0",
            "_view_name": "LayoutView",
            "align_content": null,
            "align_items": null,
            "align_self": null,
            "border": null,
            "bottom": null,
            "display": null,
            "flex": null,
            "flex_flow": null,
            "grid_area": null,
            "grid_auto_columns": null,
            "grid_auto_flow": null,
            "grid_auto_rows": null,
            "grid_column": null,
            "grid_gap": null,
            "grid_row": null,
            "grid_template_areas": null,
            "grid_template_columns": null,
            "grid_template_rows": null,
            "height": null,
            "justify_content": null,
            "justify_items": null,
            "left": null,
            "margin": null,
            "max_height": null,
            "max_width": null,
            "min_height": null,
            "min_width": null,
            "object_fit": null,
            "object_position": null,
            "order": null,
            "overflow": null,
            "overflow_x": null,
            "overflow_y": null,
            "padding": null,
            "right": null,
            "top": null,
            "visibility": null,
            "width": null
          }
        },
        "5a5d0fdb61c54fecab8791568625c216": {
          "model_module": "@jupyter-widgets/controls",
          "model_name": "DescriptionStyleModel",
          "state": {
            "_model_module": "@jupyter-widgets/controls",
            "_model_module_version": "1.5.0",
            "_model_name": "DescriptionStyleModel",
            "_view_count": null,
            "_view_module": "@jupyter-widgets/base",
            "_view_module_version": "1.2.0",
            "_view_name": "StyleView",
            "description_width": ""
          }
        }
      }
    }
  },
  "cells": [
    {
      "cell_type": "markdown",
      "metadata": {
        "id": "view-in-github",
        "colab_type": "text"
      },
      "source": [
        "<a href=\"https://colab.research.google.com/github/RoelRotti/ADStructures/blob/master/IR1%3A13152416_13371266_10166122.ipynb\" target=\"_parent\"><img src=\"https://colab.research.google.com/assets/colab-badge.svg\" alt=\"Open In Colab\"/></a>"
      ]
    },
    {
      "cell_type": "markdown",
      "metadata": {
        "id": "d5OCoAX6yg4K"
      },
      "source": [
        "# Homework 1 (Total Points: 260) <a class=\"anchor\" id=\"top\"></a>\n",
        "\n",
        "\n",
        "**Submission instructions**:\n",
        "- Only the code `TODO: Implement this!` denotes that these sections are graded.\n",
        "- For Part 1: You can use the `nltk`, `numpy` and `matplotlib` libraries here. Other libraries, e.g., `gensim` or `scikit-learn`, may not be used. For Part 2: `gensim` is allowed in addition to the imported libraries in the next code cell\n",
        "- The notebook you submit has to have the student ids, separated by underscores (E.g., `12341234_12341234_12341234.ipynb`). \n",
        "- This will be parsed by a regexp, so please double check your filename.\n",
        "- Only one member of each group has to submit the file to canvas.\n",
        "- Make sure to check that your notebook runs before submission. A quick way to do this is to restart the kernel and run all the cells.  \n",
        "- Please do not delete/add new cells. Removing cells can lead to grade deduction.\n",
        "- Note, that you are not allowed to use Google Colab.\n",
        "\n",
        "\n",
        "**Learning Goals**:\n",
        "- [Part 1, Term-based matching](#part1) (175 points):\n",
        "    - Learn how to load a dataset and process it.\n",
        "    - Learn how to implement several standard IR methods (TF-IDF, BM25, QL) and understand their weaknesses & strengths.\n",
        "    - Learn how to evaluate IR methods.\n",
        "- [Part 2, Semantic-based matching](#part2) (85 points):\n",
        "    - Learn how to implement vector-space retrieval methods (LSI, LDA).\n",
        "    - Learn how to use LSI and LDA for re-ranking\n",
        "\n",
        "    \n",
        "**Resources**: \n",
        "- **Part 1**: Sections 2.3, 4.1, 4.2, 4.3, 5.3, 5.6, 5.7, 6.2, 7, 8 of [Search Engines: Information Retrieval in Practice](https://ciir.cs.umass.edu/downloads/SEIRiP.pdf)\n",
        "- **Part 2**: [LSI - Chapter 18](https://nlp.stanford.edu/IR-book/pdf/18lsi.pdf) from [Introduction to Information Retrieval](https://nlp.stanford.edu/IR-book/) book and the [original LDA paper](https://jmlr.org/papers/volume3/blei03a/blei03a.pdf)"
      ]
    },
    {
      "cell_type": "code",
      "metadata": {
        "id": "eWs2vtN_yg4M"
      },
      "source": [
        "# imports \n",
        "# TODO: Ensure that no additional library is imported in the notebook. \n",
        "# TODO: Only the standard library and the following libraries are allowed:\n",
        "# TODO: You can also use unlisted classes from these libraries or standard libraries (such as defaultdict, Counter, ...).\n",
        "\n",
        "import os\n",
        "import zipfile\n",
        "from functools import partial\n",
        "\n",
        "import nltk\n",
        "import requests\n",
        "import numpy as np\n",
        "from tqdm import tqdm\n",
        "\n",
        "import matplotlib.pyplot as plt\n",
        "from matplotlib.pyplot import cm\n",
        "\n",
        "from ipywidgets import widgets\n",
        "from IPython.display import display, HTML\n",
        "#from IPython.html import widgets\n",
        "from collections import namedtuple\n",
        "\n",
        "%matplotlib inline"
      ],
      "execution_count": null,
      "outputs": []
    },
    {
      "cell_type": "markdown",
      "metadata": {
        "id": "A9_jeMu6yg4O"
      },
      "source": [
        "\n",
        "# Part 1: Term-based Matching (175 points) <a class=\"anchor\" id=\"part1\"></a>\n",
        "\n",
        "[Back to top](#top)\n",
        "\n",
        "In the first part, we will learn the basics of IR from loading and preprocessing the material, to implementing some well known search algorithms, to evaluating the ranking performance of the implemented algorithms. We will be using the CACM dataset throughout the assignment. The CACM dataset is a collection of titles and abstracts from the journal CACM (Communication of the ACM).\n",
        "\n",
        "Table of contents:\n",
        "- [Section 1: Text Processing](#text_processing) (15 points)\n",
        "- [Section 2: Indexing](#indexing) (10 points)\n",
        "- [Section 3: Ranking](#ranking) (80 points)\n",
        "- [Section 4: Evaluation](#evaluation) (40 points)\n",
        "- [Section 5: Analysis](#analysis) (30 points)\n"
      ]
    },
    {
      "cell_type": "markdown",
      "metadata": {
        "id": "-6xZ-DoPyg4P"
      },
      "source": [
        "---\n",
        "## Section 1: Text Processing (15 points)<a class=\"anchor\" id=\"text_processing\"></a>\n",
        "\n",
        "[Back to Part 1](#part1)\n",
        "\n",
        "In this section, we will load the dataset and learn how to clean up the data to make it usable for an IR system. \n",
        "The points of this section are earned for the following implementations:\n",
        "- `read_cacm_docs` (4 points): Reads in the CACM documents.\n",
        "- `read_queries` (3 points): Reads in the CACM queries.\n",
        "- `load_stopwords` (1 point): Loads the stopwords.\n",
        "- `tokenize` (4 points): Tokenizes the input text.\n",
        "- `stem_token` (3 points): Stems the given token. \n",
        "\n",
        "We are using the [CACM dataset](http://ir.dcs.gla.ac.uk/resources/test_collections/cacm/), which is a small, classic IR dataset, composed of a collection of titles and abstracts from the journal CACM. It comes with relevance judgements for queries, so we can evaluate our IR system. \n"
      ]
    },
    {
      "cell_type": "markdown",
      "metadata": {
        "id": "7sscELIcyg4P"
      },
      "source": [
        "---\n",
        "### 1.1 Read the CACM documents (4 points)\n",
        "\n",
        "\n",
        "The following cell downloads the dataset and unzips it to a local directory."
      ]
    },
    {
      "cell_type": "code",
      "metadata": {
        "colab": {
          "base_uri": "https://localhost:8080/"
        },
        "id": "xFHh1zhmyg4Q",
        "outputId": "09633769-624f-4ed2-a8d3-17b1f236f123"
      },
      "source": [
        "def download_dataset():\n",
        "    folder_path = os.environ.get(\"IR1_DATA_PATH\")\n",
        "    if not folder_path:\n",
        "        folder_path = \"./datasets/\"\n",
        "    os.makedirs(folder_path, exist_ok=True)\n",
        "    \n",
        "    file_location = os.path.join(folder_path, \"cacm.zip\")\n",
        "    \n",
        "    # download file if it doesn't exist\n",
        "    if not os.path.exists(file_location):\n",
        "        \n",
        "        url = \"https://surfdrive.surf.nl/files/index.php/s/M0FGJpX2p8wDwxR/download\"\n",
        "\n",
        "        with open(file_location, \"wb\") as handle:\n",
        "            print(f\"Downloading file from {url} to {file_location}\")\n",
        "            response = requests.get(url, stream=True)\n",
        "            for data in tqdm(response.iter_content()):\n",
        "                handle.write(data)\n",
        "            print(\"Finished downloading file\")\n",
        "    \n",
        "    if not os.path.exists(os.path.join(folder_path, \"train.txt\")):\n",
        "        \n",
        "        # unzip file\n",
        "        with zipfile.ZipFile(file_location, 'r') as zip_ref:\n",
        "            zip_ref.extractall(folder_path)\n",
        "        \n",
        "download_dataset()"
      ],
      "execution_count": null,
      "outputs": [
        {
          "output_type": "stream",
          "text": [
            "Downloading file from https://surfdrive.surf.nl/files/index.php/s/M0FGJpX2p8wDwxR/download to ./datasets/cacm.zip\n"
          ],
          "name": "stdout"
        },
        {
          "output_type": "stream",
          "text": [
            "706818it [00:04, 153978.49it/s]"
          ],
          "name": "stderr"
        },
        {
          "output_type": "stream",
          "text": [
            "Finished downloading file\n"
          ],
          "name": "stdout"
        },
        {
          "output_type": "stream",
          "text": [
            "\n"
          ],
          "name": "stderr"
        }
      ]
    },
    {
      "cell_type": "markdown",
      "metadata": {
        "id": "-ADHj6eKyg4Q"
      },
      "source": [
        "---\n",
        "\n",
        "You can see a brief description of each file in the dataset by looking at the README file:"
      ]
    },
    {
      "cell_type": "code",
      "metadata": {
        "colab": {
          "base_uri": "https://localhost:8080/"
        },
        "id": "y-WSMfp4yg4R",
        "outputId": "957eceae-d8b2-4dbc-a978-b1818d0b46de"
      },
      "source": [
        "##### Read the README file \n",
        "!cat ./datasets/README\n",
        "#####"
      ],
      "execution_count": null,
      "outputs": [
        {
          "output_type": "stream",
          "text": [
            "Files in this directory with sizes:\n",
            "          0 Jun 19 21:01 README\n",
            "\n",
            "    2187734 Jun 19 20:55 cacm.all              text of documents\n",
            "        626 Jun 19 20:58 cite.info             key to citation info\n",
            "                                                (the X sections in cacm.all)\n",
            "       2668 Jun 19 20:55 common_words           stop words used by smart\n",
            "       2194 Jun 19 20:55 make_coll*             shell script to make collection\n",
            "       1557 Jun 19 20:55 make_coll_term*        ditto (both useless without\n",
            "                                                smart system)\n",
            "       9948 Jun 19 20:55 qrels.text             relation giving\n",
            "                                                    qid did 0 0\n",
            "                                                to indicate dument did is\n",
            "                                                relevant to query qid\n",
            "      13689 Jun 19 20:55 query.text             Original text of the query\n"
          ],
          "name": "stdout"
        }
      ]
    },
    {
      "cell_type": "markdown",
      "metadata": {
        "id": "4TvK-DCgyg4R"
      },
      "source": [
        "---\n",
        "We are interested in 4 files:\n",
        "- `cacm.all` : Contains the text for all documents. Note that some documents do not have abstracts available. \n",
        "- `query.text` : The text of all queries\n",
        "- `qrels.text` : The relevance judgements\n",
        "- `common_words` : A list of common words. This may be used as a collection of stopwords"
      ]
    },
    {
      "cell_type": "code",
      "metadata": {
        "colab": {
          "base_uri": "https://localhost:8080/"
        },
        "id": "zkWsA0c-yg4S",
        "outputId": "d0190f1e-b6a6-46e8-8c1f-edc087bef457"
      },
      "source": [
        "##### The first 45 lines of the CACM dataset forms the first record\n",
        "# We are interested only in 3 fields. \n",
        "# 1. the '.I' field, which is the document id\n",
        "# 2. the '.T' field (the title) and\n",
        "# 3. the '.W' field (the abstract, which may be absent)\n",
        "!head -45 ./datasets/cacm.all\n",
        "#####"
      ],
      "execution_count": null,
      "outputs": [
        {
          "output_type": "stream",
          "text": [
            ".I 1\n",
            ".T\n",
            "Preliminary Report-International Algebraic Language\n",
            ".B\n",
            "CACM December, 1958\n",
            ".A\n",
            "Perlis, A. J.\n",
            "Samelson,K.\n",
            ".N\n",
            "CA581203 JB March 22, 1978  8:28 PM\n",
            ".X\n",
            "100\t5\t1\n",
            "123\t5\t1\n",
            "164\t5\t1\n",
            "1\t5\t1\n",
            "1\t5\t1\n",
            "1\t5\t1\n",
            "205\t5\t1\n",
            "210\t5\t1\n",
            "214\t5\t1\n",
            "1982\t5\t1\n",
            "398\t5\t1\n",
            "642\t5\t1\n",
            "669\t5\t1\n",
            "1\t6\t1\n",
            "1\t6\t1\n",
            "1\t6\t1\n",
            "1\t6\t1\n",
            "1\t6\t1\n",
            "1\t6\t1\n",
            "1\t6\t1\n",
            "1\t6\t1\n",
            "1\t6\t1\n",
            "1\t6\t1\n",
            "165\t6\t1\n",
            "196\t6\t1\n",
            "196\t6\t1\n",
            "1273\t6\t1\n",
            "1883\t6\t1\n",
            "324\t6\t1\n",
            "43\t6\t1\n",
            "53\t6\t1\n",
            "91\t6\t1\n",
            "410\t6\t1\n",
            "3184\t6\t1\n"
          ],
          "name": "stdout"
        }
      ]
    },
    {
      "cell_type": "markdown",
      "metadata": {
        "id": "RPq5EbXVyg4S"
      },
      "source": [
        "---\n",
        "\n",
        "**Implementation (4 points):**\n",
        "Write a function to read the `cacm.all` file. Note that each document has a variable number of lines. The `.I` field denotes a new document:"
      ]
    },
    {
      "cell_type": "code",
      "metadata": {
        "id": "tbvvIhesyg4S"
      },
      "source": [
        "def read_cacm_docs(root_folder = \"./datasets/\"):\n",
        "    \"\"\"\n",
        "        Reads in the CACM documents. The dataset is assumed to be in the folder \"./datasets/\" by default\n",
        "        Returns: A list of 2-tuples: (doc_id, document), where 'document' is a single string created by \n",
        "            appending the title and abstract (separated by a \"\\n\"). \n",
        "            In case the record doesn't have an abstract, the document is composed only by the title\n",
        "    \"\"\"\n",
        "    documents = []   \n",
        "    temp_title = '' \n",
        "    temp_abstract = '' \n",
        "    with open(root_folder+'cacm.all') as file:\n",
        "      line = file.readline()\n",
        "      while(line is not ''):\n",
        "          # Get index\n",
        "          if line.startswith('.I'):\n",
        "              temp_doc_id = int(line.strip('.I').strip('\\n'))  \n",
        "          # Get title\n",
        "          if line.startswith('.T'):\n",
        "              line = file.readline() \n",
        "              while(line[0] is not '.'):\n",
        "                  line = line.strip('\\n')\n",
        "                  temp_title += line + ' ' \n",
        "                  line = file.readline()\n",
        "              if not line.startswith('.W'):\n",
        "                  documents.append((temp_doc_id, temp_title))\n",
        "          # Get abstract\n",
        "          if line.startswith('.W'):\n",
        "              line = file.readline()\n",
        "              while(line[0] is not '.'):\n",
        "                  line = line.strip('\\n')\n",
        "                  temp_abstract += line + ' ' \n",
        "                  line = file.readline()\n",
        "              documents.append((temp_doc_id, temp_title + '\\n' + temp_abstract))\n",
        "          temp_title = '' \n",
        "          temp_abstract = '' \n",
        "          line = file.readline()\n",
        "    return documents"
      ],
      "execution_count": null,
      "outputs": []
    },
    {
      "cell_type": "code",
      "metadata": {
        "id": "YFh4XpQByg4T"
      },
      "source": [
        "##### Function check\n",
        "docs = read_cacm_docs()\n",
        "\n",
        "assert isinstance(docs, list)\n",
        "assert len(docs) == 3204, \"There should be exactly 3024 documents\"\n",
        "##### "
      ],
      "execution_count": null,
      "outputs": []
    },
    {
      "cell_type": "markdown",
      "metadata": {
        "id": "ybVyFUttyg4T"
      },
      "source": [
        "---\n",
        "### 1.2 Read the CACM queries (3 points)\n",
        "\n",
        "Next, let us read the queries. They are formatted similarly:"
      ]
    },
    {
      "cell_type": "code",
      "metadata": {
        "colab": {
          "base_uri": "https://localhost:8080/"
        },
        "id": "6krJcXVCyg4U",
        "outputId": "f8faec61-ec85-4d8b-e076-12ebf20ce44f"
      },
      "source": [
        "##### The first 15 lines of 'query.text' has 2 queries\n",
        "# We are interested only in 2 fields. \n",
        "# 1. the '.I' - the query id\n",
        "# 2. the '.W' - the query\n",
        "!head -15 ./datasets/query.text\n",
        "#####"
      ],
      "execution_count": null,
      "outputs": [
        {
          "output_type": "stream",
          "text": [
            ".I 1\n",
            ".W\n",
            " What articles exist which deal with TSS (Time Sharing System), an\n",
            "operating system for IBM computers?\n",
            ".N\n",
            " 1. Richard Alexander, Comp Serv, Langmuir Lab (TSS)\n",
            " \n",
            ".I 2\n",
            ".W\n",
            " I am interested in articles written either by Prieve or Udo Pooch\n",
            ".A\n",
            "Prieve, B.\n",
            "Pooch, U.\n",
            ".N\n",
            " 2. Richard Alexander, Comp Serv, Langmuir Lab (author = Pooch or Prieve)\n"
          ],
          "name": "stdout"
        }
      ]
    },
    {
      "cell_type": "markdown",
      "metadata": {
        "id": "E3kZOYzcyg4U"
      },
      "source": [
        "---\n",
        "\n",
        "**Implementation (3 points):**\n",
        "Write a function to read the `query.text` file:"
      ]
    },
    {
      "cell_type": "code",
      "metadata": {
        "id": "96kaIBh1yg4U"
      },
      "source": [
        "def read_queries(root_folder = \"./datasets/\"):\n",
        "    \"\"\"\n",
        "        Reads in the CACM queries. The dataset is assumed to be in the folder \"./datasets/\" by default\n",
        "        Returns: A list of 2-tuples: (query_id, query)\n",
        "    \"\"\"\n",
        "    list_tuples = []\n",
        "    unique = 0\n",
        "    W = \"\"\n",
        "    with open(root_folder+'query.text') as f: # Voor automatisch afsluiten\n",
        "        line = f.readline()\n",
        "        while line:\n",
        "            read = 0\n",
        "            if line.startswith(\".I\"):\n",
        "                if unique:\n",
        "                    list_tuples.append((id_tuple, W)) # Append what is known\n",
        "                    W=\"\"\n",
        "                id_tuple = int(line.strip(\".I \").strip(\"\\n\")) # Extract last number string\n",
        "                unique = 1\n",
        "            if line.startswith(\".W\"):\n",
        "                line = f.readline()\n",
        "                while not line.startswith(\".\"):\n",
        "                    W = W+line\n",
        "                    W = W.replace(\"\\n\", \" \")\n",
        "                    line = f.readline()\n",
        "                    read = 1\n",
        "            if not read: line = f.readline()\n",
        "        list_tuples.append((id_tuple, W)) # Append last one\n",
        "    return list_tuples"
      ],
      "execution_count": null,
      "outputs": []
    },
    {
      "cell_type": "code",
      "metadata": {
        "id": "sgcCeo2dyg4V"
      },
      "source": [
        "##### Function check\n",
        "queries = read_queries()\n",
        "\n",
        "assert isinstance(queries, list)\n",
        "assert len(queries) == 64 and all([q[1] is not None for q in queries]), \"There should be exactly 64 queries\"\n",
        "##### "
      ],
      "execution_count": null,
      "outputs": []
    },
    {
      "cell_type": "markdown",
      "metadata": {
        "id": "0vrg-QU0yg4V"
      },
      "source": [
        "---\n",
        "### 1.3 Read the stop words (1 point)\n",
        "\n",
        "We use the common words stored in `common_words`:"
      ]
    },
    {
      "cell_type": "code",
      "metadata": {
        "colab": {
          "base_uri": "https://localhost:8080/"
        },
        "id": "KhAC2rIsyg4W",
        "outputId": "f420c410-2620-4b25-ede9-1578ac1e6e2b"
      },
      "source": [
        "##### Read the stop words file \n",
        "!head ./datasets/common_words\n",
        "##### Read the README file "
      ],
      "execution_count": null,
      "outputs": [
        {
          "output_type": "stream",
          "text": [
            "a\n",
            "about\n",
            "above\n",
            "accordingly\n",
            "across\n",
            "after\n",
            "afterwards\n",
            "again\n",
            "against\n",
            "all\n"
          ],
          "name": "stdout"
        }
      ]
    },
    {
      "cell_type": "markdown",
      "metadata": {
        "id": "L5WxNyioyg4W"
      },
      "source": [
        "---\n",
        "**Implementation (1 point):**\n",
        "Write a function to read the `common_words` file (For better coverage, try to keep them in lowercase):"
      ]
    },
    {
      "cell_type": "code",
      "metadata": {
        "id": "aIbdgWj7yg4X"
      },
      "source": [
        "def load_stopwords(root_folder = \"./datasets/\"):\n",
        "    \"\"\"\n",
        "        Loads the stopwords. The dataset is assumed to be in the folder \"./datasets/\" by default\n",
        "        Output: A set of stopwords\n",
        "    \"\"\"\n",
        "    list_stopwords = set()\n",
        "    with open(root_folder+'common_words') as f:\n",
        "        for line in f:\n",
        "            list_stopwords.add(line.strip(\"\\n\")) # Append last one\n",
        "    return list_stopwords"
      ],
      "execution_count": null,
      "outputs": []
    },
    {
      "cell_type": "code",
      "metadata": {
        "id": "f_JyK8o9yg4X"
      },
      "source": [
        "##### Function check\n",
        "stopwords = load_stopwords()\n",
        "\n",
        "assert isinstance(stopwords, set)\n",
        "assert len(stopwords) == 428, \"There should be exactly 428 stop words\"\n",
        "##### "
      ],
      "execution_count": null,
      "outputs": []
    },
    {
      "cell_type": "markdown",
      "metadata": {
        "id": "hlPWbyPZyg4X"
      },
      "source": [
        "---\n",
        "### 1.4 Tokenization (4 points)\n",
        "\n",
        "We can now write some basic text processing functions. \n",
        "A first step is to tokenize the text. \n",
        "\n",
        "**Note**: Use the  `WordPunctTokenizer` available in the `nltk` library:"
      ]
    },
    {
      "cell_type": "code",
      "metadata": {
        "id": "cLjMFDCwyg4X"
      },
      "source": [
        "from nltk.tokenize import WordPunctTokenizer \n",
        "\n",
        "def tokenize(text):\n",
        "    \"\"\"\n",
        "        Tokenizes the input text. Use the WordPunctTokenizer\n",
        "        Input: text - a string\n",
        "        Output: a list of tokens\n",
        "    \"\"\"\n",
        "    tk = WordPunctTokenizer() \n",
        "    return tk.tokenize(text) "
      ],
      "execution_count": null,
      "outputs": []
    },
    {
      "cell_type": "code",
      "metadata": {
        "colab": {
          "base_uri": "https://localhost:8080/"
        },
        "id": "mfUCdyDXyg4Y",
        "outputId": "302bef86-2b0d-4add-cb37-234cd4834e17"
      },
      "source": [
        "##### Function check\n",
        "text = \"the quick brown fox jumps over the lazy dog\"\n",
        "tokens = tokenize(text)\n",
        "\n",
        "assert isinstance(tokens, list)\n",
        "assert len(tokens) == 9\n",
        "\n",
        "print(tokens)\n",
        "# output: ['the', 'quick', 'brown', 'fox', 'jumps', 'over', 'the', 'lazy', 'dog']\n",
        "#####"
      ],
      "execution_count": null,
      "outputs": [
        {
          "output_type": "stream",
          "text": [
            "['the', 'quick', 'brown', 'fox', 'jumps', 'over', 'the', 'lazy', 'dog']\n"
          ],
          "name": "stdout"
        }
      ]
    },
    {
      "cell_type": "markdown",
      "metadata": {
        "id": "9PajoxHJyg4Y"
      },
      "source": [
        "---\n",
        "### 1.5 Stemming (3 points)\n",
        "\n",
        "Write a function to stem tokens. \n",
        "Again, you can use the nltk library for this:"
      ]
    },
    {
      "cell_type": "code",
      "metadata": {
        "id": "9SSva2hIyg4Y"
      },
      "source": [
        "from nltk import stem\n",
        "\n",
        "def stem_token(token):\n",
        "    \"\"\"\n",
        "        Stems the given token using the PorterStemmer from the nltk library\n",
        "        Input: a single token\n",
        "        Output: the stem of the token\n",
        "    \"\"\"\n",
        "    stemmer = stem.PorterStemmer()\n",
        "    return stemmer.stem(token)"
      ],
      "execution_count": null,
      "outputs": []
    },
    {
      "cell_type": "code",
      "metadata": {
        "id": "NaIuPcG6yg4Y"
      },
      "source": [
        "##### Function check\n",
        "\n",
        "assert stem_token('owned') == 'own'\n",
        "assert stem_token('itemization') == 'item'\n",
        "#####"
      ],
      "execution_count": null,
      "outputs": []
    },
    {
      "cell_type": "markdown",
      "metadata": {
        "id": "TKvcJBcsyg4Z"
      },
      "source": [
        "---\n",
        "### 1.6 Summary\n",
        "\n",
        "The following function puts it all together. Given a string, it tokenizes it and processes it according to the flags that you set."
      ]
    },
    {
      "cell_type": "code",
      "metadata": {
        "id": "ses22mANyg4Z"
      },
      "source": [
        "#### Putting it all together\n",
        "def process_text(text, stem=False, remove_stopwords=False, lowercase_text=False):\n",
        "    \n",
        "    tokens = []\n",
        "    for token in tokenize(text):\n",
        "        if remove_stopwords and token.lower() in stopwords:\n",
        "            continue\n",
        "        if stem:\n",
        "            token = stem_token(token)\n",
        "        if lowercase_text:\n",
        "            token = token.lower()\n",
        "        tokens.append(token)\n",
        "\n",
        "    return tokens\n",
        "#### "
      ],
      "execution_count": null,
      "outputs": []
    },
    {
      "cell_type": "markdown",
      "metadata": {
        "id": "DzrlhETXyg4Z"
      },
      "source": [
        "---\n",
        "\n",
        "Let's create two sets of preprocessed documents.\n",
        "We can process the documents and queries according to these two configurations:"
      ]
    },
    {
      "cell_type": "code",
      "metadata": {
        "id": "FvGWqLURyg4Z"
      },
      "source": [
        "5# In this configuration:\n",
        "# Don't preprocess the text, except to tokenize \n",
        "config_1 = {\n",
        "  \"stem\": False,\n",
        "  \"remove_stopwords\" : False,\n",
        "  \"lowercase_text\": True\n",
        "} \n",
        "\n",
        "\n",
        "# In this configuration:\n",
        "# Preprocess the text, stem and remove stopwords\n",
        "config_2 = {\n",
        "  \"stem\": True,\n",
        "  \"remove_stopwords\" : True,\n",
        "  \"lowercase_text\": True, \n",
        "} \n",
        "\n",
        "####\n",
        "doc_repr_1 = []\n",
        "doc_repr_2 = []\n",
        "for (doc_id, document) in docs:\n",
        "    doc_repr_1.append((doc_id, process_text(document, **config_1)))\n",
        "    doc_repr_2.append((doc_id, process_text(document, **config_2)))\n",
        "\n",
        "####"
      ],
      "execution_count": null,
      "outputs": []
    },
    {
      "cell_type": "markdown",
      "metadata": {
        "id": "PsHDpggGyg4Z"
      },
      "source": [
        "--- \n",
        "\n",
        "## Section 2: Indexing (10 points)<a class=\"anchor\" id=\"indexing\"></a>\n",
        "\n",
        "[Back to Part 1](#part1)\n",
        "\n",
        "\n",
        "\n",
        "A retrieval function usually takes in a query document pair, and scores a query against a document.  Our document set is quite small - just a few thousand documents. However, consider a web-scale dataset with a few million documents. In such a scenario, it would become infeasible to score every query and document pair. In such a case, we can build an inverted index. From Wikipedia:\n",
        "\n",
        "> ... , an inverted index (also referred to as a postings file or inverted file) is a database index storing a mapping from content, such as words or numbers, to its locations in a table, .... The purpose of an inverted index is to allow fast full-text searches, at a cost of increased processing when a document is added to the database. ...\n",
        "\n",
        "\n",
        "Consider a simple inverted index, which maps from word to document. This can improve the performance of a retrieval system significantly. In this assignment, we consider a *simple* inverted index, which maps a word to a set of documents. In practice, however, more complex indices might be used.  \n"
      ]
    },
    {
      "cell_type": "markdown",
      "metadata": {
        "id": "mKQGnYldyg4Z"
      },
      "source": [
        "### 2.1 Term Frequency-index (10 points)\n",
        "In this assignment, we will be using an index created in memory since our dataset is tiny. To get started, build a simple index that maps each `token` to a list of `(doc_id, count)` where `count` is the count of the `token` in `doc_id`.\n",
        "For consistency, build this index using a python dictionary.\n",
        "    \n",
        "Now, implement a function to build an index:"
      ]
    },
    {
      "cell_type": "code",
      "metadata": {
        "id": "RRn7xsWYyg4a"
      },
      "source": [
        "def build_tf_index(documents):\n",
        "    \"\"\"\n",
        "        Build an inverted index (with counts). The output is a dictionary which takes in a token\n",
        "        and returns a list of (doc_id, count) where 'count' is the count of the 'token' in 'doc_id'\n",
        "        Input: a list of documents - (doc_id, tokens) \n",
        "        Output: An inverted index. [token] -> [(doc_id, token_count)]\n",
        "    \"\"\"\n",
        "    tf_index = {}\n",
        "    for document in documents:\n",
        "        doc_id = document[0]\n",
        "        for token in document[1]:\n",
        "            if token not in tf_index: # Token is never ever encountered before\n",
        "                tf_index[token] = []\n",
        "                tf_index[token].append([doc_id, 1])\n",
        "            else: # Token is previously encountered, but not neceserily in the current document \n",
        "                list_indices_encountered_docs = [item[0] for item in tf_index[token]]\n",
        "                if doc_id in list_indices_encountered_docs: # encountered already in this doc\n",
        "                    tf_index[token][list_indices_encountered_docs.index(doc_id)][1] += 1\n",
        "                else: # encountered only in other docs\n",
        "                    tf_index[token].append(([doc_id, 1]))\n",
        "    return tf_index"
      ],
      "execution_count": null,
      "outputs": []
    },
    {
      "cell_type": "markdown",
      "metadata": {
        "id": "Hnj577g2yg4a"
      },
      "source": [
        "---\n",
        "Now we can build indexed documents and preprocess the queries based on the two configurations:"
      ]
    },
    {
      "cell_type": "code",
      "metadata": {
        "id": "mvhEknPHyg4a"
      },
      "source": [
        "#### Indexed documents based on the two configs\n",
        "\n",
        "# Create the 2 indices\n",
        "tf_index_1 = build_tf_index(doc_repr_1)\n",
        "tf_index_2 = build_tf_index(doc_repr_2)\n",
        "\n",
        "# This function returns the tf_index of the corresponding config\n",
        "def get_index(index_set):\n",
        "    assert index_set in {1, 2}\n",
        "    return {\n",
        "        1: tf_index_1,\n",
        "        2: tf_index_2\n",
        "    }[index_set]\n",
        "\n",
        "####\n",
        "#### Preprocessed query based on the two configs\n",
        "\n",
        "# This function preprocesses the text given the index set, according to the specified config\n",
        "def preprocess_query(text, index_set):\n",
        "    assert index_set in {1, 2}\n",
        "    if index_set == 1:\n",
        "        return process_text(text, **config_1)\n",
        "    elif index_set == 2:\n",
        "        return process_text(text, **config_2)\n",
        "\n",
        "#### "
      ],
      "execution_count": null,
      "outputs": []
    },
    {
      "cell_type": "code",
      "metadata": {
        "colab": {
          "base_uri": "https://localhost:8080/"
        },
        "id": "XZeXmGKayg4a",
        "outputId": "7d5f8aaa-b450-4024-ff58-3d2abd0ba7f9"
      },
      "source": [
        "##### Function check\n",
        "\n",
        "print(tf_index_1['computer'][:10])\n",
        "#### "
      ],
      "execution_count": null,
      "outputs": [
        {
          "output_type": "stream",
          "text": [
            "[[4, 1], [7, 1], [10, 1], [13, 1], [19, 1], [22, 1], [23, 1], [37, 1], [40, 3], [41, 1]]\n"
          ],
          "name": "stdout"
        }
      ]
    },
    {
      "cell_type": "code",
      "metadata": {
        "colab": {
          "base_uri": "https://localhost:8080/"
        },
        "id": "IalpVjGeyg4a",
        "outputId": "a3e80b6f-145b-4a87-b3c1-ec275caf0049"
      },
      "source": [
        "##### Function check\n",
        "\n",
        "print(tf_index_2['computer'][:10])\n",
        "#### "
      ],
      "execution_count": null,
      "outputs": [
        {
          "output_type": "stream",
          "text": [
            "[[670, 1], [675, 1], [1621, 3], [1681, 1], [2145, 1], [2339, 1], [2572, 1], [2583, 1], [2739, 1], [3012, 1]]\n"
          ],
          "name": "stdout"
        }
      ]
    },
    {
      "cell_type": "markdown",
      "metadata": {
        "id": "6FbD8Mjpyg4a"
      },
      "source": [
        "\n",
        "---\n",
        "## Section 3: Ranking  (80 points) <a class=\"anchor\" id=\"ranking\"></a>\n",
        "\n",
        "[Back to Part 1](#part1)\n",
        "\n",
        "Now that we have cleaned and processed our dataset, we can start building simple IR systems. \n",
        "\n",
        "For now, we consider *simple* IR systems, which involve computing scores from the tokens present in the document/query. More advanced methods are covered in later assignments.\n",
        "\n",
        "We will implement the following methods in this section:\n",
        "- [Section 3.1: Bag of Words](#bow) (10 points)\n",
        "- [Section 3.2: TF-IDF](#tfidf) (15 points)\n",
        "- [Section 3.3: Query Likelihood Model](#qlm) (35 points)\n",
        "- [Section 3.4: BM25](#bm25) (20 points)\n",
        "\n",
        "**Scoring policy:**\n",
        "Your implementations in this section are scored based on the expected performance of your ranking functions.\n",
        "You will get a full mark if your implementation meets the expected performance (measured by some evaluation metric).\n",
        "Otherwise, you may get partial credit.\n",
        "For example, if your *Bag of words* ranking function has 60% of expected performance, you will get 4 out of 10."
      ]
    },
    {
      "cell_type": "markdown",
      "metadata": {
        "id": "lvnrFZnJyg4b"
      },
      "source": [
        "--- \n",
        "\n",
        "### Section 3.1: Bag of Words (10 points)<a class=\"anchor\" id=\"bow\"></a>\n",
        "\n",
        "Probably the simplest IR model is the Bag of Words (BOW) model.\n",
        "Implement a function that scores and ranks all the documents against a query using this model.   \n",
        "\n",
        "Note that you can use either the count of the token or 'binarize' it i.e set the value equal to 1 if the token appears.   \n"
      ]
    },
    {
      "cell_type": "code",
      "metadata": {
        "id": "m7Xyz8DEyg4b"
      },
      "source": [
        "def take_second(elem):\n",
        "    \"\"\"\n",
        "    Take all second elements from the list for sorting\n",
        "    \"\"\"\n",
        "    return elem[1]\n",
        "\n",
        "def bow_search(query, index_set):\n",
        "    \"\"\"\n",
        "        Perform a search over all documents with the given query. \n",
        "        Note: You have to use the `get_index` function created in the previous cells\n",
        "        Input: \n",
        "            query - a (unprocessed) query\n",
        "            index_set - the index to use\n",
        "        Output: a list of (document_id, score), sorted in descending relevance to the given query \n",
        "    \"\"\"\n",
        "    index = get_index(index_set)\n",
        "    processed_query = preprocess_query(query, index_set)\n",
        "    relevance_list = []\n",
        "    \n",
        "    for term in processed_query:\n",
        "        if term in index: # only run if term ever occurs in one of the documents\n",
        "            for i in range(len(index[term])): # iterate over documents in which term occurs\n",
        "                doc_id = index[term][i][0]\n",
        "                term_frequency = index[term][i][1]\n",
        "                docs_with_score = [item[0] for item in relevance_list]\n",
        "                if doc_id in docs_with_score:  # doc already has a relevance score\n",
        "                    relevance_list[docs_with_score.index(doc_id)][1] += 1+np.log(term_frequency)\n",
        "                else: # append new doc to relevance list\n",
        "                    relevance_list.append([doc_id, 1+np.log(term_frequency)])\n",
        "        relevance_list.sort(key = take_second, reverse = True)\n",
        "    return relevance_list"
      ],
      "execution_count": null,
      "outputs": []
    },
    {
      "cell_type": "code",
      "metadata": {
        "colab": {
          "base_uri": "https://localhost:8080/"
        },
        "id": "cxJ7y70byg4b",
        "outputId": "8aeff6a3-27f8-4783-ca63-7e34567555bf"
      },
      "source": [
        "#### Function check\n",
        "\n",
        "docs_by_id = dict(docs)\n",
        "def print_results(docs, len_limit=500):    \n",
        "    for i, (doc_id, score) in enumerate(docs):\n",
        "        doc_content = docs_by_id[doc_id].strip().replace(\"\\n\", \"\\\\n\")[:len_limit] + \"...\"\n",
        "        print(f\"Rank {i}({score:.2}): {doc_content}\")\n",
        "\n",
        "test_bow = bow_search(\"report\", index_set=1)[:5]\n",
        "print(f\"BOW Results:\")\n",
        "print_results(test_bow)\n",
        "#### "
      ],
      "execution_count": null,
      "outputs": [
        {
          "output_type": "stream",
          "text": [
            "BOW Results:\n",
            "Rank 0(2.8): An Information Algebra - Phase I Report-Language Structure Group of the CODASYL Development Committee \\nThis report represents the results of the first phase of the work of the Language Structure  Group.  The goal of this work is to arrive at a proper structure for a machine-independent problem-defining  language, at the systems level of data processing.  The report is based, for the most part, on a mathematical  model called \"An Information Algebra\" developed primarily by R. Bosak.  It is hoped...\n",
            "Rank 1(2.8): Rejuvenating Experimental Computer Science \\nThis report is based on the results of an NSF sponsored workshop held in Wasington, D.C. on November 2, 1978.  The co-authors of the  report are: Gordon Bell, Digital Equipment Corporation; Bernard A. Galler, University of Michigan; Patricia Goldberg, IBM Corporation; John Hamblen, University of Missouri at Rolla; Elliot Pinson, Bell Telephone Laboratories; and Ivan Sutherland, California Institute of Technology.  Also participating in the workshop we...\n",
            "Rank 2(2.1): ALGOL 60 Confidential \\nThe ALGOL 60 Report,* when first encountered, seems to describe a very complex language which  will be difficult to learn.  The \"metalinguistic formulae\" admirably serve the purpose of precisely specifying  a language, but they are certainly not very readable for a beginner.  However, experience has shown that  once the report is explained it is in fact easy to learn ALGOL and to write algorithms in it.  The language  is so general and powerful it can handle an enormous c...\n",
            "Rank 3(1.7): Automatic Abstracting and Indexing Survey and Recommendations \\nIn preparation for the widespread use of automatic scanners which will read documents and transmit  their contents to other machines for analysis, this report presents a new concept in automatic analysis:  the relative-frequency approach to measuring  the significance of words, word groups, and sentences.   The relative-frequency approach is discussed in detail, as is its application to problems of automatic  indexing and automatic ...\n",
            "Rank 4(1.7): A String Language for Symbol Manipulation Based on ALGOL 60 \\nAn artificial computer programming language is proposed for describing the manipulation of  strings of characters and symbols.  The concept of strings, introduced in the ALGOL 60 report, is extended  by adding: (1) the declaration of strings, substrings, and string arrays with explicit lengths; (2) the  ability to concatenate and shift strings; and (3) the ranking of symbols for comparing stings in Boolean  relations.  A primer or inf...\n"
          ],
          "name": "stdout"
        }
      ]
    },
    {
      "cell_type": "code",
      "metadata": {
        "id": "nz0HAWn5yg4b"
      },
      "source": [
        "#### Please do not change this. This cell is used for grading."
      ],
      "execution_count": null,
      "outputs": []
    },
    {
      "cell_type": "code",
      "metadata": {
        "id": "jTDvOyWoyg4b"
      },
      "source": [
        "#### Please do not change this. This cell is used for grading."
      ],
      "execution_count": null,
      "outputs": []
    },
    {
      "cell_type": "code",
      "metadata": {
        "id": "autNM2OCyg4c"
      },
      "source": [
        "#### Please do not change this. This cell is used for grading."
      ],
      "execution_count": null,
      "outputs": []
    },
    {
      "cell_type": "markdown",
      "metadata": {
        "id": "dFAtRzGUyg4c"
      },
      "source": [
        "\n",
        "---\n",
        "\n",
        "### Section 3.2: TF-IDF (15 points) <a class=\"anchor\" id=\"tfidf\"></a>\n",
        "\n",
        "Before we implement the tf-idf scoring functions, let's first write a function to compute the document frequencies of all words.  \n",
        "\n",
        "#### 3.2.1 Document frequency (5 points)\n",
        "Compute the document frequencies of all tokens in the collection.  "
      ]
    },
    {
      "cell_type": "code",
      "metadata": {
        "id": "sRN9xWDnyg4c"
      },
      "source": [
        "def compute_df(documents):\n",
        "    \"\"\"\n",
        "        Compute the document frequency of all terms in the vocabulary\n",
        "        Input: A list of documents\n",
        "        Output: A dictionary with {token: document frequency)\n",
        "    \"\"\"\n",
        "    document_frequency = {}\n",
        "    # Go over all documents\n",
        "    for document in documents:\n",
        "        unique_tokens_in_document = []\n",
        "        # Go over all tokens in document\n",
        "        for token in document:\n",
        "            if token not in document_frequency: # Token is never ever encountered before\n",
        "                document_frequency[token] = 1 \n",
        "                unique_tokens_in_document.append(token)\n",
        "            elif token not in unique_tokens_in_document: # Token is not previously encountered in document\n",
        "                document_frequency[token] += 1 \n",
        "                unique_tokens_in_document.append(token)\n",
        "    return document_frequency\n"
      ],
      "execution_count": null,
      "outputs": []
    },
    {
      "cell_type": "code",
      "metadata": {
        "id": "7myHD8Vvyg4c"
      },
      "source": [
        "#### Compute df based on the two configs\n",
        "\n",
        "# get the document frequencies of each document\n",
        "df_1 = compute_df([d[1] for d in doc_repr_1])\n",
        "df_2 = compute_df([d[1] for d in doc_repr_2])\n",
        "\n",
        "def get_df(index_set):\n",
        "    assert index_set in {1, 2}\n",
        "    return {\n",
        "        1: df_1,\n",
        "        2: df_2\n",
        "    }[index_set]\n",
        "####"
      ],
      "execution_count": null,
      "outputs": []
    },
    {
      "cell_type": "code",
      "metadata": {
        "colab": {
          "base_uri": "https://localhost:8080/"
        },
        "id": "r8DD-6Gsyg4c",
        "outputId": "7a20fedc-3a6c-425d-b3b7-71e8c15987e6"
      },
      "source": [
        "#### Function check\n",
        "\n",
        "print(df_1['computer'])\n",
        "print(df_2['computer'])\n",
        "####"
      ],
      "execution_count": null,
      "outputs": [
        {
          "output_type": "stream",
          "text": [
            "597\n",
            "11\n"
          ],
          "name": "stdout"
        }
      ]
    },
    {
      "cell_type": "markdown",
      "metadata": {
        "id": "ajtIMLCZyg4c"
      },
      "source": [
        "---\n",
        "#### 3.2.2 TF-IDF search (10 points)\n",
        "Next, implement a function that computes a tf-idf score given a query.      "
      ]
    },
    {
      "cell_type": "code",
      "metadata": {
        "id": "60BNsM_byg4c"
      },
      "source": [
        "def tfidf_search(query, index_set):\n",
        "    \"\"\"\n",
        "        Perform a search over all documents with the given query using tf-idf. \n",
        "        Note #1: You have to use the `get_index` (and the `get_df`) function created in the previous cells\n",
        "        Input: \n",
        "            query - a (unprocessed) query\n",
        "            index_set - the index to use\n",
        "        Output: a list of (document_id, score), sorted in descending relevance to the given query \n",
        "    \"\"\"\n",
        "    index = get_index(index_set) # [token] -> [(doc_id, token_count)]\n",
        "    df = get_df(index_set) # {token: doc_freq}\n",
        "    processed_query = preprocess_query(query, index_set)\n",
        "\n",
        "    # Normalize index?\n",
        "    relevant_documents = []\n",
        "    total_documents = len(docs)\n",
        "\n",
        "    # Go over every word in processed query\n",
        "    for word in processed_query:\n",
        "      if df.get(word, 0):\n",
        "        idf = np.log(total_documents/df[word]) ## IDF is same for every word # IDF = log(total_documents/df(t)) OR max{0,log[ (N-df(t)) / df(t) ]}. Doesn't seem to matter \n",
        "        #idf = max(0, np.log( (total_documents-df[word]) / df[word] )) # \n",
        "\n",
        "        # For every word go over all documents it is in \n",
        "        for term_frequencies in index[word]:\n",
        "            doc_id = term_frequencies[0]\n",
        "            tf = term_frequencies[1]\n",
        "            tf_idf = tf*idf\n",
        "            #print(\"tf_idf = {:.2f}\".format(tf_idf), \",tf = \", term_frequencies[1], \",df[word] = \", df[word], \",idf = {:.2f}\".format(idf)) # for insight\n",
        "            if not any([e[0] == doc_id for e in relevant_documents]) : # Document not encountered before\n",
        "                relevant_documents.append([doc_id, tf_idf])\n",
        "            else: # Document encountered. Add tf-idf score to previous score  \n",
        "                for document in relevant_documents:\n",
        "                    if document[0] == doc_id:\n",
        "                        document[1] += tf_idf\n",
        "                        break\n",
        "    relevant_documents.sort(key = take_second, reverse = True)\n",
        "    return relevant_documents"
      ],
      "execution_count": null,
      "outputs": []
    },
    {
      "cell_type": "code",
      "metadata": {
        "colab": {
          "base_uri": "https://localhost:8080/"
        },
        "id": "-09yRdQmyg4d",
        "outputId": "33e4beb9-b6b7-432e-aa55-d2e99b35100d"
      },
      "source": [
        "#### Function check\n",
        "test_tfidf = tfidf_search(\"report\", index_set=1)[:5]\n",
        "print(f\"TFIDF Results:\")\n",
        "print_results(test_tfidf)\n",
        "####"
      ],
      "execution_count": null,
      "outputs": [
        {
          "output_type": "stream",
          "text": [
            "TFIDF Results:\n",
            "Rank 0(2.3e+01): An Information Algebra - Phase I Report-Language Structure Group of the CODASYL Development Committee \\nThis report represents the results of the first phase of the work of the Language Structure  Group.  The goal of this work is to arrive at a proper structure for a machine-independent problem-defining  language, at the systems level of data processing.  The report is based, for the most part, on a mathematical  model called \"An Information Algebra\" developed primarily by R. Bosak.  It is hoped...\n",
            "Rank 1(2.3e+01): Rejuvenating Experimental Computer Science \\nThis report is based on the results of an NSF sponsored workshop held in Wasington, D.C. on November 2, 1978.  The co-authors of the  report are: Gordon Bell, Digital Equipment Corporation; Bernard A. Galler, University of Michigan; Patricia Goldberg, IBM Corporation; John Hamblen, University of Missouri at Rolla; Elliot Pinson, Bell Telephone Laboratories; and Ivan Sutherland, California Institute of Technology.  Also participating in the workshop we...\n",
            "Rank 2(1.2e+01): ALGOL 60 Confidential \\nThe ALGOL 60 Report,* when first encountered, seems to describe a very complex language which  will be difficult to learn.  The \"metalinguistic formulae\" admirably serve the purpose of precisely specifying  a language, but they are certainly not very readable for a beginner.  However, experience has shown that  once the report is explained it is in fact easy to learn ALGOL and to write algorithms in it.  The language  is so general and powerful it can handle an enormous c...\n",
            "Rank 3(7.8): Automatic Abstracting and Indexing Survey and Recommendations \\nIn preparation for the widespread use of automatic scanners which will read documents and transmit  their contents to other machines for analysis, this report presents a new concept in automatic analysis:  the relative-frequency approach to measuring  the significance of words, word groups, and sentences.   The relative-frequency approach is discussed in detail, as is its application to problems of automatic  indexing and automatic ...\n",
            "Rank 4(7.8): A String Language for Symbol Manipulation Based on ALGOL 60 \\nAn artificial computer programming language is proposed for describing the manipulation of  strings of characters and symbols.  The concept of strings, introduced in the ALGOL 60 report, is extended  by adding: (1) the declaration of strings, substrings, and string arrays with explicit lengths; (2) the  ability to concatenate and shift strings; and (3) the ranking of symbols for comparing stings in Boolean  relations.  A primer or inf...\n"
          ],
          "name": "stdout"
        }
      ]
    },
    {
      "cell_type": "code",
      "metadata": {
        "id": "wOA5-dRxyg4d"
      },
      "source": [
        "#### Please do not change this. This cell is used for grading."
      ],
      "execution_count": null,
      "outputs": []
    },
    {
      "cell_type": "code",
      "metadata": {
        "id": "Epwh_lUyyg4d"
      },
      "source": [
        "#### Please do not change this. This cell is used for grading."
      ],
      "execution_count": null,
      "outputs": []
    },
    {
      "cell_type": "code",
      "metadata": {
        "id": "d6GCG0BHyg4d"
      },
      "source": [
        "#### Please do not change this. This cell is used for grading."
      ],
      "execution_count": null,
      "outputs": []
    },
    {
      "cell_type": "markdown",
      "metadata": {
        "id": "JR9lrTHpyg4d"
      },
      "source": [
        "--- \n",
        "\n",
        "### Section 3.3: Query Likelihood Model (35 points) <a class=\"anchor\" id=\"qlm\"></a>\n",
        "\n",
        "In this section, you will implement a simple query likelihood model. \n",
        "\n",
        "\n",
        "#### 3.3.1 Naive QL (15 points)\n",
        "\n",
        "First, let us implement a naive version of a QL model, assuming a multinomial unigram language model (with a uniform prior over the documents). \n",
        "\n"
      ]
    },
    {
      "cell_type": "code",
      "metadata": {
        "id": "PTaDH_l0yg4e"
      },
      "source": [
        "#### Document length for normalization\n",
        "\n",
        "def doc_lengths(documents):\n",
        "    doc_lengths = {doc_id:len(doc) for (doc_id, doc) in documents}\n",
        "    return doc_lengths\n",
        "\n",
        "doc_lengths_1 = doc_lengths(doc_repr_1)\n",
        "doc_lengths_2 = doc_lengths(doc_repr_2)\n",
        "\n",
        "def get_doc_lengths(index_set):\n",
        "    assert index_set in {1, 2}\n",
        "    return {\n",
        "        1: doc_lengths_1,\n",
        "        2: doc_lengths_2\n",
        "    }[index_set]\n",
        "####"
      ],
      "execution_count": null,
      "outputs": []
    },
    {
      "cell_type": "code",
      "metadata": {
        "id": "5RkLkaS5yg4e"
      },
      "source": [
        "# take second element for sort\n",
        "def take_second(elem):\n",
        "    return elem[1]\n",
        "\n",
        "def naive_ql_search(query, index_set):\n",
        "    \"\"\"\n",
        "        Perform a search over all documents with the given query using a naive QL model. \n",
        "        Note #1: You have to use the `get_index` (and get_doc_lengths) function created in the previous cells\n",
        "        Input: \n",
        "            query - a (unprocessed) query\n",
        "            index_set - the index to use\n",
        "        Output: a list of (document_id, score), sorted in descending relevance to the given query \n",
        "    \"\"\"\n",
        "    index = get_index(index_set)\n",
        "    doc_lengths = get_doc_lengths(index_set)\n",
        "    processed_query = preprocess_query(query, index_set)\n",
        "    \n",
        "    relevance_list = []\n",
        "    number_of_documents = len(doc_lengths)\n",
        "    for term in processed_query: # iterate over words in query\n",
        "        if term in index: # words that do not occur in any of the documents are ignored\n",
        "            doc_ids_containing_term = [item[0] for item in index[term]] # filters documents that contain the query term\n",
        "            for doc_id in range(1, number_of_documents): # iterate over all documents\n",
        "                if doc_id in doc_ids_containing_term: # if term occurs in document \n",
        "                    doc_length = doc_lengths[doc_id]\n",
        "                    term_frequency = index[term][doc_ids_containing_term.index(doc_id)][1]\n",
        "                    unigram_value = term_frequency/doc_length  # how often term occurs / by total amount of terms in doc\n",
        "                else: # if term does not occur the relative frequency is 0\n",
        "                    unigram_value = 0\n",
        "                viewed_docs = [item[0] for item in relevance_list]\n",
        "                if doc_id in viewed_docs:  # doc already has a relevance score -> multiply relative frequency\n",
        "                    relevance_list[viewed_docs.index(doc_id)][1] *= unigram_value\n",
        "                else: # append new doc to relevance list\n",
        "                    relevance_list.append([doc_id, unigram_value])\n",
        "            relevance_list.sort(key = take_second, reverse = True)\n",
        "    return relevance_list"
      ],
      "execution_count": null,
      "outputs": []
    },
    {
      "cell_type": "code",
      "metadata": {
        "colab": {
          "base_uri": "https://localhost:8080/"
        },
        "id": "2LSXbiOGyg4e",
        "outputId": "3509a425-ebb2-4325-861b-feb98b0bb9a6"
      },
      "source": [
        "#### Function check\n",
        "test_naiveql = naive_ql_search(\"report \", index_set=1)[:5]\n",
        "print(f\"Naive QL Results:\")\n",
        "print_results(test_naiveql)\n",
        "####"
      ],
      "execution_count": null,
      "outputs": [
        {
          "output_type": "stream",
          "text": [
            "Naive QL Results:\n",
            "Rank 0(0.2): A Report Writer For COBOL...\n",
            "Rank 1(0.2): A CRT Report Generating System...\n",
            "Rank 2(0.17): Preliminary Report-International Algebraic Language...\n",
            "Rank 3(0.17): Supplement to the ALGOL 60 Report...\n",
            "Rank 4(0.14): ALGOL Sub-Committee Report - Extensions...\n"
          ],
          "name": "stdout"
        }
      ]
    },
    {
      "cell_type": "code",
      "metadata": {
        "id": "ESPBdAo4yg4e"
      },
      "source": [
        "#### Please do not change this. This cell is used for grading."
      ],
      "execution_count": null,
      "outputs": []
    },
    {
      "cell_type": "code",
      "metadata": {
        "id": "0WI44wxWyg4e"
      },
      "source": [
        "#### Please do not change this. This cell is used for grading."
      ],
      "execution_count": null,
      "outputs": []
    },
    {
      "cell_type": "code",
      "metadata": {
        "id": "25UrssAEyg4e"
      },
      "source": [
        "#### Please do not change this. This cell is used for grading."
      ],
      "execution_count": null,
      "outputs": []
    },
    {
      "cell_type": "code",
      "metadata": {
        "id": "IKFpLzn5yg4f"
      },
      "source": [
        "#### Please do not change this. This cell is used for grading."
      ],
      "execution_count": null,
      "outputs": []
    },
    {
      "cell_type": "markdown",
      "metadata": {
        "id": "VadKEn-syg4f"
      },
      "source": [
        "---\n",
        "#### 3.3.2 QL (20 points)\n",
        "Now, let's implement a QL model that handles the issues with the naive version. In particular, you will implement a QL model with Jelinek-Mercer Smoothing. That means an interpolated score is computed per word - one term is the same as the previous naive version, and the second term comes from a unigram language model. In addition, you should accumulate the scores by summing the **log** (smoothed) probability which leads to better numerical stability."
      ]
    },
    {
      "cell_type": "code",
      "metadata": {
        "id": "P97wUtKXyg4f"
      },
      "source": [
        "LAMBDA = 0.9\n",
        "def collection_frequency(term, index):\n",
        "    \"\"\"\n",
        "        Function returning the collection frequency. Amount of documents in \n",
        "        which the term occurs in the whole collection.\n",
        "    \"\"\"    \n",
        "    return sum(frequency[1] for frequency in index[term])\n",
        "\n",
        "def collection_length(doc_lengths):\n",
        "    \"\"\"\n",
        "    Function returning the total length of all documents in the collection together.\n",
        "    \"\"\"\n",
        "    return sum(doc_lengths.values())\n",
        "    \n",
        "\n",
        "def ql_search(query, index_set):\n",
        "    \"\"\"\n",
        "        Perform a search over all documents with the given query using a QL model \n",
        "        with Jelinek-Mercer Smoothing (set smoothing=0.1). \n",
        "        \n",
        "        \n",
        "        Note #1: You have to use the `get_index` (and get_doc_lengths) function created in the previous cells\n",
        "        Note #2: You might have to create some variables beforehand and use them in this function\n",
        "        \n",
        "        \n",
        "        Input: \n",
        "            query - a (unprocessed) query\n",
        "            index_set - the index to use\n",
        "        Output: a list of (document_id, score), sorted in descending relevance to the given query \n",
        "    \"\"\"\n",
        "    index = get_index(index_set)\n",
        "    doc_lengths = get_doc_lengths(index_set)\n",
        "    processed_query = preprocess_query(query, index_set)\n",
        "    relevance_list = []\n",
        "    cl = collection_length(doc_lengths) # collection length\n",
        "\n",
        "    for term in processed_query: # iterate over words in query\n",
        "        \n",
        "        if term in index: # words that do not occur in any of the documents are ignored\n",
        "            cf = collection_frequency(term, index)\n",
        "            doc_ids_containing_term = [item[0] for item in index[term]] # filters documents that contain the query term\n",
        "            for doc_id in range(1, len(doc_lengths)): # iterate over all documents in collection\n",
        "                if doc_id in doc_ids_containing_term: # if term occurs in document \n",
        "                    doc_length = doc_lengths[doc_id]\n",
        "                    term_frequency = index[term][doc_ids_containing_term.index(doc_id)][1]\n",
        "                    relative_frequency = term_frequency/doc_length  # nr of occurence divided by total nr of terms in doc\n",
        "                else: # if term does not occur the relative frequency is 0\n",
        "                    relative_frequency = 0\n",
        "                viewed_docs = [item[0] for item in relevance_list]\n",
        "                smoothed_value = (LAMBDA*relative_frequency) + ((1-LAMBDA)*(cf/cl))\n",
        "                if doc_id in viewed_docs:  # doc already has a relevance score -> sum smoothed values\n",
        "                    relevance_list[viewed_docs.index(doc_id)][1] += np.log(smoothed_value)\n",
        "                else: # append new doc to relevance list\n",
        "                    relevance_list.append([doc_id, np.log(smoothed_value)])\n",
        "            relevance_list.sort(key = take_second, reverse = True)\n",
        "    return relevance_list"
      ],
      "execution_count": null,
      "outputs": []
    },
    {
      "cell_type": "code",
      "metadata": {
        "colab": {
          "base_uri": "https://localhost:8080/"
        },
        "id": "5KJst7Rdyg4g",
        "outputId": "1780062f-25db-486c-9250-2f3d9901059d"
      },
      "source": [
        "#### Function check\n",
        "test_ql_results = ql_search(\"report\", index_set=1)[:5]\n",
        "print_results(test_ql_results)\n",
        "print()\n",
        "test_ql_results_long = ql_search(\"report \" * 10, index_set=1)[:5]\n",
        "print_results(test_ql_results_long)\n",
        "####"
      ],
      "execution_count": null,
      "outputs": [
        {
          "output_type": "stream",
          "text": [
            "Rank 0(-1.7): A Report Writer For COBOL...\n",
            "Rank 1(-1.7): A CRT Report Generating System...\n",
            "Rank 2(-1.9): Preliminary Report-International Algebraic Language...\n",
            "Rank 3(-1.9): Supplement to the ALGOL 60 Report...\n",
            "Rank 4(-2.1): ALGOL Sub-Committee Report - Extensions...\n",
            "\n",
            "Rank 0(-1.7e+01): A Report Writer For COBOL...\n",
            "Rank 1(-1.7e+01): A CRT Report Generating System...\n",
            "Rank 2(-1.9e+01): Preliminary Report-International Algebraic Language...\n",
            "Rank 3(-1.9e+01): Supplement to the ALGOL 60 Report...\n",
            "Rank 4(-2.1e+01): ALGOL Sub-Committee Report - Extensions...\n"
          ],
          "name": "stdout"
        }
      ]
    },
    {
      "cell_type": "code",
      "metadata": {
        "id": "PQcXNA0tyg4g"
      },
      "source": [
        "#### Please do not change this. This cell is used for grading."
      ],
      "execution_count": null,
      "outputs": []
    },
    {
      "cell_type": "code",
      "metadata": {
        "id": "I2qJBtRPyg4g"
      },
      "source": [
        "#### Please do not change this. This cell is used for grading."
      ],
      "execution_count": null,
      "outputs": []
    },
    {
      "cell_type": "code",
      "metadata": {
        "id": "_HhX3HHkyg4g"
      },
      "source": [
        "#### Please do not change this. This cell is used for grading."
      ],
      "execution_count": null,
      "outputs": []
    },
    {
      "cell_type": "code",
      "metadata": {
        "id": "Yp4T9uiuyg4g"
      },
      "source": [
        "#### Please do not change this. This cell is used for grading."
      ],
      "execution_count": null,
      "outputs": []
    },
    {
      "cell_type": "markdown",
      "metadata": {
        "id": "hmu1-Cr1yg4h"
      },
      "source": [
        "--- \n",
        "\n",
        "### Section 3.4: BM25 (20 points) <a class=\"anchor\" id=\"bm25\"></a>\n",
        "\n",
        "In this section, we will implement the BM25 scoring function. \n"
      ]
    },
    {
      "cell_type": "code",
      "metadata": {
        "id": "wXRyeXcVyg4h"
      },
      "source": [
        "def bm25_search(query, index_set):\n",
        "    \"\"\"\n",
        "        Perform a search over all documents with the given query using BM25. Use k_1 = 1.5 and b = 0.75\n",
        "        Note #1: You have to use the `get_index` (and `get_doc_lengths`) function created in the previous cells\n",
        "        Note #2: You might have to create some variables beforehand and use them in this function\n",
        "        \n",
        "        Input: \n",
        "            query - a (unprocessed) query\n",
        "            index_set - the index to use\n",
        "        Output: a list of (document_id, score), sorted in descending relevance to the given query \n",
        "    \"\"\"\n",
        "    k1 = 1.5\n",
        "    b = 0.75\n",
        "    \n",
        "    index = get_index(index_set)\n",
        "    df = get_df(index_set)\n",
        "    doc_lengths = get_doc_lengths(index_set)\n",
        "    processed_query = preprocess_query(query, index_set)\n",
        "    avg_doc_len = sum(doc_lengths.values()) / len(doc_lengths) #average doc length\n",
        "    bm25_list = []\n",
        "    total_documents = len(doc_lengths)\n",
        "    \n",
        "    for word in processed_query:\n",
        "        \n",
        "        if index.get(word) == None:\n",
        "            continue\n",
        "\n",
        "        for term_frequencies in index[word]:\n",
        "            score = 0.0\n",
        "\n",
        "            doc_id = term_frequencies[0]\n",
        "            tf = term_frequencies[1]\n",
        "            doc_len = doc_lengths[doc_id]\n",
        "            idf = np.log(total_documents/df[word]) # IDF = log(total_documents/df)\n",
        "\n",
        "            numerator = idf * tf * (k1 + 1)\n",
        "            denominator = tf + k1 * (1 - b + b * doc_len / avg_doc_len)\n",
        "            score += (numerator / denominator)\n",
        "            \n",
        "            viewed_docs = [item[0] for item in bm25_list]\n",
        "            if doc_id in viewed_docs:\n",
        "                bm25_list[viewed_docs.index(doc_id)][1] += score\n",
        "            else: \n",
        "                bm25_list.append([doc_id, score])\n",
        "          \n",
        "        bm25_list.sort(key = take_second, reverse = True)\n",
        "    \n",
        "    return bm25_list"
      ],
      "execution_count": null,
      "outputs": []
    },
    {
      "cell_type": "code",
      "metadata": {
        "colab": {
          "base_uri": "https://localhost:8080/"
        },
        "id": "Tg6jw1hmyg4h",
        "outputId": "9eb85c17-cf8d-4565-a03c-6dd7199ba6ac"
      },
      "source": [
        "#### Function check\n",
        "test_bm25_results = bm25_search(\"computer\", index_set=1)[:5]\n",
        "print_results(test_bm25_results)\n",
        "####"
      ],
      "execution_count": null,
      "outputs": [
        {
          "output_type": "stream",
          "text": [
            "Rank 0(3.3): From Formulas to Computer Oriented Language \\nA technique is shown for enabling a computer to translate simple algebraic formulas into a  three address computer code....\n",
            "Rank 1(3.2): Optimizing Bit-time Computer Simulation \\nA major component of a bit-time computer simulation program is the Boolean compiler.  The compiler  accepts the Boolean functions representing the simulated computer's digital circuits, and generates corresponding  sets of machine instructions which are subsequently executed on the \"host\" computer.  Techniques are  discussed for increasing the sophistication of the Boolean compiler so as to optimize bit-time computer  simulation.  The techniques are appl...\n",
            "Rank 2(3.0): A Futures Market in Computer time \\nAn auction method is described for allocating computer time that allows the price of computer  time to fluctuate with the demand and the relative priority of users to be controlled so that more important  projects get better access.  This auction is free of the periodic fluctuation in computer use often associated  with monthly time allocation schemes....\n",
            "Rank 3(3.0): A University's Educational Program in Computer Science \\nAfter a review of the power of contemporary computers, computer science is defined in several  ways.  The objectives of computer science education are stated, and it is asserted that in a North American  university these will be achieved only through a computer science department.  The program at Stanford  University is reviewed as an example.  The appendices include syllabic of Ph.D. qualifying examinations  for Stanford's Computer Scienc...\n",
            "Rank 4(3.0): A Survey of Computer Science Offerings In Small Liberal Arts Colleges. \\nRecent curricular development in computer science together with student in terest in pursuing  topics in computer science beyond the usual programming courses have encouraged small liberal arts colleges  to expand their offerings.  This paper summarizes the results of a survey taken to determine the type  of computer science programs being offered in these colleges.  The results indicate that over half of  these colleges ei...\n"
          ],
          "name": "stdout"
        }
      ]
    },
    {
      "cell_type": "code",
      "metadata": {
        "id": "4bw0GZwDyg4h"
      },
      "source": [
        "#### Please do not change this. This cell is used for grading."
      ],
      "execution_count": null,
      "outputs": []
    },
    {
      "cell_type": "code",
      "metadata": {
        "id": "UiDXfiy9yg4h"
      },
      "source": [
        "#### Please do not change this. This cell is used for grading."
      ],
      "execution_count": null,
      "outputs": []
    },
    {
      "cell_type": "code",
      "metadata": {
        "id": "vP1iv_rqyg4h"
      },
      "source": [
        "#### Please do not change this. This cell is used for grading."
      ],
      "execution_count": null,
      "outputs": []
    },
    {
      "cell_type": "code",
      "metadata": {
        "id": "y_xnu329ePtc"
      },
      "source": [
        ""
      ],
      "execution_count": null,
      "outputs": []
    },
    {
      "cell_type": "code",
      "metadata": {
        "id": "sY1XpcD1yg4h"
      },
      "source": [
        "#### Please do not change this. This cell is used for grading."
      ],
      "execution_count": null,
      "outputs": []
    },
    {
      "cell_type": "markdown",
      "metadata": {
        "id": "GeqR3vxeyg4i"
      },
      "source": [
        "\n",
        "---\n",
        "\n",
        "### 3.5. Test Your Functions\n",
        "\n",
        "The widget below allows you to play with the search functions you've written so far. Use this to test your search functions and ensure that they work as expected."
      ]
    },
    {
      "cell_type": "code",
      "metadata": {
        "id": "0uueUMQLyg4i"
      },
      "source": [
        "#### Highlighter function\n",
        "# class for results\n",
        "ResultRow = namedtuple(\"ResultRow\", [\"doc_id\", \"snippet\", \"score\"])\n",
        "# doc_id -> doc\n",
        "docs_by_id = dict((d[0], d[1]) for d in docs)\n",
        "\n",
        "def highlight_text(document, query, tol=17):\n",
        "    import re\n",
        "    tokens = tokenize(query)\n",
        "    regex = \"|\".join(f\"(\\\\b{t}\\\\b)\" for t in tokens)\n",
        "    regex = re.compile(regex, flags=re.IGNORECASE)\n",
        "    output = \"\"\n",
        "    i = 0\n",
        "    for m in regex.finditer(document):\n",
        "        start_idx = max(0, m.start() - tol)\n",
        "        end_idx = min(len(document), m.end() + tol)\n",
        "        output += \"\".join([\"...\",\n",
        "                        document[start_idx:m.start()],\n",
        "                        \"<strong>\",\n",
        "                        document[m.start():m.end()],\n",
        "                        \"</strong>\",\n",
        "                        document[m.end():end_idx],\n",
        "                        \"...\"])\n",
        "    return output.replace(\"\\n\", \" \")\n",
        "\n",
        "\n",
        "def make_results(query, search_fn, index_set):\n",
        "    results = []\n",
        "    for doc_id, score in search_fn(query, index_set):\n",
        "        highlight = highlight_text(docs_by_id[doc_id], query)\n",
        "        if len(highlight.strip()) == 0:\n",
        "            highlight = docs_by_id[doc_id]\n",
        "        results.append(ResultRow(doc_id, highlight, score))\n",
        "    return results\n",
        "####"
      ],
      "execution_count": null,
      "outputs": []
    },
    {
      "cell_type": "code",
      "metadata": {
        "colab": {
          "base_uri": "https://localhost:8080/",
          "height": 50,
          "referenced_widgets": [
            "078792f5523b481ba7696c0abd70db3b",
            "cdf2f057c45049f8b3d320d2192d61e5",
            "8aa0bed19f1a468bb31514d4d9f8732b"
          ]
        },
        "id": "VfxDGlztyg4i",
        "outputId": "f68fc36c-c341-4133-c93d-79dd4f3523f4"
      },
      "source": [
        "# TODO: Set this to the function you want to test!\n",
        "# this function should take in a query (string)\n",
        "# and return a sorted list of (doc_id, score) \n",
        "# with the most relevant document in the first position\n",
        "search_fn = tfidf_search\n",
        "index_set = 1\n",
        "\n",
        "text = widgets.Text(description=\"Search Bar\", width=200)\n",
        "display(text)\n",
        "\n",
        "def handle_submit(sender):\n",
        "    print(f\"Searching for: '{sender.value}'\")\n",
        "    \n",
        "    results = make_results(sender.value, search_fn, index_set)\n",
        "    \n",
        "    # display only the top 5\n",
        "    results = results[:5]\n",
        "    \n",
        "    body = \"\"\n",
        "    for idx, r in enumerate(results):\n",
        "        body += f\"<li>Document #{r.doc_id}({r.score}): {r.snippet}</li>\"\n",
        "    display(HTML(f\"<ul>{body}</ul>\"))\n",
        "    \n",
        "\n",
        "text.on_submit(handle_submit)"
      ],
      "execution_count": null,
      "outputs": [
        {
          "output_type": "display_data",
          "data": {
            "application/vnd.jupyter.widget-view+json": {
              "model_id": "078792f5523b481ba7696c0abd70db3b",
              "version_major": 2,
              "version_minor": 0
            },
            "text/plain": [
              "Text(value='', description='Search Bar')"
            ]
          },
          "metadata": {
            "tags": []
          }
        }
      ]
    },
    {
      "cell_type": "markdown",
      "metadata": {
        "id": "KFgm7MaIyg4i"
      },
      "source": [
        "---\n",
        "\n",
        "## Section 4: Evaluation (40 points) <a class=\"anchor\" id=\"evaluation\"></a>\n",
        "\n",
        "[Back to Part 1](#part1)\n",
        "\n",
        "Before we jump in and implement an algorithm for retrieval, we first have to learn how to evaluate such a system. In particular, we will work with offline evaluation metrics. These metrics are computed on a dataset with known relevance judgements.\n",
        "\n",
        "Implement the following evaluation metrics. \n",
        "\n",
        "1. Precision (7 points)\n",
        "2. Recall (7 points)\n",
        "3. Mean Average Precision (12 points)\n",
        "4. Expected Reciprocal Rank (12 points)"
      ]
    },
    {
      "cell_type": "markdown",
      "metadata": {
        "id": "XuiY5fLuyg4i"
      },
      "source": [
        "---\n",
        "### 4.1 Read relevance labels (2 points)\n",
        "\n",
        "Let's take a look at the `qrels.text` file, which contains the ground truth relevance scores. The relevance labels for CACM are binary - either 0 or 1. \n"
      ]
    },
    {
      "cell_type": "code",
      "metadata": {
        "colab": {
          "base_uri": "https://localhost:8080/"
        },
        "id": "61MqsmEyyg4j",
        "outputId": "1d86cc69-6ab3-4943-f121-f737d84cee84"
      },
      "source": [
        "!head ./datasets/qrels.text"
      ],
      "execution_count": null,
      "outputs": [
        {
          "output_type": "stream",
          "text": [
            "01 1410  0 0\n",
            "01 1572  0 0\n",
            "01 1605  0 0\n",
            "01 2020  0 0\n",
            "01 2358  0 0\n",
            "02 2434  0 0\n",
            "02 2863  0 0\n",
            "02 3078  0 0\n",
            "03 1134  0 0\n",
            "03 1613  0 0\n"
          ],
          "name": "stdout"
        }
      ]
    },
    {
      "cell_type": "markdown",
      "metadata": {
        "id": "5X_Nc277yg4j"
      },
      "source": [
        "---\n",
        "**Implementation (2 points):**\n",
        "The first column is the query_id and the second column is the document_id. You can safely ignore the 3rd and 4th columns. Write a function to read in the file:"
      ]
    },
    {
      "cell_type": "code",
      "metadata": {
        "id": "E6kVHgy_yg4j"
      },
      "source": [
        "def read_qrels(root_folder = \"./datasets/\"):\n",
        "    \"\"\"\n",
        "        Reads the qrels.text file. \n",
        "        Output: A dictionary: query_id -> [list of relevant documents]\n",
        "    \"\"\"\n",
        "    qrels = {}\n",
        "    with open(root_folder+'qrels.text') as f: \n",
        "        lines = f.readlines()\n",
        "        for i in lines: # each line of the qrels.text\n",
        "            line = i.split(' ')\n",
        "            key = int(line[0]) # query_id\n",
        "            value = int(line[1]) # relevant doc_id\n",
        "            if key not in qrels: # if query_id not in relevance list yet insert\n",
        "                 qrels[key] = [value]\n",
        "            else: \n",
        "                qrels[key].append(value)\n",
        "    return(qrels)"
      ],
      "execution_count": null,
      "outputs": []
    },
    {
      "cell_type": "code",
      "metadata": {
        "id": "LC1-I8H4Rm80"
      },
      "source": [
        ""
      ],
      "execution_count": null,
      "outputs": []
    },
    {
      "cell_type": "code",
      "metadata": {
        "id": "simFZvtJyg4j"
      },
      "source": [
        "#### Function check\n",
        "qrels = read_qrels()\n",
        "\n",
        "assert len(qrels) == 52, \"There should be 52 queries with relevance judgements\"\n",
        "assert sum(len(j) for j in qrels.values()) == 796, \"There should be a total of 796 Relevance Judgements\"\n",
        "####"
      ],
      "execution_count": null,
      "outputs": []
    },
    {
      "cell_type": "markdown",
      "metadata": {
        "id": "LWiIGNJ4yg4j"
      },
      "source": [
        "---\n",
        "**Note:** For a given query `query_id`, you can assume that documents *not* in `qrels[query_id]` are not relevant to `query_id`. \n"
      ]
    },
    {
      "cell_type": "markdown",
      "metadata": {
        "id": "LYMVCF1pyg4j"
      },
      "source": [
        "---\n",
        "### 4.2 Precision (7 points)\n",
        "Implement the `precision@k` metric:"
      ]
    },
    {
      "cell_type": "code",
      "metadata": {
        "id": "fwyHMF2Xyg4j"
      },
      "source": [
        "# TODO: Implement this! (7 points)\n",
        "def precision_k(results, relevant_docs, k):\n",
        "    \"\"\"\n",
        "        Compute Precision@K\n",
        "        Input: \n",
        "            results: A sorted list of 2-tuples (document_id, score), \n",
        "                    with the most relevant document in the first position\n",
        "            relevant_docs: A set of relevant documents. \n",
        "            k: the cut-off\n",
        "        Output: Precision@K\n",
        "    \"\"\"\n",
        "    #Precision@k = (# of recommended items @k that are relevant) / (# of recommended items @k)\n",
        "    if k < len(results): index = k \n",
        "    else: index = len(results)-1\n",
        "    count = 0\n",
        "    for i in results[:index]:\n",
        "        if i[0] in relevant_docs:\n",
        "            count += 1\n",
        "    return count/k"
      ],
      "execution_count": null,
      "outputs": []
    },
    {
      "cell_type": "code",
      "metadata": {
        "colab": {
          "base_uri": "https://localhost:8080/"
        },
        "id": "wGvnz7TGyg4n",
        "outputId": "0eb76a1e-6a18-4a50-f629-162ed66e487c"
      },
      "source": [
        "#### Function check\n",
        "qid = queries[0][0]\n",
        "qtext = queries[0][1]\n",
        "print(f'query:{qtext}')\n",
        "results = bm25_search(qtext, 2)\n",
        "precision = precision_k(results, qrels[qid], 10)\n",
        "print(f'precision@10 = {precision}')\n",
        "####"
      ],
      "execution_count": null,
      "outputs": [
        {
          "output_type": "stream",
          "text": [
            "query: What articles exist which deal with TSS (Time Sharing System), an operating system for IBM computers? \n",
            "precision@10 = 0.2\n"
          ],
          "name": "stdout"
        }
      ]
    },
    {
      "cell_type": "markdown",
      "metadata": {
        "id": "95axwiPMyg4n"
      },
      "source": [
        "---\n",
        "### 4.3 Recall (7 points)\n",
        "Implement the `recall@k` metric:"
      ]
    },
    {
      "cell_type": "code",
      "metadata": {
        "id": "SpU7d_59yg4n"
      },
      "source": [
        "# TODO: Implement this! (7 points)\n",
        "def recall_k(results, relevant_docs, k):\n",
        "    \"\"\"\n",
        "        Compute Recall@K\n",
        "        Input: \n",
        "            results: A sorted list of 2-tuples (document_id, score), with the most relevant document in the first position\n",
        "            relevant_docs: A set of relevant documents. \n",
        "            k: the cut-off\n",
        "        Output: Recall@K\n",
        "    \"\"\"\n",
        "    #Recall@k = (# of recommended items @k that are relevant) / (total # of relevant items)\n",
        "    if k < len(results): index = k \n",
        "    else: index = len(results)-1\n",
        "    count = 0\n",
        "    for i in results[:index]:\n",
        "        if i[0] in relevant_docs:\n",
        "            count += 1\n",
        "    return count/len(relevant_docs)"
      ],
      "execution_count": null,
      "outputs": []
    },
    {
      "cell_type": "code",
      "metadata": {
        "colab": {
          "base_uri": "https://localhost:8080/"
        },
        "id": "xHOX3otkyg4n",
        "outputId": "2ad7f4aa-d773-40bc-f91c-670edd48d34f"
      },
      "source": [
        "#### Function check\n",
        "qid = queries[10][0]\n",
        "qtext = queries[10][1]\n",
        "print(f'query:{qtext}')\n",
        "results = bm25_search(qtext, 2)\n",
        "recall = recall_k(results, qrels[qid], 10)\n",
        "print(f'recall@10 = {recall}')\n",
        "####"
      ],
      "execution_count": null,
      "outputs": [
        {
          "output_type": "stream",
          "text": [
            "query: SETL, Very High Level Languages \n",
            "recall@10 = 0.3157894736842105\n"
          ],
          "name": "stdout"
        }
      ]
    },
    {
      "cell_type": "markdown",
      "metadata": {
        "id": "5kXb45olyg4n"
      },
      "source": [
        "---\n",
        "### 4.4 Mean Average Precision (12 points)\n",
        "Implement the `map` metric:"
      ]
    },
    {
      "cell_type": "code",
      "metadata": {
        "id": "fFTttjktyg4o"
      },
      "source": [
        "# TODO: Implement this! (12 points)\n",
        "def average_precision(results, relevant_docs):\n",
        "    \"\"\"\n",
        "        Compute Average Precision (for a single query - the results are \n",
        "        averaged across queries to get MAP in the next few cells)\n",
        "        Hint: You can use the recall_k and precision_k functions here!\n",
        "        Input: \n",
        "            results: A sorted list of 2-tuples (document_id, score), with the most \n",
        "                    relevant document in the first position\n",
        "            relevant_docs: A set of relevant documents. \n",
        "        Output: Average Precision\n",
        "    \"\"\"\n",
        "    # YOUR CODE HERE\n",
        "    #Precision@k = (# of recommended items @k that are relevant) / (# of recommended items @k)\n",
        "    #Recall@k = (# of recommended items @k that are relevant) / (total # of relevant items)\n",
        "    sum_precision = 0\n",
        "    former_recall = 0\n",
        "\n",
        "    ground_truth_positives = len(relevant_docs)\n",
        "    # Go over all results, add precision to sum_precision every time a new relevant document is in results\n",
        "    for i in range(1, len(results)):\n",
        "        recall_at_k = recall_k(results, relevant_docs, i)\n",
        "        if recall_at_k > former_recall: # Only the case if current result is relevant\n",
        "            precision_at_k = precision_k(results, relevant_docs, i)\n",
        "            sum_precision += precision_at_k\n",
        "        former_recall = recall_at_k\n",
        "    avg_precision = sum_precision / ground_truth_positives\n",
        "    return avg_precision"
      ],
      "execution_count": null,
      "outputs": []
    },
    {
      "cell_type": "markdown",
      "metadata": {
        "id": "oZnD6CFqyg4o"
      },
      "source": [
        "---\n",
        "### 4.5 Expected Reciprocal Rank (12 points)\n",
        "Implement the `err` metric:"
      ]
    },
    {
      "cell_type": "code",
      "metadata": {
        "id": "AUh3F_AOyg4o"
      },
      "source": [
        "# TODO: Implement this! (12 points)\n",
        "def err(results, relevant_docs):\n",
        "    \"\"\"\n",
        "        Compute the expected reciprocal rank.\n",
        "        Hint: https://dl.acm.org/doi/pdf/10.1145/1645953.1646033?download=true\n",
        "        Input: \n",
        "            results: A sorted list of 2-tuples (document_id, score), with the most \n",
        "                    relevant document in the first position\n",
        "            relevant_docs: A set of relevant documents. \n",
        "        Output: ERR\n",
        "        \n",
        "    \"\"\"\n",
        "    p = 1\n",
        "    ERR = 0\n",
        "    \n",
        "    res_list = [docid[0] for docid in results]\n",
        "    for i in res_list:\n",
        "        if i in relevant_docs:\n",
        "            rank = res_list.index(i) + 1\n",
        "            ERR += (1/rank * 0.5) * p #inverted rank x relevance grade x p\n",
        "            p = p * (1 - 0.5) # update p to 1 - relevance grade               \n",
        "    return ERR   "
      ],
      "execution_count": null,
      "outputs": []
    },
    {
      "cell_type": "code",
      "metadata": {
        "colab": {
          "base_uri": "https://localhost:8080/"
        },
        "id": "BHkajN11yg4o",
        "outputId": "27171fc3-369f-49b0-c576-4f2bbc3b76ff"
      },
      "source": [
        "#### Function check\n",
        "qid = queries[30][0]\n",
        "qtext = queries[30][1]\n",
        "print(f'query:{qtext}')\n",
        "results = bm25_search(qtext, 2)\n",
        "ERR = err(results, qrels[qid])\n",
        "print(f'ERR = {ERR}')\n",
        "####"
      ],
      "execution_count": null,
      "outputs": [
        {
          "output_type": "stream",
          "text": [
            "query: I'd like to find articles describing the use of singular value decomposition in digital image processing.  Applications include finding approximations to the original image and restoring images that are subject to noise. An article on the subject is H.C. Andrews and C.L. Patterson \"Outer product expansions and their uses in digital image processing\", American Mathematical Monthly, vol. 82. \n",
            "ERR = 0.625\n"
          ],
          "name": "stdout"
        }
      ]
    },
    {
      "cell_type": "code",
      "metadata": {
        "colab": {
          "base_uri": "https://localhost:8080/"
        },
        "id": "97FDU3BoZ0nD",
        "outputId": "05c8144f-0025-487a-c24d-0b9e1f1d2836"
      },
      "source": [
        "sample_results = [(i,None) for i in [4,0,1,17,2,5,6,13,9,10,8,20,3,15,16]]\n",
        "sample_qrel = [1,8,5,13,15,2]\n",
        "print(err(sample_results, sample_qrel))"
      ],
      "execution_count": null,
      "outputs": [
        {
          "output_type": "stream",
          "text": [
            "0.24926948051948053\n"
          ],
          "name": "stdout"
        }
      ]
    },
    {
      "cell_type": "code",
      "metadata": {
        "colab": {
          "base_uri": "https://localhost:8080/"
        },
        "id": "MWaOp6L2DnOr",
        "outputId": "32c84b7d-7c18-4b54-fd32-aea9324a2c19"
      },
      "source": [
        "#### Function check\n",
        "qid = queries[20][0]\n",
        "qtext = queries[20][1]\n",
        "print(f'query:{qtext}')\n",
        "results = bm25_search(qtext, 2)\n",
        "mean_ap = average_precision(results, qrels[qid])\n",
        "print(f'MAP = {mean_ap}')\n",
        "####\n",
        "\n",
        "sample_results = [(i,None) for i in [4,0,1,17,2,5,6,13,9,10,8,20,3,15,16]]\n",
        "sample_qrel = [1,8,5,13,15,2]\n",
        "\n",
        "assert precision_k(sample_results, sample_qrel, 1) == 0.\n",
        "assert precision_k(sample_results, sample_qrel, 5) == 0.4\n",
        "assert precision_k(sample_results, sample_qrel, 10) == 0.4\n",
        "assert precision_k(sample_results, sample_qrel, 20) == 0.3\n",
        "assert recall_k(sample_results, sample_qrel, 1) == 0.\n",
        "assert np.allclose(recall_k(sample_results, sample_qrel, 5), 1./3.)\n",
        "assert np.allclose(recall_k(sample_results, sample_qrel, 10), 2./3.)\n",
        "assert recall_k(sample_results, sample_qrel, 20) == 1.\n",
        "assert np.allclose(average_precision(sample_results, sample_qrel), 0.436, 0.001)\n",
        "assert np.allclose(err(sample_results, sample_qrel), 0.2492, 0.001)"
      ],
      "execution_count": null,
      "outputs": [
        {
          "output_type": "stream",
          "text": [
            "query: computational complexity, intractability, class-complete reductions, algorithms and efficiency \n",
            "MAP = 0.17240404110559454\n"
          ],
          "name": "stdout"
        }
      ]
    },
    {
      "cell_type": "markdown",
      "metadata": {
        "id": "mVuBOw9qyg4o"
      },
      "source": [
        "---\n",
        "### 4.6 Evaluate Search Functions\n",
        "\n",
        "Let's define some metrics@k using [partial functions](https://docs.python.org/3/library/functools.html#functools.partial)"
      ]
    },
    {
      "cell_type": "code",
      "metadata": {
        "id": "2dWEIOjYyg4p"
      },
      "source": [
        "#### metrics@k functions\n",
        "\n",
        "recall_at_1 = partial(recall_k, k=1)\n",
        "recall_at_5 = partial(recall_k, k=5)\n",
        "recall_at_10 = partial(recall_k, k=10)\n",
        "precision_at_1 = partial(precision_k, k=1)\n",
        "precision_at_5 = partial(precision_k, k=5)\n",
        "precision_at_10 = partial(precision_k, k=10)\n",
        "\n",
        "\n",
        "list_of_metrics = [\n",
        "    (\"ERR\", err),\n",
        "    (\"MAP\", average_precision),\n",
        "    (\"Recall@1\",recall_at_1),\n",
        "    (\"Recall@5\", recall_at_5),\n",
        "    (\"Recall@10\", recall_at_10),\n",
        "    (\"Precision@1\", precision_at_1),\n",
        "    (\"Precision@5\", precision_at_5),\n",
        "    (\"Precision@10\", precision_at_10)]\n",
        "####"
      ],
      "execution_count": null,
      "outputs": []
    },
    {
      "cell_type": "markdown",
      "metadata": {
        "id": "JjOLjk4iyg4p"
      },
      "source": [
        "---\n",
        "\n",
        "The following function evaluates a `search_fn` using the `metric_fn`. Note that the final number is averaged over all the queries"
      ]
    },
    {
      "cell_type": "code",
      "metadata": {
        "colab": {
          "base_uri": "https://localhost:8080/"
        },
        "id": "yOXPty20yg4p",
        "outputId": "85e991bf-ef25-4aff-8eb8-9d0dc5059616"
      },
      "source": [
        "#### Evaluate a search function\n",
        "\n",
        "list_of_search_fns = [\n",
        "    (\"BOW\", bow_search),\n",
        "    (\"TF-IDF\", tfidf_search),\n",
        "    (\"NaiveQL\", naive_ql_search),\n",
        "    (\"QL\", ql_search),\n",
        "    (\"BM25\", bm25_search)\n",
        "]\n",
        "\n",
        "def evaluate_search_fn(search_fn, metric_fns, index_set=None):\n",
        "    # build a dict query_id -> query \n",
        "    queries_by_id = dict((q[0], q[1]) for q in queries)\n",
        "\n",
        "    print(search_fn)\n",
        "    \n",
        "    metrics = {}\n",
        "    for metric, metric_fn in metric_fns:\n",
        "        metrics[metric] = np.zeros(len(qrels), dtype=np.float32)\n",
        "\n",
        "    for i, (query_id, relevant_docs) in enumerate(qrels.items()):\n",
        "        query = queries_by_id[query_id]\n",
        "        if index_set:\n",
        "            results = search_fn(query, index_set)\n",
        "        else:\n",
        "            results = search_fn(query)\n",
        "        \n",
        "        for metric, metric_fn in metric_fns:\n",
        "            metrics[metric][i] = metric_fn(results, relevant_docs)\n",
        "\n",
        "    final_dict = {}\n",
        "    for metric, metric_vals in metrics.items():\n",
        "        final_dict[metric] = metric_vals.mean()\n",
        "    \n",
        "    return final_dict\n",
        "####\n",
        "bow = [0 for i in range(3)]\n",
        "tfidf = [0 for i in range(3)]\n",
        "naiveql = [0 for i in range(3)]\n",
        "ql = [0 for i in range(3)]\n",
        "bm25 = [0 for i in range(3)]\n",
        "\n",
        "\n",
        "for i in [1,2] :\n",
        "    bow[i] = evaluate_search_fn(bow_search, list_of_metrics, i)\n",
        "    tfidf[i] = evaluate_search_fn(tfidf_search, list_of_metrics, i)\n",
        "    naiveql[i] = evaluate_search_fn(naive_ql_search, list_of_metrics, i) # deze duurt kaulo lang\n",
        "    ql[i] = evaluate_search_fn(ql_search, list_of_metrics, i) # deze ook\n",
        "    bm25[i] = evaluate_search_fn(bm25_search, list_of_metrics, i)\n"
      ],
      "execution_count": null,
      "outputs": [
        {
          "output_type": "stream",
          "text": [
            "<function bow_search at 0x7f3d80fb82f0>\n",
            "<function tfidf_search at 0x7f3d7eb9d488>\n",
            "<function naive_ql_search at 0x7f3d80fb8268>\n",
            "<function ql_search at 0x7f3d7eb581e0>\n",
            "<function bm25_search at 0x7f3d80fb8488>\n",
            "<function bow_search at 0x7f3d80fb82f0>\n",
            "<function tfidf_search at 0x7f3d7eb9d488>\n",
            "<function naive_ql_search at 0x7f3d80fb8268>\n",
            "<function ql_search at 0x7f3d7eb581e0>\n",
            "<function bm25_search at 0x7f3d80fb8488>\n"
          ],
          "name": "stdout"
        }
      ]
    },
    {
      "cell_type": "markdown",
      "metadata": {
        "id": "dzLKmDJXyg4p"
      },
      "source": [
        "## Section 5: Analysis (30 points) <a class=\"anchor\" id=\"analysis\"></a>\n",
        "\n",
        "[Back to Part 1](#part1)\n",
        "\n",
        "In the final section of Part1, we will compare the different term-based IR algorithms and different preprocessing configurations and analyze their advantages and disadvantages.\n",
        "\n",
        "### Section 5.1: Plot (20 points)\n",
        "\n",
        "First, gather the results. The results should consider the index set, the different search functions and different metrics. Plot the results in bar charts, per metric, with clear labels.\n",
        "\n",
        "**Rubric:**\n",
        "- Each Metric is plotted: 7 points\n",
        "- Each Method is plotted: 7 points\n",
        "- Clear titles, x label, y labels and legends (if applicable): 6 points"
      ]
    },
    {
      "cell_type": "code",
      "metadata": {
        "colab": {
          "base_uri": "https://localhost:8080/",
          "height": 1000
        },
        "id": "z0MSXQ5Uyg4p",
        "outputId": "50e6da53-9083-478d-c116-db7e69a88890"
      },
      "source": [
        "# YOUR CODE HERE\n",
        "import seaborn as sns\n",
        "sns.set_theme()\n",
        "\n",
        "def plot_metrics(index_set, bow, tfidf, naiveql, ql, bm25):\n",
        "    methods = ['BoW', 'TF-IDF', 'Naive QL', 'QL', 'BM25']\n",
        "    y_pos = np.arange(len(methods))\n",
        "    x_pos = np.arange(len(list_of_metrics))*6\n",
        "\n",
        "    err_performance = [bow['ERR'],tfidf['ERR'],naiveql['ERR'],ql['ERR'],bm25['ERR']]\n",
        "    map_performance = [bow['MAP'],tfidf['MAP'],naiveql['MAP'],ql['MAP'],bm25['MAP']]\n",
        "    recall1_performance = [bow['Recall@1'],tfidf['Recall@1'],naiveql['Recall@1'],ql['Recall@1'],bm25['Recall@1']]\n",
        "    recall5_performance = [bow['Recall@5'],tfidf['Recall@5'],naiveql['Recall@5'],ql['Recall@5'],bm25['Recall@5']]\n",
        "    recall10_performance = [bow['Recall@10'],tfidf['Recall@10'],naiveql['Recall@10'],ql['Recall@10'],bm25['Recall@10']]\n",
        "    precision1_performance = [bow['Precision@1'],tfidf['Precision@1'],naiveql['Precision@1'],ql['Precision@1'],bm25['Precision@1']]\n",
        "    precision5_performance = [bow['Precision@5'],tfidf['Precision@5'],naiveql['Precision@5'],ql['Precision@5'],bm25['Precision@5']]\n",
        "    precision10_performance = [bow['Precision@10'],tfidf['Precision@10'],naiveql['Precision@10'],ql['Precision@10'],bm25['Precision@10']]\n",
        "\n",
        "    # Initialise the subplot function using number of rows and columns \n",
        "    figure, axis = plt.subplots(figsize=(20,10)) \n",
        "    colour = ['red','blue','green','orange','yellow']\n",
        "    list_names_of_metrics = [obj[0] for obj in list_of_metrics] \n",
        "\n",
        "    plt.title(\"Performance Metrics Retrieval Algorithms index_set\"+str(index_set))\n",
        "    plt.ylim(0,0.6)\n",
        "    plt.ylabel(\"Performance score\")\n",
        "    plt.bar(x_pos[0] + y_pos, err_performance, align='center', alpha=0.5, color=colour)\n",
        "    plt.bar(x_pos[1] + y_pos, map_performance, align='center', alpha=0.5, color=colour)\n",
        "    plt.bar(x_pos[2] + y_pos, recall1_performance, align='center', alpha=0.5, color=colour)\n",
        "    plt.bar(x_pos[3] + y_pos, recall5_performance, align='center', alpha=0.5, color=colour)\n",
        "    plt.bar(x_pos[4] + y_pos, recall10_performance, align='center', alpha=0.5, color=colour)\n",
        "    plt.bar(x_pos[5] + y_pos, precision1_performance, align='center', alpha=0.5, color=colour)\n",
        "    plt.bar(x_pos[6] + y_pos, precision5_performance, align='center', alpha=0.5, color=colour)\n",
        "    plt.bar(x_pos[7] + y_pos, precision10_performance, align='center', alpha=0.5, color=colour)\n",
        "    plt.xticks(ticks=x_pos+2, labels = list_names_of_metrics)\n",
        "    plt.legend(methods)\n",
        "    leg = axis.get_legend()\n",
        "    for i,color in enumerate(colour):\n",
        "        leg.legendHandles[i].set_color(color)\n",
        "    figure.show()\n",
        "\n",
        "## !!!! Comment lines below after 1st run (if you want to alter plot) !!!!\n",
        "## !!!! Otherwise it overwrites and you keep running same tests !!!!\n",
        "bow = [0 for i in range(3)]\n",
        "tfidf = [0 for i in range(3)]\n",
        "naiveql = [0 for i in range(3)]\n",
        "ql = [0 for i in range(3)]\n",
        "bm25 = [0 for i in range(3)]\n",
        "for i in [1,2] :\n",
        "    bow[i] = evaluate_search_fn(bow_search, list_of_metrics, i)\n",
        "    tfidf[i] = evaluate_search_fn(tfidf_search, list_of_metrics, i)\n",
        "    naiveql[i] = evaluate_search_fn(naive_ql_search, list_of_metrics, i) # deze duurt kaulo lang\n",
        "    ql[i] = evaluate_search_fn(ql_search, list_of_metrics, i) # deze ook\n",
        "    bm25[i] = evaluate_search_fn(bm25_search, list_of_metrics, i)\n",
        "\n",
        "for i in [1,2]:\n",
        "    plot_metrics(index_set, bow[i], tfidf[i], naiveql[i], ql[i], bm25[i])\n",
        "\n",
        "## Backup values as measured on 19/02/2021\n",
        "# backupbow[1] = {'ERR': 0.13887888, 'MAP': 0.08107464, 'Recall@1': 0.029482039, 'Recall@5': 0.0676439, 'Recall@10': 0.09916952, 'Precision@1': 0.115384616, 'Precision@5': 0.099999994, 'Precision@10': 0.09038462}\n",
        "# backupbow[2] = {'ERR': 0.25217488, 'MAP': 0.14509027, 'Recall@1': 0.0339082, 'Recall@5': 0.13174102, 'Recall@10': 0.1776914, 'Precision@1': 0.23076923, 'Precision@5': 0.21923079, 'Precision@10': 0.16346155}\n",
        "\n",
        "# backuptfidf[1] = {'ERR': 0.18974426, 'MAP': 0.10829813, 'Recall@1': 0.03816813, 'Recall@5': 0.08076518, 'Recall@10': 0.13498771, 'Precision@1': 0.23076923, 'Precision@5': 0.11923076, 'Precision@10': 0.12115384}\n",
        "# backuptfidf[2] = {'ERR': 0.2691491, 'MAP': 0.17251804, 'Recall@1': 0.060249172, 'Recall@5': 0.12243523, 'Recall@10': 0.1959214, 'Precision@1': 0.30769232, 'Precision@5': 0.19615385, 'Precision@10': 0.16153845}\n",
        "\n",
        "# backupnaiveql[1] = {'ERR': 0.19278614, 'MAP': 0.10790433, 'Recall@1': 0.02773482, 'Recall@5': 0.086433634, 'Recall@10': 0.10928014, 'Precision@1': 0.25, 'Precision@5': 0.16923076, 'Precision@10': 0.12115386}\n",
        "# backupnaiveql[2] = {'ERR': 0.26985526, 'MAP': 0.13723937, 'Recall@1': 0.033136018, 'Recall@5': 0.090276904, 'Recall@10': 0.122937955, 'Precision@1': 0.3846154, 'Precision@5': 0.23461539, 'Precision@10': 0.17307693}\n",
        "\n",
        "# backupql[1] = {'ERR': 0.31098616, 'MAP': 0.17247932, 'Recall@1': 0.045270264, 'Recall@5': 0.16610129, 'Recall@10': 0.20868778, 'Precision@1': 0.34615386, 'Precision@5': 0.26153845, 'Precision@10': 0.20000002}\n",
        "# backupql[2] = {'ERR': 0.40847164, 'MAP': 0.26236933, 'Recall@1': 0.06592906, 'Recall@5': 0.2019139, 'Recall@10': 0.2883328, 'Precision@1': 0.5192308, 'Precision@5': 0.37692308, 'Precision@10': 0.30384615}\n",
        "\n",
        "# backupbm25[1] = {'ERR': 0.38078192, 'MAP': 0.23300514, 'Recall@1': 0.06502641, 'Recall@5': 0.1934118, 'Recall@10': 0.29450342, 'Precision@1': 0.46153846, 'Precision@5': 0.29999998, 'Precision@10': 0.2519231}\n",
        "# backupbm25[2] = {'ERR': 0.44271195, 'MAP': 0.32062143, 'Recall@1': 0.10771566, 'Recall@5': 0.24167022, 'Recall@10': 0.32285598, 'Precision@1': 0.5576923, 'Precision@5': 0.4192308, 'Precision@10': 0.32884616}"
      ],
      "execution_count": null,
      "outputs": [
        {
          "output_type": "stream",
          "text": [
            "<function bow_search at 0x7f3d80fb82f0>\n",
            "<function tfidf_search at 0x7f3d7eb9d488>\n",
            "<function naive_ql_search at 0x7f3d80fb8268>\n",
            "<function ql_search at 0x7f3d7eb581e0>\n",
            "<function bm25_search at 0x7f3d80fb8488>\n",
            "<function bow_search at 0x7f3d80fb82f0>\n",
            "<function tfidf_search at 0x7f3d7eb9d488>\n",
            "<function naive_ql_search at 0x7f3d80fb8268>\n",
            "<function ql_search at 0x7f3d7eb581e0>\n",
            "<function bm25_search at 0x7f3d80fb8488>\n"
          ],
          "name": "stdout"
        },
        {
          "output_type": "display_data",
          "data": {
            "image/png": "[encoded data removed]",
            "text/plain": [
              "<Figure size 1440x720 with 1 Axes>"
            ]
          },
          "metadata": {
            "tags": []
          }
        },
        {
          "output_type": "display_data",
          "data": {
            "image/png": "[encoded data removed]",
            "text/plain": [
              "<Figure size 1440x720 with 1 Axes>"
            ]
          },
          "metadata": {
            "tags": []
          }
        }
      ]
    },
    {
      "cell_type": "markdown",
      "metadata": {
        "id": "96CH6Ymlyg4p"
      },
      "source": [
        "---\n",
        "### Section 5.2: Summary (10 points)\n",
        "Write a summary of what you observe in the results.\n",
        "Your summary should compare results across the 2 indices and the methods being used. State what you expected to see in the results, followed by either supporting evidence *or* justify why the results did not support your expectations.      "
      ]
    },
    {
      "cell_type": "markdown",
      "metadata": {
        "id": "nZ8yo7Y3yg4q"
      },
      "source": [
        "Write your answer here!"
      ]
    },
    {
      "cell_type": "markdown",
      "metadata": {
        "id": "6P3S9cv5yg4q"
      },
      "source": [
        "---\n",
        "---\n",
        "# Part 2: Semantic-based Matching (85 points) <a class=\"anchor\" id=\"part2\"></a>\n",
        "\n",
        "[Back to top](#top)\n",
        "\n",
        "We will now experiment with methods that go beyond lexical methods like TF-IDF, which operate at the word level and are high dimensional and sparse, and look at methods which constructs low dimensional dense representations of queries and documents. \n",
        "\n",
        "Since these low-dimensional methods have a higher time complexity, they are typically used in conjunction with methods like BM-25. That is, instead of searching through potentially million documents to find matches using low dimensional vectors, a list of K documents are retrieved using BM25, and then **re-ranked** using the other method. This is the method that is going to be applied in the following exercises. \n",
        "\n",
        "LSI/LDA takes documents that are similar on a semantic level - for instance, if they are describing the same topic - and projects them into nearby vectors, despite having low lexical overlap.\n",
        "\n",
        "In this assignment, you will use `gensim` to create LSI/LDA models and use them in re-ranking. \n",
        "\n",
        "**Note**: The following exercises only uses `doc_repr_2` and `config_2`\n",
        "\n",
        "Table of contents:\n",
        "- [Section 6: LSI](#lsi) (15 points)\n",
        "- [Section 7: LDA](#lda) (10 points)\n",
        "- [Section 8: Word2Vec/Doc2Vec](#2vec) (20 points)\n",
        "- [Section 8: Re-ranking](#reranking) (10 points)\n",
        "- [Section 9: Re-ranking Evaluation](#reranking_eval) (30 points)"
      ]
    },
    {
      "cell_type": "markdown",
      "metadata": {
        "id": "6KeXagNMyg4q"
      },
      "source": [
        "---\n",
        "## Section 6: Latent Semantic Indexing (LSI) (15 points) <a class=\"anchor\" id=\"lsi\"></a>\n",
        "\n",
        "[Back to Part 2](#part2)\n",
        "\n",
        "LSI is one of the methods to embed the queries and documents into vectors. It is based on a method similar to Principal Component Analysis (PCA) for obtaining a dense concept matrix out of the sparse term-document matrix.\n",
        "\n",
        "See [wikipedia](https://en.wikipedia.org/wiki/Latent_semantic_analysis), particularly [#Mathematics_of_LSI](https://en.wikipedia.org/wiki/Latent_semantic_analysis#Mathematics_of_LSI)."
      ]
    },
    {
      "cell_type": "code",
      "metadata": {
        "id": "25IGLxBFyg4q"
      },
      "source": [
        "from gensim.corpora import Dictionary\n",
        "from gensim.models import LdaModel, LsiModel, Word2Vec\n",
        "from gensim.models.doc2vec import Doc2Vec, TaggedDocument\n",
        "from gensim import downloader as g_downloader\n",
        "# gensim uses logging, so set it up \n",
        "import logging\n",
        "logging.basicConfig(format='%(asctime)s : %(levelname)s : %(message)s', level=logging.INFO)"
      ],
      "execution_count": null,
      "outputs": []
    },
    {
      "cell_type": "markdown",
      "metadata": {
        "id": "PV2c6qNMyg4q"
      },
      "source": [
        "---\n",
        "### Section 6.1: Cosine Similarity (5 points)<a class=\"anchor\" id=\"cosing_sim\"></a>\n",
        "Before we begin, let us first define our method of similarity for the LSI model, the cosine similarity:\n",
        "\n",
        "$$\\text{similarity} = \\cos(\\theta) = {\\mathbf{A} \\cdot \\mathbf{B} \\over \\|\\mathbf{A}\\| \\|\\mathbf{B}\\|} = \\frac{ \\sum\\limits_{i=1}^{n}{A_i  B_i} }{ \\sqrt{\\sum\\limits_{i=1}^{n}{A_i^2}}  \\sqrt{\\sum\\limits_{i=1}^{n}{B_i^2}} }$$\n",
        "\n",
        "Since we are using gensim, the types of vectors returned by their classes are of the form defined below (they are not just simple vectors):"
      ]
    },
    {
      "cell_type": "code",
      "metadata": {
        "id": "uABRlk4-yg4r"
      },
      "source": [
        "# 1, 2, 3 are either latent dimensions (LSI), or topics (LDA)\n",
        "# The second value in each tuple is a number (LSI) or a probability (LDA)  \n",
        "example_vec_1 = [(1, 0.2), (2, 0.3), (3, 0.4)]\n",
        "example_vec_2 = [(1, 0.2), (2, 0.7), (3, 0.4)]"
      ],
      "execution_count": null,
      "outputs": []
    },
    {
      "cell_type": "markdown",
      "metadata": {
        "id": "yFf18YDIyg4r"
      },
      "source": [
        "---\n",
        "**Implementation (2+3 points):**\n",
        "Now, implement the `dot product` operation on these types of vectors and using this operator, implement the `cosine similarity` (don't forget: two functions to implement!):"
      ]
    },
    {
      "cell_type": "code",
      "metadata": {
        "id": "GkArLggJyg4r"
      },
      "source": [
        "# # TODO: Implement this! (2 points)\n",
        "def dot(vec_1,vec_2): \n",
        "    \"\"\"\n",
        "        vec_1 and vec_2 are of the form: [(int, float), (int, float), ...]\n",
        "        Return the dot product of two such vectors, computed only on the floats\n",
        "        You can assume that the lengths of the vectors are the same, and the dimensions are aligned \n",
        "            i.e you won't get: vec_1 = [(1, 0.2)] ; vec_2 = [(2, 0.3)] \n",
        "                                (dimensions are unaligned and lengths are different)\n",
        "    \"\"\"\n",
        "    if isinstance(vec_1[0], tuple):\n",
        "        A = [item[1] for item in vec_1]\n",
        "        B = [item[1] for item in vec_2]\n",
        "        dotproduct = np.dot(A, B)\n",
        "    else: dotproduct = np.dot(vec_1, vec_2)\n",
        "    return dotproduct\n",
        "\n",
        "from numpy.linalg import norm\n",
        "\n",
        "# # TODO: Implement this! (3 points)\n",
        "def cosine_sim(vec_1, vec_2):\n",
        "    if isinstance(vec_1[0], tuple):\n",
        "        A = [item[1] for item in vec_1]\n",
        "        B = [item[1] for item in vec_2]\n",
        "        denumenator = (norm(A)*norm(B))\n",
        "        if denumenator:\n",
        "            cossim = dot(A,B) / denumenator\n",
        "        else: \n",
        "            cossim = 0\n",
        "    else: \n",
        "        denumenator = (norm(vec_1)*norm(vec_2))\n",
        "        if denumenator: \n",
        "            cossim = dot(vec_1, vec_2) / denumenator\n",
        "        else:\n",
        "            cossim = 0\n",
        "    return cossim"
      ],
      "execution_count": null,
      "outputs": []
    },
    {
      "cell_type": "code",
      "metadata": {
        "colab": {
          "base_uri": "https://localhost:8080/"
        },
        "id": "N9pzDfqoyg4r",
        "outputId": "5dabea86-5b53-4908-a87e-b66bf044e131"
      },
      "source": [
        "##### Function check\n",
        "print(f'vectors: {(example_vec_1,example_vec_2)}')\n",
        "print(f'dot product = {dot(example_vec_1,example_vec_2)}')\n",
        "print(f'cosine similarity = {cosine_sim(example_vec_1,example_vec_2)}')\n",
        "print(f'cosine similarity = {cosine_sim([0.2, 0.3, 0.4],[0.2, 0.7, 0.4])}')\n",
        "##### "
      ],
      "execution_count": null,
      "outputs": [
        {
          "output_type": "stream",
          "text": [
            "vectors: ([(1, 0.2), (2, 0.3), (3, 0.4)], [(1, 0.2), (2, 0.7), (3, 0.4)])\n",
            "dot product = 0.41000000000000003\n",
            "cosine similarity = 0.9165587597202866\n",
            "cosine similarity = 0.9165587597202866\n"
          ],
          "name": "stdout"
        }
      ]
    },
    {
      "cell_type": "code",
      "metadata": {
        "id": "0cIIqtAAyg4r"
      },
      "source": [
        "#### Please do not change this. This cell is used for grading."
      ],
      "execution_count": null,
      "outputs": []
    },
    {
      "cell_type": "markdown",
      "metadata": {
        "id": "AT8UKyzuyg4r"
      },
      "source": [
        "---\n",
        "### Section 6.2: LSI Retrieval (10 points)<a class=\"anchor\" id=\"lsi_retrieval\"></a>\n",
        "LSI retrieval is simply ranking the documents based on their cosine similarity to the query vector.\n",
        "First, let's write a parent class for vector-based retrieval models:"
      ]
    },
    {
      "cell_type": "code",
      "metadata": {
        "id": "BjqJtI28yg4s"
      },
      "source": [
        "class VectorSpaceRetrievalModel:\n",
        "    \"\"\"\n",
        "        Parent class for Dense Vector Retrieval models\n",
        "    \"\"\"\n",
        "    def __init__(self, doc_repr):\n",
        "        \"\"\"\n",
        "            document_collection: \n",
        "                [\n",
        "                    (doc_id_1, [token 1, token 2, ...]), \n",
        "                    (doc_id_2, [token 1, token 2, ....]) \n",
        "                    ...\n",
        "                ]\n",
        "\n",
        "        \"\"\"\n",
        "        self.doc_repr = doc_repr\n",
        "        self.documents = [_[1] for _ in self.doc_repr]\n",
        "        # construct a dictionary\n",
        "        self.dictionary = Dictionary(self.documents)\n",
        "        \n",
        "        # Filter out words that occur in less than 20 documents, or more than 50% of the documents.\n",
        "        self.dictionary.filter_extremes(no_below=10)\n",
        "        self.corpus = [self.dictionary.doc2bow(doc) for doc in self.documents]\n",
        "    \n",
        "        # Make a index to word dictionary.\n",
        "        temp = self.dictionary[0]  # This is only to \"load\" the dictionary.\n",
        "        self.id2word = self.dictionary.id2token\n",
        "        \n",
        "        # this is set by the train_model function\n",
        "        self.model = None\n",
        "        \n",
        "        \n",
        "    def vectorize_documents(self):\n",
        "        \"\"\"\n",
        "            Returns a doc_id -> vector dictionary\n",
        "        \"\"\"\n",
        "        vectors = {}\n",
        "        for (doc_id, _), cc in zip(self.doc_repr, self.corpus):\n",
        "            vectors[doc_id] = self.model[cc]\n",
        "        return vectors\n",
        "\n",
        "    def vectorize_query(self, query):\n",
        "        # Note the use of config_2 here!\n",
        "        query = process_text(query, **config_2)\n",
        "        query_vector = self.dictionary.doc2bow(query)\n",
        "        return self.model[query_vector]\n",
        "    \n",
        "    def train_model(self):\n",
        "        \"\"\"\n",
        "            Trains a model and sets the 'self.model' variable. \n",
        "            Make sure to use the variables created in the __init__ method.\n",
        "            e.g the variables which may be useful: {corpus, dictionary, id2word}\n",
        "        \"\"\""
      ],
      "execution_count": null,
      "outputs": []
    },
    {
      "cell_type": "markdown",
      "metadata": {
        "id": "LTKNq36Zyg4s"
      },
      "source": [
        "---\n",
        "**Implementation (5 points):**\n",
        "Implement the `train_model` method in the following class (note that this is only one line of code in `gensim`!). Ensure that the parameters defined in the `__init__` method are not changed, and are *used in the `train_method` function*. Normally, the hyperaparameter space will be searched using grid search / other methods - in this assignment we have provided the hyperparameters for you.\n",
        "\n",
        "The last two lines of code train an LSI model on the list of documents which have been stemmed, lower-cased and have stopwords removed. "
      ]
    },
    {
      "cell_type": "code",
      "metadata": {
        "id": "f6nP6pZbyg4s"
      },
      "source": [
        "# TODO: Implement this! (5 points)\n",
        "class LsiRetrievalModel(VectorSpaceRetrievalModel):\n",
        "    def __init__(self, doc_repr):\n",
        "        super().__init__(doc_repr)\n",
        "        \n",
        "        self.num_topics = 100\n",
        "        self.chunksize = 2000\n",
        "    \n",
        "    def train_model(self):\n",
        "        # YOUR CODE HERE\n",
        "        self.model = LsiModel(\n",
        "   corpus=self.corpus, num_topics=self.num_topics, id2word=self.id2word, chunksize=self.chunksize)"
      ],
      "execution_count": null,
      "outputs": []
    },
    {
      "cell_type": "code",
      "metadata": {
        "colab": {
          "base_uri": "https://localhost:8080/"
        },
        "id": "EUv7WD10yg4s",
        "outputId": "36c19e99-4c03-4542-e1e8-5513f60f7053"
      },
      "source": [
        "##### Function check\n",
        "lsi = LsiRetrievalModel(doc_repr_2)\n",
        "lsi.train_model()\n",
        "\n",
        "# you can now get an LSI vector for a given query in the following way:\n",
        "lsi.vectorize_query(\"report\")\n",
        "##### "
      ],
      "execution_count": null,
      "outputs": [
        {
          "output_type": "stream",
          "text": [
            "2021-02-19 19:54:12,996 : INFO : adding document #0 to Dictionary(0 unique tokens: [])\n",
            "2021-02-19 19:54:13,092 : INFO : built Dictionary(5937 unique tokens: ['-', 'algebra', 'intern', 'languag', 'preliminari']...) from 3204 documents (total 115969 corpus positions)\n",
            "2021-02-19 19:54:13,098 : INFO : discarding 4740 tokens: [('repeat', 8), ('glossari', 7), ('inspect', 8), ('uncol', 2), ('rung', 9), ('secant', 2), ('.', 1603), ('acceler', 6), ('diverg', 3), ('induc', 9)]...\n",
            "2021-02-19 19:54:13,099 : INFO : keeping 1197 tokens which were in no less than 10 and no more than 1602 (=50.0%) documents\n",
            "2021-02-19 19:54:13,102 : INFO : resulting dictionary: Dictionary(1197 unique tokens: ['-', 'algebra', 'intern', 'languag', 'preliminari']...)\n",
            "2021-02-19 19:54:13,169 : INFO : using serial LSI version on this node\n",
            "2021-02-19 19:54:13,170 : INFO : updating model with new documents\n",
            "2021-02-19 19:54:13,170 : INFO : preparing a new chunk of documents\n",
            "2021-02-19 19:54:13,186 : INFO : using 100 extra samples and 2 power iterations\n",
            "2021-02-19 19:54:13,187 : INFO : 1st phase: constructing (1197, 200) action matrix\n",
            "2021-02-19 19:54:13,222 : INFO : orthonormalizing (1197, 200) action matrix\n",
            "2021-02-19 19:54:13,320 : INFO : 2nd phase: running dense svd on (200, 2000) matrix\n",
            "2021-02-19 19:54:13,393 : INFO : computing the final decomposition\n",
            "2021-02-19 19:54:13,394 : INFO : keeping 100 factors (discarding 13.446% of energy spectrum)\n",
            "2021-02-19 19:54:13,405 : INFO : processed documents up to #2000\n",
            "2021-02-19 19:54:13,408 : INFO : topic #0(152.127): 0.741*\",\" + 0.342*\"-\" + 0.211*\"system\" + 0.204*\"program\" + 0.192*\"comput\" + 0.146*\"(\" + 0.127*\"languag\" + 0.108*\")\" + 0.084*\"gener\" + 0.083*\"data\"\n",
            "2021-02-19 19:54:13,410 : INFO : topic #1(60.600): -0.607*\"(\" + -0.434*\")\" + -0.366*\"algorithm\" + -0.300*\"-\" + 0.237*\",\" + 0.213*\"system\" + 0.132*\"comput\" + -0.096*\"[\" + 0.093*\"program\" + -0.084*\"])\"\n",
            "2021-02-19 19:54:13,411 : INFO : topic #2(57.438): -0.744*\"-\" + 0.452*\",\" + -0.263*\"system\" + 0.214*\"(\" + 0.166*\")\" + -0.107*\"time\" + -0.105*\"program\" + 0.094*\"algorithm\" + -0.068*\"comput\" + -0.067*\"share\"\n",
            "2021-02-19 19:54:13,412 : INFO : topic #3(48.370): 0.483*\"system\" + 0.375*\"program\" + 0.367*\"comput\" + -0.363*\"-\" + -0.308*\",\" + 0.212*\"(\" + 0.168*\")\" + 0.147*\"algorithm\" + -0.144*\"languag\" + 0.119*\"time\"\n",
            "2021-02-19 19:54:13,414 : INFO : topic #4(45.710): -0.489*\"comput\" + 0.475*\"languag\" + 0.428*\"program\" + -0.238*\"method\" + -0.141*\"problem\" + 0.121*\"system\" + 0.109*\")\" + -0.107*\"equat\" + -0.100*\"algorithm\" + 0.099*\"(\"\n",
            "2021-02-19 19:54:13,415 : INFO : preparing a new chunk of documents\n",
            "2021-02-19 19:54:13,450 : INFO : using 100 extra samples and 2 power iterations\n",
            "2021-02-19 19:54:13,456 : INFO : 1st phase: constructing (1197, 200) action matrix\n",
            "2021-02-19 19:54:13,500 : INFO : orthonormalizing (1197, 200) action matrix\n",
            "2021-02-19 19:54:13,593 : INFO : 2nd phase: running dense svd on (200, 1204) matrix\n",
            "2021-02-19 19:54:13,637 : INFO : computing the final decomposition\n",
            "2021-02-19 19:54:13,638 : INFO : keeping 100 factors (discarding 14.019% of energy spectrum)\n",
            "2021-02-19 19:54:13,642 : INFO : merging projections: (1197, 100) + (1197, 100)\n",
            "2021-02-19 19:54:13,673 : INFO : keeping 100 factors (discarding 8.158% of energy spectrum)\n",
            "2021-02-19 19:54:13,679 : INFO : processed documents up to #3204\n",
            "2021-02-19 19:54:13,682 : INFO : topic #0(225.136): 0.759*\",\" + 0.337*\"-\" + 0.196*\"system\" + 0.186*\"program\" + 0.166*\"comput\" + 0.139*\"(\" + 0.103*\")\" + 0.103*\"algorithm\" + 0.099*\"languag\" + 0.087*\"time\"\n",
            "2021-02-19 19:54:13,687 : INFO : topic #1(87.805): 0.613*\"-\" + -0.399*\",\" + 0.399*\"(\" + 0.326*\"algorithm\" + 0.293*\")\" + -0.129*\"system\" + -0.107*\"program\" + 0.085*\"method\" + 0.077*\"time\" + 0.062*\"1\"\n",
            "2021-02-19 19:54:13,690 : INFO : topic #2(81.909): 0.550*\"-\" + -0.434*\"(\" + 0.355*\"system\" + -0.321*\")\" + -0.291*\",\" + -0.266*\"algorithm\" + 0.146*\"program\" + 0.123*\"comput\" + 0.078*\"time\" + -0.064*\"[\"\n",
            "2021-02-19 19:54:13,694 : INFO : topic #3(72.433): -0.693*\"program\" + 0.339*\",\" + 0.279*\"-\" + -0.251*\"(\" + -0.221*\"system\" + -0.214*\"languag\" + -0.204*\")\" + -0.160*\"comput\" + -0.099*\"data\" + -0.056*\"execut\"\n",
            "2021-02-19 19:54:13,697 : INFO : topic #4(68.523): -0.673*\"system\" + 0.453*\"program\" + 0.254*\"languag\" + 0.212*\"-\" + -0.179*\"comput\" + -0.165*\"(\" + -0.121*\")\" + -0.115*\"model\" + 0.101*\",\" + -0.098*\"algorithm\"\n"
          ],
          "name": "stderr"
        },
        {
          "output_type": "execute_result",
          "data": {
            "text/plain": [
              "[(0, 0.015211982114785371),\n",
              " (1, -0.016267357141131023),\n",
              " (2, -0.00017440409288356148),\n",
              " (3, -0.001840930170433638),\n",
              " (4, -0.009418591848223596),\n",
              " (5, -0.004837362905852994),\n",
              " (6, 0.027085866915966293),\n",
              " (7, 0.016700179883402697),\n",
              " (8, -0.03168148725971328),\n",
              " (9, -0.0006486254091177396),\n",
              " (10, 0.002168418580104898),\n",
              " (11, -0.017452846304929284),\n",
              " (12, -0.00028842960679618425),\n",
              " (13, 0.0015492448555057513),\n",
              " (14, 0.004383937297447245),\n",
              " (15, 0.005340905688659815),\n",
              " (16, 0.006053523193962775),\n",
              " (17, 0.0030412067501935907),\n",
              " (18, -0.01701169090814338),\n",
              " (19, 0.019974922495468023),\n",
              " (20, -0.009012334289038368),\n",
              " (21, -0.013813893594422524),\n",
              " (22, 0.04872595249913963),\n",
              " (23, 0.02662417502029761),\n",
              " (24, -0.008692035320404076),\n",
              " (25, -0.01332388279429439),\n",
              " (26, 0.006988915202223561),\n",
              " (27, 0.07539856828219232),\n",
              " (28, -0.062162985759709216),\n",
              " (29, 0.030612219066712385),\n",
              " (30, 0.04414175830815434),\n",
              " (31, 0.04374029321031879),\n",
              " (32, -0.06840720630366223),\n",
              " (33, 0.047453084308294056),\n",
              " (34, -0.023195734093678592),\n",
              " (35, 0.06329692442312888),\n",
              " (36, 0.040561780501522454),\n",
              " (37, -0.004935166451646937),\n",
              " (38, -0.06287086101818358),\n",
              " (39, 0.02551992693531141),\n",
              " (40, -0.047109572583480586),\n",
              " (41, -0.02929384133685222),\n",
              " (42, 0.025920690226917738),\n",
              " (43, 0.0034510223930091085),\n",
              " (44, 0.013565254688051163),\n",
              " (45, 0.0631789702390391),\n",
              " (46, -0.011512646049970963),\n",
              " (47, 0.005254410919921347),\n",
              " (48, -0.010547669965007701),\n",
              " (49, 0.029757995996112077),\n",
              " (50, 0.016356309546882206),\n",
              " (51, 0.0465768294888024),\n",
              " (52, -0.011854730527570172),\n",
              " (53, 0.009640193092445227),\n",
              " (54, 0.04013864063726151),\n",
              " (55, 0.010244677136157922),\n",
              " (56, 0.022825936107788377),\n",
              " (57, -0.01234831840302265),\n",
              " (58, -0.02365064609288464),\n",
              " (59, 0.05123367263104744),\n",
              " (60, 0.010597590611948838),\n",
              " (61, -0.044870359928474025),\n",
              " (62, 0.02098680569952469),\n",
              " (63, 0.027842049211625402),\n",
              " (64, -0.04293299836620517),\n",
              " (65, 0.03886422813210776),\n",
              " (66, 0.018924832007361093),\n",
              " (67, 0.007264141573175129),\n",
              " (68, -0.048183082478065575),\n",
              " (69, -0.04693632554754088),\n",
              " (70, 0.036991274607588435),\n",
              " (71, -0.04261006701453875),\n",
              " (72, 0.04304181970305488),\n",
              " (73, 0.07633083159796952),\n",
              " (74, -0.042934899258944295),\n",
              " (75, 0.03626457100413701),\n",
              " (76, -0.03907096316638739),\n",
              " (77, 0.025557222937680726),\n",
              " (78, 0.03861337549999343),\n",
              " (79, 0.0017813459040143427),\n",
              " (80, -0.013631058154938092),\n",
              " (81, -0.012540428902289272),\n",
              " (82, 0.06106201347327935),\n",
              " (83, -0.002879022393130353),\n",
              " (84, -0.049662060479623675),\n",
              " (85, -0.028433847445815418),\n",
              " (86, -0.009860284210168298),\n",
              " (87, 0.021671225683655843),\n",
              " (88, -0.07830837521352037),\n",
              " (89, 0.05109473957456714),\n",
              " (90, -0.01971519717520404),\n",
              " (91, 0.06441674753445446),\n",
              " (92, 0.005934335690717914),\n",
              " (93, -0.0677728040766817),\n",
              " (94, 0.022652960817339272),\n",
              " (95, -0.0015430653518060215),\n",
              " (96, -0.010499743108961727),\n",
              " (97, 0.010707687383385692),\n",
              " (98, -0.01819632100670251),\n",
              " (99, 0.00026417077179966)]"
            ]
          },
          "metadata": {
            "tags": []
          },
          "execution_count": 79
        }
      ]
    },
    {
      "cell_type": "markdown",
      "metadata": {
        "id": "yJlxdBR1yg4s"
      },
      "source": [
        "\\#### Please do not change this. This cell is used for grading."
      ]
    },
    {
      "cell_type": "markdown",
      "metadata": {
        "id": "P10gtz-fyg4t"
      },
      "source": [
        "---\n",
        "Next, implement a basic ranking class for vector space retrieval (used for all semantic methods): "
      ]
    },
    {
      "cell_type": "code",
      "metadata": {
        "id": "gvRJOJGGyg4t"
      },
      "source": [
        "# TODO: Implement this! (5 points)\n",
        "class DenseRetrievalRanker:\n",
        "    def __init__(self, vsrm, similarity_fn):\n",
        "        \"\"\"\n",
        "            vsrm: instance of `VectorSpaceRetrievalModel`\n",
        "            similarity_fn: function instance that takes in two vectors \n",
        "                            and returns a similarity score e.g cosine_sim defined earlier\n",
        "        \"\"\"\n",
        "        self.vsrm = vsrm \n",
        "        self.vectorized_documents = self.vsrm.vectorize_documents()\n",
        "        self.similarity_fn = similarity_fn\n",
        "    \n",
        "    def _compute_sim(self, query_vector):\n",
        "        \"\"\"\n",
        "            Compute the similarity of `query_vector` to documents in \n",
        "            `self.vectorized_documents` using `self.similarity_fn`\n",
        "            Returns a list of (doc_id, score) tuples\n",
        "        \"\"\"\n",
        "        # YOUR CODE HERE\n",
        "        similarity = []\n",
        "        for document_id in self.vectorized_documents: # doc_id -> vector dictionary\n",
        "            vector_dict = self.vectorized_documents[document_id]\n",
        "            if vector_dict and query_vector:\n",
        "                score = self.similarity_fn(query_vector, vector_dict)\n",
        "            else: \n",
        "                score = 0\n",
        "            similarity.append( (document_id, score) )\n",
        "        return similarity\n",
        "        \n",
        "    def search(self, query):\n",
        "        scores = self._compute_sim(self.vsrm.vectorize_query(query))\n",
        "        scores.sort(key=lambda _:-_[1])\n",
        "        return scores "
      ],
      "execution_count": null,
      "outputs": []
    },
    {
      "cell_type": "code",
      "metadata": {
        "colab": {
          "base_uri": "https://localhost:8080/"
        },
        "id": "NYWeC6Lfyg4t",
        "outputId": "f444610a-0151-4881-fe5c-f9cec9babed8"
      },
      "source": [
        "##### Function check\n",
        "drm_lsi = DenseRetrievalRanker(lsi, cosine_sim)\n",
        "drm_lsi.search(\"report\")[:5]\n",
        "##### "
      ],
      "execution_count": null,
      "outputs": [
        {
          "output_type": "execute_result",
          "data": {
            "text/plain": [
              "[(599, 0.7974465967268513),\n",
              " (947, 0.5829666886415555),\n",
              " (53, 0.4920906301860605),\n",
              " (1339, 0.4565514166204229),\n",
              " (3160, 0.441225937988881)]"
            ]
          },
          "metadata": {
            "tags": []
          },
          "execution_count": 81
        }
      ]
    },
    {
      "cell_type": "markdown",
      "metadata": {
        "id": "iuTGJtMLyg4t"
      },
      "source": [
        "\\#### Please do not change this. This cell is used for grading."
      ]
    },
    {
      "cell_type": "markdown",
      "metadata": {
        "id": "c6NVZB74yg4t"
      },
      "source": [
        "---\n",
        "Now, you can test your LSI model in the following cell: try finding queries which are lexically different to documents, but semantically similar - does LSI work well for these queries?!"
      ]
    },
    {
      "cell_type": "code",
      "metadata": {
        "colab": {
          "base_uri": "https://localhost:8080/",
          "height": 50,
          "referenced_widgets": [
            "6b915e60c55b4cc68107fcb4d0c05fe2",
            "6067188dfa1e42a3aa1f09ad6cc9078c",
            "4947ff2b7d7a4a5ea161afc54ff9bb5f"
          ]
        },
        "id": "bpi2sFr3yg4u",
        "outputId": "d6c3ac11-28b9-4b0d-c828-1c7e7596970d"
      },
      "source": [
        "# test your LSI model\n",
        "search_fn = drm_lsi.search\n",
        "\n",
        "text = widgets.Text(description=\"Search Bar\", width=200)\n",
        "display(text)\n",
        "\n",
        "def make_results_2(query, search_fn):\n",
        "    results = []\n",
        "    for doc_id, score in search_fn(query):\n",
        "        highlight = highlight_text(docs_by_id[doc_id], query)\n",
        "        if len(highlight.strip()) == 0:\n",
        "            highlight = docs_by_id[doc_id]\n",
        "        results.append(ResultRow(doc_id, highlight, score))\n",
        "    return results\n",
        "\n",
        "def handle_submit_2(sender):\n",
        "    print(f\"Searching for: '{sender.value}' (SEARCH FN: {search_fn})\")\n",
        "    \n",
        "    results = make_results_2(sender.value, search_fn)\n",
        "    \n",
        "    # display only the top 5\n",
        "    results = results[:5]\n",
        "\n",
        "    body = \"\"\n",
        "    for idx, r in enumerate(results):\n",
        "        body += f\"<li>Document #{r.doc_id}({r.score}): {r.snippet}</li>\"\n",
        "    display(HTML(f\"<ul>{body}</ul>\"))\n",
        "    \n",
        "\n",
        "text.on_submit(handle_submit_2)"
      ],
      "execution_count": null,
      "outputs": [
        {
          "output_type": "display_data",
          "data": {
            "application/vnd.jupyter.widget-view+json": {
              "model_id": "6b915e60c55b4cc68107fcb4d0c05fe2",
              "version_major": 2,
              "version_minor": 0
            },
            "text/plain": [
              "Text(value='', description='Search Bar')"
            ]
          },
          "metadata": {
            "tags": []
          }
        }
      ]
    },
    {
      "cell_type": "markdown",
      "metadata": {
        "id": "pWMZztubyg4u"
      },
      "source": [
        "---\n",
        "## Section 7: Latent Dirichlet Allocation (LDA) (10 points) <a class=\"anchor\" id=\"lda\"></a>\n",
        "\n",
        "[Back to Part 2](#part2)\n",
        "\n",
        "The specifics of LDA is out of the scope of this assignment, but we will use the `gensim` implementation to perform search using LDA over our small document collection. The key thing to remember is that LDA, unlike LSI, outputs a topic **distribution**, not a vector. With that in mind, let's first define a similarity measure.\n"
      ]
    },
    {
      "cell_type": "markdown",
      "metadata": {
        "id": "jHjVX0-5yg4u"
      },
      "source": [
        "---\n",
        "### Section 7.1: Jenson-Shannon divergence (5 points) <a class=\"anchor\" id=\"js_sim\"></a>\n",
        "\n",
        "The Jenson-Shannon divergence is a symmetric and finite measure on two probability distributions (unlike the KL, which is neither). For identical distributions, the JSD is equal to 0, and since our code uses 0 as irrelevant and higher scores as relevant, we use `(1 - JSD)` as the score or 'similarity' in our setup\n",
        "\n",
        "**Note**: the JSD is bounded to \\[0,1\\] only if we use log base 2. So please ensure that you're using `np.log2` instead of `np.log`"
      ]
    },
    {
      "cell_type": "code",
      "metadata": {
        "id": "SNhKSUwbyg4u"
      },
      "source": [
        "## TODO: Implement this! (5 points)\n",
        "def jenson_shannon_divergence(vec_1, vec_2, assert_prob=False):\n",
        "    \"\"\"\n",
        "        Computes the Jensen-Shannon divergence between two probability distributions. \n",
        "        NOTE: DO NOT RETURN 1 - JSD here, that is handled by the next function which is already implemented! \n",
        "        The inputs are *gensim* vectors - same as the vectors for the cosine_sim function\n",
        "        assert_prob is a flag that checks if the inputs are proper probability distributions \n",
        "            i.e they sum to 1 and are positive - use this to check your inputs if needed. \n",
        "                (This is optional to implement, but recommended - \n",
        "                you can the default to False to save a few ms off the runtime)\n",
        "    \"\"\"\n",
        "    # YOUR CODE HERE\n",
        "    def KL(A, B):\n",
        "        return (A * np.log2(A/B)).sum()\n",
        "\n",
        "    # JSD(A||B) = (1/2)*KL(A||M) + (1/2)*KL(B||M).    M=(1/2)*(A+B).\n",
        "    vec_1 = np.array([item[1] for item in vec_1])\n",
        "    vec_2 = np.array([item[1] for item in vec_2])\n",
        "    if assert_prob:\n",
        "        assert sum(vec_1) == 1\n",
        "        assert sum(vec_2) == 1\n",
        "    M = [vec_1[i]+vec_2[i] for i in range(len(vec_1))]\n",
        "    M = [x * (1/2) for x in M]\n",
        "    JSD1 = (1/2)*KL(vec_1, M)\n",
        "    JSD2 = (1/2)*KL(vec_2, M)\n",
        "    JSD = JSD1 + JSD2\n",
        "    return JSD\n",
        "\n",
        "def jenson_shannon_sim(vec_1, vec_2, assert_prob=False):\n",
        "    return 1 - jenson_shannon_divergence(vec_1, vec_2)\n",
        "\n"
      ],
      "execution_count": null,
      "outputs": []
    },
    {
      "cell_type": "code",
      "metadata": {
        "colab": {
          "base_uri": "https://localhost:8080/"
        },
        "id": "54i3vn1Iyg4v",
        "outputId": "474ba72b-5e05-4b72-a6c9-a62be284b24d"
      },
      "source": [
        "##### Function check\n",
        "vec_1 = [(1, 0.3), (2, 0.4), (3, 0.3)]\n",
        "vec_2 = [(1, 0.1), (2, 0.7), (3, 0.2)]\n",
        "jenson_shannon_sim(vec_1, vec_2, assert_prob=True)\n",
        "##### "
      ],
      "execution_count": null,
      "outputs": [
        {
          "output_type": "execute_result",
          "data": {
            "text/plain": [
              "0.9251064410358459"
            ]
          },
          "metadata": {
            "tags": []
          },
          "execution_count": 84
        }
      ]
    },
    {
      "cell_type": "markdown",
      "metadata": {
        "id": "XC6Jgw1_yg4v"
      },
      "source": [
        "---\n",
        "### Section 7.2: LDA retrieval (5 points) <a class=\"anchor\" id=\"lda_ret\"></a>\n",
        "\n",
        "Implement the `train_model` method in the following class (note that this is only one line of code in `gensim`!). Ensure that the parameters defined in the `__init__` method are not changed, and are *used in the `train_method` function*. You do not need to set this. Normally, the hyperaparameter space will be searched using grid search / other methods. Note that training the LDA model might take some time\n",
        "\n",
        "The last two lines of code train an LDA model on the list of documents which have been stemmed, lower-cased and have stopwords removed. "
      ]
    },
    {
      "cell_type": "code",
      "metadata": {
        "id": "lZPJDb6Vyg4v"
      },
      "source": [
        "# TODO: Implement this! (5 points)\n",
        "class LdaRetrievalModel(VectorSpaceRetrievalModel):\n",
        "    def __init__(self, doc_repr):\n",
        "        super().__init__(doc_repr)\n",
        "        \n",
        "        # use these parameters in the train_model method\n",
        "        self.num_topics = 100\n",
        "        self.chunksize = 2000\n",
        "        self.passes = 20\n",
        "        self.iterations = 400\n",
        "        self.eval_every = 10\n",
        "        # this is need to get full vectors\n",
        "        self.minimum_probability=0.0\n",
        "        self.alpha='auto'\n",
        "        self.eta='auto'\n",
        "    \n",
        "    \n",
        "    def train_model(self):\n",
        "        # YOUR CODE HERE\n",
        "        self.model = LdaModel(\n",
        "   corpus=self.corpus, id2word=self.id2word, num_topics=self.num_topics, chunksize=self.chunksize, passes=self.passes,\n",
        "   iterations=self.iterations, eval_every=self.eval_every, minimum_probability=self.minimum_probability, alpha=self.alpha,\n",
        "   eta=self.eta)\n"
      ],
      "execution_count": null,
      "outputs": []
    },
    {
      "cell_type": "code",
      "metadata": {
        "colab": {
          "base_uri": "https://localhost:8080/"
        },
        "id": "NUp1XPZwyg4v",
        "outputId": "1426162e-0eea-4296-eb0e-a3fb5dc665ef"
      },
      "source": [
        "##### Function check\n",
        "lda = LdaRetrievalModel(doc_repr_2)\n",
        "lda.train_model()\n",
        "\n",
        "# you can now get an LDA vector for a given query in the following way:\n",
        "lda.vectorize_query(\"report\")\n",
        "##### "
      ],
      "execution_count": null,
      "outputs": [
        {
          "output_type": "stream",
          "text": [
            "2021-02-19 19:54:14,692 : INFO : adding document #0 to Dictionary(0 unique tokens: [])\n",
            "2021-02-19 19:54:14,797 : INFO : built Dictionary(5937 unique tokens: ['-', 'algebra', 'intern', 'languag', 'preliminari']...) from 3204 documents (total 115969 corpus positions)\n",
            "2021-02-19 19:54:14,803 : INFO : discarding 4740 tokens: [('repeat', 8), ('glossari', 7), ('inspect', 8), ('uncol', 2), ('rung', 9), ('secant', 2), ('.', 1603), ('acceler', 6), ('diverg', 3), ('induc', 9)]...\n",
            "2021-02-19 19:54:14,804 : INFO : keeping 1197 tokens which were in no less than 10 and no more than 1602 (=50.0%) documents\n",
            "2021-02-19 19:54:14,807 : INFO : resulting dictionary: Dictionary(1197 unique tokens: ['-', 'algebra', 'intern', 'languag', 'preliminari']...)\n",
            "2021-02-19 19:54:14,874 : INFO : using autotuned alpha, starting with [0.01, 0.01, 0.01, 0.01, 0.01, 0.01, 0.01, 0.01, 0.01, 0.01, 0.01, 0.01, 0.01, 0.01, 0.01, 0.01, 0.01, 0.01, 0.01, 0.01, 0.01, 0.01, 0.01, 0.01, 0.01, 0.01, 0.01, 0.01, 0.01, 0.01, 0.01, 0.01, 0.01, 0.01, 0.01, 0.01, 0.01, 0.01, 0.01, 0.01, 0.01, 0.01, 0.01, 0.01, 0.01, 0.01, 0.01, 0.01, 0.01, 0.01, 0.01, 0.01, 0.01, 0.01, 0.01, 0.01, 0.01, 0.01, 0.01, 0.01, 0.01, 0.01, 0.01, 0.01, 0.01, 0.01, 0.01, 0.01, 0.01, 0.01, 0.01, 0.01, 0.01, 0.01, 0.01, 0.01, 0.01, 0.01, 0.01, 0.01, 0.01, 0.01, 0.01, 0.01, 0.01, 0.01, 0.01, 0.01, 0.01, 0.01, 0.01, 0.01, 0.01, 0.01, 0.01, 0.01, 0.01, 0.01, 0.01, 0.01]\n",
            "2021-02-19 19:54:14,874 : INFO : using serial LDA version on this node\n",
            "2021-02-19 19:54:14,890 : INFO : running online (multi-pass) LDA training, 100 topics, 20 passes over the supplied corpus of 3204 documents, updating model once every 2000 documents, evaluating perplexity every 3204 documents, iterating 400x with a convergence threshold of 0.001000\n",
            "2021-02-19 19:54:14,891 : INFO : PROGRESS: pass 0, at document #2000/3204\n",
            "2021-02-19 19:54:16,731 : INFO : optimized alpha [0.009727513, 0.00981982, 0.009742518, 0.009763066, 0.009768812, 0.009717149, 0.009851867, 0.009727412, 0.009747985, 0.009706947, 0.0100655705, 0.009779239, 0.009763823, 0.00983452, 0.009855921, 0.009809611, 0.009865781, 0.010029097, 0.009743058, 0.009763575, 0.009815862, 0.009732363, 0.009722255, 0.0098049445, 0.009712221, 0.009840971, 0.009861501, 0.009872598, 0.009769184, 0.009763557, 0.00983588, 0.010010667, 0.009768982, 0.009804834, 0.0098318765, 0.009748106, 0.009882142, 0.009768647, 0.009716976, 0.009763167, 0.009774188, 0.009809103, 0.009774235, 0.009863333, 0.009779068, 0.0098044025, 0.009753585, 0.009778618, 0.009815507, 0.009732971, 0.010004139, 0.0097995335, 0.009824387, 0.00971203, 0.009753733, 0.009783924, 0.009768713, 0.0097993035, 0.009784778, 0.009753315, 0.009934387, 0.0097323265, 0.009758916, 0.009758332, 0.009794928, 0.009918821, 0.009794359, 0.009799833, 0.009727566, 0.009753263, 0.009753396, 0.009798988, 0.00976354, 0.00983646, 0.009748036, 0.010000149, 0.009737992, 0.009712031, 0.0097899595, 0.009830394, 0.009773204, 0.009804229, 0.009768009, 0.009747976, 0.009778509, 0.009732942, 0.009763347, 0.009742865, 0.009764266, 0.009809215, 0.009783564, 0.00976897, 0.009825306, 0.009732722, 0.009747821, 0.009937849, 0.009897879, 0.00976369, 0.009737367, 0.009742727]\n",
            "2021-02-19 19:54:16,733 : INFO : merging changes from 2000 documents into a model of 3204 documents\n",
            "2021-02-19 19:54:16,753 : INFO : topic #53 (0.010): 0.095*\"-\" + 0.063*\"equat\" + 0.063*\"solut\" + 0.047*\"linear\" + 0.032*\"boundari\" + 0.032*\"problem\" + 0.032*\"method\" + 0.032*\"numer\" + 0.032*\"ordinari\" + 0.032*\"point\"\n",
            "2021-02-19 19:54:16,754 : INFO : topic #7 (0.010): 0.079*\"-\" + 0.059*\"method\" + 0.044*\"problem\" + 0.044*\",\" + 0.035*\"solut\" + 0.030*\"present\" + 0.026*\"algorithm\" + 0.026*\"scheme\" + 0.026*\"reliabl\" + 0.026*\"variat\"\n",
            "2021-02-19 19:54:16,754 : INFO : topic #17 (0.010): 0.110*\"(\" + 0.106*\"algorithm\" + 0.056*\"[\" + 0.052*\"])\" + 0.047*\")\" + 0.028*\"function\" + 0.020*\"matrix\" + 0.020*\",\" + 0.016*\"invers\" + 0.016*\"real\"\n",
            "2021-02-19 19:54:16,756 : INFO : topic #75 (0.010): 0.061*\",\" + 0.061*\"(\" + 0.040*\")\" + 0.028*\"algorithm\" + 0.024*\"-\" + 0.017*\"comput\" + 0.014*\"program\" + 0.014*\"time\" + 0.012*\"system\" + 0.012*\"[\"\n",
            "2021-02-19 19:54:16,757 : INFO : topic #10 (0.010): 0.074*\"(\" + 0.063*\")\" + 0.044*\"algorithm\" + 0.042*\",\" + 0.042*\"-\" + 0.019*\"method\" + 0.011*\"inform\" + 0.010*\"gener\" + 0.009*\"comput\" + 0.009*\"languag\"\n",
            "2021-02-19 19:54:16,759 : INFO : topic diff=81.704384, rho=1.000000\n",
            "2021-02-19 19:54:17,835 : INFO : -7.301 per-word bound, 157.7 perplexity estimate based on a held-out corpus of 1204 documents with 49783 words\n",
            "2021-02-19 19:54:17,837 : INFO : PROGRESS: pass 0, at document #3204/3204\n",
            "2021-02-19 19:54:18,657 : INFO : optimized alpha [0.009850863, 0.009913898, 0.009783079, 0.009833698, 0.010168062, 0.009659365, 0.009971125, 0.009861964, 0.0097488705, 0.00980679, 0.010296666, 0.01002115, 0.010175588, 0.009780048, 0.009861602, 0.009821437, 0.009834195, 0.010257627, 0.009976939, 0.009969312, 0.010101566, 0.009749435, 0.009671209, 0.009810799, 0.009766216, 0.010202701, 0.010032586, 0.010135763, 0.009852635, 0.009787661, 0.010032076, 0.010188013, 0.009934462, 0.009799918, 0.009999312, 0.009965834, 0.010233881, 0.0098038325, 0.010098256, 0.010055253, 0.010274908, 0.009901491, 0.010139587, 0.009970666, 0.010044473, 0.009992364, 0.010165207, 0.009843865, 0.009939793, 0.009799175, 0.010046938, 0.010201133, 0.009846764, 0.009782755, 0.010150499, 0.009901455, 0.010034174, 0.009764881, 0.009899325, 0.009841697, 0.010125786, 0.009587698, 0.010072177, 0.010355264, 0.010066629, 0.009941118, 0.009771257, 0.009860013, 0.009908601, 0.009736827, 0.010071398, 0.00985139, 0.009875755, 0.010050672, 0.009778722, 0.010075196, 0.00989243, 0.009782584, 0.010004852, 0.009931014, 0.009831107, 0.00995143, 0.009802745, 0.0098595135, 0.009866601, 0.0098916115, 0.009903142, 0.009818681, 0.010018409, 0.009820504, 0.009777315, 0.010058075, 0.00991405, 0.009827344, 0.009754373, 0.009928503, 0.009837062, 0.009799797, 0.009621651, 0.009737562]\n",
            "/usr/local/lib/python3.6/dist-packages/gensim/models/ldamodel.py:1023: RuntimeWarning: divide by zero encountered in log\n",
            "  diff = np.log(self.expElogbeta)\n",
            "2021-02-19 19:54:18,663 : INFO : merging changes from 1204 documents into a model of 3204 documents\n",
            "2021-02-19 19:54:18,680 : INFO : topic #61 (0.010): 0.120*\"formula\" + 0.078*\"syntax\" + 0.067*\"languag\" + 0.057*\"iv\" + 0.044*\"-\" + 0.042*\"enabl\" + 0.039*\"comput\" + 0.038*\"simpl\" + 0.034*\"orthogon\" + 0.028*\"polynomi\"\n",
            "2021-02-19 19:54:18,681 : INFO : topic #98 (0.010): 0.099*\")\" + 0.092*\"algorithm\" + 0.079*\"(\" + 0.075*\"exponenti\" + 0.063*\"integr\" + 0.055*\"summat\" + 0.047*\"seri\" + 0.043*\"string\" + 0.040*\"arithmet\" + 0.032*\"reduct\"\n",
            "2021-02-19 19:54:18,681 : INFO : topic #40 (0.010): 0.081*\",\" + 0.071*\"tree\" + 0.041*\"search\" + 0.030*\"node\" + 0.030*\"structur\" + 0.028*\"+\" + 0.027*\"averag\" + 0.024*\"network\" + 0.019*\"-\" + 0.019*\"cost\"\n",
            "2021-02-19 19:54:18,683 : INFO : topic #10 (0.010): 0.084*\"(\" + 0.068*\")\" + 0.049*\"algorithm\" + 0.047*\",\" + 0.042*\"-\" + 0.023*\"bound\" + 0.020*\"pars\" + 0.020*\"log\" + 0.017*\"grammar\" + 0.015*\"method\"\n",
            "2021-02-19 19:54:18,684 : INFO : topic #63 (0.010): 0.118*\"]\" + 0.044*\"method\" + 0.044*\"induct\" + 0.036*\"approach\" + 0.024*\"play\" + 0.024*\"translat\" + 0.023*\"-\" + 0.023*\"[\" + 0.022*\"help\" + 0.021*\"present\"\n",
            "2021-02-19 19:54:18,686 : INFO : topic diff=inf, rho=0.707107\n",
            "2021-02-19 19:54:18,701 : INFO : PROGRESS: pass 1, at document #2000/3204\n",
            "2021-02-19 19:54:19,941 : INFO : optimized alpha [0.009809337, 0.009890571, 0.009839859, 0.0098115355, 0.010071997, 0.009726438, 0.009918078, 0.009857311, 0.009707246, 0.009755725, 0.010214366, 0.00997193, 0.010125528, 0.00982967, 0.009857479, 0.009715794, 0.0098016355, 0.010704818, 0.009967571, 0.00992346, 0.01007849, 0.009849094, 0.009757156, 0.009689946, 0.009749962, 0.010106411, 0.009940188, 0.010118509, 0.009788489, 0.009719369, 0.009956362, 0.0101058455, 0.009863007, 0.009737215, 0.009913811, 0.009941029, 0.010134012, 0.009776994, 0.010080652, 0.009990948, 0.010189721, 0.0098748, 0.010096327, 0.009920691, 0.009954235, 0.009937752, 0.010123798, 0.009858661, 0.009854867, 0.009712506, 0.009994164, 0.010145276, 0.009971446, 0.009939404, 0.01008807, 0.00983313, 0.01001957, 0.009744303, 0.009837629, 0.009869268, 0.010097393, 0.00964856, 0.010027816, 0.010253651, 0.010000404, 0.009856723, 0.009677447, 0.009780066, 0.009918372, 0.009711391, 0.010026473, 0.00978939, 0.009842177, 0.009947659, 0.009770587, 0.00998472, 0.009904294, 0.009809714, 0.010013446, 0.00988364, 0.009776826, 0.00991375, 0.009890521, 0.009789399, 0.00979353, 0.0098393615, 0.009874175, 0.009806779, 0.009934657, 0.010595099, 0.009698539, 0.010002577, 0.00979801, 0.009817968, 0.009701492, 0.009843689, 0.009744417, 0.009768007, 0.009733844, 0.009714115]\n",
            "2021-02-19 19:54:19,947 : INFO : merging changes from 2000 documents into a model of 3204 documents\n",
            "2021-02-19 19:54:19,964 : INFO : topic #61 (0.010): 0.140*\"formula\" + 0.091*\"languag\" + 0.072*\"syntax\" + 0.061*\"polynomi\" + 0.047*\"iv\" + 0.047*\"comput\" + 0.042*\"-\" + 0.042*\"fortran\" + 0.037*\"orthogon\" + 0.036*\"simpl\"\n",
            "2021-02-19 19:54:19,965 : INFO : topic #23 (0.010): 0.033*\",\" + 0.032*\"code\" + 0.026*\"-\" + 0.025*\"contour\" + 0.024*\"cluster\" + 0.022*\"languag\" + 0.021*\"compil\" + 0.020*\"hash\" + 0.017*\"orient\" + 0.015*\"develop\"\n",
            "2021-02-19 19:54:19,966 : INFO : topic #63 (0.010): 0.093*\"]\" + 0.044*\"method\" + 0.035*\"induct\" + 0.034*\"translat\" + 0.033*\"approach\" + 0.022*\"-\" + 0.021*\"step\" + 0.021*\"present\" + 0.020*\"play\" + 0.019*\"[\"\n",
            "2021-02-19 19:54:19,968 : INFO : topic #89 (0.011): 0.213*\"(\" + 0.201*\"algorithm\" + 0.139*\")\" + 0.084*\"[\" + 0.068*\"])\" + 0.023*\"squar\" + 0.021*\"polynomi\" + 0.013*\"fit\" + 0.013*\"gener\" + 0.012*\"e2\"\n",
            "2021-02-19 19:54:19,970 : INFO : topic #17 (0.011): 0.154*\"(\" + 0.146*\"algorithm\" + 0.089*\")\" + 0.078*\"[\" + 0.055*\"function\" + 0.054*\"])\" + 0.025*\"complex\" + 0.018*\"real\" + 0.016*\"number\" + 0.014*\"matrix\"\n",
            "2021-02-19 19:54:19,971 : INFO : topic diff=inf, rho=0.526900\n",
            "2021-02-19 19:54:21,344 : INFO : -6.868 per-word bound, 116.8 perplexity estimate based on a held-out corpus of 1204 documents with 49783 words\n",
            "2021-02-19 19:54:21,345 : INFO : PROGRESS: pass 1, at document #3204/3204\n",
            "2021-02-19 19:54:22,487 : INFO : optimized alpha [0.009971118, 0.009974221, 0.009913771, 0.009982007, 0.010333285, 0.009774241, 0.0100202765, 0.010084982, 0.009770416, 0.009934979, 0.01041951, 0.01009107, 0.010441884, 0.009825283, 0.009955044, 0.009779241, 0.009788934, 0.01078835, 0.01019098, 0.010037372, 0.010279196, 0.010012841, 0.009858225, 0.009693311, 0.009920755, 0.010351825, 0.010054336, 0.01023012, 0.009895118, 0.009804151, 0.010067471, 0.010206273, 0.010056879, 0.009788256, 0.009963081, 0.0101038, 0.010321603, 0.009795442, 0.010502877, 0.010360388, 0.010562311, 0.010088249, 0.010373432, 0.009929735, 0.0101261, 0.010078094, 0.010435851, 0.009986842, 0.009982689, 0.009793685, 0.0100310715, 0.01045815, 0.010026207, 0.010201609, 0.0103979055, 0.009982685, 0.010227592, 0.009812071, 0.009927959, 0.010013102, 0.010259091, 0.00962566, 0.010236447, 0.010778544, 0.010181438, 0.009853424, 0.009693932, 0.009856327, 0.0100976275, 0.009817696, 0.010195043, 0.009869138, 0.009969896, 0.010053898, 0.00989838, 0.010019701, 0.01004608, 0.009962106, 0.010201487, 0.009967854, 0.009950278, 0.010102973, 0.009981401, 0.009916457, 0.009894514, 0.010040962, 0.010017633, 0.009950093, 0.01007211, 0.01095234, 0.009747863, 0.0101886, 0.00990903, 0.009927582, 0.0098451665, 0.0098042935, 0.009682198, 0.00976573, 0.009808882, 0.0098151]\n",
            "2021-02-19 19:54:22,493 : INFO : merging changes from 1204 documents into a model of 3204 documents\n",
            "2021-02-19 19:54:22,511 : INFO : topic #61 (0.010): 0.171*\"formula\" + 0.081*\"languag\" + 0.075*\"syntax\" + 0.067*\"iv\" + 0.060*\"simpl\" + 0.046*\"polynomi\" + 0.042*\"fortran\" + 0.039*\"-\" + 0.037*\"comput\" + 0.036*\"squar\"\n",
            "2021-02-19 19:54:22,512 : INFO : topic #23 (0.010): 0.050*\"contour\" + 0.043*\"cluster\" + 0.035*\",\" + 0.031*\"hash\" + 0.028*\"code\" + 0.022*\"orient\" + 0.021*\"assist\" + 0.021*\"-\" + 0.020*\"compil\" + 0.019*\"test\"\n",
            "2021-02-19 19:54:22,514 : INFO : topic #17 (0.011): 0.157*\"(\" + 0.146*\"algorithm\" + 0.104*\")\" + 0.077*\"[\" + 0.062*\"function\" + 0.038*\"complex\" + 0.031*\"])\" + 0.016*\"number\" + 0.015*\"gamma\" + 0.014*\"real\"\n",
            "2021-02-19 19:54:22,515 : INFO : topic #63 (0.011): 0.155*\"]\" + 0.047*\"induct\" + 0.041*\"approach\" + 0.037*\"method\" + 0.028*\"play\" + 0.028*\"help\" + 0.027*\"step\" + 0.024*\"translat\" + 0.022*\"writer\" + 0.022*\"-\"\n",
            "2021-02-19 19:54:22,516 : INFO : topic #89 (0.011): 0.226*\"(\" + 0.219*\"algorithm\" + 0.177*\")\" + 0.093*\"[\" + 0.033*\"])\" + 0.017*\"squar\" + 0.015*\"polynomi\" + 0.013*\"e2\" + 0.013*\"integ\" + 0.011*\"root\"\n",
            "2021-02-19 19:54:22,519 : INFO : topic diff=inf, rho=0.526900\n",
            "2021-02-19 19:54:22,536 : INFO : PROGRESS: pass 2, at document #2000/3204\n",
            "2021-02-19 19:54:23,669 : INFO : optimized alpha [0.00995927, 0.009996433, 0.010006135, 0.009994228, 0.010262964, 0.00990258, 0.009973664, 0.010126508, 0.009782672, 0.009918975, 0.010345346, 0.0100546805, 0.010411071, 0.009941396, 0.01000778, 0.0096948845, 0.009771154, 0.011113121, 0.010195132, 0.010017986, 0.010259488, 0.010171229, 0.009999585, 0.0096018715, 0.009977582, 0.01026204, 0.009970915, 0.010241169, 0.0098643275, 0.009779416, 0.010010331, 0.010156085, 0.010016134, 0.009755054, 0.009879841, 0.010097755, 0.010227635, 0.0098282145, 0.010511563, 0.010305879, 0.010509141, 0.010098269, 0.010388776, 0.009906166, 0.010055336, 0.010091243, 0.010410655, 0.010039695, 0.009938343, 0.009741558, 0.009995054, 0.010427184, 0.01012061, 0.010423183, 0.010358771, 0.009914961, 0.01021311, 0.009829117, 0.009890588, 0.010093465, 0.010269941, 0.009790835, 0.010197874, 0.010674782, 0.010123968, 0.009788939, 0.009645839, 0.009798538, 0.010166775, 0.009904063, 0.010178365, 0.009845318, 0.009963345, 0.00997809, 0.009935106, 0.009949281, 0.010079795, 0.010001907, 0.010244319, 0.009933603, 0.009968782, 0.010092037, 0.010068216, 0.0098638665, 0.009846842, 0.010042915, 0.010019323, 0.009978505, 0.010012503, 0.012021387, 0.009691313, 0.010150374, 0.009821599, 0.009947045, 0.009820956, 0.009746976, 0.009613817, 0.009762279, 0.009964119, 0.009826495]\n",
            "2021-02-19 19:54:23,673 : INFO : merging changes from 2000 documents into a model of 3204 documents\n",
            "2021-02-19 19:54:23,692 : INFO : topic #96 (0.010): 0.060*\",\" + 0.039*\"-\" + 0.029*\"list\" + 0.027*\"fortran\" + 0.024*\"word\" + 0.023*\"10\" + 0.022*\"/\" + 0.019*\"frequenc\" + 0.018*\"process\" + 0.014*\"data\"\n",
            "2021-02-19 19:54:23,693 : INFO : topic #23 (0.010): 0.042*\"contour\" + 0.032*\",\" + 0.030*\"code\" + 0.030*\"cluster\" + 0.023*\"hash\" + 0.022*\"compil\" + 0.022*\"-\" + 0.022*\"orient\" + 0.019*\"assist\" + 0.018*\"test\"\n",
            "2021-02-19 19:54:23,694 : INFO : topic #63 (0.011): 0.130*\"]\" + 0.039*\"induct\" + 0.038*\"method\" + 0.037*\"approach\" + 0.029*\"step\" + 0.028*\"translat\" + 0.024*\"play\" + 0.024*\"help\" + 0.022*\"-\" + 0.020*\"writer\"\n",
            "2021-02-19 19:54:23,695 : INFO : topic #17 (0.011): 0.154*\"(\" + 0.146*\"algorithm\" + 0.085*\"[\" + 0.084*\")\" + 0.069*\"function\" + 0.058*\"])\" + 0.035*\"complex\" + 0.019*\"number\" + 0.019*\"real\" + 0.017*\"gamma\"\n",
            "2021-02-19 19:54:23,695 : INFO : topic #89 (0.012): 0.244*\"(\" + 0.222*\"algorithm\" + 0.173*\")\" + 0.086*\"[\" + 0.063*\"])\" + 0.019*\"polynomi\" + 0.015*\"squar\" + 0.010*\"root\" + 0.009*\"integr\" + 0.009*\"e2\"\n",
            "2021-02-19 19:54:23,697 : INFO : topic diff=inf, rho=0.466151\n",
            "2021-02-19 19:54:25,029 : INFO : -6.725 per-word bound, 105.8 perplexity estimate based on a held-out corpus of 1204 documents with 49783 words\n",
            "2021-02-19 19:54:25,030 : INFO : PROGRESS: pass 2, at document #3204/3204\n",
            "2021-02-19 19:54:26,214 : INFO : optimized alpha [0.010122578, 0.01011365, 0.010094319, 0.010181131, 0.010492292, 0.00992835, 0.010084233, 0.010370025, 0.009888785, 0.010117546, 0.010561179, 0.01016441, 0.010702814, 0.009948345, 0.01013335, 0.009790293, 0.009803699, 0.011170108, 0.010414249, 0.01010352, 0.010442339, 0.010356132, 0.010099982, 0.009615067, 0.010196034, 0.010460814, 0.01006881, 0.010340221, 0.009997796, 0.009885928, 0.010116926, 0.010265692, 0.010204599, 0.00985103, 0.009917198, 0.010250418, 0.010354092, 0.009879417, 0.0109110065, 0.010675148, 0.010856542, 0.010316511, 0.010662214, 0.009903789, 0.010223864, 0.010212144, 0.010674365, 0.01017297, 0.010056088, 0.009833318, 0.010052181, 0.010732753, 0.010196008, 0.01073641, 0.010620609, 0.010079224, 0.010402127, 0.009920039, 0.0099712135, 0.010248678, 0.010462718, 0.009818819, 0.010399928, 0.011163678, 0.010316742, 0.009796085, 0.009695961, 0.009866869, 0.010365904, 0.010025654, 0.010344156, 0.009924431, 0.010061107, 0.010096506, 0.010095067, 0.009985857, 0.0102213705, 0.010164622, 0.010424029, 0.01002089, 0.01015416, 0.010252632, 0.0101677375, 0.010004107, 0.009940708, 0.010222796, 0.010158711, 0.010113776, 0.010154731, 0.012509546, 0.009743803, 0.0102999415, 0.009940067, 0.010052252, 0.009971747, 0.00973055, 0.009574116, 0.009784403, 0.010087819, 0.0099506015]\n",
            "2021-02-19 19:54:26,219 : INFO : merging changes from 1204 documents into a model of 3204 documents\n",
            "2021-02-19 19:54:26,238 : INFO : topic #96 (0.010): 0.064*\",\" + 0.037*\"-\" + 0.037*\"frequenc\" + 0.033*\"10\" + 0.030*\"word\" + 0.028*\"list\" + 0.023*\"/\" + 0.020*\"process\" + 0.017*\"content\" + 0.015*\"data\"\n",
            "2021-02-19 19:54:26,239 : INFO : topic #23 (0.010): 0.061*\"contour\" + 0.046*\"cluster\" + 0.036*\",\" + 0.031*\"hash\" + 0.029*\"orient\" + 0.024*\"assist\" + 0.022*\"design\" + 0.021*\"code\" + 0.021*\"test\" + 0.020*\"problem\"\n",
            "2021-02-19 19:54:26,240 : INFO : topic #63 (0.011): 0.177*\"]\" + 0.050*\"induct\" + 0.045*\"approach\" + 0.034*\"step\" + 0.032*\"help\" + 0.032*\"method\" + 0.031*\"play\" + 0.024*\"writer\" + 0.022*\"notion\" + 0.021*\"-\"\n",
            "2021-02-19 19:54:26,242 : INFO : topic #17 (0.011): 0.155*\"(\" + 0.145*\"algorithm\" + 0.099*\")\" + 0.084*\"[\" + 0.075*\"function\" + 0.046*\"complex\" + 0.037*\"])\" + 0.019*\"gamma\" + 0.018*\"number\" + 0.016*\"real\"\n",
            "2021-02-19 19:54:26,244 : INFO : topic #89 (0.013): 0.251*\"(\" + 0.231*\"algorithm\" + 0.198*\")\" + 0.091*\"[\" + 0.037*\"])\" + 0.015*\"polynomi\" + 0.013*\"squar\" + 0.011*\"integ\" + 0.010*\"e2\" + 0.009*\"root\"\n",
            "2021-02-19 19:54:26,245 : INFO : topic diff=inf, rho=0.466151\n",
            "2021-02-19 19:54:26,261 : INFO : PROGRESS: pass 3, at document #2000/3204\n",
            "2021-02-19 19:54:27,430 : INFO : optimized alpha [0.010119506, 0.010167951, 0.010221388, 0.01021927, 0.0104335435, 0.010047882, 0.010042017, 0.010450577, 0.009935504, 0.010105984, 0.010517326, 0.010129346, 0.010672086, 0.010079894, 0.010183136, 0.009718874, 0.009807264, 0.011444754, 0.010427466, 0.010090481, 0.010429849, 0.010547615, 0.010235883, 0.009541029, 0.010272976, 0.010380592, 0.009994025, 0.010350202, 0.009990975, 0.009880392, 0.010072033, 0.010238004, 0.0101905195, 0.009833862, 0.009852215, 0.0102529945, 0.010280635, 0.009959946, 0.010921899, 0.010623545, 0.010818312, 0.010341537, 0.010703889, 0.009909436, 0.010165656, 0.01024547, 0.01066288, 0.010257429, 0.010026645, 0.009797078, 0.010024542, 0.010717739, 0.010275425, 0.010960461, 0.010603147, 0.010021546, 0.010396684, 0.00993986, 0.009950638, 0.010347778, 0.010509714, 0.01002045, 0.010374748, 0.011064701, 0.0102722915, 0.009739791, 0.009657576, 0.009811364, 0.010461234, 0.010177225, 0.010332569, 0.009922356, 0.010074454, 0.010041148, 0.010142772, 0.009945167, 0.010260348, 0.010208656, 0.01048473, 0.010043815, 0.010213057, 0.010252904, 0.010250964, 0.009968861, 0.009927424, 0.010221507, 0.01017042, 0.010158331, 0.01011566, 0.013700577, 0.009704167, 0.010271391, 0.009874165, 0.010099717, 0.009966066, 0.009689292, 0.009527356, 0.009813487, 0.010270775, 0.00998806]\n",
            "2021-02-19 19:54:27,434 : INFO : merging changes from 2000 documents into a model of 3204 documents\n",
            "2021-02-19 19:54:27,453 : INFO : topic #96 (0.010): 0.066*\",\" + 0.038*\"word\" + 0.036*\"-\" + 0.036*\"list\" + 0.031*\"10\" + 0.029*\"frequenc\" + 0.023*\"process\" + 0.022*\"/\" + 0.016*\"data\" + 0.015*\"content\"\n",
            "2021-02-19 19:54:27,453 : INFO : topic #23 (0.010): 0.056*\"contour\" + 0.034*\"cluster\" + 0.032*\",\" + 0.029*\"orient\" + 0.024*\"hash\" + 0.022*\"code\" + 0.022*\"assist\" + 0.021*\"problem\" + 0.021*\"compil\" + 0.020*\"-\"\n",
            "2021-02-19 19:54:27,454 : INFO : topic #63 (0.011): 0.150*\"]\" + 0.042*\"induct\" + 0.041*\"approach\" + 0.036*\"step\" + 0.034*\"method\" + 0.027*\"help\" + 0.027*\"play\" + 0.023*\"writer\" + 0.022*\"facil\" + 0.021*\"-\"\n",
            "2021-02-19 19:54:27,456 : INFO : topic #17 (0.011): 0.153*\"(\" + 0.145*\"algorithm\" + 0.093*\"[\" + 0.080*\")\" + 0.077*\"function\" + 0.063*\"])\" + 0.042*\"complex\" + 0.020*\"gamma\" + 0.020*\"number\" + 0.020*\"real\"\n",
            "2021-02-19 19:54:27,458 : INFO : topic #89 (0.014): 0.260*\"(\" + 0.228*\"algorithm\" + 0.191*\")\" + 0.086*\"[\" + 0.060*\"])\" + 0.017*\"polynomi\" + 0.013*\"squar\" + 0.009*\"root\" + 0.008*\"e2\" + 0.008*\"random\"\n",
            "2021-02-19 19:54:27,460 : INFO : topic diff=inf, rho=0.422502\n",
            "2021-02-19 19:54:28,788 : INFO : -6.634 per-word bound, 99.3 perplexity estimate based on a held-out corpus of 1204 documents with 49783 words\n",
            "2021-02-19 19:54:28,788 : INFO : PROGRESS: pass 3, at document #3204/3204\n",
            "2021-02-19 19:54:29,906 : INFO : optimized alpha [0.010261447, 0.010307028, 0.010297146, 0.010404741, 0.010643216, 0.0100598, 0.010150033, 0.010723017, 0.010042491, 0.010301957, 0.010726101, 0.010225855, 0.010947659, 0.010103177, 0.010297336, 0.009833991, 0.009882772, 0.011501263, 0.01066144, 0.010172191, 0.010608023, 0.0107278265, 0.010341143, 0.009554915, 0.010491521, 0.0105585335, 0.010090864, 0.010440543, 0.010144731, 0.010009182, 0.010162152, 0.010338221, 0.010362565, 0.00994952, 0.009908499, 0.010395539, 0.010407303, 0.010013236, 0.01131126, 0.010968359, 0.01118068, 0.010556082, 0.010986313, 0.009929541, 0.010326647, 0.010366332, 0.010904833, 0.010396737, 0.0101269875, 0.009877626, 0.010084366, 0.010998959, 0.010361794, 0.0112789525, 0.010850953, 0.010175244, 0.010554601, 0.010054363, 0.010024265, 0.010521915, 0.010708901, 0.010058171, 0.010566638, 0.011506768, 0.010448443, 0.009769097, 0.009717648, 0.0098778, 0.010643653, 0.010338271, 0.010494815, 0.010015806, 0.010188448, 0.01014577, 0.010313922, 0.009983165, 0.010411346, 0.010360801, 0.010679013, 0.010177078, 0.010389773, 0.010410205, 0.010337423, 0.010142751, 0.010034051, 0.010374915, 0.01031902, 0.010288879, 0.010267328, 0.014300004, 0.009769779, 0.01041156, 0.009996527, 0.010213315, 0.010117672, 0.009693654, 0.00952469, 0.009858482, 0.010407949, 0.010104576]\n",
            "2021-02-19 19:54:29,910 : INFO : merging changes from 1204 documents into a model of 3204 documents\n",
            "2021-02-19 19:54:29,929 : INFO : topic #23 (0.010): 0.069*\"contour\" + 0.048*\"cluster\" + 0.037*\",\" + 0.033*\"orient\" + 0.032*\"hash\" + 0.028*\"assist\" + 0.026*\"design\" + 0.025*\"problem\" + 0.022*\"recogn\" + 0.021*\"test\"\n",
            "2021-02-19 19:54:29,930 : INFO : topic #96 (0.010): 0.070*\",\" + 0.043*\"frequenc\" + 0.039*\"word\" + 0.038*\"10\" + 0.035*\"-\" + 0.032*\"list\" + 0.024*\"process\" + 0.022*\"/\" + 0.021*\"content\" + 0.021*\"percent\"\n",
            "2021-02-19 19:54:29,931 : INFO : topic #63 (0.012): 0.187*\"]\" + 0.051*\"induct\" + 0.048*\"approach\" + 0.040*\"step\" + 0.034*\"help\" + 0.033*\"play\" + 0.029*\"method\" + 0.027*\"writer\" + 0.024*\"notion\" + 0.023*\"mutual\"\n",
            "2021-02-19 19:54:29,932 : INFO : topic #17 (0.012): 0.150*\"(\" + 0.143*\"algorithm\" + 0.092*\"[\" + 0.091*\")\" + 0.080*\"function\" + 0.056*\"complex\" + 0.042*\"])\" + 0.021*\"gamma\" + 0.020*\"number\" + 0.019*\"real\"\n",
            "2021-02-19 19:54:29,934 : INFO : topic #89 (0.014): 0.264*\"(\" + 0.237*\"algorithm\" + 0.211*\")\" + 0.088*\"[\" + 0.037*\"])\" + 0.015*\"polynomi\" + 0.010*\"squar\" + 0.010*\"integ\" + 0.009*\"e2\" + 0.008*\"root\"\n",
            "2021-02-19 19:54:29,936 : INFO : topic diff=inf, rho=0.422502\n",
            "2021-02-19 19:54:29,951 : INFO : PROGRESS: pass 4, at document #2000/3204\n",
            "2021-02-19 19:54:31,082 : INFO : optimized alpha [0.010264147, 0.010381136, 0.010443625, 0.010445279, 0.01060452, 0.010169049, 0.0101091815, 0.010838842, 0.010101322, 0.010302204, 0.010686501, 0.010197851, 0.0109298555, 0.010267031, 0.010341179, 0.009770431, 0.009903743, 0.011763419, 0.010669971, 0.0101584345, 0.01059565, 0.010921881, 0.010475809, 0.009485097, 0.010594988, 0.010498564, 0.010028641, 0.010455983, 0.01015188, 0.010029249, 0.010135281, 0.010337517, 0.010360859, 0.009951202, 0.00986549, 0.01039959, 0.01034604, 0.010098038, 0.011324491, 0.010927922, 0.011150362, 0.010588211, 0.011032012, 0.00997089, 0.010278498, 0.010402999, 0.010892563, 0.010501286, 0.010102049, 0.009846782, 0.01006746, 0.010991406, 0.010441441, 0.01152115, 0.010839547, 0.010129634, 0.010553062, 0.010092187, 0.010023674, 0.0106424345, 0.010773014, 0.0102566425, 0.0105506955, 0.01141867, 0.010423024, 0.009720636, 0.009702108, 0.009833478, 0.010760815, 0.010500299, 0.010485519, 0.010029807, 0.010212592, 0.010101174, 0.010365561, 0.009950837, 0.010451102, 0.010409058, 0.010772269, 0.010236148, 0.010468183, 0.010413786, 0.010428541, 0.010117359, 0.01002768, 0.010377238, 0.010335327, 0.010357951, 0.010247087, 0.015603661, 0.009739741, 0.010386997, 0.009951788, 0.010279133, 0.010125613, 0.009668576, 0.009505808, 0.009916709, 0.010603541, 0.010141008]\n",
            "2021-02-19 19:54:31,085 : INFO : merging changes from 2000 documents into a model of 3204 documents\n",
            "2021-02-19 19:54:31,103 : INFO : topic #23 (0.009): 0.066*\"contour\" + 0.038*\"cluster\" + 0.035*\"orient\" + 0.033*\",\" + 0.026*\"problem\" + 0.025*\"hash\" + 0.025*\"assist\" + 0.023*\"meet\" + 0.023*\"recogn\" + 0.022*\"design\"\n",
            "2021-02-19 19:54:31,104 : INFO : topic #96 (0.010): 0.071*\",\" + 0.051*\"word\" + 0.038*\"10\" + 0.035*\"frequenc\" + 0.035*\"list\" + 0.034*\"-\" + 0.022*\"process\" + 0.021*\"/\" + 0.019*\"content\" + 0.017*\"magnet\"\n",
            "2021-02-19 19:54:31,105 : INFO : topic #53 (0.012): 0.183*\"solut\" + 0.170*\"equat\" + 0.125*\"problem\" + 0.078*\"numer\" + 0.064*\"linear\" + 0.064*\"differenti\" + 0.060*\"-\" + 0.044*\"method\" + 0.036*\"boundari\" + 0.029*\"ordinari\"\n",
            "2021-02-19 19:54:31,106 : INFO : topic #17 (0.012): 0.148*\"(\" + 0.143*\"algorithm\" + 0.101*\"[\" + 0.078*\"function\" + 0.073*\")\" + 0.068*\"])\" + 0.049*\"complex\" + 0.023*\"real\" + 0.022*\"gamma\" + 0.021*\"number\"\n",
            "2021-02-19 19:54:31,107 : INFO : topic #89 (0.016): 0.270*\"(\" + 0.233*\"algorithm\" + 0.203*\")\" + 0.084*\"[\" + 0.056*\"])\" + 0.017*\"polynomi\" + 0.011*\"squar\" + 0.008*\"root\" + 0.007*\"normal\" + 0.007*\"integ\"\n",
            "2021-02-19 19:54:31,108 : INFO : topic diff=inf, rho=0.389191\n",
            "2021-02-19 19:54:32,465 : INFO : -6.578 per-word bound, 95.5 perplexity estimate based on a held-out corpus of 1204 documents with 49783 words\n",
            "2021-02-19 19:54:32,466 : INFO : PROGRESS: pass 4, at document #3204/3204\n",
            "2021-02-19 19:54:33,541 : INFO : optimized alpha [0.010399102, 0.010540654, 0.010516008, 0.010634985, 0.010806759, 0.010159712, 0.010196192, 0.011151461, 0.010226635, 0.010514784, 0.010901891, 0.010267495, 0.0112085035, 0.010307168, 0.0104432525, 0.009886956, 0.010009244, 0.011809208, 0.010888099, 0.010237567, 0.01075785, 0.011092704, 0.0105796205, 0.00950889, 0.010806005, 0.010691354, 0.010128726, 0.010539694, 0.010321036, 0.010184783, 0.01021572, 0.010457775, 0.010530793, 0.01006499, 0.009931267, 0.010521685, 0.010484059, 0.010140411, 0.0117281135, 0.011283378, 0.011483403, 0.010794739, 0.011318663, 0.010006174, 0.01043465, 0.010521832, 0.011107287, 0.010633659, 0.010205173, 0.009931467, 0.010133108, 0.011271958, 0.010524604, 0.011855726, 0.01105641, 0.010299006, 0.010703198, 0.010204925, 0.010101985, 0.010818084, 0.010976617, 0.010319862, 0.010739389, 0.011849339, 0.010603615, 0.009752248, 0.0097740255, 0.009921312, 0.010947899, 0.010680943, 0.010642951, 0.010116518, 0.010338297, 0.010195225, 0.010531488, 0.010000029, 0.01057398, 0.010563776, 0.010974549, 0.010423284, 0.010652963, 0.0105631165, 0.010504637, 0.01030873, 0.010133002, 0.010523153, 0.010486881, 0.010495617, 0.010404949, 0.016354252, 0.009807365, 0.010524038, 0.010085132, 0.010397584, 0.010276092, 0.009686653, 0.009523527, 0.009971296, 0.010737384, 0.010265419]\n",
            "2021-02-19 19:54:33,545 : INFO : merging changes from 1204 documents into a model of 3204 documents\n",
            "2021-02-19 19:54:33,564 : INFO : topic #23 (0.010): 0.076*\"contour\" + 0.051*\"cluster\" + 0.036*\"orient\" + 0.036*\",\" + 0.030*\"assist\" + 0.030*\"problem\" + 0.029*\"hash\" + 0.029*\"design\" + 0.025*\"recogn\" + 0.022*\"meet\"\n",
            "2021-02-19 19:54:33,565 : INFO : topic #96 (0.010): 0.075*\",\" + 0.046*\"word\" + 0.044*\"frequenc\" + 0.041*\"10\" + 0.034*\"-\" + 0.030*\"list\" + 0.028*\"percent\" + 0.023*\"content\" + 0.023*\"process\" + 0.022*\"/\"\n",
            "2021-02-19 19:54:33,566 : INFO : topic #17 (0.012): 0.144*\"algorithm\" + 0.143*\"(\" + 0.099*\"[\" + 0.084*\")\" + 0.081*\"function\" + 0.064*\"complex\" + 0.048*\"])\" + 0.022*\"gamma\" + 0.021*\"number\" + 0.021*\"real\"\n",
            "2021-02-19 19:54:33,568 : INFO : topic #63 (0.012): 0.193*\"]\" + 0.052*\"induct\" + 0.051*\"approach\" + 0.043*\"step\" + 0.035*\"help\" + 0.033*\"play\" + 0.028*\"writer\" + 0.027*\"method\" + 0.024*\"notion\" + 0.024*\"mutual\"\n",
            "2021-02-19 19:54:33,571 : INFO : topic #89 (0.016): 0.274*\"(\" + 0.240*\"algorithm\" + 0.221*\")\" + 0.085*\"[\" + 0.036*\"])\" + 0.015*\"polynomi\" + 0.010*\"squar\" + 0.009*\"integ\" + 0.008*\"e2\" + 0.007*\"root\"\n",
            "2021-02-19 19:54:33,573 : INFO : topic diff=inf, rho=0.389191\n",
            "2021-02-19 19:54:33,587 : INFO : PROGRESS: pass 5, at document #2000/3204\n",
            "2021-02-19 19:54:34,701 : INFO : optimized alpha [0.01039938, 0.010638669, 0.010669364, 0.010695474, 0.010775441, 0.01026628, 0.010158559, 0.011306796, 0.010298446, 0.010531009, 0.010865537, 0.0102381455, 0.0111999875, 0.010491915, 0.010484147, 0.009829679, 0.010045195, 0.012088346, 0.010896758, 0.01023259, 0.0107575115, 0.011292793, 0.010710443, 0.00945425, 0.010908987, 0.010636454, 0.010080568, 0.010558161, 0.010349717, 0.010238495, 0.010193032, 0.010464766, 0.010543919, 0.010070129, 0.0099046165, 0.01053295, 0.0104327025, 0.010233127, 0.011747807, 0.011252542, 0.011460494, 0.010835564, 0.011376705, 0.010072864, 0.010389344, 0.010569484, 0.01110899, 0.010764812, 0.010189483, 0.0099121835, 0.01011607, 0.011252527, 0.010601226, 0.012102653, 0.011056849, 0.010263366, 0.010701397, 0.010262655, 0.010111029, 0.010951284, 0.011048352, 0.010513447, 0.010719644, 0.011770542, 0.010586784, 0.009715599, 0.009767081, 0.009889485, 0.011069971, 0.010848116, 0.010635617, 0.01015021, 0.010377581, 0.010154034, 0.010579371, 0.009976253, 0.010607019, 0.0106047485, 0.011088244, 0.010499182, 0.010743627, 0.010567863, 0.010593929, 0.010299061, 0.010132561, 0.010532643, 0.010499758, 0.010569834, 0.010393187, 0.017762544, 0.009779985, 0.010514186, 0.010046986, 0.010474446, 0.010290496, 0.0096785715, 0.009513951, 0.010038845, 0.010928767, 0.010314193]\n",
            "2021-02-19 19:54:34,705 : INFO : merging changes from 2000 documents into a model of 3204 documents\n",
            "2021-02-19 19:54:34,725 : INFO : topic #23 (0.009): 0.073*\"contour\" + 0.040*\"cluster\" + 0.039*\"orient\" + 0.033*\",\" + 0.031*\"problem\" + 0.027*\"assist\" + 0.026*\"meet\" + 0.025*\"recogn\" + 0.025*\"design\" + 0.023*\"hash\"\n",
            "2021-02-19 19:54:34,725 : INFO : topic #96 (0.010): 0.076*\",\" + 0.057*\"word\" + 0.041*\"10\" + 0.039*\"frequenc\" + 0.033*\"-\" + 0.030*\"list\" + 0.023*\"percent\" + 0.021*\"content\" + 0.020*\"magnet\" + 0.019*\"process\"\n",
            "2021-02-19 19:54:34,727 : INFO : topic #53 (0.012): 0.188*\"solut\" + 0.169*\"equat\" + 0.137*\"problem\" + 0.078*\"numer\" + 0.063*\"differenti\" + 0.063*\"linear\" + 0.059*\"-\" + 0.042*\"method\" + 0.035*\"boundari\" + 0.029*\"ordinari\"\n",
            "2021-02-19 19:54:34,728 : INFO : topic #17 (0.012): 0.145*\"(\" + 0.144*\"algorithm\" + 0.109*\"[\" + 0.077*\"function\" + 0.075*\"])\" + 0.067*\")\" + 0.055*\"complex\" + 0.024*\"real\" + 0.022*\"gamma\" + 0.021*\"number\"\n",
            "2021-02-19 19:54:34,729 : INFO : topic #89 (0.018): 0.279*\"(\" + 0.235*\"algorithm\" + 0.216*\")\" + 0.080*\"[\" + 0.051*\"])\" + 0.016*\"polynomi\" + 0.010*\"squar\" + 0.007*\"normal\" + 0.007*\"integ\" + 0.007*\"coeffici\"\n",
            "2021-02-19 19:54:34,730 : INFO : topic diff=inf, rho=0.362690\n",
            "2021-02-19 19:54:36,015 : INFO : -6.543 per-word bound, 93.3 perplexity estimate based on a held-out corpus of 1204 documents with 49783 words\n",
            "2021-02-19 19:54:36,016 : INFO : PROGRESS: pass 5, at document #3204/3204\n",
            "2021-02-19 19:54:37,062 : INFO : optimized alpha [0.010532312, 0.010833755, 0.010739345, 0.010900158, 0.010972343, 0.010257275, 0.010240582, 0.01166377, 0.010425271, 0.010741115, 0.011078362, 0.010306974, 0.011477028, 0.010531357, 0.010570251, 0.009948132, 0.010159522, 0.012117382, 0.011112143, 0.010316367, 0.0109163895, 0.011439578, 0.010810585, 0.009497972, 0.011111362, 0.010821123, 0.010174813, 0.010630211, 0.010518429, 0.010397493, 0.010249936, 0.01058762, 0.010697246, 0.010186252, 0.009984962, 0.010631494, 0.010559126, 0.010281671, 0.012129552, 0.011600638, 0.011769218, 0.011036583, 0.011659456, 0.010115145, 0.010542344, 0.010687393, 0.0113009345, 0.010905264, 0.010295655, 0.0100130495, 0.010181075, 0.011544903, 0.010691824, 0.012419159, 0.011267963, 0.010428887, 0.010842446, 0.010393364, 0.010181428, 0.011123207, 0.011257701, 0.01059055, 0.010897308, 0.012183732, 0.010779409, 0.009758069, 0.00984365, 0.009975145, 0.011242905, 0.01102511, 0.010799682, 0.010250186, 0.010504968, 0.010261096, 0.0107546225, 0.01003196, 0.010719063, 0.01074677, 0.011309731, 0.010714097, 0.010934124, 0.010704777, 0.010668075, 0.010507699, 0.010240661, 0.010669809, 0.010642265, 0.010708684, 0.010554529, 0.018650759, 0.0098439045, 0.010665354, 0.010184595, 0.010598176, 0.010438113, 0.009708062, 0.009545924, 0.010114508, 0.01106381, 0.010446621]\n",
            "2021-02-19 19:54:37,066 : INFO : merging changes from 1204 documents into a model of 3204 documents\n",
            "2021-02-19 19:54:37,088 : INFO : topic #23 (0.009): 0.079*\"contour\" + 0.050*\"cluster\" + 0.037*\"orient\" + 0.036*\",\" + 0.034*\"problem\" + 0.033*\"assist\" + 0.030*\"design\" + 0.029*\"quadrat\" + 0.027*\"recogn\" + 0.025*\"hash\"\n",
            "2021-02-19 19:54:37,089 : INFO : topic #96 (0.010): 0.079*\",\" + 0.051*\"word\" + 0.045*\"frequenc\" + 0.041*\"10\" + 0.035*\"percent\" + 0.034*\"-\" + 0.026*\"list\" + 0.024*\"content\" + 0.021*\"rel\" + 0.021*\"/\"\n",
            "2021-02-19 19:54:37,090 : INFO : topic #63 (0.012): 0.199*\"]\" + 0.053*\"induct\" + 0.053*\"approach\" + 0.045*\"step\" + 0.035*\"help\" + 0.034*\"play\" + 0.028*\"writer\" + 0.026*\"method\" + 0.025*\"notion\" + 0.024*\"mutual\"\n",
            "2021-02-19 19:54:37,091 : INFO : topic #53 (0.012): 0.199*\"solut\" + 0.165*\"equat\" + 0.157*\"problem\" + 0.065*\"linear\" + 0.064*\"numer\" + 0.063*\"differenti\" + 0.057*\"-\" + 0.040*\"method\" + 0.034*\"boundari\" + 0.028*\"ordinari\"\n",
            "2021-02-19 19:54:37,095 : INFO : topic #89 (0.019): 0.282*\"(\" + 0.241*\"algorithm\" + 0.232*\")\" + 0.080*\"[\" + 0.034*\"])\" + 0.014*\"polynomi\" + 0.009*\"squar\" + 0.008*\"integ\" + 0.007*\"e2\" + 0.007*\"normal\"\n",
            "2021-02-19 19:54:37,097 : INFO : topic diff=inf, rho=0.362690\n",
            "2021-02-19 19:54:37,112 : INFO : PROGRESS: pass 6, at document #2000/3204\n",
            "2021-02-19 19:54:38,198 : INFO : optimized alpha [0.01053767, 0.010952439, 0.01090159, 0.010964314, 0.0109589, 0.010363751, 0.010202154, 0.0118420655, 0.010505729, 0.010761009, 0.011044917, 0.010276405, 0.0114651425, 0.010723805, 0.010605317, 0.009906329, 0.0102003515, 0.01244553, 0.011117233, 0.010317288, 0.010923102, 0.011636832, 0.010936744, 0.009452611, 0.011218278, 0.010770637, 0.010128171, 0.010644265, 0.0105432505, 0.010471277, 0.010238126, 0.010615939, 0.01071285, 0.010194485, 0.009960365, 0.010640441, 0.010510854, 0.010373261, 0.012153544, 0.0115745, 0.011747102, 0.011085731, 0.011721194, 0.010183849, 0.010504825, 0.010737809, 0.011293901, 0.011037595, 0.01028449, 0.010000231, 0.010169048, 0.011530368, 0.010767949, 0.012674025, 0.011273239, 0.010398378, 0.010851653, 0.010467341, 0.010190306, 0.01126127, 0.011333021, 0.010768302, 0.010879898, 0.012104974, 0.010777405, 0.00973468, 0.009849197, 0.009954183, 0.011372205, 0.011203839, 0.010790277, 0.01028035, 0.010545554, 0.010229623, 0.0108049465, 0.010013718, 0.010739142, 0.010794367, 0.011443104, 0.010803983, 0.011036671, 0.010708982, 0.0107617285, 0.01051008, 0.010241948, 0.010680312, 0.010657729, 0.010782506, 0.010552018, 0.020138057, 0.0098237535, 0.010666686, 0.010151966, 0.010681717, 0.010451324, 0.009709564, 0.009550799, 0.0102061825, 0.011252455, 0.010503283]\n",
            "2021-02-19 19:54:38,202 : INFO : merging changes from 2000 documents into a model of 3204 documents\n",
            "2021-02-19 19:54:38,221 : INFO : topic #23 (0.009): 0.077*\"contour\" + 0.040*\"cluster\" + 0.040*\"orient\" + 0.035*\"problem\" + 0.033*\",\" + 0.029*\"assist\" + 0.027*\"recogn\" + 0.026*\"design\" + 0.026*\"meet\" + 0.026*\"quadrat\"\n",
            "2021-02-19 19:54:38,221 : INFO : topic #96 (0.010): 0.080*\",\" + 0.062*\"word\" + 0.041*\"10\" + 0.039*\"frequenc\" + 0.033*\"-\" + 0.031*\"percent\" + 0.024*\"list\" + 0.022*\"content\" + 0.022*\"rel\" + 0.021*\"magnet\"\n",
            "2021-02-19 19:54:38,222 : INFO : topic #17 (0.012): 0.145*\"algorithm\" + 0.144*\"(\" + 0.123*\"[\" + 0.088*\"])\" + 0.072*\"function\" + 0.057*\"complex\" + 0.057*\")\" + 0.026*\"real\" + 0.021*\"gamma\" + 0.020*\"number\"\n",
            "2021-02-19 19:54:38,224 : INFO : topic #53 (0.013): 0.191*\"solut\" + 0.169*\"equat\" + 0.145*\"problem\" + 0.079*\"numer\" + 0.063*\"differenti\" + 0.062*\"linear\" + 0.058*\"-\" + 0.041*\"method\" + 0.034*\"boundari\" + 0.028*\"ordinari\"\n",
            "2021-02-19 19:54:38,225 : INFO : topic #89 (0.020): 0.287*\"(\" + 0.237*\"algorithm\" + 0.230*\")\" + 0.073*\"[\" + 0.043*\"])\" + 0.016*\"polynomi\" + 0.010*\"squar\" + 0.007*\"normal\" + 0.007*\"coeffici\" + 0.007*\"integ\"\n",
            "2021-02-19 19:54:38,226 : INFO : topic diff=inf, rho=0.340958\n",
            "2021-02-19 19:54:39,473 : INFO : -6.518 per-word bound, 91.7 perplexity estimate based on a held-out corpus of 1204 documents with 49783 words\n",
            "2021-02-19 19:54:39,474 : INFO : PROGRESS: pass 6, at document #3204/3204\n",
            "2021-02-19 19:54:40,487 : INFO : optimized alpha [0.010675552, 0.011147754, 0.010973049, 0.011159183, 0.011152139, 0.010355128, 0.010277234, 0.012224803, 0.01063177, 0.010964001, 0.011256642, 0.010338965, 0.011735991, 0.010768913, 0.010680604, 0.010024292, 0.010325962, 0.012476769, 0.011321987, 0.010402619, 0.011067418, 0.0117754005, 0.011040366, 0.009500142, 0.011410941, 0.0109614935, 0.010220577, 0.010731031, 0.010706456, 0.010667126, 0.010295272, 0.010747711, 0.0108581735, 0.010304484, 0.010059418, 0.0107368035, 0.010648943, 0.010424763, 0.012534054, 0.011914732, 0.012048359, 0.011283146, 0.011998597, 0.010229627, 0.010649872, 0.010855545, 0.011482426, 0.011173543, 0.010394024, 0.010093063, 0.010236736, 0.01180608, 0.010841298, 0.013003713, 0.011460857, 0.010561378, 0.010988346, 0.010612105, 0.010263018, 0.011431042, 0.011552378, 0.010840313, 0.011051629, 0.012500768, 0.010969773, 0.009786628, 0.009927457, 0.010041104, 0.0115461, 0.0113658225, 0.010958246, 0.010386853, 0.010663246, 0.010325416, 0.010974489, 0.010072646, 0.010835817, 0.010919774, 0.011657999, 0.011031037, 0.01121481, 0.01084488, 0.010834479, 0.010720848, 0.010344389, 0.010816409, 0.010798984, 0.010920254, 0.010723502, 0.021173926, 0.00988463, 0.010822194, 0.0103027625, 0.010814105, 0.010588316, 0.0097545115, 0.009597884, 0.010292089, 0.011366987, 0.01065258]\n",
            "2021-02-19 19:54:40,491 : INFO : merging changes from 1204 documents into a model of 3204 documents\n",
            "2021-02-19 19:54:40,511 : INFO : topic #23 (0.010): 0.080*\"contour\" + 0.049*\"cluster\" + 0.037*\"orient\" + 0.037*\"problem\" + 0.036*\"quadrat\" + 0.036*\",\" + 0.034*\"assist\" + 0.030*\"design\" + 0.028*\"recogn\" + 0.025*\"geometr\"\n",
            "2021-02-19 19:54:40,511 : INFO : topic #96 (0.010): 0.083*\",\" + 0.057*\"word\" + 0.044*\"frequenc\" + 0.043*\"percent\" + 0.043*\"10\" + 0.033*\"-\" + 0.024*\"content\" + 0.024*\"rel\" + 0.023*\"read\" + 0.022*\"list\"\n",
            "2021-02-19 19:54:40,512 : INFO : topic #17 (0.012): 0.143*\"algorithm\" + 0.137*\"(\" + 0.120*\"[\" + 0.075*\"function\" + 0.071*\"complex\" + 0.068*\"])\" + 0.061*\")\" + 0.025*\"real\" + 0.022*\"gamma\" + 0.021*\"a1\"\n",
            "2021-02-19 19:54:40,513 : INFO : topic #53 (0.013): 0.202*\"solut\" + 0.165*\"equat\" + 0.164*\"problem\" + 0.066*\"numer\" + 0.064*\"linear\" + 0.063*\"differenti\" + 0.057*\"-\" + 0.038*\"method\" + 0.031*\"boundari\" + 0.028*\"ordinari\"\n",
            "2021-02-19 19:54:40,516 : INFO : topic #89 (0.021): 0.289*\"(\" + 0.244*\")\" + 0.242*\"algorithm\" + 0.074*\"[\" + 0.029*\"])\" + 0.014*\"polynomi\" + 0.009*\"squar\" + 0.008*\"integ\" + 0.008*\"normal\" + 0.007*\"e2\"\n",
            "2021-02-19 19:54:40,518 : INFO : topic diff=inf, rho=0.340958\n",
            "2021-02-19 19:54:40,534 : INFO : PROGRESS: pass 7, at document #2000/3204\n",
            "2021-02-19 19:54:41,622 : INFO : optimized alpha [0.010676888, 0.011277521, 0.0111356005, 0.011226985, 0.01114219, 0.010458671, 0.010244718, 0.012448249, 0.010727391, 0.010982027, 0.0112238275, 0.01031401, 0.011724806, 0.01097477, 0.010717541, 0.00998473, 0.010369657, 0.012938114, 0.0113221705, 0.010401967, 0.0110825, 0.011972784, 0.011164665, 0.009461143, 0.011512958, 0.010910986, 0.010180138, 0.010753355, 0.010738222, 0.0107701095, 0.010288082, 0.010786846, 0.010874396, 0.0103105875, 0.010042728, 0.010745304, 0.010613482, 0.010525782, 0.012554186, 0.011898699, 0.012036837, 0.011338476, 0.012070218, 0.0103053795, 0.010620949, 0.010907023, 0.011480596, 0.011313111, 0.010395236, 0.010089287, 0.010225791, 0.011792337, 0.010915704, 0.013253185, 0.011457621, 0.010536978, 0.010987798, 0.01070314, 0.010280049, 0.01157064, 0.011627641, 0.011007524, 0.0110344775, 0.012426074, 0.010965265, 0.009773115, 0.009929754, 0.01002472, 0.011677278, 0.011547152, 0.010953974, 0.010422286, 0.01069148, 0.01029925, 0.011021987, 0.010064091, 0.010846055, 0.010966689, 0.01180106, 0.01113452, 0.0113235805, 0.010852105, 0.01092213, 0.010734329, 0.0103556225, 0.010826159, 0.010816886, 0.010990478, 0.010725771, 0.022540556, 0.009866079, 0.01082835, 0.010274737, 0.010912868, 0.010598858, 0.009764284, 0.009607604, 0.010402936, 0.0115445545, 0.01070967]\n",
            "2021-02-19 19:54:41,626 : INFO : merging changes from 2000 documents into a model of 3204 documents\n",
            "2021-02-19 19:54:41,648 : INFO : topic #23 (0.009): 0.078*\"contour\" + 0.040*\"cluster\" + 0.040*\"orient\" + 0.037*\"problem\" + 0.033*\",\" + 0.032*\"quadrat\" + 0.030*\"assist\" + 0.028*\"recogn\" + 0.026*\"design\" + 0.025*\"meet\"\n",
            "2021-02-19 19:54:41,649 : INFO : topic #96 (0.010): 0.083*\",\" + 0.068*\"word\" + 0.043*\"10\" + 0.039*\"frequenc\" + 0.038*\"percent\" + 0.032*\"-\" + 0.024*\"rel\" + 0.022*\"content\" + 0.021*\"magnet\" + 0.021*\"read\"\n",
            "2021-02-19 19:54:41,650 : INFO : topic #17 (0.013): 0.154*\"algorithm\" + 0.153*\"(\" + 0.142*\"[\" + 0.109*\"])\" + 0.062*\"function\" + 0.053*\"complex\" + 0.045*\")\" + 0.024*\"real\" + 0.019*\"gamma\" + 0.018*\"number\"\n",
            "2021-02-19 19:54:41,652 : INFO : topic #53 (0.013): 0.194*\"solut\" + 0.169*\"equat\" + 0.152*\"problem\" + 0.079*\"numer\" + 0.063*\"differenti\" + 0.062*\"linear\" + 0.058*\"-\" + 0.039*\"method\" + 0.032*\"boundari\" + 0.028*\"ordinari\"\n",
            "2021-02-19 19:54:41,653 : INFO : topic #89 (0.023): 0.295*\"(\" + 0.253*\")\" + 0.238*\"algorithm\" + 0.059*\"[\" + 0.028*\"])\" + 0.016*\"polynomi\" + 0.010*\"squar\" + 0.008*\"normal\" + 0.008*\"coeffici\" + 0.007*\"integ\"\n",
            "2021-02-19 19:54:41,654 : INFO : topic diff=inf, rho=0.322715\n",
            "2021-02-19 19:54:42,910 : INFO : -6.500 per-word bound, 90.5 perplexity estimate based on a held-out corpus of 1204 documents with 49783 words\n",
            "2021-02-19 19:54:42,912 : INFO : PROGRESS: pass 7, at document #3204/3204\n",
            "2021-02-19 19:54:43,894 : INFO : optimized alpha [0.010817086, 0.011483085, 0.011202719, 0.01141959, 0.011314794, 0.010450378, 0.010316561, 0.012865896, 0.010850567, 0.011176355, 0.011426493, 0.010368424, 0.011984958, 0.011013635, 0.010792175, 0.010102699, 0.010509057, 0.012973549, 0.011521061, 0.010500195, 0.011217249, 0.012114128, 0.011269084, 0.009519678, 0.0117003685, 0.011099483, 0.010274045, 0.010836062, 0.010894326, 0.010978755, 0.0103567755, 0.010918555, 0.011007334, 0.01042385, 0.010150923, 0.010845869, 0.0107569, 0.010574441, 0.012932113, 0.012242845, 0.012313496, 0.011530441, 0.012353877, 0.010357243, 0.01075942, 0.011019178, 0.011660788, 0.011451815, 0.010499787, 0.010191571, 0.010301566, 0.012063392, 0.011008888, 0.013587043, 0.011630604, 0.010707048, 0.011112309, 0.010855965, 0.010335402, 0.011732977, 0.011854391, 0.01108123, 0.011207628, 0.012800728, 0.011149339, 0.009841671, 0.010007232, 0.0101104025, 0.011843438, 0.011701867, 0.011114406, 0.010552094, 0.01081816, 0.010390784, 0.011187088, 0.010134174, 0.010926481, 0.0110803265, 0.012020426, 0.011371316, 0.011493986, 0.010984636, 0.010996892, 0.010939451, 0.010458843, 0.0109619275, 0.010957599, 0.011118995, 0.010907418, 0.02370248, 0.009924469, 0.010985667, 0.010421695, 0.011048007, 0.010741048, 0.009807452, 0.009655367, 0.010495732, 0.011671627, 0.010872552]\n",
            "2021-02-19 19:54:43,898 : INFO : merging changes from 1204 documents into a model of 3204 documents\n",
            "2021-02-19 19:54:43,917 : INFO : topic #23 (0.010): 0.081*\"contour\" + 0.048*\"cluster\" + 0.041*\"quadrat\" + 0.039*\"problem\" + 0.038*\"orient\" + 0.035*\",\" + 0.034*\"assist\" + 0.029*\"recogn\" + 0.029*\"geometr\" + 0.028*\"design\"\n",
            "2021-02-19 19:54:43,918 : INFO : topic #96 (0.010): 0.087*\",\" + 0.063*\"word\" + 0.048*\"percent\" + 0.045*\"frequenc\" + 0.044*\"10\" + 0.033*\"-\" + 0.026*\"read\" + 0.025*\"rel\" + 0.024*\"content\" + 0.019*\"list\"\n",
            "2021-02-19 19:54:43,920 : INFO : topic #17 (0.013): 0.152*\"algorithm\" + 0.145*\"(\" + 0.138*\"[\" + 0.088*\"])\" + 0.066*\"complex\" + 0.064*\"function\" + 0.049*\")\" + 0.025*\"real\" + 0.020*\"gamma\" + 0.019*\"a1\"\n",
            "2021-02-19 19:54:43,922 : INFO : topic #53 (0.014): 0.203*\"solut\" + 0.172*\"problem\" + 0.165*\"equat\" + 0.066*\"numer\" + 0.065*\"linear\" + 0.062*\"differenti\" + 0.057*\"-\" + 0.035*\"method\" + 0.030*\"boundari\" + 0.027*\"ordinari\"\n",
            "2021-02-19 19:54:43,923 : INFO : topic #89 (0.024): 0.297*\"(\" + 0.263*\")\" + 0.240*\"algorithm\" + 0.063*\"[\" + 0.018*\"])\" + 0.014*\"polynomi\" + 0.009*\"squar\" + 0.008*\"normal\" + 0.008*\"integ\" + 0.007*\"e2\"\n",
            "2021-02-19 19:54:43,928 : INFO : topic diff=inf, rho=0.322715\n",
            "2021-02-19 19:54:43,943 : INFO : PROGRESS: pass 8, at document #2000/3204\n",
            "2021-02-19 19:54:44,982 : INFO : optimized alpha [0.010818097, 0.011620666, 0.011361007, 0.011492904, 0.011309929, 0.010549964, 0.010284497, 0.013109879, 0.010949251, 0.011201545, 0.01138701, 0.0103550125, 0.011974612, 0.011226268, 0.01082773, 0.010069612, 0.010560423, 0.013463022, 0.011523873, 0.010509442, 0.01123493, 0.012307001, 0.011385321, 0.009486084, 0.011798144, 0.011053983, 0.010237481, 0.010864263, 0.010927761, 0.0111049265, 0.010353553, 0.0109711075, 0.011027826, 0.010429634, 0.010135018, 0.010857455, 0.010727908, 0.010679765, 0.012954768, 0.012234455, 0.012302653, 0.011590041, 0.012423716, 0.01044137, 0.010736649, 0.011078549, 0.011662018, 0.011591654, 0.010499442, 0.010195937, 0.0102962265, 0.012050467, 0.011095471, 0.0138341, 0.011628821, 0.010689878, 0.011113443, 0.010961853, 0.0103585, 0.011880266, 0.01194658, 0.011242665, 0.011194211, 0.01272989, 0.011147844, 0.009829114, 0.010025117, 0.010104431, 0.011973426, 0.011877248, 0.011111606, 0.010597385, 0.0108533595, 0.010369358, 0.011232213, 0.0101279225, 0.01093643, 0.0111251585, 0.01217923, 0.011482987, 0.011603792, 0.010991363, 0.011079339, 0.010949888, 0.010469689, 0.01097103, 0.010981151, 0.011187955, 0.010920834, 0.02516083, 0.009907292, 0.011003015, 0.010396191, 0.011146357, 0.010757421, 0.009824827, 0.009671029, 0.010621921, 0.011846581, 0.010927013]\n",
            "2021-02-19 19:54:44,985 : INFO : merging changes from 2000 documents into a model of 3204 documents\n",
            "2021-02-19 19:54:45,005 : INFO : topic #23 (0.009): 0.079*\"contour\" + 0.040*\"orient\" + 0.040*\"cluster\" + 0.039*\"problem\" + 0.036*\"quadrat\" + 0.033*\",\" + 0.032*\"assist\" + 0.028*\"recogn\" + 0.027*\"geometr\" + 0.025*\"meet\"\n",
            "2021-02-19 19:54:45,006 : INFO : topic #96 (0.010): 0.087*\",\" + 0.077*\"word\" + 0.044*\"10\" + 0.042*\"percent\" + 0.041*\"frequenc\" + 0.032*\"-\" + 0.025*\"rel\" + 0.025*\"read\" + 0.023*\"content\" + 0.021*\"magnet\"\n",
            "2021-02-19 19:54:45,006 : INFO : topic #17 (0.013): 0.161*\"algorithm\" + 0.159*\"(\" + 0.153*\"[\" + 0.120*\"])\" + 0.055*\"function\" + 0.051*\"complex\" + 0.038*\")\" + 0.024*\"real\" + 0.017*\"gamma\" + 0.017*\"a1\"\n",
            "2021-02-19 19:54:45,008 : INFO : topic #53 (0.014): 0.195*\"solut\" + 0.169*\"equat\" + 0.160*\"problem\" + 0.079*\"numer\" + 0.063*\"differenti\" + 0.062*\"linear\" + 0.058*\"-\" + 0.035*\"method\" + 0.030*\"boundari\" + 0.028*\"ordinari\"\n",
            "2021-02-19 19:54:45,009 : INFO : topic #89 (0.025): 0.304*\"(\" + 0.273*\")\" + 0.237*\"algorithm\" + 0.049*\"[\" + 0.017*\"])\" + 0.015*\"polynomi\" + 0.010*\"squar\" + 0.009*\"normal\" + 0.008*\"coeffici\" + 0.007*\"integ\"\n",
            "2021-02-19 19:54:45,010 : INFO : topic diff=inf, rho=0.307119\n",
            "2021-02-19 19:54:46,217 : INFO : -6.487 per-word bound, 89.7 perplexity estimate based on a held-out corpus of 1204 documents with 49783 words\n",
            "2021-02-19 19:54:46,217 : INFO : PROGRESS: pass 8, at document #3204/3204\n",
            "2021-02-19 19:54:47,191 : INFO : optimized alpha [0.010960959, 0.0118369935, 0.011433184, 0.011684255, 0.011490397, 0.010541999, 0.010345722, 0.013564628, 0.01107292, 0.0114001185, 0.011570065, 0.010404839, 0.012225497, 0.011273634, 0.010890884, 0.010180204, 0.010705203, 0.0134954825, 0.011715017, 0.010622557, 0.011367119, 0.012445373, 0.011485153, 0.009542499, 0.011981408, 0.01124105, 0.010327711, 0.0109576, 0.011091936, 0.011332723, 0.010427635, 0.011111804, 0.011155488, 0.010546271, 0.010238983, 0.010956629, 0.010871214, 0.010731307, 0.013325177, 0.012568287, 0.01257604, 0.011780864, 0.012708205, 0.010496225, 0.010875126, 0.011194601, 0.011841187, 0.0117366025, 0.010602387, 0.010299467, 0.010371658, 0.012311934, 0.011196026, 0.014159056, 0.011782805, 0.01086437, 0.011221483, 0.0111116795, 0.010430375, 0.012039229, 0.012187482, 0.011318247, 0.011357765, 0.013095555, 0.011325026, 0.0099027585, 0.010120026, 0.010186639, 0.012142252, 0.012031897, 0.011274388, 0.010738435, 0.010988958, 0.010462697, 0.011388039, 0.010197904, 0.011013362, 0.011236952, 0.012419823, 0.011735957, 0.011773543, 0.011124155, 0.011150752, 0.011161561, 0.0105793765, 0.011101429, 0.011110643, 0.011316976, 0.011101359, 0.02640029, 0.009961034, 0.011165651, 0.010534702, 0.011281785, 0.010885756, 0.009873937, 0.009724478, 0.010732388, 0.011964921, 0.011089276]\n",
            "2021-02-19 19:54:47,194 : INFO : merging changes from 1204 documents into a model of 3204 documents\n",
            "2021-02-19 19:54:47,214 : INFO : topic #23 (0.010): 0.081*\"contour\" + 0.048*\"cluster\" + 0.043*\"quadrat\" + 0.041*\"problem\" + 0.039*\"orient\" + 0.035*\"assist\" + 0.035*\",\" + 0.031*\"geometr\" + 0.029*\"recogn\" + 0.027*\"design\"\n",
            "2021-02-19 19:54:47,215 : INFO : topic #96 (0.010): 0.090*\",\" + 0.070*\"word\" + 0.050*\"percent\" + 0.045*\"frequenc\" + 0.044*\"10\" + 0.033*\"-\" + 0.029*\"read\" + 0.026*\"rel\" + 0.024*\"content\" + 0.020*\"test\"\n",
            "2021-02-19 19:54:47,216 : INFO : topic #7 (0.014): 0.401*\"method\" + 0.051*\"-\" + 0.046*\"problem\" + 0.042*\",\" + 0.039*\"compar\" + 0.036*\"present\" + 0.032*\"appli\" + 0.031*\"nonlinear\" + 0.022*\"variat\" + 0.020*\"half\"\n",
            "2021-02-19 19:54:47,217 : INFO : topic #53 (0.014): 0.204*\"solut\" + 0.178*\"problem\" + 0.164*\"equat\" + 0.067*\"numer\" + 0.065*\"linear\" + 0.062*\"differenti\" + 0.057*\"-\" + 0.032*\"method\" + 0.029*\"boundari\" + 0.027*\"ordinari\"\n",
            "2021-02-19 19:54:47,219 : INFO : topic #89 (0.026): 0.304*\"(\" + 0.278*\")\" + 0.238*\"algorithm\" + 0.055*\"[\" + 0.014*\"polynomi\" + 0.012*\"])\" + 0.009*\"squar\" + 0.008*\"normal\" + 0.008*\"integ\" + 0.007*\"e2\"\n",
            "2021-02-19 19:54:47,223 : INFO : topic diff=inf, rho=0.307119\n",
            "2021-02-19 19:54:47,238 : INFO : PROGRESS: pass 9, at document #2000/3204\n",
            "2021-02-19 19:54:48,258 : INFO : optimized alpha [0.0109616555, 0.01198947, 0.011591419, 0.011751122, 0.011495248, 0.010639741, 0.010317223, 0.013826206, 0.011179547, 0.011438621, 0.011538491, 0.0103957355, 0.012217866, 0.011488612, 0.010931811, 0.010147104, 0.0107608065, 0.014010379, 0.011717079, 0.010645492, 0.0113957515, 0.012647207, 0.011600901, 0.009512356, 0.012086096, 0.0111935185, 0.010294534, 0.010984791, 0.0111269755, 0.011480046, 0.010426413, 0.0111688515, 0.011178338, 0.01055336, 0.010228359, 0.010971093, 0.010848034, 0.010837787, 0.013344622, 0.012571036, 0.012567782, 0.01183603, 0.012778409, 0.010583762, 0.010856326, 0.011255075, 0.011845287, 0.01187387, 0.010605252, 0.010305273, 0.0103759905, 0.012299899, 0.011299435, 0.014400401, 0.011780854, 0.01085208, 0.011229344, 0.011240199, 0.010455938, 0.0121907415, 0.012283484, 0.011473061, 0.011347884, 0.01302452, 0.011326445, 0.009892542, 0.010140238, 0.010176655, 0.012267893, 0.012216477, 0.01126793, 0.010789855, 0.011032444, 0.010442425, 0.011429455, 0.010193676, 0.011023134, 0.011273433, 0.012590739, 0.011836911, 0.011884806, 0.011132099, 0.011231936, 0.011185564, 0.010592823, 0.011113304, 0.011134746, 0.0113849975, 0.01112028, 0.028035054, 0.00995101, 0.011188527, 0.010510115, 0.011385057, 0.010899742, 0.0098938355, 0.00975563, 0.010859355, 0.012120404, 0.011152825]\n",
            "2021-02-19 19:54:48,263 : INFO : merging changes from 2000 documents into a model of 3204 documents\n",
            "2021-02-19 19:54:48,282 : INFO : topic #23 (0.010): 0.080*\"contour\" + 0.041*\"orient\" + 0.041*\"problem\" + 0.040*\"cluster\" + 0.038*\"quadrat\" + 0.033*\",\" + 0.032*\"assist\" + 0.029*\"recogn\" + 0.029*\"geometr\" + 0.025*\"meet\"\n",
            "2021-02-19 19:54:48,283 : INFO : topic #96 (0.010): 0.089*\",\" + 0.086*\"word\" + 0.044*\"10\" + 0.043*\"percent\" + 0.041*\"frequenc\" + 0.032*\"-\" + 0.028*\"read\" + 0.025*\"rel\" + 0.023*\"content\" + 0.021*\"magnet\"\n",
            "2021-02-19 19:54:48,284 : INFO : topic #17 (0.014): 0.167*\"algorithm\" + 0.164*\"[\" + 0.161*\"(\" + 0.129*\"])\" + 0.051*\"function\" + 0.050*\"complex\" + 0.030*\")\" + 0.023*\"real\" + 0.016*\"a1\" + 0.016*\"gamma\"\n",
            "2021-02-19 19:54:48,287 : INFO : topic #53 (0.014): 0.196*\"solut\" + 0.169*\"equat\" + 0.166*\"problem\" + 0.079*\"numer\" + 0.063*\"linear\" + 0.063*\"differenti\" + 0.057*\"-\" + 0.033*\"method\" + 0.029*\"boundari\" + 0.028*\"ordinari\"\n",
            "2021-02-19 19:54:48,290 : INFO : topic #89 (0.028): 0.311*\"(\" + 0.287*\")\" + 0.235*\"algorithm\" + 0.041*\"[\" + 0.015*\"polynomi\" + 0.010*\"])\" + 0.010*\"squar\" + 0.008*\"normal\" + 0.008*\"coeffici\" + 0.007*\"e2\"\n",
            "2021-02-19 19:54:48,291 : INFO : topic diff=inf, rho=0.293585\n",
            "2021-02-19 19:54:49,444 : INFO : -6.478 per-word bound, 89.1 perplexity estimate based on a held-out corpus of 1204 documents with 49783 words\n",
            "2021-02-19 19:54:49,445 : INFO : PROGRESS: pass 9, at document #3204/3204\n",
            "2021-02-19 19:54:50,502 : INFO : optimized alpha [0.011094054, 0.012223024, 0.011665696, 0.01194482, 0.011672387, 0.010629494, 0.010376546, 0.014300136, 0.01129863, 0.011633509, 0.011712225, 0.010441539, 0.012457861, 0.011541407, 0.010984561, 0.010256162, 0.010908563, 0.014050126, 0.011907476, 0.010746643, 0.011514755, 0.01277704, 0.011702382, 0.009569323, 0.01226908, 0.011379784, 0.010389246, 0.011080167, 0.011299233, 0.011719091, 0.0105005205, 0.0113018695, 0.011298574, 0.010668371, 0.010343831, 0.011063979, 0.01099425, 0.010894943, 0.013708862, 0.012905347, 0.012835871, 0.012029222, 0.0130520025, 0.010633757, 0.010995129, 0.011366848, 0.012018193, 0.012019413, 0.010707134, 0.010407554, 0.010443662, 0.012550223, 0.011401582, 0.014717157, 0.011940976, 0.011020734, 0.011339016, 0.011393347, 0.0105277365, 0.012358974, 0.012548325, 0.011545178, 0.011508584, 0.013389169, 0.01149486, 0.009973394, 0.010234249, 0.010263527, 0.012430798, 0.012368475, 0.011425046, 0.010931484, 0.011168718, 0.010535034, 0.011582549, 0.010266246, 0.011094509, 0.011386591, 0.012834282, 0.01210078, 0.012048724, 0.011262895, 0.01130318, 0.0113934055, 0.010701055, 0.011250007, 0.011267837, 0.0115093235, 0.011303237, 0.029382724, 0.010007908, 0.011345685, 0.010651629, 0.011526789, 0.011031435, 0.009941267, 0.0098167965, 0.010981669, 0.012230816, 0.011334144]\n",
            "2021-02-19 19:54:50,509 : INFO : merging changes from 1204 documents into a model of 3204 documents\n",
            "2021-02-19 19:54:50,528 : INFO : topic #23 (0.010): 0.081*\"contour\" + 0.047*\"cluster\" + 0.045*\"quadrat\" + 0.042*\"problem\" + 0.040*\"orient\" + 0.035*\",\" + 0.035*\"assist\" + 0.032*\"geometr\" + 0.029*\"recogn\" + 0.026*\"design\"\n",
            "2021-02-19 19:54:50,529 : INFO : topic #96 (0.010): 0.092*\",\" + 0.078*\"word\" + 0.050*\"percent\" + 0.045*\"frequenc\" + 0.044*\"10\" + 0.033*\"-\" + 0.032*\"read\" + 0.026*\"rel\" + 0.024*\"content\" + 0.023*\"write\"\n",
            "2021-02-19 19:54:50,530 : INFO : topic #7 (0.014): 0.430*\"method\" + 0.047*\"-\" + 0.041*\",\" + 0.041*\"problem\" + 0.039*\"compar\" + 0.036*\"present\" + 0.034*\"appli\" + 0.030*\"nonlinear\" + 0.021*\"variat\" + 0.020*\"half\"\n",
            "2021-02-19 19:54:50,532 : INFO : topic #53 (0.015): 0.204*\"solut\" + 0.182*\"problem\" + 0.165*\"equat\" + 0.068*\"numer\" + 0.065*\"linear\" + 0.062*\"differenti\" + 0.057*\"-\" + 0.030*\"method\" + 0.028*\"boundari\" + 0.027*\"ordinari\"\n",
            "2021-02-19 19:54:50,533 : INFO : topic #89 (0.029): 0.312*\"(\" + 0.291*\")\" + 0.235*\"algorithm\" + 0.048*\"[\" + 0.013*\"polynomi\" + 0.008*\"squar\" + 0.008*\"normal\" + 0.007*\"e2\" + 0.007*\"integ\" + 0.007*\"])\"\n",
            "2021-02-19 19:54:50,536 : INFO : topic diff=inf, rho=0.293585\n",
            "2021-02-19 19:54:50,555 : INFO : PROGRESS: pass 10, at document #2000/3204\n",
            "2021-02-19 19:54:51,581 : INFO : optimized alpha [0.011096118, 0.012383733, 0.011827638, 0.0120123625, 0.0116765, 0.0107242735, 0.010348238, 0.014582545, 0.011405276, 0.011673494, 0.011674602, 0.010433377, 0.012447623, 0.01175452, 0.011024311, 0.010227314, 0.010965227, 0.01457235, 0.011917192, 0.010767326, 0.0115472935, 0.012968536, 0.011813018, 0.00953954, 0.012370342, 0.011338326, 0.010364995, 0.011103286, 0.011332647, 0.011884518, 0.010508623, 0.011363354, 0.011322157, 0.01067963, 0.010333583, 0.011074944, 0.010979588, 0.010996676, 0.013733077, 0.012918664, 0.012826524, 0.012085462, 0.01312473, 0.010720068, 0.0109783765, 0.011430128, 0.012021737, 0.012156259, 0.010709982, 0.010413188, 0.010451114, 0.012540962, 0.011509916, 0.014955393, 0.011938699, 0.011010052, 0.011349887, 0.011524867, 0.01055263, 0.012506392, 0.012642964, 0.01169732, 0.011502006, 0.01331969, 0.011499031, 0.009966645, 0.010250865, 0.010257069, 0.0125579415, 0.012550325, 0.011421649, 0.011002848, 0.011215346, 0.010517253, 0.011622307, 0.010265441, 0.011101052, 0.011424943, 0.013006783, 0.012200261, 0.012158291, 0.011271973, 0.011381788, 0.01142242, 0.010721544, 0.011267648, 0.011295667, 0.011573395, 0.011327471, 0.03115999, 0.010001481, 0.01137391, 0.010630716, 0.011633474, 0.01104783, 0.009959394, 0.009851234, 0.011117478, 0.01239205, 0.011400101]\n",
            "2021-02-19 19:54:51,585 : INFO : merging changes from 2000 documents into a model of 3204 documents\n",
            "2021-02-19 19:54:51,604 : INFO : topic #23 (0.010): 0.080*\"contour\" + 0.042*\"problem\" + 0.042*\"orient\" + 0.040*\"cluster\" + 0.040*\"quadrat\" + 0.033*\",\" + 0.032*\"assist\" + 0.030*\"geometr\" + 0.029*\"recogn\" + 0.025*\"meet\"\n",
            "2021-02-19 19:54:51,605 : INFO : topic #96 (0.010): 0.094*\"word\" + 0.091*\",\" + 0.044*\"10\" + 0.044*\"percent\" + 0.041*\"frequenc\" + 0.032*\"-\" + 0.030*\"read\" + 0.026*\"rel\" + 0.025*\"write\" + 0.023*\"test\"\n",
            "2021-02-19 19:54:51,606 : INFO : topic #17 (0.015): 0.172*\"[\" + 0.171*\"algorithm\" + 0.162*\"(\" + 0.135*\"])\" + 0.049*\"complex\" + 0.048*\"function\" + 0.024*\")\" + 0.023*\"real\" + 0.017*\"a1\" + 0.016*\"gamma\"\n",
            "2021-02-19 19:54:51,607 : INFO : topic #53 (0.015): 0.197*\"solut\" + 0.169*\"problem\" + 0.169*\"equat\" + 0.080*\"numer\" + 0.063*\"linear\" + 0.063*\"differenti\" + 0.058*\"-\" + 0.030*\"method\" + 0.029*\"boundari\" + 0.028*\"ordinari\"\n",
            "2021-02-19 19:54:51,608 : INFO : topic #89 (0.031): 0.318*\"(\" + 0.298*\")\" + 0.233*\"algorithm\" + 0.036*\"[\" + 0.014*\"polynomi\" + 0.009*\"squar\" + 0.008*\"normal\" + 0.007*\"coeffici\" + 0.007*\"chebyshev\" + 0.007*\"e2\"\n",
            "2021-02-19 19:54:51,609 : INFO : topic diff=inf, rho=0.281696\n",
            "2021-02-19 19:54:52,751 : INFO : -6.469 per-word bound, 88.6 perplexity estimate based on a held-out corpus of 1204 documents with 49783 words\n",
            "2021-02-19 19:54:52,752 : INFO : PROGRESS: pass 10, at document #3204/3204\n",
            "2021-02-19 19:54:53,663 : INFO : optimized alpha [0.01122946, 0.012629175, 0.011898647, 0.012206105, 0.011853679, 0.010714426, 0.010408289, 0.015077288, 0.011514996, 0.011865546, 0.01184836, 0.010475521, 0.01268952, 0.011807112, 0.011077882, 0.010330472, 0.011121272, 0.014609026, 0.012098937, 0.0108651845, 0.011670639, 0.013099691, 0.011919209, 0.009599341, 0.0125507405, 0.0115296105, 0.010458988, 0.0112007875, 0.011510427, 0.0121270325, 0.010582883, 0.011494882, 0.011443731, 0.010780873, 0.010445369, 0.011162168, 0.011126446, 0.011049053, 0.014098645, 0.013251428, 0.013090287, 0.0122757945, 0.013410261, 0.010765597, 0.01111022, 0.011538028, 0.012189257, 0.012297202, 0.010808549, 0.010524472, 0.010521518, 0.012787268, 0.011611133, 0.015275239, 0.012085238, 0.011173502, 0.011461115, 0.011681576, 0.010614614, 0.012663583, 0.012898821, 0.011766407, 0.011657688, 0.013678113, 0.011662281, 0.01006378, 0.010351489, 0.010333889, 0.012718677, 0.012706232, 0.011573774, 0.011148013, 0.011363194, 0.010619362, 0.011773381, 0.010333201, 0.01116756, 0.011537047, 0.01324776, 0.0124668265, 0.012319964, 0.011401151, 0.0114477575, 0.011632541, 0.010828806, 0.011402758, 0.011424495, 0.011696276, 0.011523908, 0.032615915, 0.010061366, 0.011531608, 0.010775306, 0.011784343, 0.011175214, 0.010010084, 0.009912763, 0.011241074, 0.012501048, 0.011579]\n",
            "2021-02-19 19:54:53,666 : INFO : merging changes from 1204 documents into a model of 3204 documents\n",
            "2021-02-19 19:54:53,687 : INFO : topic #23 (0.010): 0.081*\"contour\" + 0.047*\"cluster\" + 0.046*\"quadrat\" + 0.043*\"problem\" + 0.040*\"orient\" + 0.035*\",\" + 0.035*\"assist\" + 0.033*\"geometr\" + 0.029*\"recogn\" + 0.025*\"design\"\n",
            "2021-02-19 19:54:53,688 : INFO : topic #96 (0.010): 0.093*\",\" + 0.086*\"word\" + 0.050*\"percent\" + 0.044*\"frequenc\" + 0.044*\"10\" + 0.034*\"read\" + 0.033*\"-\" + 0.027*\"write\" + 0.026*\"rel\" + 0.025*\"test\"\n",
            "2021-02-19 19:54:53,688 : INFO : topic #7 (0.015): 0.454*\"method\" + 0.044*\"-\" + 0.040*\",\" + 0.039*\"compar\" + 0.037*\"problem\" + 0.036*\"present\" + 0.035*\"appli\" + 0.030*\"nonlinear\" + 0.021*\"variat\" + 0.019*\"half\"\n",
            "2021-02-19 19:54:53,689 : INFO : topic #53 (0.015): 0.204*\"solut\" + 0.185*\"problem\" + 0.165*\"equat\" + 0.068*\"numer\" + 0.066*\"linear\" + 0.062*\"differenti\" + 0.057*\"-\" + 0.028*\"boundari\" + 0.028*\"method\" + 0.027*\"ordinari\"\n",
            "2021-02-19 19:54:53,693 : INFO : topic #89 (0.033): 0.318*\"(\" + 0.300*\")\" + 0.234*\"algorithm\" + 0.043*\"[\" + 0.013*\"polynomi\" + 0.008*\"normal\" + 0.008*\"squar\" + 0.007*\"chebyshev\" + 0.007*\"e2\" + 0.006*\"coeffici\"\n",
            "2021-02-19 19:54:53,695 : INFO : topic diff=inf, rho=0.281696\n",
            "2021-02-19 19:54:53,714 : INFO : PROGRESS: pass 11, at document #2000/3204\n",
            "2021-02-19 19:54:54,657 : INFO : optimized alpha [0.011229764, 0.01279155, 0.012059738, 0.012272874, 0.0118603995, 0.010808043, 0.0103786765, 0.015383767, 0.011620378, 0.01190702, 0.01181966, 0.010469638, 0.012676776, 0.012026864, 0.011116634, 0.010302739, 0.01118212, 0.015127614, 0.012111105, 0.0108911265, 0.011703663, 0.01329223, 0.01202682, 0.009572418, 0.012657477, 0.011493662, 0.01043724, 0.0112323975, 0.011540854, 0.012304193, 0.010602554, 0.011560781, 0.0114695905, 0.01079918, 0.010436794, 0.011175968, 0.011112032, 0.011151031, 0.0141314315, 0.013275141, 0.013081699, 0.012336628, 0.013474501, 0.010864339, 0.011098461, 0.011600976, 0.012198978, 0.012437402, 0.010818759, 0.010531303, 0.010531838, 0.0127770975, 0.0117228525, 0.015510857, 0.012087736, 0.011162702, 0.011473254, 0.0118147405, 0.010638909, 0.012812556, 0.012994155, 0.011914739, 0.0116526475, 0.0136100855, 0.011665955, 0.0100668715, 0.01036477, 0.010332166, 0.012842373, 0.012882313, 0.011565507, 0.011224924, 0.011412819, 0.010602318, 0.011811615, 0.01033118, 0.0111788055, 0.0115710255, 0.013427541, 0.012575141, 0.012433142, 0.011409788, 0.011525675, 0.011656856, 0.010854509, 0.011418119, 0.0114544695, 0.011758369, 0.011554745, 0.034472026, 0.010056908, 0.0115665505, 0.010754792, 0.011892928, 0.011190976, 0.010030608, 0.0099530695, 0.011387486, 0.012661616, 0.011645885]\n",
            "2021-02-19 19:54:54,661 : INFO : merging changes from 2000 documents into a model of 3204 documents\n",
            "2021-02-19 19:54:54,680 : INFO : topic #23 (0.010): 0.079*\"contour\" + 0.043*\"problem\" + 0.042*\"orient\" + 0.041*\"quadrat\" + 0.040*\"cluster\" + 0.033*\",\" + 0.031*\"assist\" + 0.030*\"geometr\" + 0.028*\"recogn\" + 0.025*\"meet\"\n",
            "2021-02-19 19:54:54,681 : INFO : topic #96 (0.010): 0.101*\"word\" + 0.092*\",\" + 0.044*\"percent\" + 0.043*\"10\" + 0.041*\"frequenc\" + 0.032*\"read\" + 0.032*\"-\" + 0.029*\"write\" + 0.026*\"rel\" + 0.024*\"test\"\n",
            "2021-02-19 19:54:54,682 : INFO : topic #7 (0.015): 0.457*\"method\" + 0.045*\"-\" + 0.040*\",\" + 0.037*\"compar\" + 0.035*\"present\" + 0.034*\"problem\" + 0.034*\"appli\" + 0.030*\"nonlinear\" + 0.021*\"variat\" + 0.021*\"half\"\n",
            "2021-02-19 19:54:54,684 : INFO : topic #53 (0.016): 0.197*\"solut\" + 0.172*\"problem\" + 0.168*\"equat\" + 0.080*\"numer\" + 0.064*\"linear\" + 0.063*\"differenti\" + 0.058*\"-\" + 0.028*\"boundari\" + 0.028*\"method\" + 0.028*\"ordinari\"\n",
            "2021-02-19 19:54:54,685 : INFO : topic #89 (0.034): 0.322*\"(\" + 0.305*\")\" + 0.232*\"algorithm\" + 0.033*\"[\" + 0.014*\"polynomi\" + 0.009*\"squar\" + 0.009*\"normal\" + 0.008*\"chebyshev\" + 0.007*\"coeffici\" + 0.007*\"e2\"\n",
            "2021-02-19 19:54:54,687 : INFO : topic diff=inf, rho=0.271143\n",
            "2021-02-19 19:54:55,824 : INFO : -6.465 per-word bound, 88.3 perplexity estimate based on a held-out corpus of 1204 documents with 49783 words\n",
            "2021-02-19 19:54:55,824 : INFO : PROGRESS: pass 11, at document #3204/3204\n",
            "2021-02-19 19:54:56,730 : INFO : optimized alpha [0.011359222, 0.013037928, 0.012135943, 0.0124587985, 0.012032688, 0.010798562, 0.0104301125, 0.01590124, 0.011737127, 0.012093963, 0.011996494, 0.010515557, 0.012912504, 0.012082192, 0.011168658, 0.010405211, 0.011344127, 0.015158177, 0.012293242, 0.010993408, 0.0118260505, 0.01342804, 0.01213232, 0.009632816, 0.012832856, 0.011703136, 0.010537975, 0.011319256, 0.01172707, 0.012550646, 0.010667338, 0.011693829, 0.011587635, 0.010897376, 0.010554804, 0.011258062, 0.011257241, 0.011211563, 0.014483545, 0.013613375, 0.013341822, 0.012527512, 0.01374787, 0.010915672, 0.011234097, 0.011705628, 0.012372854, 0.012585532, 0.010916863, 0.010639342, 0.010600141, 0.013017056, 0.011831325, 0.015817117, 0.01223554, 0.011331803, 0.011576094, 0.0119753545, 0.010706404, 0.012968093, 0.013259441, 0.011975753, 0.011801372, 0.013972461, 0.011835303, 0.010170373, 0.010467153, 0.010406734, 0.01301294, 0.013045363, 0.011721253, 0.011361075, 0.011566966, 0.010701539, 0.011958427, 0.01039705, 0.011243426, 0.011682334, 0.0136786755, 0.012845059, 0.012595895, 0.011540347, 0.011589441, 0.011864438, 0.010963495, 0.01155453, 0.011587348, 0.011872186, 0.011751545, 0.035965983, 0.010115209, 0.01172505, 0.010897627, 0.012042377, 0.011317234, 0.010086626, 0.010017233, 0.011512605, 0.012772452, 0.011830667]\n",
            "2021-02-19 19:54:56,733 : INFO : merging changes from 1204 documents into a model of 3204 documents\n",
            "2021-02-19 19:54:56,758 : INFO : topic #23 (0.010): 0.081*\"contour\" + 0.050*\"quadrat\" + 0.046*\"cluster\" + 0.044*\"problem\" + 0.040*\"orient\" + 0.035*\",\" + 0.034*\"assist\" + 0.033*\"geometr\" + 0.029*\"recogn\" + 0.025*\"design\"\n",
            "2021-02-19 19:54:56,759 : INFO : topic #96 (0.010): 0.094*\",\" + 0.093*\"word\" + 0.049*\"percent\" + 0.044*\"frequenc\" + 0.043*\"10\" + 0.035*\"read\" + 0.033*\"-\" + 0.029*\"write\" + 0.026*\"rel\" + 0.026*\"test\"\n",
            "2021-02-19 19:54:56,760 : INFO : topic #53 (0.016): 0.205*\"solut\" + 0.185*\"problem\" + 0.165*\"equat\" + 0.069*\"numer\" + 0.066*\"linear\" + 0.062*\"differenti\" + 0.057*\"-\" + 0.027*\"boundari\" + 0.027*\"ordinari\" + 0.026*\"method\"\n",
            "2021-02-19 19:54:56,761 : INFO : topic #7 (0.016): 0.474*\"method\" + 0.041*\"-\" + 0.040*\",\" + 0.039*\"compar\" + 0.035*\"present\" + 0.035*\"appli\" + 0.033*\"problem\" + 0.029*\"nonlinear\" + 0.020*\"variat\" + 0.019*\"half\"\n",
            "2021-02-19 19:54:56,762 : INFO : topic #89 (0.036): 0.321*\"(\" + 0.306*\")\" + 0.232*\"algorithm\" + 0.040*\"[\" + 0.012*\"polynomi\" + 0.008*\"normal\" + 0.008*\"squar\" + 0.007*\"chebyshev\" + 0.007*\"e2\" + 0.006*\"coeffici\"\n",
            "2021-02-19 19:54:56,765 : INFO : topic diff=inf, rho=0.271143\n",
            "2021-02-19 19:54:56,781 : INFO : PROGRESS: pass 12, at document #2000/3204\n",
            "2021-02-19 19:54:57,719 : INFO : optimized alpha [0.0113608455, 0.01320231, 0.012298154, 0.012523456, 0.012041901, 0.010889825, 0.010403477, 0.016228748, 0.011839956, 0.012137056, 0.011974536, 0.010508962, 0.01290083, 0.01230112, 0.01120801, 0.010378516, 0.011407619, 0.015673628, 0.012307858, 0.011028736, 0.01185959, 0.013616703, 0.012240454, 0.009607187, 0.012933379, 0.011668988, 0.010519816, 0.011353061, 0.011759236, 0.012749865, 0.010697935, 0.011765616, 0.011615759, 0.010916642, 0.010549218, 0.011273165, 0.011249044, 0.01131102, 0.014519119, 0.013641955, 0.013330477, 0.012592866, 0.013818595, 0.011012072, 0.011222607, 0.011766867, 0.012380297, 0.012726002, 0.010928247, 0.010650168, 0.010614622, 0.01301298, 0.011951188, 0.016044276, 0.012242606, 0.011323897, 0.01158638, 0.012118146, 0.01073872, 0.013113731, 0.01335893, 0.012119118, 0.011797834, 0.01390746, 0.011839997, 0.010173409, 0.010481409, 0.010406682, 0.013138677, 0.013221208, 0.011719112, 0.011435978, 0.011622681, 0.010690799, 0.012001634, 0.010395395, 0.011253182, 0.011719837, 0.013856943, 0.012947102, 0.012704601, 0.011551611, 0.011668391, 0.011893668, 0.010992703, 0.011570807, 0.011623877, 0.0119325025, 0.011788747, 0.037894025, 0.010111229, 0.011768052, 0.0108818505, 0.012151486, 0.0113324085, 0.010106781, 0.010060493, 0.011660625, 0.012929397, 0.011900117]\n",
            "2021-02-19 19:54:57,722 : INFO : merging changes from 2000 documents into a model of 3204 documents\n",
            "2021-02-19 19:54:57,742 : INFO : topic #23 (0.010): 0.079*\"contour\" + 0.045*\"quadrat\" + 0.043*\"problem\" + 0.041*\"orient\" + 0.040*\"cluster\" + 0.033*\",\" + 0.031*\"assist\" + 0.031*\"geometr\" + 0.028*\"recogn\" + 0.025*\"meet\"\n",
            "2021-02-19 19:54:57,743 : INFO : topic #96 (0.010): 0.108*\"word\" + 0.093*\",\" + 0.044*\"percent\" + 0.043*\"10\" + 0.041*\"frequenc\" + 0.034*\"read\" + 0.032*\"-\" + 0.031*\"write\" + 0.026*\"rel\" + 0.025*\"test\"\n",
            "2021-02-19 19:54:57,744 : INFO : topic #53 (0.016): 0.198*\"solut\" + 0.173*\"problem\" + 0.169*\"equat\" + 0.080*\"numer\" + 0.064*\"linear\" + 0.063*\"differenti\" + 0.058*\"-\" + 0.028*\"boundari\" + 0.027*\"ordinari\" + 0.026*\"method\"\n",
            "2021-02-19 19:54:57,747 : INFO : topic #7 (0.016): 0.476*\"method\" + 0.042*\"-\" + 0.040*\",\" + 0.037*\"compar\" + 0.035*\"present\" + 0.034*\"appli\" + 0.031*\"problem\" + 0.030*\"nonlinear\" + 0.021*\"variat\" + 0.020*\"half\"\n",
            "2021-02-19 19:54:57,748 : INFO : topic #89 (0.038): 0.325*\"(\" + 0.311*\")\" + 0.231*\"algorithm\" + 0.031*\"[\" + 0.013*\"polynomi\" + 0.009*\"squar\" + 0.009*\"normal\" + 0.008*\"chebyshev\" + 0.007*\"coeffici\" + 0.006*\"e2\"\n",
            "2021-02-19 19:54:57,751 : INFO : topic diff=inf, rho=0.261694\n",
            "2021-02-19 19:54:58,878 : INFO : -6.458 per-word bound, 87.9 perplexity estimate based on a held-out corpus of 1204 documents with 49783 words\n",
            "2021-02-19 19:54:58,879 : INFO : PROGRESS: pass 12, at document #3204/3204\n",
            "2021-02-19 19:54:59,747 : INFO : optimized alpha [0.011484318, 0.013464217, 0.012376881, 0.012702061, 0.012209842, 0.010880678, 0.0104514165, 0.016749399, 0.011945701, 0.01230893, 0.012144235, 0.010556169, 0.013136756, 0.012356497, 0.011256178, 0.01048276, 0.011568321, 0.01571185, 0.012488035, 0.011130625, 0.0119838705, 0.013745348, 0.012342852, 0.0096681835, 0.013107158, 0.011881275, 0.01062257, 0.011445022, 0.011946342, 0.01301769, 0.01076327, 0.011908095, 0.011730663, 0.011007372, 0.010680293, 0.01135061, 0.011390502, 0.0113744745, 0.014861686, 0.01397744, 0.013584704, 0.012779215, 0.0140896905, 0.011066595, 0.011354571, 0.011873743, 0.012546956, 0.012864593, 0.011014108, 0.010755335, 0.010683383, 0.013261685, 0.012059198, 0.016344419, 0.012389157, 0.011496233, 0.011689001, 0.012282912, 0.010804365, 0.0132622225, 0.013619591, 0.012180472, 0.011947923, 0.014259451, 0.012005005, 0.010278661, 0.010578793, 0.010486198, 0.013302091, 0.013382939, 0.011870826, 0.011586209, 0.011783114, 0.010796755, 0.012147282, 0.010459554, 0.011316117, 0.011822975, 0.014100467, 0.013226618, 0.012865985, 0.011681213, 0.011730192, 0.012109646, 0.011096376, 0.011703671, 0.01175836, 0.01203267, 0.011989016, 0.03944169, 0.010170283, 0.011925319, 0.011025763, 0.012302489, 0.011452942, 0.010167942, 0.010125073, 0.011797615, 0.013039461, 0.012088386]\n",
            "2021-02-19 19:54:59,750 : INFO : merging changes from 1204 documents into a model of 3204 documents\n",
            "2021-02-19 19:54:59,771 : INFO : topic #23 (0.010): 0.080*\"contour\" + 0.053*\"quadrat\" + 0.046*\"cluster\" + 0.045*\"problem\" + 0.040*\"orient\" + 0.035*\",\" + 0.034*\"assist\" + 0.033*\"geometr\" + 0.028*\"recogn\" + 0.024*\"design\"\n",
            "2021-02-19 19:54:59,772 : INFO : topic #96 (0.010): 0.100*\"word\" + 0.095*\",\" + 0.049*\"percent\" + 0.044*\"frequenc\" + 0.043*\"10\" + 0.037*\"read\" + 0.033*\"-\" + 0.030*\"write\" + 0.027*\"test\" + 0.026*\"rel\"\n",
            "2021-02-19 19:54:59,772 : INFO : topic #53 (0.016): 0.206*\"solut\" + 0.184*\"problem\" + 0.165*\"equat\" + 0.070*\"numer\" + 0.067*\"linear\" + 0.062*\"differenti\" + 0.058*\"-\" + 0.027*\"boundari\" + 0.027*\"ordinari\" + 0.025*\"method\"\n",
            "2021-02-19 19:54:59,774 : INFO : topic #7 (0.017): 0.490*\"method\" + 0.039*\"-\" + 0.039*\",\" + 0.039*\"compar\" + 0.035*\"appli\" + 0.034*\"present\" + 0.030*\"problem\" + 0.029*\"nonlinear\" + 0.020*\"variat\" + 0.019*\"half\"\n",
            "2021-02-19 19:54:59,777 : INFO : topic #89 (0.039): 0.324*\"(\" + 0.311*\")\" + 0.231*\"algorithm\" + 0.038*\"[\" + 0.011*\"polynomi\" + 0.008*\"normal\" + 0.008*\"squar\" + 0.007*\"chebyshev\" + 0.007*\"e2\" + 0.006*\"coeffici\"\n",
            "2021-02-19 19:54:59,783 : INFO : topic diff=inf, rho=0.261694\n",
            "2021-02-19 19:54:59,799 : INFO : PROGRESS: pass 13, at document #2000/3204\n",
            "2021-02-19 19:55:00,727 : INFO : optimized alpha [0.011484357, 0.013630888, 0.012538965, 0.012769606, 0.012218406, 0.010969823, 0.01043021, 0.017079739, 0.012046212, 0.012352105, 0.01212093, 0.010554245, 0.013124409, 0.012570243, 0.01129618, 0.01045692, 0.011630102, 0.01622078, 0.012500119, 0.011169275, 0.012019531, 0.01393743, 0.012448552, 0.009647398, 0.013205191, 0.011854876, 0.010609124, 0.011479484, 0.011986349, 0.013219581, 0.010800056, 0.01197957, 0.011763998, 0.011026178, 0.010681484, 0.011368382, 0.011382369, 0.011476058, 0.014898336, 0.014014286, 0.0135776885, 0.012844243, 0.014170547, 0.011166446, 0.011343315, 0.011934953, 0.012555476, 0.013005476, 0.011030918, 0.010771361, 0.010697678, 0.013261639, 0.012178071, 0.016565442, 0.0124022, 0.011491013, 0.01169753, 0.012424751, 0.010836016, 0.013403198, 0.013727044, 0.012320827, 0.011948846, 0.014186549, 0.012009212, 0.010284157, 0.010596714, 0.01048767, 0.01342675, 0.013557351, 0.011869925, 0.011656359, 0.011841746, 0.010787787, 0.012192249, 0.010459586, 0.011328824, 0.01185202, 0.014281167, 0.013326033, 0.012972099, 0.011692052, 0.011805836, 0.012135938, 0.011124841, 0.0117163565, 0.011793783, 0.012088445, 0.0120278355, 0.04147552, 0.010166704, 0.011968506, 0.011010195, 0.012409179, 0.011466147, 0.010190279, 0.010169884, 0.011943088, 0.013198114, 0.012158954]\n",
            "2021-02-19 19:55:00,733 : INFO : merging changes from 2000 documents into a model of 3204 documents\n",
            "2021-02-19 19:55:00,752 : INFO : topic #23 (0.010): 0.078*\"contour\" + 0.049*\"quadrat\" + 0.044*\"problem\" + 0.041*\"orient\" + 0.040*\"cluster\" + 0.034*\",\" + 0.031*\"assist\" + 0.031*\"geometr\" + 0.028*\"recogn\" + 0.024*\"meet\"\n",
            "2021-02-19 19:55:00,753 : INFO : topic #90 (0.010): 0.177*\"map\" + 0.052*\"combinatori\" + 0.048*\"problem\" + 0.044*\"multiprocessor\" + 0.040*\"industri\" + 0.027*\"develop\" + 0.025*\"favor\" + 0.022*\"call\" + 0.022*\"68\" + 0.022*\"augment\"\n",
            "2021-02-19 19:55:00,756 : INFO : topic #53 (0.017): 0.199*\"solut\" + 0.172*\"problem\" + 0.169*\"equat\" + 0.081*\"numer\" + 0.065*\"linear\" + 0.063*\"differenti\" + 0.058*\"-\" + 0.028*\"boundari\" + 0.027*\"ordinari\" + 0.025*\"method\"\n",
            "2021-02-19 19:55:00,759 : INFO : topic #7 (0.017): 0.492*\"method\" + 0.040*\"-\" + 0.039*\",\" + 0.037*\"compar\" + 0.034*\"appli\" + 0.034*\"present\" + 0.029*\"nonlinear\" + 0.029*\"problem\" + 0.021*\"variat\" + 0.020*\"half\"\n",
            "2021-02-19 19:55:00,761 : INFO : topic #89 (0.041): 0.327*\"(\" + 0.315*\")\" + 0.230*\"algorithm\" + 0.030*\"[\" + 0.013*\"polynomi\" + 0.009*\"squar\" + 0.009*\"normal\" + 0.008*\"chebyshev\" + 0.006*\"e2\" + 0.006*\"coeffici\"\n",
            "2021-02-19 19:55:00,763 : INFO : topic diff=inf, rho=0.253169\n",
            "2021-02-19 19:55:01,882 : INFO : -6.452 per-word bound, 87.6 perplexity estimate based on a held-out corpus of 1204 documents with 49783 words\n",
            "2021-02-19 19:55:01,883 : INFO : PROGRESS: pass 13, at document #3204/3204\n",
            "2021-02-19 19:55:02,780 : INFO : optimized alpha [0.011609615, 0.013897399, 0.012612424, 0.01294685, 0.01237978, 0.010960991, 0.010477251, 0.017610598, 0.012149136, 0.0125226835, 0.012296959, 0.010609388, 0.013349839, 0.012631074, 0.011343173, 0.0105586, 0.011787361, 0.016246293, 0.012681468, 0.011280467, 0.012143379, 0.014062341, 0.012550763, 0.0097090425, 0.013372099, 0.012087927, 0.010716155, 0.011571556, 0.012169521, 0.013520762, 0.0108706355, 0.01211616, 0.011875984, 0.0111263255, 0.010805026, 0.011453583, 0.011525461, 0.011537641, 0.015235144, 0.0143654905, 0.013826668, 0.013029181, 0.014442956, 0.011226483, 0.011474473, 0.012039017, 0.012704867, 0.013140601, 0.011116938, 0.0108763175, 0.010762449, 0.013513774, 0.012288289, 0.01684932, 0.012534477, 0.011671731, 0.011800105, 0.012586112, 0.010900054, 0.013556446, 0.013986256, 0.012380086, 0.012108204, 0.014534886, 0.012178159, 0.01038687, 0.01069616, 0.010553984, 0.013591949, 0.013720887, 0.012015535, 0.011813127, 0.01200872, 0.010891179, 0.012331874, 0.0105222305, 0.011390208, 0.011952558, 0.014517238, 0.013604175, 0.013124183, 0.011818527, 0.011868391, 0.012355403, 0.01122587, 0.011846028, 0.011925072, 0.012186005, 0.012234311, 0.043099456, 0.010224396, 0.012117077, 0.011157761, 0.012556813, 0.011588435, 0.01025204, 0.010232829, 0.012084489, 0.013304883, 0.012350985]\n",
            "2021-02-19 19:55:02,783 : INFO : merging changes from 1204 documents into a model of 3204 documents\n",
            "2021-02-19 19:55:02,805 : INFO : topic #23 (0.010): 0.079*\"contour\" + 0.057*\"quadrat\" + 0.046*\"cluster\" + 0.046*\"problem\" + 0.040*\"orient\" + 0.036*\",\" + 0.033*\"assist\" + 0.033*\"geometr\" + 0.028*\"recogn\" + 0.024*\"design\"\n",
            "2021-02-19 19:55:02,806 : INFO : topic #90 (0.010): 0.179*\"map\" + 0.054*\"combinatori\" + 0.052*\"multiprocessor\" + 0.049*\"problem\" + 0.039*\"industri\" + 0.029*\"favor\" + 0.029*\"develop\" + 0.024*\"68\" + 0.024*\"call\" + 0.023*\"constant\"\n",
            "2021-02-19 19:55:02,807 : INFO : topic #53 (0.017): 0.207*\"solut\" + 0.181*\"problem\" + 0.166*\"equat\" + 0.071*\"numer\" + 0.067*\"linear\" + 0.063*\"differenti\" + 0.058*\"-\" + 0.028*\"boundari\" + 0.027*\"ordinari\" + 0.024*\"method\"\n",
            "2021-02-19 19:55:02,808 : INFO : topic #7 (0.018): 0.504*\"method\" + 0.038*\",\" + 0.038*\"compar\" + 0.037*\"-\" + 0.035*\"appli\" + 0.034*\"present\" + 0.028*\"nonlinear\" + 0.028*\"problem\" + 0.020*\"variat\" + 0.019*\"half\"\n",
            "2021-02-19 19:55:02,814 : INFO : topic #89 (0.043): 0.326*\"(\" + 0.315*\")\" + 0.230*\"algorithm\" + 0.037*\"[\" + 0.011*\"polynomi\" + 0.008*\"normal\" + 0.008*\"squar\" + 0.008*\"chebyshev\" + 0.006*\"e2\" + 0.006*\"coeffici\"\n",
            "2021-02-19 19:55:02,815 : INFO : topic diff=inf, rho=0.253169\n",
            "2021-02-19 19:55:02,832 : INFO : PROGRESS: pass 14, at document #2000/3204\n",
            "2021-02-19 19:55:03,778 : INFO : optimized alpha [0.01161099, 0.01406656, 0.0127715375, 0.013015692, 0.012387798, 0.011048231, 0.010454595, 0.017948022, 0.012249002, 0.012561367, 0.012279936, 0.010613119, 0.0133385295, 0.012843189, 0.011382409, 0.01053616, 0.011849029, 0.016750846, 0.012694364, 0.011316778, 0.0121826, 0.014258014, 0.012654192, 0.009689131, 0.013471123, 0.0120626865, 0.010707069, 0.011606642, 0.012211184, 0.013732649, 0.010913385, 0.012187505, 0.011908473, 0.011147412, 0.010802074, 0.01146823, 0.011523092, 0.011646987, 0.015269302, 0.014398052, 0.01381532, 0.01309557, 0.014517745, 0.011322986, 0.011466227, 0.0120987445, 0.01271601, 0.013278829, 0.011137506, 0.010894618, 0.010776599, 0.013515963, 0.012406347, 0.017066542, 0.012547107, 0.01166904, 0.011811405, 0.0127239395, 0.010933829, 0.013694727, 0.014087925, 0.012517715, 0.012111803, 0.014465109, 0.012186385, 0.010393514, 0.01071496, 0.010555688, 0.013715691, 0.013890689, 0.012011488, 0.011886019, 0.0120702125, 0.010889254, 0.0123801725, 0.010523798, 0.011398611, 0.011982356, 0.014707621, 0.013702876, 0.013224756, 0.011833323, 0.011943844, 0.012380383, 0.01125362, 0.011856818, 0.011960952, 0.01224192, 0.012276208, 0.045201987, 0.010221243, 0.012157609, 0.011145051, 0.012662866, 0.011602627, 0.010275224, 0.0102766985, 0.012233528, 0.013460531, 0.012421187]\n",
            "2021-02-19 19:55:03,781 : INFO : merging changes from 2000 documents into a model of 3204 documents\n",
            "2021-02-19 19:55:03,800 : INFO : topic #23 (0.010): 0.078*\"contour\" + 0.052*\"quadrat\" + 0.045*\"problem\" + 0.041*\"orient\" + 0.040*\"cluster\" + 0.034*\",\" + 0.031*\"geometr\" + 0.031*\"assist\" + 0.028*\"recogn\" + 0.024*\"meet\"\n",
            "2021-02-19 19:55:03,800 : INFO : topic #90 (0.010): 0.178*\"map\" + 0.052*\"combinatori\" + 0.048*\"problem\" + 0.044*\"multiprocessor\" + 0.040*\"industri\" + 0.028*\"develop\" + 0.025*\"favor\" + 0.023*\"call\" + 0.022*\"68\" + 0.021*\"augment\"\n",
            "2021-02-19 19:55:03,802 : INFO : topic #53 (0.017): 0.200*\"solut\" + 0.170*\"problem\" + 0.169*\"equat\" + 0.081*\"numer\" + 0.065*\"linear\" + 0.063*\"differenti\" + 0.058*\"-\" + 0.028*\"boundari\" + 0.027*\"ordinari\" + 0.024*\"method\"\n",
            "2021-02-19 19:55:03,802 : INFO : topic #7 (0.018): 0.505*\"method\" + 0.038*\",\" + 0.037*\"-\" + 0.037*\"compar\" + 0.034*\"appli\" + 0.034*\"present\" + 0.029*\"nonlinear\" + 0.027*\"problem\" + 0.020*\"variat\" + 0.020*\"half\"\n",
            "2021-02-19 19:55:03,803 : INFO : topic #89 (0.045): 0.329*\"(\" + 0.318*\")\" + 0.229*\"algorithm\" + 0.029*\"[\" + 0.012*\"polynomi\" + 0.009*\"squar\" + 0.008*\"normal\" + 0.008*\"chebyshev\" + 0.006*\"e2\" + 0.006*\"coeffici\"\n",
            "2021-02-19 19:55:03,805 : INFO : topic diff=inf, rho=0.245426\n",
            "2021-02-19 19:55:04,908 : INFO : -6.449 per-word bound, 87.4 perplexity estimate based on a held-out corpus of 1204 documents with 49783 words\n",
            "2021-02-19 19:55:04,909 : INFO : PROGRESS: pass 14, at document #3204/3204\n",
            "2021-02-19 19:55:05,759 : INFO : optimized alpha [0.011738124, 0.014335273, 0.012845208, 0.01319455, 0.0125456145, 0.011041932, 0.010500815, 0.018493114, 0.012349376, 0.012728389, 0.012459855, 0.010669317, 0.013559467, 0.012898985, 0.011428272, 0.010631189, 0.012005519, 0.016774224, 0.012871947, 0.011427845, 0.012298618, 0.014385336, 0.012761592, 0.009751411, 0.0136398785, 0.012281764, 0.010811688, 0.011694144, 0.012393319, 0.014045605, 0.010977773, 0.012331201, 0.012017869, 0.011240662, 0.0109318355, 0.011549129, 0.011670294, 0.011709166, 0.015607016, 0.014759678, 0.014067923, 0.013279435, 0.014788722, 0.01137907, 0.011594456, 0.012192902, 0.0128673185, 0.013413464, 0.011216989, 0.011003934, 0.010844286, 0.013760801, 0.0125138415, 0.01734497, 0.012679051, 0.011846162, 0.0119140595, 0.012887278, 0.0109963585, 0.013844492, 0.01435209, 0.012572495, 0.012260296, 0.014807448, 0.012354306, 0.010493962, 0.0108187385, 0.010622656, 0.013885644, 0.014061921, 0.012161266, 0.01204464, 0.012248696, 0.010988046, 0.012519237, 0.0105872145, 0.011461048, 0.0120830145, 0.014945987, 0.013977137, 0.013376132, 0.011959356, 0.012002315, 0.012598527, 0.011359175, 0.011986058, 0.0120941205, 0.012332127, 0.012471441, 0.04682331, 0.010279777, 0.01231055, 0.011293994, 0.012804685, 0.011717494, 0.010337625, 0.010344466, 0.012379501, 0.0135670835, 0.012619709]\n",
            "2021-02-19 19:55:05,767 : INFO : merging changes from 1204 documents into a model of 3204 documents\n",
            "2021-02-19 19:55:05,785 : INFO : topic #23 (0.010): 0.079*\"contour\" + 0.059*\"quadrat\" + 0.046*\"problem\" + 0.045*\"cluster\" + 0.040*\"orient\" + 0.036*\",\" + 0.033*\"assist\" + 0.033*\"geometr\" + 0.028*\"recogn\" + 0.023*\"design\"\n",
            "2021-02-19 19:55:05,786 : INFO : topic #90 (0.010): 0.181*\"map\" + 0.054*\"combinatori\" + 0.052*\"multiprocessor\" + 0.047*\"problem\" + 0.039*\"industri\" + 0.029*\"develop\" + 0.029*\"favor\" + 0.025*\"call\" + 0.024*\"68\" + 0.023*\"constant\"\n",
            "2021-02-19 19:55:05,788 : INFO : topic #53 (0.017): 0.207*\"solut\" + 0.179*\"problem\" + 0.166*\"equat\" + 0.071*\"numer\" + 0.068*\"linear\" + 0.063*\"differenti\" + 0.058*\"-\" + 0.027*\"ordinari\" + 0.027*\"boundari\" + 0.023*\"method\"\n",
            "2021-02-19 19:55:05,789 : INFO : topic #7 (0.018): 0.516*\"method\" + 0.038*\"compar\" + 0.038*\",\" + 0.035*\"appli\" + 0.035*\"-\" + 0.034*\"present\" + 0.028*\"nonlinear\" + 0.026*\"problem\" + 0.020*\"variat\" + 0.019*\"half\"\n",
            "2021-02-19 19:55:05,791 : INFO : topic #89 (0.047): 0.328*\"(\" + 0.318*\")\" + 0.228*\"algorithm\" + 0.036*\"[\" + 0.010*\"polynomi\" + 0.008*\"normal\" + 0.008*\"chebyshev\" + 0.008*\"squar\" + 0.006*\"e2\" + 0.005*\"coeffici\"\n",
            "2021-02-19 19:55:05,794 : INFO : topic diff=inf, rho=0.245426\n",
            "2021-02-19 19:55:05,813 : INFO : PROGRESS: pass 15, at document #2000/3204\n",
            "2021-02-19 19:55:06,716 : INFO : optimized alpha [0.011737925, 0.014503791, 0.013006219, 0.013264876, 0.012554629, 0.011127473, 0.0104792565, 0.018842222, 0.012447263, 0.012765877, 0.012445792, 0.01067455, 0.013550904, 0.013108177, 0.011468207, 0.010606907, 0.012067149, 0.01727661, 0.012888638, 0.011468747, 0.01233398, 0.014578109, 0.012862983, 0.009734681, 0.013736798, 0.012260641, 0.010802838, 0.011728509, 0.012442627, 0.014267863, 0.011021041, 0.0123995105, 0.012052494, 0.011262701, 0.01093535, 0.011567729, 0.0116705755, 0.011830358, 0.015642408, 0.014789863, 0.014055758, 0.013345683, 0.014857681, 0.011479262, 0.011586272, 0.0122558065, 0.012884229, 0.013551054, 0.011239866, 0.011023074, 0.010858263, 0.013766818, 0.012629817, 0.01755868, 0.01270049, 0.011844492, 0.011925103, 0.013033738, 0.011029484, 0.013981967, 0.01445843, 0.012706147, 0.012263585, 0.0147353355, 0.012361995, 0.010500422, 0.010838314, 0.01062584, 0.014011944, 0.014230746, 0.0121599445, 0.012117438, 0.012315958, 0.010983552, 0.012567838, 0.010588955, 0.011472281, 0.012112172, 0.0151356505, 0.014073562, 0.013474649, 0.011975121, 0.012074865, 0.012623781, 0.01139303, 0.011996474, 0.012131958, 0.012385427, 0.012516453, 0.04898692, 0.010276959, 0.012351466, 0.011283995, 0.012911805, 0.0117299035, 0.01036043, 0.010387467, 0.012532331, 0.013723287, 0.012691158]\n",
            "2021-02-19 19:55:06,719 : INFO : merging changes from 2000 documents into a model of 3204 documents\n",
            "2021-02-19 19:55:06,738 : INFO : topic #23 (0.010): 0.077*\"contour\" + 0.054*\"quadrat\" + 0.046*\"problem\" + 0.041*\"orient\" + 0.039*\"cluster\" + 0.034*\",\" + 0.031*\"geometr\" + 0.030*\"assist\" + 0.027*\"recogn\" + 0.024*\"meet\"\n",
            "2021-02-19 19:55:06,739 : INFO : topic #90 (0.010): 0.180*\"map\" + 0.053*\"combinatori\" + 0.046*\"problem\" + 0.044*\"multiprocessor\" + 0.040*\"industri\" + 0.028*\"develop\" + 0.025*\"favor\" + 0.025*\"call\" + 0.023*\"68\" + 0.021*\"augment\"\n",
            "2021-02-19 19:55:06,739 : INFO : topic #53 (0.018): 0.201*\"solut\" + 0.170*\"equat\" + 0.168*\"problem\" + 0.081*\"numer\" + 0.066*\"linear\" + 0.064*\"differenti\" + 0.059*\"-\" + 0.028*\"boundari\" + 0.027*\"ordinari\" + 0.023*\"method\"\n",
            "2021-02-19 19:55:06,741 : INFO : topic #7 (0.019): 0.518*\"method\" + 0.038*\",\" + 0.036*\"compar\" + 0.035*\"-\" + 0.035*\"appli\" + 0.034*\"present\" + 0.029*\"nonlinear\" + 0.025*\"problem\" + 0.020*\"variat\" + 0.020*\"half\"\n",
            "2021-02-19 19:55:06,742 : INFO : topic #89 (0.049): 0.331*\"(\" + 0.321*\")\" + 0.227*\"algorithm\" + 0.028*\"[\" + 0.010*\"polynomi\" + 0.009*\"squar\" + 0.008*\"normal\" + 0.008*\"chebyshev\" + 0.006*\"e2\" + 0.006*\"coeffici\"\n",
            "2021-02-19 19:55:06,743 : INFO : topic diff=inf, rho=0.238352\n",
            "2021-02-19 19:55:07,858 : INFO : -6.445 per-word bound, 87.1 perplexity estimate based on a held-out corpus of 1204 documents with 49783 words\n",
            "2021-02-19 19:55:07,861 : INFO : PROGRESS: pass 15, at document #3204/3204\n",
            "2021-02-19 19:55:08,705 : INFO : optimized alpha [0.011867037, 0.014772119, 0.013077639, 0.013437677, 0.012701731, 0.011121372, 0.0105268555, 0.01940209, 0.012542834, 0.012924604, 0.01261981, 0.010738144, 0.013773188, 0.013169542, 0.011510784, 0.010697791, 0.012220733, 0.017287564, 0.013070446, 0.011584368, 0.012450004, 0.014699213, 0.012970475, 0.009795705, 0.013899449, 0.012485827, 0.010903143, 0.011814139, 0.012628927, 0.014587644, 0.01109498, 0.012540391, 0.012164389, 0.011360653, 0.011069107, 0.011644563, 0.011821945, 0.011900149, 0.015969107, 0.015162034, 0.014303931, 0.013528729, 0.015127644, 0.011540726, 0.011716412, 0.012350279, 0.013035002, 0.013682708, 0.011324379, 0.011134583, 0.010926648, 0.014010214, 0.0127398865, 0.017835531, 0.012832214, 0.012018334, 0.012020779, 0.013201943, 0.011092895, 0.014128411, 0.014707345, 0.012759199, 0.012416509, 0.015075011, 0.012526559, 0.010602935, 0.01093992, 0.010693619, 0.014192348, 0.014395663, 0.012304133, 0.012282853, 0.012488832, 0.01109349, 0.012701559, 0.010651056, 0.011531147, 0.012213039, 0.015370433, 0.014347137, 0.013617464, 0.012098502, 0.012131903, 0.012835899, 0.011498601, 0.012127801, 0.012260003, 0.012466192, 0.012708289, 0.050613895, 0.010336344, 0.012501386, 0.011432331, 0.013045605, 0.011844643, 0.010427627, 0.010455786, 0.0126854535, 0.013829744, 0.012886428]\n",
            "2021-02-19 19:55:08,709 : INFO : merging changes from 1204 documents into a model of 3204 documents\n",
            "2021-02-19 19:55:08,735 : INFO : topic #23 (0.010): 0.079*\"contour\" + 0.061*\"quadrat\" + 0.047*\"problem\" + 0.045*\"cluster\" + 0.040*\"orient\" + 0.036*\",\" + 0.033*\"assist\" + 0.033*\"geometr\" + 0.028*\"recogn\" + 0.023*\"design\"\n",
            "2021-02-19 19:55:08,735 : INFO : topic #90 (0.010): 0.182*\"map\" + 0.054*\"combinatori\" + 0.052*\"multiprocessor\" + 0.046*\"problem\" + 0.039*\"industri\" + 0.029*\"develop\" + 0.029*\"favor\" + 0.026*\"call\" + 0.024*\"68\" + 0.023*\"constant\"\n",
            "2021-02-19 19:55:08,736 : INFO : topic #53 (0.018): 0.208*\"solut\" + 0.177*\"problem\" + 0.167*\"equat\" + 0.072*\"numer\" + 0.069*\"linear\" + 0.063*\"differenti\" + 0.059*\"-\" + 0.028*\"boundari\" + 0.027*\"ordinari\" + 0.022*\"system\"\n",
            "2021-02-19 19:55:08,737 : INFO : topic #7 (0.019): 0.527*\"method\" + 0.037*\"compar\" + 0.037*\",\" + 0.035*\"appli\" + 0.034*\"present\" + 0.033*\"-\" + 0.028*\"nonlinear\" + 0.025*\"problem\" + 0.019*\"variat\" + 0.018*\"half\"\n",
            "2021-02-19 19:55:08,746 : INFO : topic #89 (0.051): 0.330*\"(\" + 0.321*\")\" + 0.227*\"algorithm\" + 0.035*\"[\" + 0.009*\"polynomi\" + 0.008*\"normal\" + 0.008*\"chebyshev\" + 0.008*\"squar\" + 0.006*\"e2\" + 0.005*\"coeffici\"\n",
            "2021-02-19 19:55:08,749 : INFO : topic diff=inf, rho=0.238352\n",
            "2021-02-19 19:55:08,761 : INFO : PROGRESS: pass 16, at document #2000/3204\n",
            "2021-02-19 19:55:09,669 : INFO : optimized alpha [0.011870809, 0.01494524, 0.013236206, 0.013512623, 0.012714755, 0.01120534, 0.010508781, 0.019761305, 0.012636041, 0.012964006, 0.012613005, 0.010744724, 0.013767253, 0.013376106, 0.011548736, 0.010676736, 0.012281019, 0.017773727, 0.013089386, 0.0116230175, 0.012484579, 0.0148960985, 0.013066999, 0.009779621, 0.013996018, 0.012473031, 0.01089835, 0.011847816, 0.012676915, 0.014822418, 0.0111439815, 0.012611618, 0.012198271, 0.011380882, 0.01106972, 0.011660199, 0.011819143, 0.012024958, 0.016002167, 0.0151951155, 0.014289334, 0.013588676, 0.015194639, 0.011641951, 0.011706917, 0.012413406, 0.013051323, 0.013824469, 0.011352149, 0.01115587, 0.010941761, 0.014020089, 0.012858333, 0.018043764, 0.012856101, 0.012019057, 0.012028906, 0.013343321, 0.011125473, 0.014270085, 0.0148236975, 0.012892073, 0.012419464, 0.015005983, 0.012538059, 0.0106166685, 0.010962888, 0.010695699, 0.014313142, 0.014565387, 0.012305473, 0.012352772, 0.012556086, 0.011092993, 0.0127578145, 0.010654234, 0.011542424, 0.0122415675, 0.015550453, 0.014442966, 0.013714057, 0.01211523, 0.012203114, 0.012867426, 0.011533054, 0.012140681, 0.012296928, 0.012516977, 0.012753532, 0.0528133, 0.010333856, 0.012541259, 0.011426302, 0.0131538315, 0.011856735, 0.010452455, 0.010499219, 0.012840752, 0.013983479, 0.012959226]\n",
            "2021-02-19 19:55:09,673 : INFO : merging changes from 2000 documents into a model of 3204 documents\n",
            "2021-02-19 19:55:09,694 : INFO : topic #23 (0.010): 0.077*\"contour\" + 0.056*\"quadrat\" + 0.046*\"problem\" + 0.041*\"orient\" + 0.039*\"cluster\" + 0.034*\",\" + 0.031*\"geometr\" + 0.030*\"assist\" + 0.027*\"recogn\" + 0.024*\"meet\"\n",
            "2021-02-19 19:55:09,695 : INFO : topic #90 (0.010): 0.181*\"map\" + 0.053*\"combinatori\" + 0.045*\"multiprocessor\" + 0.044*\"problem\" + 0.040*\"industri\" + 0.028*\"develop\" + 0.025*\"favor\" + 0.025*\"call\" + 0.023*\"68\" + 0.021*\"constant\"\n",
            "2021-02-19 19:55:09,697 : INFO : topic #53 (0.018): 0.202*\"solut\" + 0.170*\"equat\" + 0.167*\"problem\" + 0.082*\"numer\" + 0.067*\"linear\" + 0.064*\"differenti\" + 0.059*\"-\" + 0.028*\"boundari\" + 0.027*\"ordinari\" + 0.024*\"system\"\n",
            "2021-02-19 19:55:09,697 : INFO : topic #7 (0.020): 0.529*\"method\" + 0.037*\",\" + 0.035*\"compar\" + 0.034*\"appli\" + 0.034*\"present\" + 0.033*\"-\" + 0.029*\"nonlinear\" + 0.023*\"problem\" + 0.020*\"variat\" + 0.020*\"half\"\n",
            "2021-02-19 19:55:09,705 : INFO : topic #89 (0.053): 0.333*\"(\" + 0.323*\")\" + 0.227*\"algorithm\" + 0.028*\"[\" + 0.009*\"polynomi\" + 0.009*\"squar\" + 0.008*\"chebyshev\" + 0.008*\"normal\" + 0.006*\"e2\" + 0.005*\"coeffici\"\n",
            "2021-02-19 19:55:09,706 : INFO : topic diff=inf, rho=0.231857\n",
            "2021-02-19 19:55:10,796 : INFO : -6.443 per-word bound, 87.0 perplexity estimate based on a held-out corpus of 1204 documents with 49783 words\n",
            "2021-02-19 19:55:10,798 : INFO : PROGRESS: pass 16, at document #3204/3204\n",
            "2021-02-19 19:55:11,663 : INFO : optimized alpha [0.011992875, 0.015221927, 0.013305544, 0.01368235, 0.012861503, 0.011199421, 0.010557657, 0.020309849, 0.012729456, 0.013119704, 0.012796224, 0.010809203, 0.013983142, 0.013437833, 0.011592723, 0.01077204, 0.012434265, 0.017786637, 0.01327551, 0.011743236, 0.012603119, 0.01501117, 0.013172204, 0.009841356, 0.014166369, 0.012699739, 0.010996614, 0.011938696, 0.012872265, 0.01515518, 0.011216453, 0.012754839, 0.012293632, 0.0114769265, 0.011207477, 0.01173774, 0.011972498, 0.012090674, 0.016336681, 0.015554973, 0.014541741, 0.013771126, 0.015451873, 0.0116951885, 0.011834483, 0.012505916, 0.013204265, 0.013953324, 0.011437145, 0.011267402, 0.011008775, 0.014265216, 0.012968495, 0.018312335, 0.012995315, 0.012199381, 0.012127355, 0.013519106, 0.011187625, 0.014419079, 0.015086652, 0.01294601, 0.012564692, 0.015346444, 0.012702033, 0.010715188, 0.011060398, 0.0107621625, 0.014490444, 0.014735592, 0.012456471, 0.012517933, 0.0127431685, 0.011200698, 0.012886496, 0.010719197, 0.011600179, 0.012342749, 0.015784856, 0.014716091, 0.013851375, 0.012233893, 0.012263564, 0.013083767, 0.011634265, 0.01227182, 0.0124296835, 0.012591201, 0.012952375, 0.054372244, 0.010392112, 0.012688488, 0.011569708, 0.013284997, 0.011971455, 0.010520309, 0.010570196, 0.012993746, 0.014087302, 0.013161385]\n",
            "2021-02-19 19:55:11,667 : INFO : merging changes from 1204 documents into a model of 3204 documents\n",
            "2021-02-19 19:55:11,686 : INFO : topic #23 (0.010): 0.079*\"contour\" + 0.062*\"quadrat\" + 0.047*\"problem\" + 0.045*\"cluster\" + 0.040*\"orient\" + 0.036*\",\" + 0.033*\"assist\" + 0.033*\"geometr\" + 0.027*\"recogn\" + 0.023*\"design\"\n",
            "2021-02-19 19:55:11,687 : INFO : topic #90 (0.010): 0.184*\"map\" + 0.054*\"combinatori\" + 0.052*\"multiprocessor\" + 0.044*\"problem\" + 0.039*\"industri\" + 0.030*\"develop\" + 0.029*\"favor\" + 0.026*\"call\" + 0.024*\"68\" + 0.023*\"constant\"\n",
            "2021-02-19 19:55:11,688 : INFO : topic #53 (0.018): 0.208*\"solut\" + 0.175*\"problem\" + 0.167*\"equat\" + 0.073*\"numer\" + 0.069*\"linear\" + 0.063*\"differenti\" + 0.059*\"-\" + 0.028*\"boundari\" + 0.027*\"ordinari\" + 0.022*\"system\"\n",
            "2021-02-19 19:55:11,689 : INFO : topic #7 (0.020): 0.537*\"method\" + 0.037*\"compar\" + 0.036*\",\" + 0.035*\"appli\" + 0.033*\"present\" + 0.031*\"-\" + 0.028*\"nonlinear\" + 0.023*\"problem\" + 0.019*\"variat\" + 0.018*\"half\"\n",
            "2021-02-19 19:55:11,690 : INFO : topic #89 (0.054): 0.332*\"(\" + 0.324*\")\" + 0.225*\"algorithm\" + 0.035*\"[\" + 0.008*\"normal\" + 0.008*\"chebyshev\" + 0.008*\"polynomi\" + 0.008*\"squar\" + 0.006*\"e2\" + 0.005*\"coeffici\"\n",
            "2021-02-19 19:55:11,694 : INFO : topic diff=inf, rho=0.231857\n",
            "2021-02-19 19:55:11,709 : INFO : PROGRESS: pass 17, at document #2000/3204\n",
            "2021-02-19 19:55:12,606 : INFO : optimized alpha [0.011997835, 0.015415152, 0.0134618385, 0.013757307, 0.012878379, 0.011281961, 0.010540404, 0.02066993, 0.012821078, 0.013155112, 0.012794919, 0.010813392, 0.013979787, 0.013643574, 0.011627495, 0.010756431, 0.012494712, 0.01826663, 0.013293527, 0.011785063, 0.012634061, 0.015202125, 0.01326709, 0.009823635, 0.0142674865, 0.012690758, 0.010993234, 0.011975816, 0.012927763, 0.015397628, 0.011268459, 0.012823238, 0.012326861, 0.011500693, 0.01120658, 0.011753208, 0.011974978, 0.012225879, 0.01637302, 0.015587496, 0.014529631, 0.013832742, 0.015518701, 0.011792148, 0.011829072, 0.012569342, 0.013223005, 0.014091486, 0.011468353, 0.0112920385, 0.011023732, 0.014272382, 0.013080698, 0.018515393, 0.013015524, 0.012202367, 0.012138098, 0.013667908, 0.011220966, 0.014553785, 0.015197585, 0.013076837, 0.012568785, 0.015278515, 0.012715875, 0.0107286675, 0.011086673, 0.010768054, 0.0146190105, 0.014904852, 0.012460311, 0.01259363, 0.012810455, 0.01120144, 0.012941637, 0.010722487, 0.011614072, 0.012369333, 0.015960813, 0.014808176, 0.013946222, 0.012255702, 0.012334914, 0.013109685, 0.011670686, 0.012284311, 0.012471392, 0.012638238, 0.013000829, 0.05662213, 0.010389903, 0.012730289, 0.011563551, 0.01339144, 0.0119845895, 0.010545905, 0.010615266, 0.013150199, 0.01424194, 0.013234088]\n",
            "2021-02-19 19:55:12,610 : INFO : merging changes from 2000 documents into a model of 3204 documents\n",
            "2021-02-19 19:55:12,629 : INFO : topic #23 (0.010): 0.077*\"contour\" + 0.057*\"quadrat\" + 0.047*\"problem\" + 0.041*\"orient\" + 0.040*\"cluster\" + 0.034*\",\" + 0.031*\"geometr\" + 0.030*\"assist\" + 0.027*\"recogn\" + 0.024*\"meet\"\n",
            "2021-02-19 19:55:12,629 : INFO : topic #90 (0.010): 0.183*\"map\" + 0.053*\"combinatori\" + 0.045*\"multiprocessor\" + 0.043*\"problem\" + 0.040*\"industri\" + 0.028*\"develop\" + 0.025*\"favor\" + 0.025*\"call\" + 0.023*\"68\" + 0.021*\"constant\"\n",
            "2021-02-19 19:55:12,630 : INFO : topic #53 (0.019): 0.202*\"solut\" + 0.171*\"equat\" + 0.165*\"problem\" + 0.082*\"numer\" + 0.067*\"linear\" + 0.064*\"differenti\" + 0.060*\"-\" + 0.028*\"boundari\" + 0.027*\"ordinari\" + 0.024*\"system\"\n",
            "2021-02-19 19:55:12,631 : INFO : topic #7 (0.021): 0.538*\"method\" + 0.036*\",\" + 0.035*\"compar\" + 0.034*\"appli\" + 0.033*\"present\" + 0.032*\"-\" + 0.029*\"nonlinear\" + 0.022*\"problem\" + 0.020*\"variat\" + 0.019*\"half\"\n",
            "2021-02-19 19:55:12,632 : INFO : topic #89 (0.057): 0.335*\"(\" + 0.326*\")\" + 0.225*\"algorithm\" + 0.028*\"[\" + 0.009*\"chebyshev\" + 0.008*\"squar\" + 0.008*\"normal\" + 0.008*\"polynomi\" + 0.006*\"e2\" + 0.005*\"coeffici\"\n",
            "2021-02-19 19:55:12,634 : INFO : topic diff=inf, rho=0.225865\n",
            "2021-02-19 19:55:13,703 : INFO : -6.441 per-word bound, 86.9 perplexity estimate based on a held-out corpus of 1204 documents with 49783 words\n",
            "2021-02-19 19:55:13,704 : INFO : PROGRESS: pass 17, at document #3204/3204\n",
            "2021-02-19 19:55:14,552 : INFO : optimized alpha [0.012122178, 0.0157006, 0.013529225, 0.013926703, 0.013020056, 0.011276209, 0.010588543, 0.021236654, 0.012912561, 0.013317905, 0.012977635, 0.010884853, 0.014200229, 0.013705765, 0.011670669, 0.010851995, 0.012645464, 0.018271208, 0.013476749, 0.01190983, 0.0127528515, 0.015325645, 0.013367503, 0.009882388, 0.0144349085, 0.012921629, 0.011093893, 0.012064921, 0.0131228315, 0.015735304, 0.011339516, 0.012976108, 0.012420498, 0.011594964, 0.011348422, 0.011831542, 0.012121271, 0.0122968005, 0.016703496, 0.015949914, 0.014783821, 0.014012259, 0.01578727, 0.011853103, 0.0119499555, 0.012662451, 0.0133683, 0.014220484, 0.011553943, 0.011401582, 0.011097748, 0.01451669, 0.013191098, 0.018775852, 0.013154743, 0.012386834, 0.012232394, 0.013843377, 0.011286194, 0.0146972025, 0.015448853, 0.013129266, 0.012721055, 0.015617233, 0.01287223, 0.01083153, 0.011184499, 0.01082713, 0.014790635, 0.015074882, 0.0126157245, 0.012744403, 0.013011904, 0.011309348, 0.013067925, 0.010790339, 0.011668596, 0.01246861, 0.016188778, 0.015075513, 0.014078232, 0.012372197, 0.012394041, 0.013323047, 0.011772183, 0.012417759, 0.012604203, 0.012706194, 0.013194402, 0.058100436, 0.010447102, 0.012891846, 0.011704537, 0.013525158, 0.012094989, 0.01061446, 0.010688897, 0.013303254, 0.014343287, 0.013435963]\n",
            "2021-02-19 19:55:14,556 : INFO : merging changes from 1204 documents into a model of 3204 documents\n",
            "2021-02-19 19:55:14,580 : INFO : topic #23 (0.010): 0.079*\"contour\" + 0.063*\"quadrat\" + 0.047*\"problem\" + 0.045*\"cluster\" + 0.040*\"orient\" + 0.036*\",\" + 0.033*\"assist\" + 0.033*\"geometr\" + 0.027*\"recogn\" + 0.022*\"design\"\n",
            "2021-02-19 19:55:14,581 : INFO : topic #90 (0.010): 0.186*\"map\" + 0.055*\"combinatori\" + 0.052*\"multiprocessor\" + 0.041*\"problem\" + 0.039*\"industri\" + 0.030*\"develop\" + 0.029*\"favor\" + 0.026*\"call\" + 0.025*\"68\" + 0.023*\"constant\"\n",
            "2021-02-19 19:55:14,583 : INFO : topic #53 (0.019): 0.209*\"solut\" + 0.173*\"problem\" + 0.168*\"equat\" + 0.074*\"numer\" + 0.069*\"linear\" + 0.064*\"differenti\" + 0.060*\"-\" + 0.027*\"boundari\" + 0.027*\"ordinari\" + 0.023*\"system\"\n",
            "2021-02-19 19:55:14,583 : INFO : topic #7 (0.021): 0.546*\"method\" + 0.036*\"compar\" + 0.036*\",\" + 0.034*\"appli\" + 0.033*\"present\" + 0.030*\"-\" + 0.028*\"nonlinear\" + 0.022*\"problem\" + 0.019*\"variat\" + 0.018*\"half\"\n",
            "2021-02-19 19:55:14,592 : INFO : topic #89 (0.058): 0.334*\"(\" + 0.326*\")\" + 0.223*\"algorithm\" + 0.035*\"[\" + 0.008*\"normal\" + 0.008*\"chebyshev\" + 0.008*\"squar\" + 0.006*\"polynomi\" + 0.006*\"e2\" + 0.005*\"greatest\"\n",
            "2021-02-19 19:55:14,596 : INFO : topic diff=inf, rho=0.225865\n",
            "2021-02-19 19:55:14,610 : INFO : PROGRESS: pass 18, at document #2000/3204\n",
            "2021-02-19 19:55:15,557 : INFO : optimized alpha [0.012126923, 0.015900666, 0.013683381, 0.014000173, 0.013037872, 0.011357435, 0.010575573, 0.021602271, 0.013004162, 0.013352363, 0.012980225, 0.010892737, 0.014194635, 0.013909309, 0.011707593, 0.010833168, 0.012701933, 0.0187492, 0.013499921, 0.011953466, 0.012780302, 0.015514244, 0.013460869, 0.0098675005, 0.014539044, 0.012910553, 0.011093032, 0.012102775, 0.013181461, 0.015980698, 0.011393191, 0.013044749, 0.0124531295, 0.011619584, 0.011351101, 0.011849461, 0.012120787, 0.012434394, 0.016739555, 0.015980167, 0.01477253, 0.014074021, 0.015845193, 0.011948664, 0.011944579, 0.012727659, 0.013389522, 0.014367812, 0.011583384, 0.011425719, 0.011114969, 0.01452441, 0.013304574, 0.018973822, 0.013170083, 0.012389279, 0.012241679, 0.013995011, 0.011321561, 0.014834816, 0.015569906, 0.013258199, 0.012724807, 0.015546826, 0.012886932, 0.010851894, 0.011211494, 0.010833145, 0.0149139995, 0.015243689, 0.012624794, 0.012818818, 0.013087893, 0.011313839, 0.013124895, 0.010794942, 0.011679889, 0.012494714, 0.016360791, 0.015167316, 0.014172979, 0.012390777, 0.012464262, 0.013350838, 0.011810512, 0.012431213, 0.0126422215, 0.012746875, 0.013245993, 0.060411327, 0.010446319, 0.012934071, 0.01169959, 0.013631456, 0.012105148, 0.010640822, 0.010736777, 0.013463948, 0.014495801, 0.013507208]\n",
            "2021-02-19 19:55:15,561 : INFO : merging changes from 2000 documents into a model of 3204 documents\n",
            "2021-02-19 19:55:15,587 : INFO : topic #23 (0.010): 0.078*\"contour\" + 0.058*\"quadrat\" + 0.047*\"problem\" + 0.041*\"orient\" + 0.040*\"cluster\" + 0.034*\",\" + 0.031*\"geometr\" + 0.031*\"assist\" + 0.027*\"recogn\" + 0.024*\"meet\"\n",
            "2021-02-19 19:55:15,587 : INFO : topic #90 (0.010): 0.186*\"map\" + 0.054*\"combinatori\" + 0.045*\"multiprocessor\" + 0.039*\"problem\" + 0.039*\"industri\" + 0.029*\"develop\" + 0.026*\"call\" + 0.026*\"favor\" + 0.023*\"68\" + 0.021*\"constant\"\n",
            "2021-02-19 19:55:15,589 : INFO : topic #53 (0.019): 0.203*\"solut\" + 0.171*\"equat\" + 0.163*\"problem\" + 0.083*\"numer\" + 0.068*\"linear\" + 0.064*\"differenti\" + 0.060*\"-\" + 0.028*\"boundari\" + 0.028*\"ordinari\" + 0.025*\"system\"\n",
            "2021-02-19 19:55:15,590 : INFO : topic #7 (0.022): 0.547*\"method\" + 0.036*\",\" + 0.035*\"compar\" + 0.034*\"appli\" + 0.033*\"present\" + 0.030*\"-\" + 0.028*\"nonlinear\" + 0.021*\"problem\" + 0.020*\"variat\" + 0.019*\"half\"\n",
            "2021-02-19 19:55:15,598 : INFO : topic #89 (0.060): 0.337*\"(\" + 0.329*\")\" + 0.223*\"algorithm\" + 0.028*\"[\" + 0.009*\"chebyshev\" + 0.008*\"squar\" + 0.008*\"normal\" + 0.006*\"e2\" + 0.006*\"polynomi\" + 0.005*\"coeffici\"\n",
            "2021-02-19 19:55:15,602 : INFO : topic diff=inf, rho=0.220316\n",
            "2021-02-19 19:55:16,829 : INFO : -6.438 per-word bound, 86.7 perplexity estimate based on a held-out corpus of 1204 documents with 49783 words\n",
            "2021-02-19 19:55:16,830 : INFO : PROGRESS: pass 18, at document #3204/3204\n",
            "2021-02-19 19:55:17,674 : INFO : optimized alpha [0.012246922, 0.016186642, 0.013748945, 0.014174631, 0.013177168, 0.011351836, 0.010621047, 0.02217612, 0.013096231, 0.013510158, 0.013160307, 0.010969025, 0.014409243, 0.013972049, 0.011750025, 0.010927067, 0.0128504, 0.018735003, 0.013680413, 0.012085071, 0.012894653, 0.015637908, 0.013561851, 0.009928915, 0.014701083, 0.013150549, 0.011191976, 0.012190325, 0.013373941, 0.016329104, 0.011462906, 0.013195411, 0.012542697, 0.011714344, 0.01149285, 0.011926395, 0.01226251, 0.012503717, 0.017069262, 0.016339505, 0.015026073, 0.014250816, 0.016101655, 0.012001638, 0.01206557, 0.012816672, 0.013537333, 0.014494423, 0.01166538, 0.011535554, 0.011185656, 0.014759988, 0.013410407, 0.019229747, 0.013316632, 0.012564247, 0.012334321, 0.014168237, 0.011383522, 0.014981018, 0.015838752, 0.013309238, 0.012881714, 0.015884075, 0.013047997, 0.010953041, 0.011309719, 0.010891234, 0.015091042, 0.015424794, 0.012777736, 0.012967335, 0.013313572, 0.011424153, 0.013253866, 0.010865589, 0.011735716, 0.0125945, 0.016588759, 0.015434536, 0.014302565, 0.012505275, 0.01252219, 0.013559035, 0.011912451, 0.012564648, 0.012772837, 0.012815975, 0.013437099, 0.06186698, 0.010500634, 0.013090823, 0.011842667, 0.013757952, 0.012215826, 0.010715886, 0.010809104, 0.013629477, 0.014594833, 0.013706494]\n",
            "2021-02-19 19:55:17,678 : INFO : merging changes from 1204 documents into a model of 3204 documents\n",
            "2021-02-19 19:55:17,699 : INFO : topic #23 (0.010): 0.079*\"contour\" + 0.063*\"quadrat\" + 0.047*\"problem\" + 0.045*\"cluster\" + 0.040*\"orient\" + 0.036*\",\" + 0.034*\"assist\" + 0.033*\"geometr\" + 0.027*\"recogn\" + 0.023*\"test\"\n",
            "2021-02-19 19:55:17,700 : INFO : topic #90 (0.011): 0.189*\"map\" + 0.056*\"combinatori\" + 0.052*\"multiprocessor\" + 0.039*\"industri\" + 0.037*\"problem\" + 0.031*\"develop\" + 0.030*\"favor\" + 0.027*\"call\" + 0.025*\"68\" + 0.024*\"algorithm\"\n",
            "2021-02-19 19:55:17,704 : INFO : topic #53 (0.019): 0.210*\"solut\" + 0.169*\"equat\" + 0.168*\"problem\" + 0.075*\"numer\" + 0.070*\"linear\" + 0.064*\"differenti\" + 0.060*\"-\" + 0.028*\"boundari\" + 0.028*\"ordinari\" + 0.023*\"system\"\n",
            "2021-02-19 19:55:17,707 : INFO : topic #7 (0.022): 0.555*\"method\" + 0.036*\"compar\" + 0.035*\",\" + 0.034*\"appli\" + 0.033*\"present\" + 0.028*\"-\" + 0.028*\"nonlinear\" + 0.020*\"problem\" + 0.020*\"variat\" + 0.018*\"half\"\n",
            "2021-02-19 19:55:17,708 : INFO : topic #89 (0.062): 0.335*\"(\" + 0.328*\")\" + 0.222*\"algorithm\" + 0.034*\"[\" + 0.008*\"normal\" + 0.008*\"chebyshev\" + 0.008*\"squar\" + 0.006*\"e2\" + 0.005*\"polynomi\" + 0.005*\"greatest\"\n",
            "2021-02-19 19:55:17,710 : INFO : topic diff=inf, rho=0.220316\n",
            "2021-02-19 19:55:17,726 : INFO : PROGRESS: pass 19, at document #2000/3204\n",
            "2021-02-19 19:55:18,577 : INFO : optimized alpha [0.012252807, 0.01637813, 0.013904084, 0.0142497625, 0.01319735, 0.011431854, 0.010611044, 0.022540137, 0.013187907, 0.01354519, 0.013159597, 0.010979256, 0.014406156, 0.014172075, 0.011787753, 0.010911038, 0.012905772, 0.019206787, 0.013705689, 0.012133043, 0.012922971, 0.015825927, 0.013652331, 0.009914543, 0.014800417, 0.013138642, 0.011192364, 0.012227554, 0.013434215, 0.016584419, 0.011520743, 0.013269991, 0.012577529, 0.011739835, 0.011496485, 0.011941474, 0.012260466, 0.012639741, 0.01710143, 0.016372867, 0.0150155835, 0.0143097, 0.016166639, 0.012099758, 0.012061473, 0.012879452, 0.013554953, 0.01464001, 0.011695583, 0.011560478, 0.011203865, 0.014766714, 0.013526669, 0.019424845, 0.013338721, 0.012571652, 0.012343506, 0.014321317, 0.011418342, 0.015118395, 0.015954722, 0.013436401, 0.012883656, 0.015819842, 0.01306634, 0.010975407, 0.011342336, 0.010898526, 0.015212614, 0.015595028, 0.012787748, 0.013041967, 0.013392495, 0.011428474, 0.013316916, 0.010873755, 0.0117418775, 0.01262014, 0.016764222, 0.015522765, 0.014394251, 0.012523459, 0.0125913555, 0.01358432, 0.011950088, 0.012581787, 0.012814177, 0.012853289, 0.013490439, 0.06417224, 0.010496683, 0.013130691, 0.011837567, 0.013864184, 0.012227062, 0.010740649, 0.010856237, 0.0137932105, 0.014746955, 0.013776278]\n",
            "2021-02-19 19:55:18,580 : INFO : merging changes from 2000 documents into a model of 3204 documents\n",
            "2021-02-19 19:55:18,599 : INFO : topic #23 (0.010): 0.078*\"contour\" + 0.058*\"quadrat\" + 0.047*\"problem\" + 0.041*\"orient\" + 0.040*\"cluster\" + 0.035*\",\" + 0.033*\"assist\" + 0.031*\"geometr\" + 0.027*\"recogn\" + 0.024*\"meet\"\n",
            "2021-02-19 19:55:18,599 : INFO : topic #90 (0.010): 0.189*\"map\" + 0.056*\"combinatori\" + 0.046*\"multiprocessor\" + 0.039*\"industri\" + 0.036*\"problem\" + 0.029*\"develop\" + 0.027*\"call\" + 0.026*\"favor\" + 0.024*\"68\" + 0.022*\"algorithm\"\n",
            "2021-02-19 19:55:18,601 : INFO : topic #53 (0.019): 0.204*\"solut\" + 0.172*\"equat\" + 0.159*\"problem\" + 0.084*\"numer\" + 0.069*\"linear\" + 0.065*\"differenti\" + 0.060*\"-\" + 0.028*\"boundari\" + 0.028*\"ordinari\" + 0.025*\"system\"\n",
            "2021-02-19 19:55:18,605 : INFO : topic #7 (0.023): 0.555*\"method\" + 0.035*\",\" + 0.035*\"compar\" + 0.034*\"appli\" + 0.033*\"present\" + 0.029*\"-\" + 0.028*\"nonlinear\" + 0.020*\"variat\" + 0.019*\"half\" + 0.019*\"problem\"\n",
            "2021-02-19 19:55:18,611 : INFO : topic #89 (0.064): 0.338*\"(\" + 0.330*\")\" + 0.222*\"algorithm\" + 0.028*\"[\" + 0.009*\"chebyshev\" + 0.008*\"squar\" + 0.008*\"normal\" + 0.006*\"e2\" + 0.005*\"coeffici\" + 0.004*\"polynomi\"\n",
            "2021-02-19 19:55:18,613 : INFO : topic diff=inf, rho=0.215156\n",
            "2021-02-19 19:55:19,649 : INFO : -6.436 per-word bound, 86.6 perplexity estimate based on a held-out corpus of 1204 documents with 49783 words\n",
            "2021-02-19 19:55:19,650 : INFO : PROGRESS: pass 19, at document #3204/3204\n",
            "2021-02-19 19:55:20,459 : INFO : optimized alpha [0.012370795, 0.01667333, 0.0139654195, 0.0144216865, 0.013339133, 0.011426398, 0.010665513, 0.023129005, 0.013278215, 0.0137029, 0.013344274, 0.011054324, 0.014620403, 0.014230351, 0.011827322, 0.011001433, 0.013054333, 0.019184718, 0.013886053, 0.012260556, 0.013037786, 0.015949773, 0.01374896, 0.009974977, 0.014957198, 0.013380831, 0.011287725, 0.012311426, 0.013621922, 0.016947152, 0.011593455, 0.013420925, 0.012670119, 0.011835144, 0.0116403755, 0.0120192515, 0.012404602, 0.012709753, 0.017421417, 0.016732223, 0.015263195, 0.01448645, 0.016428716, 0.012153791, 0.012182712, 0.012969235, 0.013702915, 0.014764339, 0.011774051, 0.011672758, 0.011273331, 0.015001984, 0.013630516, 0.019676473, 0.01348072, 0.012748818, 0.0124346, 0.014497382, 0.011481293, 0.015259364, 0.016215377, 0.013486113, 0.013042912, 0.016153123, 0.013229799, 0.011084853, 0.011445115, 0.010953677, 0.015389765, 0.01577627, 0.012938362, 0.013197718, 0.0136137465, 0.011539102, 0.013441402, 0.010945199, 0.011796824, 0.0127159655, 0.016992146, 0.015787281, 0.014521556, 0.012636102, 0.012645919, 0.013789942, 0.012050354, 0.012713218, 0.0129451305, 0.012918856, 0.01367663, 0.06557172, 0.010550137, 0.013289959, 0.011969968, 0.013988557, 0.012331541, 0.01081831, 0.010925383, 0.013959078, 0.014843818, 0.01397552]\n",
            "2021-02-19 19:55:20,462 : INFO : merging changes from 1204 documents into a model of 3204 documents\n",
            "2021-02-19 19:55:20,483 : INFO : topic #23 (0.010): 0.079*\"contour\" + 0.063*\"quadrat\" + 0.047*\"problem\" + 0.045*\"cluster\" + 0.040*\"orient\" + 0.037*\",\" + 0.035*\"assist\" + 0.033*\"geometr\" + 0.027*\"recogn\" + 0.023*\"test\"\n",
            "2021-02-19 19:55:20,483 : INFO : topic #90 (0.011): 0.192*\"map\" + 0.058*\"combinatori\" + 0.053*\"multiprocessor\" + 0.039*\"industri\" + 0.034*\"problem\" + 0.031*\"develop\" + 0.030*\"favor\" + 0.027*\"call\" + 0.025*\"68\" + 0.024*\"algorithm\"\n",
            "2021-02-19 19:55:20,485 : INFO : topic #53 (0.020): 0.211*\"solut\" + 0.170*\"equat\" + 0.164*\"problem\" + 0.076*\"numer\" + 0.071*\"linear\" + 0.065*\"differenti\" + 0.060*\"-\" + 0.028*\"ordinari\" + 0.028*\"boundari\" + 0.024*\"system\"\n",
            "2021-02-19 19:55:20,488 : INFO : topic #7 (0.023): 0.562*\"method\" + 0.036*\"compar\" + 0.035*\",\" + 0.034*\"appli\" + 0.033*\"present\" + 0.028*\"nonlinear\" + 0.027*\"-\" + 0.020*\"variat\" + 0.018*\"half\" + 0.018*\"problem\"\n",
            "2021-02-19 19:55:20,492 : INFO : topic #89 (0.066): 0.337*\"(\" + 0.330*\")\" + 0.221*\"algorithm\" + 0.034*\"[\" + 0.008*\"normal\" + 0.008*\"chebyshev\" + 0.008*\"squar\" + 0.006*\"e2\" + 0.005*\"greatest\" + 0.005*\"coeffici\"\n",
            "2021-02-19 19:55:20,494 : INFO : topic diff=inf, rho=0.215156\n"
          ],
          "name": "stderr"
        },
        {
          "output_type": "execute_result",
          "data": {
            "text/plain": [
              "[(0, 0.0051548197),\n",
              " (1, 0.0069476548),\n",
              " (2, 0.005819288),\n",
              " (3, 0.0060094115),\n",
              " (4, 0.0055583194),\n",
              " (5, 0.0047612963),\n",
              " (6, 0.004444241),\n",
              " (7, 0.009637687),\n",
              " (8, 0.0055329353),\n",
              " (9, 0.005709898),\n",
              " (10, 0.0055604614),\n",
              " (11, 0.004606256),\n",
              " (12, 0.006092215),\n",
              " (13, 0.0059296833),\n",
              " (14, 0.0049283584),\n",
              " (15, 0.004584217),\n",
              " (16, 0.005439645),\n",
              " (17, 0.007994132),\n",
              " (18, 0.005786217),\n",
              " (19, 0.005108884),\n",
              " (20, 0.00543275),\n",
              " (21, 0.0066461535),\n",
              " (22, 0.005729091),\n",
              " (23, 0.0041565),\n",
              " (24, 0.006232555),\n",
              " (25, 0.0055756946),\n",
              " (26, 0.0047035124),\n",
              " (27, 0.005130081),\n",
              " (28, 0.005676155),\n",
              " (29, 0.0070617544),\n",
              " (30, 0.004830908),\n",
              " (31, 0.005592401),\n",
              " (32, 0.005279546),\n",
              " (33, 0.004931618),\n",
              " (34, 0.0048504593),\n",
              " (35, 0.0050083343),\n",
              " (36, 0.005168907),\n",
              " (37, 0.005296061),\n",
              " (38, 0.007259377),\n",
              " (39, 0.006972195),\n",
              " (40, 0.006360062),\n",
              " (41, 0.0060363975),\n",
              " (42, 0.006845726),\n",
              " (43, 0.0050643957),\n",
              " (44, 0.005076447),\n",
              " (45, 0.0054041855),\n",
              " (46, 0.0057099047),\n",
              " (47, 0.006152192),\n",
              " (48, 0.0049061608),\n",
              " (49, 0.0048639528),\n",
              " (50, 0.0046975147),\n",
              " (51, 0.0062512173),\n",
              " (52, 0.0056797364),\n",
              " (53, 0.008199043),\n",
              " (54, 0.0056173173),\n",
              " (55, 0.0053123394),\n",
              " (56, 0.005181407),\n",
              " (57, 0.006040953),\n",
              " (58, 0.0047841705),\n",
              " (59, 0.006358465),\n",
              " (60, 0.0067568286),\n",
              " (61, 0.005619565),\n",
              " (62, 0.005434886),\n",
              " (63, 0.0067308885),\n",
              " (64, 0.0055127605),\n",
              " (65, 0.004618977),\n",
              " (66, 0.0047690957),\n",
              " (67, 0.004564317),\n",
              " (68, 0.0064128023),\n",
              " (69, 0.006573856),\n",
              " (70, 0.0053913207),\n",
              " (71, 0.0054993927),\n",
              " (72, 0.0056727487),\n",
              " (73, 0.004808259),\n",
              " (74, 0.005600934),\n",
              " (75, 0.0045607844),\n",
              " (76, 0.00491565),\n",
              " (77, 0.00529865),\n",
              " (78, 0.0070805033),\n",
              " (79, 0.0065784445),\n",
              " (80, 0.0060510263),\n",
              " (81, 0.0052653714),\n",
              " (82, 0.005269462),\n",
              " (83, 0.0057461676),\n",
              " (84, 0.0050212946),\n",
              " (85, 0.4219902),\n",
              " (86, 0.005394141),\n",
              " (87, 0.005383193),\n",
              " (88, 0.005698952),\n",
              " (89, 0.027323255),\n",
              " (90, 0.004396165),\n",
              " (91, 0.005537829),\n",
              " (92, 0.004987798),\n",
              " (93, 0.0058289296),\n",
              " (94, 0.005138463),\n",
              " (95, 0.004507911),\n",
              " (96, 0.0045525273),\n",
              " (97, 0.005816646),\n",
              " (98, 0.0061853104),\n",
              " (99, 0.0058234967)]"
            ]
          },
          "metadata": {
            "tags": []
          },
          "execution_count": 86
        }
      ]
    },
    {
      "cell_type": "markdown",
      "metadata": {
        "id": "uHuHf65jyg4v"
      },
      "source": [
        "\\#### Please do not change this. This cell is used for grading."
      ]
    },
    {
      "cell_type": "markdown",
      "metadata": {
        "id": "2w_-CUiyyg4w"
      },
      "source": [
        "---\n",
        "Now we can use the `DenseRetrievalModel` class to obtain an LDA search function.\n",
        "You can test your LDA model in the following cell: Try finding queries which are lexically different to documents, but semantically similar - does LDA work well for these queries?!"
      ]
    },
    {
      "cell_type": "code",
      "metadata": {
        "colab": {
          "base_uri": "https://localhost:8080/",
          "height": 50,
          "referenced_widgets": [
            "569af64beaab4597bcead076d6308940",
            "5398d6691a0c4ac0a6901984281c92a9",
            "5a5d0fdb61c54fecab8791568625c216"
          ]
        },
        "id": "o_ryPvpmyg4w",
        "outputId": "ba434f14-4ef7-4870-d48e-b4f546c72fe9"
      },
      "source": [
        "drm_lda = DenseRetrievalRanker(lda, jenson_shannon_sim)\n",
        "\n",
        "# test your LDA model\n",
        "search_fn = drm_lda.search\n",
        "\n",
        "text = widgets.Text(description=\"Search Bar\", width=200)\n",
        "display(text)\n",
        "\n",
        "\n",
        "text.on_submit(handle_submit_2)"
      ],
      "execution_count": null,
      "outputs": [
        {
          "output_type": "display_data",
          "data": {
            "application/vnd.jupyter.widget-view+json": {
              "model_id": "569af64beaab4597bcead076d6308940",
              "version_major": 2,
              "version_minor": 0
            },
            "text/plain": [
              "Text(value='', description='Search Bar')"
            ]
          },
          "metadata": {
            "tags": []
          }
        }
      ]
    },
    {
      "cell_type": "markdown",
      "metadata": {
        "id": "_S-ADxsryg4w"
      },
      "source": [
        "## Section 8: Word2Vec/Doc2Vec (20 points) <a class=\"anchor\" id=\"2vec\"></a>\n",
        "\n",
        "[Back to Part 2](#part2)\n",
        "\n",
        "We will implement two other methods here, the Word2Vec model and the Doc2Vec model, also using `gensim`. Word2Vec creates representations of words, not documents, so the word level vectors need to be aggregated to obtain a representation for the document. Here, we will simply take the mean of the vectors. \n",
        "\n",
        "\n",
        "A drawback of these models is that they need a lot of training data. Our dataset is tiny, so in addition to using a model trained on the data, we will also use a pre-trained model for Word2Vec (this will be automatically downloaded).     \n",
        "\n",
        "*Note*:\n",
        "1. The code in vectorize_documents / vectorize_query should return gensim-like vectors i.e `[(dim, val), .. (dim, val)]`. \n",
        "2. For Word2Vec: You should also handle the following two cases: (a) A word in the query is not present in the vocabulary of the model and (b) none of the words in the query are present in the model - you can return 0 scores for all documents in this case. For either of these, you can check if a `word` is present in the vocab by using `word in self.model`\n"
      ]
    },
    {
      "cell_type": "code",
      "metadata": {
        "colab": {
          "base_uri": "https://localhost:8080/"
        },
        "id": "rQQMaQAtyg4w",
        "outputId": "a70fb757-3f48-4cb0-ffb1-d865bb2d423c"
      },
      "source": [
        "class W2VRetrievalModel(VectorSpaceRetrievalModel):\n",
        "    def __init__(self, doc_repr):\n",
        "        super().__init__(doc_repr)\n",
        "        \n",
        "        # the dimensionality of the vectors\n",
        "        self.size = 100 \n",
        "        self.min_count = 1\n",
        "    \n",
        "    def train_model(self):\n",
        "        \"\"\"\n",
        "        Trains the W2V model\n",
        "        \"\"\"\n",
        "        # YOUR CODE HERE\n",
        "        self.model = Word2Vec(sentences = self.documents, size=self.size, min_count=self.min_count)\n",
        "        \n",
        "    def vectorize_documents(self):\n",
        "        \"\"\"\n",
        "            Returns a doc_id -> vector dictionary\n",
        "        \"\"\"\n",
        "        # YOUR CODE HERE\n",
        "        vector_dictionary = {}\n",
        "        for doc_id, doc in enumerate(self.documents):\n",
        "            term_vector = np.zeros((len(doc), self.size))\n",
        "            for i, term in enumerate(doc):\n",
        "                if term in self.model:\n",
        "                    term_vector[i] = self.model[term]  # model is Word2Vec model from our documents which returns an 100-size array with the vector for the term\n",
        "            doc_vector = term_vector.mean(0)\n",
        "            vector_dictionary[doc_id+1] = list(enumerate(doc_vector)) # doc_id+1 anders dan wordt de lijst vanaf 0 geindexeerd terwijl er geen doc_id=0 bestaat\n",
        "        return vector_dictionary\n",
        "\n",
        "    def vectorize_query(self, query):\n",
        "        \"\"\"\n",
        "        Vectorizes the query using the W2V model\n",
        "        \"\"\"\n",
        "        # YOUR CODE HERE\n",
        "        query = process_text(query, **config_2)\n",
        "        term_vector = np.zeros((len(query), self.size))\n",
        "        for i, term in enumerate(query):\n",
        "            if term in self.model:\n",
        "                term_vector[i] = self.model[term]\n",
        "        query_vector = list(enumerate(term_vector.mean(0)))\n",
        "        return query_vector\n",
        "    \n",
        "    \n",
        "class W2VPretrainedRetrievalModel(W2VRetrievalModel):\n",
        "    def __init__(self, doc_repr):\n",
        "        super().__init__(doc_repr)\n",
        "        self.model_name = \"word2vec-google-news-300\"\n",
        "        self.size = 300\n",
        "    \n",
        "    def train_model(self):\n",
        "        \"\"\"\n",
        "        Loads the pretrained model\n",
        "        \"\"\"\n",
        "        self.model = g_downloader.load(self.model_name)\n",
        "\n",
        "w2v = W2VRetrievalModel(doc_repr_2)\n",
        "w2v.train_model()\n",
        "\n",
        "# you can now get a W2V vector for a given query in the following way:\n",
        "w2v.vectorize_query(\"report\")"
      ],
      "execution_count": null,
      "outputs": [
        {
          "output_type": "stream",
          "text": [
            "2021-02-19 19:55:22,756 : INFO : adding document #0 to Dictionary(0 unique tokens: [])\n",
            "2021-02-19 19:55:22,850 : INFO : built Dictionary(5937 unique tokens: ['-', 'algebra', 'intern', 'languag', 'preliminari']...) from 3204 documents (total 115969 corpus positions)\n",
            "2021-02-19 19:55:22,856 : INFO : discarding 4740 tokens: [('repeat', 8), ('glossari', 7), ('inspect', 8), ('uncol', 2), ('rung', 9), ('secant', 2), ('.', 1603), ('acceler', 6), ('diverg', 3), ('induc', 9)]...\n",
            "2021-02-19 19:55:22,857 : INFO : keeping 1197 tokens which were in no less than 10 and no more than 1602 (=50.0%) documents\n",
            "2021-02-19 19:55:22,860 : INFO : resulting dictionary: Dictionary(1197 unique tokens: ['-', 'algebra', 'intern', 'languag', 'preliminari']...)\n",
            "2021-02-19 19:55:22,928 : INFO : collecting all words and their counts\n",
            "2021-02-19 19:55:22,928 : INFO : PROGRESS: at sentence #0, processed 0 words, keeping 0 word types\n",
            "2021-02-19 19:55:22,948 : INFO : collected 5937 word types from a corpus of 115969 raw words and 3204 sentences\n",
            "2021-02-19 19:55:22,949 : INFO : Loading a fresh vocabulary\n",
            "2021-02-19 19:55:22,961 : INFO : effective_min_count=1 retains 5937 unique words (100% of original 5937, drops 0)\n",
            "2021-02-19 19:55:22,961 : INFO : effective_min_count=1 leaves 115969 word corpus (100% of original 115969, drops 0)\n",
            "2021-02-19 19:55:22,977 : INFO : deleting the raw counts dictionary of 5937 items\n",
            "2021-02-19 19:55:22,979 : INFO : sample=0.001 downsamples 40 most-common words\n",
            "2021-02-19 19:55:22,980 : INFO : downsampling leaves estimated 92346 word corpus (79.6% of prior 115969)\n",
            "2021-02-19 19:55:22,992 : INFO : estimated required memory for 5937 words and 100 dimensions: 7718100 bytes\n",
            "2021-02-19 19:55:22,994 : INFO : resetting layer weights\n",
            "2021-02-19 19:55:23,986 : INFO : training model with 3 workers on 5937 vocabulary and 100 features, using sg=0 hs=0 sample=0.001 negative=5 window=5\n",
            "2021-02-19 19:55:24,108 : INFO : worker thread finished; awaiting finish of 2 more threads\n",
            "2021-02-19 19:55:24,110 : INFO : worker thread finished; awaiting finish of 1 more threads\n",
            "2021-02-19 19:55:24,115 : INFO : worker thread finished; awaiting finish of 0 more threads\n",
            "2021-02-19 19:55:24,115 : INFO : EPOCH - 1 : training on 115969 raw words (92406 effective words) took 0.1s, 746131 effective words/s\n",
            "2021-02-19 19:55:24,229 : INFO : worker thread finished; awaiting finish of 2 more threads\n",
            "2021-02-19 19:55:24,234 : INFO : worker thread finished; awaiting finish of 1 more threads\n",
            "2021-02-19 19:55:24,238 : INFO : worker thread finished; awaiting finish of 0 more threads\n",
            "2021-02-19 19:55:24,238 : INFO : EPOCH - 2 : training on 115969 raw words (92473 effective words) took 0.1s, 792146 effective words/s\n",
            "2021-02-19 19:55:24,349 : INFO : worker thread finished; awaiting finish of 2 more threads\n",
            "2021-02-19 19:55:24,365 : INFO : worker thread finished; awaiting finish of 1 more threads\n",
            "2021-02-19 19:55:24,368 : INFO : worker thread finished; awaiting finish of 0 more threads\n",
            "2021-02-19 19:55:24,369 : INFO : EPOCH - 3 : training on 115969 raw words (92318 effective words) took 0.1s, 744791 effective words/s\n",
            "2021-02-19 19:55:24,482 : INFO : worker thread finished; awaiting finish of 2 more threads\n",
            "2021-02-19 19:55:24,483 : INFO : worker thread finished; awaiting finish of 1 more threads\n",
            "2021-02-19 19:55:24,493 : INFO : worker thread finished; awaiting finish of 0 more threads\n",
            "2021-02-19 19:55:24,496 : INFO : EPOCH - 4 : training on 115969 raw words (92569 effective words) took 0.1s, 765175 effective words/s\n",
            "2021-02-19 19:55:24,613 : INFO : worker thread finished; awaiting finish of 2 more threads\n",
            "2021-02-19 19:55:24,614 : INFO : worker thread finished; awaiting finish of 1 more threads\n",
            "2021-02-19 19:55:24,621 : INFO : worker thread finished; awaiting finish of 0 more threads\n",
            "2021-02-19 19:55:24,622 : INFO : EPOCH - 5 : training on 115969 raw words (92186 effective words) took 0.1s, 759515 effective words/s\n",
            "2021-02-19 19:55:24,623 : INFO : training on a 579845 raw words (461952 effective words) took 0.6s, 726470 effective words/s\n",
            "/usr/local/lib/python3.6/dist-packages/ipykernel_launcher.py:39: DeprecationWarning: Call to deprecated `__contains__` (Method will be removed in 4.0.0, use self.wv.__contains__() instead).\n",
            "/usr/local/lib/python3.6/dist-packages/ipykernel_launcher.py:40: DeprecationWarning: Call to deprecated `__getitem__` (Method will be removed in 4.0.0, use self.wv.__getitem__() instead).\n"
          ],
          "name": "stderr"
        },
        {
          "output_type": "execute_result",
          "data": {
            "text/plain": [
              "[(0, 0.2503797113895416),\n",
              " (1, 0.08781825751066208),\n",
              " (2, -0.5547056198120117),\n",
              " (3, 0.10039009898900986),\n",
              " (4, -0.9028025269508362),\n",
              " (5, -0.35899707674980164),\n",
              " (6, 0.3390308618545532),\n",
              " (7, 0.29120931029319763),\n",
              " (8, 0.9497495889663696),\n",
              " (9, -0.256233274936676),\n",
              " (10, 0.45511317253112793),\n",
              " (11, 0.3476813733577728),\n",
              " (12, 0.09441283345222473),\n",
              " (13, 0.007860476151108742),\n",
              " (14, 0.051677897572517395),\n",
              " (15, -0.22687076032161713),\n",
              " (16, -0.715263307094574),\n",
              " (17, 0.8439999222755432),\n",
              " (18, 0.23279067873954773),\n",
              " (19, 0.5081110596656799),\n",
              " (20, 0.23097482323646545),\n",
              " (21, -0.2781674265861511),\n",
              " (22, -0.5015902519226074),\n",
              " (23, -0.8404967188835144),\n",
              " (24, 0.4568755030632019),\n",
              " (25, 0.11516617238521576),\n",
              " (26, -0.6183995604515076),\n",
              " (27, 0.7583186626434326),\n",
              " (28, -0.4831513464450836),\n",
              " (29, 0.9148996472358704),\n",
              " (30, -0.12755118310451508),\n",
              " (31, -0.29111209511756897),\n",
              " (32, -0.6927220225334167),\n",
              " (33, 0.6794519424438477),\n",
              " (34, -0.35667237639427185),\n",
              " (35, -0.07158876955509186),\n",
              " (36, 0.0829353854060173),\n",
              " (37, -0.23074062168598175),\n",
              " (38, -0.10317230224609375),\n",
              " (39, -0.3108954131603241),\n",
              " (40, 0.10604138672351837),\n",
              " (41, -0.0604482926428318),\n",
              " (42, 0.7213731408119202),\n",
              " (43, -0.4493409991264343),\n",
              " (44, -0.002021556021645665),\n",
              " (45, -0.14664651453495026),\n",
              " (46, 0.15918368101119995),\n",
              " (47, -0.5320538282394409),\n",
              " (48, 0.15373128652572632),\n",
              " (49, -0.21665789186954498),\n",
              " (50, 0.2000376135110855),\n",
              " (51, 0.25162237882614136),\n",
              " (52, 0.32061973214149475),\n",
              " (53, 0.4521908760070801),\n",
              " (54, -0.7278236746788025),\n",
              " (55, 0.43856221437454224),\n",
              " (56, -0.7226448655128479),\n",
              " (57, 0.5073452591896057),\n",
              " (58, -0.4822944402694702),\n",
              " (59, 0.08077738434076309),\n",
              " (60, -0.9712858200073242),\n",
              " (61, -0.22798319160938263),\n",
              " (62, 0.06484963744878769),\n",
              " (63, -0.011517663486301899),\n",
              " (64, -0.5624371767044067),\n",
              " (65, -0.5249655246734619),\n",
              " (66, -0.6094613671302795),\n",
              " (67, -0.41573768854141235),\n",
              " (68, 0.18786582350730896),\n",
              " (69, 0.5121127963066101),\n",
              " (70, -0.15989941358566284),\n",
              " (71, 0.5755707621574402),\n",
              " (72, 0.2088731825351715),\n",
              " (73, 0.378193736076355),\n",
              " (74, 0.1774585247039795),\n",
              " (75, -0.07367804646492004),\n",
              " (76, -0.18606476485729218),\n",
              " (77, 0.7805432677268982),\n",
              " (78, -0.08528771996498108),\n",
              " (79, -0.24652734398841858),\n",
              " (80, 0.6820551753044128),\n",
              " (81, -0.12979841232299805),\n",
              " (82, -0.30289745330810547),\n",
              " (83, -0.2092391401529312),\n",
              " (84, -0.48454394936561584),\n",
              " (85, -0.16381017863750458),\n",
              " (86, 0.36225736141204834),\n",
              " (87, -0.2919440269470215),\n",
              " (88, -0.01849568821489811),\n",
              " (89, -0.5231326222419739),\n",
              " (90, -0.03760848939418793),\n",
              " (91, 0.21683503687381744),\n",
              " (92, 0.24127055704593658),\n",
              " (93, -0.33114558458328247),\n",
              " (94, 0.0668434351682663),\n",
              " (95, 0.4855464994907379),\n",
              " (96, 0.04256416857242584),\n",
              " (97, -0.20141659677028656),\n",
              " (98, 0.010482941754162312),\n",
              " (99, -0.03484535589814186)]"
            ]
          },
          "metadata": {
            "tags": []
          },
          "execution_count": 88
        }
      ]
    },
    {
      "cell_type": "code",
      "metadata": {
        "colab": {
          "base_uri": "https://localhost:8080/"
        },
        "id": "kXcJ7Gpfyg4w",
        "outputId": "41c97a0e-1bec-44e1-9522-c44171591678"
      },
      "source": [
        "\n",
        "assert len(w2v.vectorize_query(\"report\")) == 100\n",
        "assert len(w2v.vectorize_query(\"this is a sentence that is not mellifluous\")) == 100\n"
      ],
      "execution_count": null,
      "outputs": [
        {
          "output_type": "stream",
          "text": [
            "/usr/local/lib/python3.6/dist-packages/ipykernel_launcher.py:39: DeprecationWarning: Call to deprecated `__contains__` (Method will be removed in 4.0.0, use self.wv.__contains__() instead).\n",
            "/usr/local/lib/python3.6/dist-packages/ipykernel_launcher.py:40: DeprecationWarning: Call to deprecated `__getitem__` (Method will be removed in 4.0.0, use self.wv.__getitem__() instead).\n"
          ],
          "name": "stderr"
        }
      ]
    },
    {
      "cell_type": "markdown",
      "metadata": {
        "id": "ji9ap3osyg4x"
      },
      "source": [
        "\\#### Please do not change this. This cell is used for grading."
      ]
    },
    {
      "cell_type": "code",
      "metadata": {
        "colab": {
          "background_save": true,
          "base_uri": "https://localhost:8080/"
        },
        "id": "CoPVvvK6yg4x",
        "outputId": "a64a7411-c0cf-4569-bcc6-02ae963d0ae8"
      },
      "source": [
        "w2v_pretrained = W2VPretrainedRetrievalModel(doc_repr_2)\n",
        "w2v_pretrained.train_model()\n",
        "\n",
        "# you can now get an W2V vector for a given query in the following way:\n",
        "w2v_pretrained.vectorize_query(\"report\")"
      ],
      "execution_count": null,
      "outputs": [
        {
          "output_type": "stream",
          "text": [
            "2021-02-19 19:55:24,656 : INFO : adding document #0 to Dictionary(0 unique tokens: [])\n",
            "2021-02-19 19:55:24,751 : INFO : built Dictionary(5937 unique tokens: ['-', 'algebra', 'intern', 'languag', 'preliminari']...) from 3204 documents (total 115969 corpus positions)\n",
            "2021-02-19 19:55:24,757 : INFO : discarding 4740 tokens: [('repeat', 8), ('glossari', 7), ('inspect', 8), ('uncol', 2), ('rung', 9), ('secant', 2), ('.', 1603), ('acceler', 6), ('diverg', 3), ('induc', 9)]...\n",
            "2021-02-19 19:55:24,758 : INFO : keeping 1197 tokens which were in no less than 10 and no more than 1602 (=50.0%) documents\n",
            "2021-02-19 19:55:24,761 : INFO : resulting dictionary: Dictionary(1197 unique tokens: ['-', 'algebra', 'intern', 'languag', 'preliminari']...)\n",
            "2021-02-19 19:55:24,828 : INFO : Creating /root/gensim-data\n"
          ],
          "name": "stderr"
        },
        {
          "output_type": "stream",
          "text": [
            "[=================================================-] 99.7% 1657.0/1662.8MB downloaded"
          ],
          "name": "stdout"
        },
        {
          "output_type": "stream",
          "text": [
            "2021-02-19 20:00:51,852 : INFO : loaded (3000000, 300) matrix from /root/gensim-data/word2vec-google-news-300/word2vec-google-news-300.gz\n"
          ],
          "name": "stderr"
        },
        {
          "output_type": "execute_result",
          "data": {
            "text/plain": [
              "[(0, -0.142578125),\n",
              " (1, -0.1640625),\n",
              " (2, -0.09033203125),\n",
              " (3, -0.1123046875),\n",
              " (4, 0.10009765625),\n",
              " (5, -0.041259765625),\n",
              " (6, 0.048828125),\n",
              " (7, -0.13671875),\n",
              " (8, 0.1962890625),\n",
              " (9, -0.134765625),\n",
              " (10, -0.017578125),\n",
              " (11, 0.0322265625),\n",
              " (12, 0.09521484375),\n",
              " (13, -0.10595703125),\n",
              " (14, -0.169921875),\n",
              " (15, 0.041015625),\n",
              " (16, -0.263671875),\n",
              " (17, -0.006317138671875),\n",
              " (18, -0.177734375),\n",
              " (19, -0.240234375),\n",
              " (20, 0.3515625),\n",
              " (21, -0.01220703125),\n",
              " (22, -0.162109375),\n",
              " (23, -0.12060546875),\n",
              " (24, 0.043212890625),\n",
              " (25, 0.10986328125),\n",
              " (26, 0.052490234375),\n",
              " (27, 0.1787109375),\n",
              " (28, -0.1455078125),\n",
              " (29, 0.1376953125),\n",
              " (30, -0.08203125),\n",
              " (31, -0.283203125),\n",
              " (32, -0.10888671875),\n",
              " (33, -0.2890625),\n",
              " (34, 0.072265625),\n",
              " (35, -0.04736328125),\n",
              " (36, 0.040283203125),\n",
              " (37, 0.06787109375),\n",
              " (38, 0.11669921875),\n",
              " (39, 0.00083160400390625),\n",
              " (40, 0.068359375),\n",
              " (41, 0.1201171875),\n",
              " (42, -0.08837890625),\n",
              " (43, 0.337890625),\n",
              " (44, -0.044677734375),\n",
              " (45, -0.0301513671875),\n",
              " (46, 0.0076904296875),\n",
              " (47, -0.0211181640625),\n",
              " (48, -0.25390625),\n",
              " (49, 0.1494140625),\n",
              " (50, 0.3984375),\n",
              " (51, 0.0216064453125),\n",
              " (52, -0.023193359375),\n",
              " (53, 0.00634765625),\n",
              " (54, 0.00823974609375),\n",
              " (55, -0.1689453125),\n",
              " (56, 0.037353515625),\n",
              " (57, -0.0634765625),\n",
              " (58, 0.1171875),\n",
              " (59, -0.1484375),\n",
              " (60, -0.07861328125),\n",
              " (61, 0.369140625),\n",
              " (62, -0.224609375),\n",
              " (63, 0.173828125),\n",
              " (64, 0.01385498046875),\n",
              " (65, 0.1875),\n",
              " (66, -0.10107421875),\n",
              " (67, 0.037841796875),\n",
              " (68, 0.0021209716796875),\n",
              " (69, -0.05126953125),\n",
              " (70, 0.09619140625),\n",
              " (71, -0.05712890625),\n",
              " (72, 0.10595703125),\n",
              " (73, -0.02099609375),\n",
              " (74, 0.1611328125),\n",
              " (75, 0.09765625),\n",
              " (76, 0.038330078125),\n",
              " (77, 0.2197265625),\n",
              " (78, 0.1064453125),\n",
              " (79, 0.0859375),\n",
              " (80, 0.1796875),\n",
              " (81, -0.0830078125),\n",
              " (82, -0.033203125),\n",
              " (83, 0.041015625),\n",
              " (84, -0.06494140625),\n",
              " (85, 0.0198974609375),\n",
              " (86, 0.1337890625),\n",
              " (87, -0.09765625),\n",
              " (88, -0.193359375),\n",
              " (89, -0.2353515625),\n",
              " (90, 0.1904296875),\n",
              " (91, 0.0024871826171875),\n",
              " (92, -0.0157470703125),\n",
              " (93, 0.0322265625),\n",
              " (94, -0.2197265625),\n",
              " (95, -0.09130859375),\n",
              " (96, 0.021240234375),\n",
              " (97, 0.158203125),\n",
              " (98, 0.298828125),\n",
              " (99, -0.328125),\n",
              " (100, 0.057373046875),\n",
              " (101, -0.04638671875),\n",
              " (102, 0.11328125),\n",
              " (103, -0.1015625),\n",
              " (104, 0.1806640625),\n",
              " (105, -0.025146484375),\n",
              " (106, -0.166015625),\n",
              " (107, -0.09619140625),\n",
              " (108, 0.018798828125),\n",
              " (109, -0.1943359375),\n",
              " (110, 0.1494140625),\n",
              " (111, -0.056640625),\n",
              " (112, -0.10693359375),\n",
              " (113, -0.150390625),\n",
              " (114, -0.17578125),\n",
              " (115, 0.11279296875),\n",
              " (116, 0.04931640625),\n",
              " (117, 0.2197265625),\n",
              " (118, 0.318359375),\n",
              " (119, 0.1572265625),\n",
              " (120, -0.29296875),\n",
              " (121, 0.10498046875),\n",
              " (122, -0.296875),\n",
              " (123, -0.013427734375),\n",
              " (124, 0.0908203125),\n",
              " (125, 0.0125732421875),\n",
              " (126, -0.051513671875),\n",
              " (127, -0.12890625),\n",
              " (128, 0.01446533203125),\n",
              " (129, 0.12060546875),\n",
              " (130, -0.10107421875),\n",
              " (131, -0.111328125),\n",
              " (132, 0.06396484375),\n",
              " (133, -0.052978515625),\n",
              " (134, -0.043212890625),\n",
              " (135, -0.012939453125),\n",
              " (136, -0.027587890625),\n",
              " (137, -0.09716796875),\n",
              " (138, -0.2021484375),\n",
              " (139, 0.123046875),\n",
              " (140, -0.04248046875),\n",
              " (141, 0.173828125),\n",
              " (142, -0.013671875),\n",
              " (143, 0.1015625),\n",
              " (144, -0.00093841552734375),\n",
              " (145, -0.03564453125),\n",
              " (146, 0.30078125),\n",
              " (147, -0.068359375),\n",
              " (148, -0.05615234375),\n",
              " (149, 0.03759765625),\n",
              " (150, 0.06591796875),\n",
              " (151, 0.040283203125),\n",
              " (152, 0.01190185546875),\n",
              " (153, 0.09619140625),\n",
              " (154, 0.3671875),\n",
              " (155, -0.279296875),\n",
              " (156, -0.052001953125),\n",
              " (157, -0.10693359375),\n",
              " (158, -0.134765625),\n",
              " (159, -0.046142578125),\n",
              " (160, 0.25),\n",
              " (161, 0.00567626953125),\n",
              " (162, -0.014404296875),\n",
              " (163, -0.031005859375),\n",
              " (164, -0.060302734375),\n",
              " (165, 0.10595703125),\n",
              " (166, 0.37890625),\n",
              " (167, 0.058837890625),\n",
              " (168, 0.123046875),\n",
              " (169, -0.115234375),\n",
              " (170, 0.1494140625),\n",
              " (171, -0.1640625),\n",
              " (172, -0.2333984375),\n",
              " (173, -0.07763671875),\n",
              " (174, 0.0267333984375),\n",
              " (175, -0.0211181640625),\n",
              " (176, 0.1943359375),\n",
              " (177, -0.05615234375),\n",
              " (178, -0.006439208984375),\n",
              " (179, -0.169921875),\n",
              " (180, -0.11865234375),\n",
              " (181, -0.0673828125),\n",
              " (182, -0.06884765625),\n",
              " (183, -0.0869140625),\n",
              " (184, -0.1015625),\n",
              " (185, 0.01416015625),\n",
              " (186, -0.201171875),\n",
              " (187, 0.09814453125),\n",
              " (188, -0.01025390625),\n",
              " (189, 0.1875),\n",
              " (190, 0.1962890625),\n",
              " (191, -0.220703125),\n",
              " (192, -0.1962890625),\n",
              " (193, -0.07373046875),\n",
              " (194, 0.06640625),\n",
              " (195, -0.1337890625),\n",
              " (196, 0.18359375),\n",
              " (197, -0.2001953125),\n",
              " (198, 0.1982421875),\n",
              " (199, 0.05029296875),\n",
              " (200, 0.0299072265625),\n",
              " (201, 0.0177001953125),\n",
              " (202, -0.193359375),\n",
              " (203, -0.09619140625),\n",
              " (204, -0.1025390625),\n",
              " (205, 0.212890625),\n",
              " (206, -0.0299072265625),\n",
              " (207, 0.1435546875),\n",
              " (208, 0.041015625),\n",
              " (209, -0.2119140625),\n",
              " (210, 0.2080078125),\n",
              " (211, 0.1376953125),\n",
              " (212, -0.0196533203125),\n",
              " (213, 0.01495361328125),\n",
              " (214, -0.09765625),\n",
              " (215, 0.2431640625),\n",
              " (216, 0.080078125),\n",
              " (217, 0.08251953125),\n",
              " (218, 0.0986328125),\n",
              " (219, 0.056884765625),\n",
              " (220, 0.04248046875),\n",
              " (221, 0.06884765625),\n",
              " (222, -0.035400390625),\n",
              " (223, -0.076171875),\n",
              " (224, -0.00016117095947265625),\n",
              " (225, -0.0751953125),\n",
              " (226, 0.224609375),\n",
              " (227, 0.1513671875),\n",
              " (228, 0.1005859375),\n",
              " (229, 0.10986328125),\n",
              " (230, 0.0238037109375),\n",
              " (231, 0.08837890625),\n",
              " (232, 0.061767578125),\n",
              " (233, -0.10791015625),\n",
              " (234, 0.062255859375),\n",
              " (235, 0.0034332275390625),\n",
              " (236, 0.08056640625),\n",
              " (237, 0.10693359375),\n",
              " (238, 0.0888671875),\n",
              " (239, -0.2373046875),\n",
              " (240, 0.06494140625),\n",
              " (241, 0.01019287109375),\n",
              " (242, -0.08837890625),\n",
              " (243, -0.33203125),\n",
              " (244, 0.004669189453125),\n",
              " (245, 0.212890625),\n",
              " (246, 0.0859375),\n",
              " (247, 0.0203857421875),\n",
              " (248, 0.045654296875),\n",
              " (249, 0.1484375),\n",
              " (250, 0.1181640625),\n",
              " (251, 0.0556640625),\n",
              " (252, -0.1728515625),\n",
              " (253, -0.125),\n",
              " (254, -0.025390625),\n",
              " (255, -0.318359375),\n",
              " (256, 0.0311279296875),\n",
              " (257, 0.0859375),\n",
              " (258, -0.0419921875),\n",
              " (259, 0.15625),\n",
              " (260, 0.1611328125),\n",
              " (261, 0.1982421875),\n",
              " (262, -0.10009765625),\n",
              " (263, 0.203125),\n",
              " (264, 0.12890625),\n",
              " (265, 0.2333984375),\n",
              " (266, -0.267578125),\n",
              " (267, 0.05517578125),\n",
              " (268, 0.048828125),\n",
              " (269, 0.072265625),\n",
              " (270, 0.244140625),\n",
              " (271, 0.244140625),\n",
              " (272, 0.056884765625),\n",
              " (273, -0.0546875),\n",
              " (274, -0.03369140625),\n",
              " (275, -0.12060546875),\n",
              " (276, 0.034912109375),\n",
              " (277, -0.1455078125),\n",
              " (278, 0.08740234375),\n",
              " (279, -0.0830078125),\n",
              " (280, 0.0172119140625),\n",
              " (281, 0.1435546875),\n",
              " (282, -0.12255859375),\n",
              " (283, 0.1796875),\n",
              " (284, 0.130859375),\n",
              " (285, -0.1650390625),\n",
              " (286, 0.01275634765625),\n",
              " (287, 0.16015625),\n",
              " (288, -0.0311279296875),\n",
              " (289, 0.08203125),\n",
              " (290, 0.173828125),\n",
              " (291, -0.16796875),\n",
              " (292, 0.130859375),\n",
              " (293, 0.08544921875),\n",
              " (294, -0.2109375),\n",
              " (295, -0.130859375),\n",
              " (296, -0.0289306640625),\n",
              " (297, -0.10546875),\n",
              " (298, 0.08447265625),\n",
              " (299, -0.1416015625)]"
            ]
          },
          "metadata": {
            "tags": []
          },
          "execution_count": 0
        }
      ]
    },
    {
      "cell_type": "code",
      "metadata": {
        "colab": {
          "background_save": true
        },
        "id": "ENNIM7SZyg4x",
        "outputId": "7e8f7d54-c506-4101-88c4-ce3a49ffd1b1"
      },
      "source": [
        "##### Function check\n",
        "\n",
        "print(len(w2v_pretrained.vectorize_query(\"report\")))\n",
        "#####"
      ],
      "execution_count": null,
      "outputs": [
        {
          "output_type": "stream",
          "text": [
            "300\n"
          ],
          "name": "stdout"
        }
      ]
    },
    {
      "cell_type": "code",
      "metadata": {
        "colab": {
          "background_save": true,
          "referenced_widgets": [
            "c304df6380164120a79e48c9a477a400"
          ]
        },
        "id": "uqDXQ6klyg4x",
        "outputId": "36476b37-e8ad-405f-aad6-a49217a2b9c7"
      },
      "source": [
        "drm_w2v = DenseRetrievalRanker(w2v, cosine_sim)\n",
        "\n",
        "# test your LDA model\n",
        "search_fn = drm_w2v.search\n",
        "\n",
        "text = widgets.Text(description=\"Search Bar\", width=200)\n",
        "display(text)\n",
        "\n",
        "\n",
        "text.on_submit(handle_submit_2)"
      ],
      "execution_count": null,
      "outputs": [
        {
          "output_type": "stream",
          "text": [
            "/usr/local/lib/python3.6/dist-packages/ipykernel_launcher.py:25: DeprecationWarning: Call to deprecated `__contains__` (Method will be removed in 4.0.0, use self.wv.__contains__() instead).\n",
            "/usr/local/lib/python3.6/dist-packages/ipykernel_launcher.py:26: DeprecationWarning: Call to deprecated `__getitem__` (Method will be removed in 4.0.0, use self.wv.__getitem__() instead).\n"
          ],
          "name": "stderr"
        },
        {
          "output_type": "display_data",
          "data": {
            "application/vnd.jupyter.widget-view+json": {
              "model_id": "c304df6380164120a79e48c9a477a400",
              "version_major": 2,
              "version_minor": 0
            },
            "text/plain": [
              "Text(value='', description='Search Bar')"
            ]
          },
          "metadata": {
            "tags": []
          }
        }
      ]
    },
    {
      "cell_type": "code",
      "metadata": {
        "colab": {
          "background_save": true,
          "referenced_widgets": [
            "d22ef57179e04d3e8b0e8e1037e26e0f"
          ]
        },
        "id": "xHOhCiVZyg4x",
        "outputId": "ec19b7ad-53c1-4b80-854d-919a687ea628"
      },
      "source": [
        "drm_w2v_pretrained = DenseRetrievalRanker(w2v_pretrained, cosine_sim)\n",
        "\n",
        "# test your LDA model\n",
        "search_fn = drm_w2v_pretrained.search\n",
        "\n",
        "text = widgets.Text(description=\"Search Bar\", width=200)\n",
        "display(text)\n",
        "\n",
        "\n",
        "text.on_submit(handle_submit_2)"
      ],
      "execution_count": null,
      "outputs": [
        {
          "output_type": "display_data",
          "data": {
            "application/vnd.jupyter.widget-view+json": {
              "model_id": "d22ef57179e04d3e8b0e8e1037e26e0f",
              "version_major": 2,
              "version_minor": 0
            },
            "text/plain": [
              "Text(value='', description='Search Bar')"
            ]
          },
          "metadata": {
            "tags": []
          }
        }
      ]
    },
    {
      "cell_type": "markdown",
      "metadata": {
        "id": "zBpi-CIGyg4y"
      },
      "source": [
        "**Implementation (10 points):**\n",
        "For Doc2Vec, you will need to create a list of `TaggedDocument` instead of using the `self.corpus` or `self.documents` variable. Use the document id as the 'tag'.\n",
        "  "
      ]
    },
    {
      "cell_type": "code",
      "metadata": {
        "colab": {
          "background_save": true
        },
        "id": "QVFqkVEvyg4y",
        "outputId": "baf787ad-1fdb-4a2d-95db-dedaf6c9ebd8"
      },
      "source": [
        "# TODO: Implement this! (10 points)\n",
        "class D2VRetrievalModel(VectorSpaceRetrievalModel):\n",
        "    def __init__(self, doc_repr):\n",
        "        super().__init__(doc_repr)\n",
        "        \n",
        "        self.vector_size= 100\n",
        "        self.min_count = 1\n",
        "        self.epochs = 20\n",
        "        \n",
        "        # YOUR CODE HERE\n",
        "        self.doc_repr = doc_repr\n",
        "        self.documents = [_[1] for _ in self.doc_repr]\n",
        "        self.tagged_documents = [TaggedDocument(doc, [tag]) for tag, doc in enumerate(self.documents)]\n",
        "\n",
        "    def train_model(self):\n",
        "        # YOUR CODE HERE\n",
        "        self.doc_model = Doc2Vec(documents=self.tagged_documents, size=self.vector_size, min_count=self.min_count, epochs = self.epochs)\n",
        "    \n",
        "    def vectorize_documents(self):\n",
        "        \"\"\"\n",
        "            Returns a doc_id -> vector dictionary\n",
        "        \"\"\"\n",
        "        # YOUR CODE HERE\n",
        "        vector_dictionary = {}\n",
        "        for tag, doc in enumerate(self.documents):\n",
        "            doc_vector = self.doc_model.infer_vector(doc)\n",
        "            vector_dictionary[tag+1] = list(enumerate(doc_vector))\n",
        "        return vector_dictionary\n",
        "\n",
        "    def vectorize_query(self, query):\n",
        "        # YOUR CODE HERE\n",
        "        return list(enumerate(self.doc_model.infer_vector([query])))\n",
        "        \n",
        "d2v = D2VRetrievalModel(doc_repr_2)\n",
        "d2v.train_model()\n",
        "\n",
        "\n",
        "# # you can now get an LSI vector for a given query in the following way:\n",
        "d2v.vectorize_query(\"report\")"
      ],
      "execution_count": null,
      "outputs": [
        {
          "output_type": "stream",
          "text": [
            "2021-02-19 20:00:53,249 : INFO : adding document #0 to Dictionary(0 unique tokens: [])\n",
            "2021-02-19 20:00:53,345 : INFO : built Dictionary(5937 unique tokens: ['-', 'algebra', 'intern', 'languag', 'preliminari']...) from 3204 documents (total 115969 corpus positions)\n",
            "2021-02-19 20:00:53,351 : INFO : discarding 4740 tokens: [('repeat', 8), ('glossari', 7), ('inspect', 8), ('uncol', 2), ('rung', 9), ('secant', 2), ('.', 1603), ('acceler', 6), ('diverg', 3), ('induc', 9)]...\n",
            "2021-02-19 20:00:53,352 : INFO : keeping 1197 tokens which were in no less than 10 and no more than 1602 (=50.0%) documents\n",
            "2021-02-19 20:00:53,356 : INFO : resulting dictionary: Dictionary(1197 unique tokens: ['-', 'algebra', 'intern', 'languag', 'preliminari']...)\n",
            "/usr/local/lib/python3.6/dist-packages/gensim/models/doc2vec.py:570: UserWarning: The parameter `size` is deprecated, will be removed in 4.0.0, use `vector_size` instead.\n",
            "  warnings.warn(\"The parameter `size` is deprecated, will be removed in 4.0.0, use `vector_size` instead.\")\n",
            "2021-02-19 20:00:53,435 : INFO : collecting all words and their counts\n",
            "2021-02-19 20:00:53,435 : INFO : PROGRESS: at example #0, processed 0 words (0/s), 0 word types, 0 tags\n",
            "2021-02-19 20:00:53,456 : INFO : collected 5937 word types and 3204 unique tags from a corpus of 3204 examples and 115969 words\n",
            "2021-02-19 20:00:53,457 : INFO : Loading a fresh vocabulary\n",
            "2021-02-19 20:00:53,469 : INFO : effective_min_count=1 retains 5937 unique words (100% of original 5937, drops 0)\n",
            "2021-02-19 20:00:53,470 : INFO : effective_min_count=1 leaves 115969 word corpus (100% of original 115969, drops 0)\n",
            "2021-02-19 20:00:53,487 : INFO : deleting the raw counts dictionary of 5937 items\n",
            "2021-02-19 20:00:53,488 : INFO : sample=0.001 downsamples 40 most-common words\n",
            "2021-02-19 20:00:53,488 : INFO : downsampling leaves estimated 92346 word corpus (79.6% of prior 115969)\n",
            "2021-02-19 20:00:53,506 : INFO : estimated required memory for 5937 words and 100 dimensions: 8999700 bytes\n",
            "2021-02-19 20:00:53,506 : INFO : resetting layer weights\n",
            "2021-02-19 20:00:55,052 : INFO : training model with 3 workers on 5937 vocabulary and 100 features, using sg=0 hs=0 sample=0.001 negative=5 window=5\n",
            "2021-02-19 20:00:55,363 : INFO : worker thread finished; awaiting finish of 2 more threads\n",
            "2021-02-19 20:00:55,389 : INFO : worker thread finished; awaiting finish of 1 more threads\n",
            "2021-02-19 20:00:55,390 : INFO : worker thread finished; awaiting finish of 0 more threads\n",
            "2021-02-19 20:00:55,390 : INFO : EPOCH - 1 : training on 115969 raw words (95393 effective words) took 0.3s, 292168 effective words/s\n",
            "2021-02-19 20:00:55,704 : INFO : worker thread finished; awaiting finish of 2 more threads\n",
            "2021-02-19 20:00:55,726 : INFO : worker thread finished; awaiting finish of 1 more threads\n",
            "2021-02-19 20:00:55,733 : INFO : worker thread finished; awaiting finish of 0 more threads\n",
            "2021-02-19 20:00:55,734 : INFO : EPOCH - 2 : training on 115969 raw words (95500 effective words) took 0.3s, 286402 effective words/s\n",
            "2021-02-19 20:00:56,046 : INFO : worker thread finished; awaiting finish of 2 more threads\n",
            "2021-02-19 20:00:56,071 : INFO : worker thread finished; awaiting finish of 1 more threads\n",
            "2021-02-19 20:00:56,080 : INFO : worker thread finished; awaiting finish of 0 more threads\n",
            "2021-02-19 20:00:56,081 : INFO : EPOCH - 3 : training on 115969 raw words (95622 effective words) took 0.3s, 281483 effective words/s\n",
            "2021-02-19 20:00:56,395 : INFO : worker thread finished; awaiting finish of 2 more threads\n",
            "2021-02-19 20:00:56,425 : INFO : worker thread finished; awaiting finish of 1 more threads\n",
            "2021-02-19 20:00:56,433 : INFO : worker thread finished; awaiting finish of 0 more threads\n",
            "2021-02-19 20:00:56,434 : INFO : EPOCH - 4 : training on 115969 raw words (95581 effective words) took 0.3s, 277060 effective words/s\n",
            "2021-02-19 20:00:56,768 : INFO : worker thread finished; awaiting finish of 2 more threads\n",
            "2021-02-19 20:00:56,780 : INFO : worker thread finished; awaiting finish of 1 more threads\n",
            "2021-02-19 20:00:56,786 : INFO : worker thread finished; awaiting finish of 0 more threads\n",
            "2021-02-19 20:00:56,787 : INFO : EPOCH - 5 : training on 115969 raw words (95583 effective words) took 0.3s, 277713 effective words/s\n",
            "2021-02-19 20:00:57,103 : INFO : worker thread finished; awaiting finish of 2 more threads\n",
            "2021-02-19 20:00:57,115 : INFO : worker thread finished; awaiting finish of 1 more threads\n",
            "2021-02-19 20:00:57,124 : INFO : worker thread finished; awaiting finish of 0 more threads\n",
            "2021-02-19 20:00:57,124 : INFO : EPOCH - 6 : training on 115969 raw words (95441 effective words) took 0.3s, 290188 effective words/s\n",
            "2021-02-19 20:00:57,422 : INFO : worker thread finished; awaiting finish of 2 more threads\n",
            "2021-02-19 20:00:57,446 : INFO : worker thread finished; awaiting finish of 1 more threads\n",
            "2021-02-19 20:00:57,448 : INFO : worker thread finished; awaiting finish of 0 more threads\n",
            "2021-02-19 20:00:57,449 : INFO : EPOCH - 7 : training on 115969 raw words (95507 effective words) took 0.3s, 301749 effective words/s\n",
            "2021-02-19 20:00:57,760 : INFO : worker thread finished; awaiting finish of 2 more threads\n",
            "2021-02-19 20:00:57,790 : INFO : worker thread finished; awaiting finish of 1 more threads\n",
            "2021-02-19 20:00:57,797 : INFO : worker thread finished; awaiting finish of 0 more threads\n",
            "2021-02-19 20:00:57,797 : INFO : EPOCH - 8 : training on 115969 raw words (95603 effective words) took 0.3s, 282393 effective words/s\n",
            "2021-02-19 20:00:58,092 : INFO : worker thread finished; awaiting finish of 2 more threads\n",
            "2021-02-19 20:00:58,127 : INFO : worker thread finished; awaiting finish of 1 more threads\n",
            "2021-02-19 20:00:58,131 : INFO : worker thread finished; awaiting finish of 0 more threads\n",
            "2021-02-19 20:00:58,132 : INFO : EPOCH - 9 : training on 115969 raw words (95424 effective words) took 0.3s, 292635 effective words/s\n",
            "2021-02-19 20:00:58,447 : INFO : worker thread finished; awaiting finish of 2 more threads\n",
            "2021-02-19 20:00:58,473 : INFO : worker thread finished; awaiting finish of 1 more threads\n",
            "2021-02-19 20:00:58,478 : INFO : worker thread finished; awaiting finish of 0 more threads\n",
            "2021-02-19 20:00:58,479 : INFO : EPOCH - 10 : training on 115969 raw words (95547 effective words) took 0.3s, 283849 effective words/s\n",
            "2021-02-19 20:00:58,776 : INFO : worker thread finished; awaiting finish of 2 more threads\n",
            "2021-02-19 20:00:58,804 : INFO : worker thread finished; awaiting finish of 1 more threads\n",
            "2021-02-19 20:00:58,810 : INFO : worker thread finished; awaiting finish of 0 more threads\n",
            "2021-02-19 20:00:58,811 : INFO : EPOCH - 11 : training on 115969 raw words (95537 effective words) took 0.3s, 297947 effective words/s\n",
            "2021-02-19 20:00:59,134 : INFO : worker thread finished; awaiting finish of 2 more threads\n",
            "2021-02-19 20:00:59,155 : INFO : worker thread finished; awaiting finish of 1 more threads\n",
            "2021-02-19 20:00:59,164 : INFO : worker thread finished; awaiting finish of 0 more threads\n",
            "2021-02-19 20:00:59,165 : INFO : EPOCH - 12 : training on 115969 raw words (95484 effective words) took 0.3s, 276785 effective words/s\n",
            "2021-02-19 20:00:59,475 : INFO : worker thread finished; awaiting finish of 2 more threads\n",
            "2021-02-19 20:00:59,488 : INFO : worker thread finished; awaiting finish of 1 more threads\n",
            "2021-02-19 20:00:59,499 : INFO : worker thread finished; awaiting finish of 0 more threads\n",
            "2021-02-19 20:00:59,499 : INFO : EPOCH - 13 : training on 115969 raw words (95584 effective words) took 0.3s, 293088 effective words/s\n",
            "2021-02-19 20:00:59,815 : INFO : worker thread finished; awaiting finish of 2 more threads\n",
            "2021-02-19 20:00:59,847 : INFO : worker thread finished; awaiting finish of 1 more threads\n",
            "2021-02-19 20:00:59,850 : INFO : worker thread finished; awaiting finish of 0 more threads\n",
            "2021-02-19 20:00:59,851 : INFO : EPOCH - 14 : training on 115969 raw words (95610 effective words) took 0.3s, 278304 effective words/s\n",
            "2021-02-19 20:01:00,183 : INFO : worker thread finished; awaiting finish of 2 more threads\n",
            "2021-02-19 20:01:00,208 : INFO : worker thread finished; awaiting finish of 1 more threads\n",
            "2021-02-19 20:01:00,208 : INFO : worker thread finished; awaiting finish of 0 more threads\n",
            "2021-02-19 20:01:00,209 : INFO : EPOCH - 15 : training on 115969 raw words (95483 effective words) took 0.3s, 273018 effective words/s\n",
            "2021-02-19 20:01:00,538 : INFO : worker thread finished; awaiting finish of 2 more threads\n",
            "2021-02-19 20:01:00,552 : INFO : worker thread finished; awaiting finish of 1 more threads\n",
            "2021-02-19 20:01:00,561 : INFO : worker thread finished; awaiting finish of 0 more threads\n",
            "2021-02-19 20:01:00,562 : INFO : EPOCH - 16 : training on 115969 raw words (95545 effective words) took 0.3s, 279219 effective words/s\n",
            "2021-02-19 20:01:00,872 : INFO : worker thread finished; awaiting finish of 2 more threads\n",
            "2021-02-19 20:01:00,900 : INFO : worker thread finished; awaiting finish of 1 more threads\n",
            "2021-02-19 20:01:00,903 : INFO : worker thread finished; awaiting finish of 0 more threads\n",
            "2021-02-19 20:01:00,904 : INFO : EPOCH - 17 : training on 115969 raw words (95481 effective words) took 0.3s, 285626 effective words/s\n",
            "2021-02-19 20:01:01,258 : INFO : worker thread finished; awaiting finish of 2 more threads\n",
            "2021-02-19 20:01:01,271 : INFO : worker thread finished; awaiting finish of 1 more threads\n",
            "2021-02-19 20:01:01,278 : INFO : worker thread finished; awaiting finish of 0 more threads\n",
            "2021-02-19 20:01:01,279 : INFO : EPOCH - 18 : training on 115969 raw words (95450 effective words) took 0.4s, 262113 effective words/s\n",
            "2021-02-19 20:01:01,575 : INFO : worker thread finished; awaiting finish of 2 more threads\n",
            "2021-02-19 20:01:01,596 : INFO : worker thread finished; awaiting finish of 1 more threads\n",
            "2021-02-19 20:01:01,600 : INFO : worker thread finished; awaiting finish of 0 more threads\n",
            "2021-02-19 20:01:01,600 : INFO : EPOCH - 19 : training on 115969 raw words (95637 effective words) took 0.3s, 305383 effective words/s\n",
            "2021-02-19 20:01:01,925 : INFO : worker thread finished; awaiting finish of 2 more threads\n",
            "2021-02-19 20:01:01,949 : INFO : worker thread finished; awaiting finish of 1 more threads\n",
            "2021-02-19 20:01:01,950 : INFO : worker thread finished; awaiting finish of 0 more threads\n",
            "2021-02-19 20:01:01,951 : INFO : EPOCH - 20 : training on 115969 raw words (95526 effective words) took 0.3s, 279587 effective words/s\n",
            "2021-02-19 20:01:01,952 : INFO : training on a 2319380 raw words (1910538 effective words) took 6.9s, 276970 effective words/s\n"
          ],
          "name": "stderr"
        },
        {
          "output_type": "execute_result",
          "data": {
            "text/plain": [
              "[(0, 0.025498366),\n",
              " (1, -0.024418894),\n",
              " (2, -0.0121407),\n",
              " (3, 0.06575885),\n",
              " (4, -0.069477096),\n",
              " (5, -0.022821913),\n",
              " (6, 0.00015767911),\n",
              " (7, 0.044809144),\n",
              " (8, 0.14318235),\n",
              " (9, -0.06503258),\n",
              " (10, 0.06891746),\n",
              " (11, 0.031197652),\n",
              " (12, -0.020795953),\n",
              " (13, -0.005708155),\n",
              " (14, -0.007611722),\n",
              " (15, 0.0025556593),\n",
              " (16, -0.00544093),\n",
              " (17, 0.0928132),\n",
              " (18, 0.059239183),\n",
              " (19, 0.06538799),\n",
              " (20, 0.14271398),\n",
              " (21, -0.03448297),\n",
              " (22, -0.07583962),\n",
              " (23, -0.11955114),\n",
              " (24, 0.060835358),\n",
              " (25, 0.0118071055),\n",
              " (26, -0.044173677),\n",
              " (27, 0.031062603),\n",
              " (28, 0.037477694),\n",
              " (29, 0.06251934),\n",
              " (30, -0.008131084),\n",
              " (31, -0.004812474),\n",
              " (32, -0.06092744),\n",
              " (33, 0.04138371),\n",
              " (34, -0.013428124),\n",
              " (35, 0.04040107),\n",
              " (36, 0.03471409),\n",
              " (37, 0.0040770886),\n",
              " (38, 0.01559752),\n",
              " (39, -0.03796074),\n",
              " (40, -0.010566367),\n",
              " (41, 0.04147086),\n",
              " (42, 0.13640599),\n",
              " (43, -0.0074611865),\n",
              " (44, 0.04786132),\n",
              " (45, -0.006925084),\n",
              " (46, 0.09296348),\n",
              " (47, -0.093494825),\n",
              " (48, 0.032091938),\n",
              " (49, -0.02462152),\n",
              " (50, -0.012636933),\n",
              " (51, 0.002588233),\n",
              " (52, 0.04069734),\n",
              " (53, 0.022819672),\n",
              " (54, -0.061518732),\n",
              " (55, 0.020794144),\n",
              " (56, -0.0821645),\n",
              " (57, 0.008673969),\n",
              " (58, -0.07640784),\n",
              " (59, 0.008131685),\n",
              " (60, -0.058175597),\n",
              " (61, -0.061730213),\n",
              " (62, 0.021817584),\n",
              " (63, -0.023754366),\n",
              " (64, -0.05192834),\n",
              " (65, -0.11920356),\n",
              " (66, -0.0024465881),\n",
              " (67, -0.044550117),\n",
              " (68, -0.02567762),\n",
              " (69, 0.0051532616),\n",
              " (70, -0.00991252),\n",
              " (71, 0.050929267),\n",
              " (72, 0.037549224),\n",
              " (73, 0.050708435),\n",
              " (74, 0.048502695),\n",
              " (75, -0.03560035),\n",
              " (76, -0.042377364),\n",
              " (77, 0.072116666),\n",
              " (78, -0.047649536),\n",
              " (79, 6.750617e-05),\n",
              " (80, 0.12500429),\n",
              " (81, -0.033981185),\n",
              " (82, -0.045637526),\n",
              " (83, -0.0043228506),\n",
              " (84, -0.06137146),\n",
              " (85, -0.047569018),\n",
              " (86, 0.022135045),\n",
              " (87, 0.009376965),\n",
              " (88, -0.001296109),\n",
              " (89, 0.005252323),\n",
              " (90, 0.0081733875),\n",
              " (91, -3.1582953e-05),\n",
              " (92, -0.018202053),\n",
              " (93, -0.09862299),\n",
              " (94, -0.0093101375),\n",
              " (95, 0.061860666),\n",
              " (96, -0.06041281),\n",
              " (97, -0.030241815),\n",
              " (98, -0.011406815),\n",
              " (99, 0.005432769)]"
            ]
          },
          "metadata": {
            "tags": []
          },
          "execution_count": 0
        }
      ]
    },
    {
      "cell_type": "code",
      "metadata": {
        "colab": {
          "background_save": true
        },
        "id": "iLjMeOV0yg4y"
      },
      "source": [
        "#### Please do not change this. This cell is used for grading."
      ],
      "execution_count": null,
      "outputs": []
    },
    {
      "cell_type": "markdown",
      "metadata": {
        "id": "jEO5Cbodyg4y"
      },
      "source": [
        "\\#### Please do not change this. This cell is used for grading."
      ]
    },
    {
      "cell_type": "code",
      "metadata": {
        "colab": {
          "background_save": true,
          "referenced_widgets": [
            "74aac0c420f243d1aa76d6388ff9c160"
          ]
        },
        "id": "VeordRs_yg4y",
        "outputId": "4309bedc-de34-49a4-8c8c-6d5b421f6c50"
      },
      "source": [
        "drm_d2v = DenseRetrievalRanker(d2v, cosine_sim)\n",
        "\n",
        "# test your LDA model\n",
        "search_fn = drm_d2v.search\n",
        "\n",
        "text = widgets.Text(description=\"Search Bar\", width=200)\n",
        "display(text)\n",
        "\n",
        "\n",
        "text.on_submit(handle_submit_2)"
      ],
      "execution_count": null,
      "outputs": [
        {
          "output_type": "display_data",
          "data": {
            "application/vnd.jupyter.widget-view+json": {
              "model_id": "74aac0c420f243d1aa76d6388ff9c160",
              "version_major": 2,
              "version_minor": 0
            },
            "text/plain": [
              "Text(value='', description='Search Bar')"
            ]
          },
          "metadata": {
            "tags": []
          }
        }
      ]
    },
    {
      "cell_type": "markdown",
      "metadata": {
        "id": "4Ijp0aBPyg4y"
      },
      "source": [
        "---\n",
        "## Section 9: Re-ranking (10 points) <a class=\"anchor\" id=\"reranking\"></a>\n",
        "\n",
        "[Back to Part 2](#part2)\n",
        "\n",
        "To motivate the re-ranking perspective (i.e retrieve with lexical method + rerank with a semantic method), let's search using semantic methods and compare it to BM25's performance, along with their runtime:\n"
      ]
    },
    {
      "cell_type": "code",
      "metadata": {
        "colab": {
          "background_save": true
        },
        "id": "kV9CE6ntyg4z",
        "outputId": "f4e04dc6-ac39-4055-a07a-bce3e544fa42"
      },
      "source": [
        "query = \"algebraic functions\"\n",
        "print(\"BM25: \")\n",
        "%timeit bm25_search(query, 2)\n",
        "print(\"LSI: \")\n",
        "%timeit drm_lsi.search(query)\n",
        "print(\"LDA: \")\n",
        "%timeit drm_lda.search(query)\n",
        "print(\"W2V: \")\n",
        "%timeit drm_w2v.search(query)\n",
        "print(\"W2V(Pretrained): \")\n",
        "%timeit drm_w2v_pretrained.search(query)\n",
        "print(\"D2V:\")\n",
        "%timeit drm_d2v.search(query)"
      ],
      "execution_count": null,
      "outputs": [
        {
          "output_type": "stream",
          "text": [
            "BM25: \n",
            "100 loops, best of 3: 4.18 ms per loop\n",
            "LSI: \n",
            "1 loop, best of 3: 202 ms per loop\n",
            "LDA: \n",
            "1 loop, best of 3: 817 ms per loop\n",
            "W2V: \n"
          ],
          "name": "stdout"
        },
        {
          "output_type": "stream",
          "text": [
            "/usr/local/lib/python3.6/dist-packages/ipykernel_launcher.py:39: DeprecationWarning: Call to deprecated `__contains__` (Method will be removed in 4.0.0, use self.wv.__contains__() instead).\n",
            "/usr/local/lib/python3.6/dist-packages/ipykernel_launcher.py:40: DeprecationWarning: Call to deprecated `__getitem__` (Method will be removed in 4.0.0, use self.wv.__getitem__() instead).\n"
          ],
          "name": "stderr"
        },
        {
          "output_type": "stream",
          "text": [
            "1 loop, best of 3: 304 ms per loop\n",
            "W2V(Pretrained): \n",
            "1 loop, best of 3: 832 ms per loop\n",
            "D2V:\n",
            "1 loop, best of 3: 342 ms per loop\n"
          ],
          "name": "stdout"
        }
      ]
    },
    {
      "cell_type": "markdown",
      "metadata": {
        "id": "bPTxEYtJyg4z"
      },
      "source": [
        "---\n",
        "\n",
        "**Implementation (10 points):**\n",
        "Re-ranking involves retrieving a small set of documents using simple but fast methods like BM25 and then re-ranking them with the aid of semantic methods such as LDA or LSI. Implement the following class, which takes in an `initial_retrieval_fn` - the initial retrieval function and `vsrm` - an instance of the `VectorSpaceRetrievalModel` class (i.e LSI/LDA) as input. The search function should first retrieve an initial list of K documents, and then these documents are re-ranked using a semantic method. This not only makes retrieval faster, but semantic methods perform poorly when used in isolation, as you will find out."
      ]
    },
    {
      "cell_type": "code",
      "metadata": {
        "colab": {
          "background_save": true
        },
        "id": "vxY-hQ6Cyg4z"
      },
      "source": [
        "# TODO: Implement this! (10 points)\n",
        "class DenseRerankingModel:\n",
        "    def __init__(self, initial_retrieval_fn, vsrm, similarity_fn):\n",
        "        \"\"\"\n",
        "            initial_retrieval_fn: takes in a query and returns a list of [(doc_id, score)] (sorted)\n",
        "            vsrm: instance of `VectorSpaceRetrievalModel`\n",
        "            similarity_fn: function instance that takes in two vectors \n",
        "                            and returns a similarity score e.g cosine_sim defined earlier\n",
        "        \"\"\"\n",
        "        self.ret = initial_retrieval_fn\n",
        "        self.vsrm = vsrm\n",
        "        self.similarity_fn = similarity_fn\n",
        "        self.vectorized_documents = vsrm.vectorize_documents()\n",
        "        \n",
        "        assert len(self.vectorized_documents) == len(doc_repr_2)\n",
        "    \n",
        "    def search(self, query, K=50):\n",
        "        \"\"\"\n",
        "            First, retrieve the top K results using the retrieval function\n",
        "            Then, re-rank the results using the VSRM instance\n",
        "        \"\"\"\n",
        "                \n",
        "        # YOUR CODE HERE\n",
        "        # retrieval of K most relevant documents according to retrieval function\n",
        "        sorted_relevant_docs = self.ret(query)[:K]\n",
        "        indices_relevant_docs = [sorted_relevant_docs[_][0] for _ in range(K)]\n",
        "\n",
        "        # compute scores for relevant docs\n",
        "        query_vector = self.vsrm.vectorize_query(query)\n",
        "        scores = [(0,0)]\n",
        "        for document_id in self.vectorized_documents: # doc_id -> vector dictionary\n",
        "            vector_dict = self.vectorized_documents[document_id]\n",
        "            if vector_dict and query_vector:\n",
        "                score = self.similarity_fn(query_vector, vector_dict)\n",
        "            else: \n",
        "                score = 0\n",
        "            scores.append( (document_id, score) )\n",
        "\n",
        "        # update scores\n",
        "        updated_relevant_docs = []\n",
        "        for idx_doc in indices_relevant_docs:\n",
        "            updated_relevant_docs.append((idx_doc, scores[idx_doc][1])) \n",
        "\n",
        "        # rerank documents\n",
        "        updated_relevant_docs.sort(key=lambda _:-_[1])\n",
        "        return updated_relevant_docs"
      ],
      "execution_count": null,
      "outputs": []
    },
    {
      "cell_type": "code",
      "metadata": {
        "colab": {
          "background_save": true
        },
        "id": "EsguU36Wyg4z",
        "outputId": "0fbed32e-8e69-4959-a1b1-155c457b0a09"
      },
      "source": [
        "##### Function check\n",
        "bm25_search_2 = partial(bm25_search, index_set=2)\n",
        "lsi_rerank = DenseRerankingModel(bm25_search_2, lsi, cosine_sim)\n",
        "lda_rerank = DenseRerankingModel(bm25_search_2, lda, jenson_shannon_sim)\n",
        "w2v_rerank = DenseRerankingModel(bm25_search_2, w2v, cosine_sim)\n",
        "w2v_pretrained_rerank = DenseRerankingModel(bm25_search_2, w2v_pretrained, cosine_sim)\n",
        "d2v_rerank = DenseRerankingModel(bm25_search_2, d2v, cosine_sim)\n",
        "\n",
        "##### "
      ],
      "execution_count": null,
      "outputs": [
        {
          "output_type": "stream",
          "text": [
            "/usr/local/lib/python3.6/dist-packages/ipykernel_launcher.py:25: DeprecationWarning: Call to deprecated `__contains__` (Method will be removed in 4.0.0, use self.wv.__contains__() instead).\n",
            "/usr/local/lib/python3.6/dist-packages/ipykernel_launcher.py:26: DeprecationWarning: Call to deprecated `__getitem__` (Method will be removed in 4.0.0, use self.wv.__getitem__() instead).\n"
          ],
          "name": "stderr"
        }
      ]
    },
    {
      "cell_type": "markdown",
      "metadata": {
        "id": "MuIZonYgyg4z"
      },
      "source": [
        "\\#### Please do not change this. This cell is used for grading."
      ]
    },
    {
      "cell_type": "markdown",
      "metadata": {
        "id": "hOgHL4gEyg40"
      },
      "source": [
        "---\n",
        "Now, let us time the new search functions:"
      ]
    },
    {
      "cell_type": "code",
      "metadata": {
        "colab": {
          "background_save": true
        },
        "id": "UFyU74sUyg40",
        "outputId": "41fc03db-be9b-4d74-b798-5cdd4fab25ac"
      },
      "source": [
        "query = \"algebraic functions\"\n",
        "print(\"BM25: \")\n",
        "%timeit bm25_search(query, 2)\n",
        "print(\"LSI: \")\n",
        "%timeit lsi_rerank.search(query)\n",
        "print(\"LDA: \")\n",
        "%timeit lda_rerank.search(query)\n",
        "print(\"W2V: \")\n",
        "%timeit w2v_rerank.search(query)\n",
        "print(\"W2V(Pretrained): \")\n",
        "%timeit w2v_pretrained_rerank.search(query)\n",
        "print(\"D2V:\")\n",
        "%timeit d2v_rerank.search(query)"
      ],
      "execution_count": null,
      "outputs": [
        {
          "output_type": "stream",
          "text": [
            "BM25: \n",
            "100 loops, best of 3: 3.98 ms per loop\n",
            "LSI: \n",
            "10 loops, best of 3: 198 ms per loop\n",
            "LDA: \n",
            "1 loop, best of 3: 826 ms per loop\n",
            "W2V: \n"
          ],
          "name": "stdout"
        },
        {
          "output_type": "stream",
          "text": [
            "/usr/local/lib/python3.6/dist-packages/ipykernel_launcher.py:39: DeprecationWarning: Call to deprecated `__contains__` (Method will be removed in 4.0.0, use self.wv.__contains__() instead).\n",
            "/usr/local/lib/python3.6/dist-packages/ipykernel_launcher.py:40: DeprecationWarning: Call to deprecated `__getitem__` (Method will be removed in 4.0.0, use self.wv.__getitem__() instead).\n"
          ],
          "name": "stderr"
        },
        {
          "output_type": "stream",
          "text": [
            "1 loop, best of 3: 190 ms per loop\n",
            "W2V(Pretrained): \n",
            "1 loop, best of 3: 713 ms per loop\n",
            "D2V:\n",
            "1 loop, best of 3: 189 ms per loop\n"
          ],
          "name": "stdout"
        }
      ]
    },
    {
      "cell_type": "markdown",
      "metadata": {
        "id": "RTjXrJhvyg40"
      },
      "source": [
        "---\n",
        "As you can see, it is much faster (but BM25 is still orders of magnitude faster)."
      ]
    },
    {
      "cell_type": "markdown",
      "metadata": {
        "id": "dr8zgMt6k570"
      },
      "source": [
        ""
      ]
    },
    {
      "cell_type": "markdown",
      "metadata": {
        "id": "JywdWBtKyg40"
      },
      "source": [
        "---\n",
        "## Section 10: Evaluation & Analysis (30 points) <a class=\"anchor\" id=\"reranking_eval\"></a>\n",
        "\n",
        "[Back to Part 2](#part2)\n",
        "\n",
        "[Previously](#evaluation) we have implemented some evaluation metrics and used them for measuring the ranking performance of term-based IR algorithms. In this section, we will do the same for semantic methods, both with and without re-ranking.\n",
        "\n",
        "### Section 10.1: Plot (10 points)\n",
        "\n",
        "First, gather the results. The results should consider the index set, the different search functions and different metrics. Plot the results in bar charts, per metric, with clear labels.\n",
        "\n",
        "Then, gather only the re-ranking models, and plot and compare them with the results obtained in part 1 (only index set 2)."
      ]
    },
    {
      "cell_type": "code",
      "metadata": {
        "colab": {
          "background_save": true
        },
        "id": "NCPqFv4Tyg41"
      },
      "source": [
        "list_of_sem_search_fns = [\n",
        "    (\"lda\", drm_lda.search),\n",
        "    (\"lsi\", drm_lsi.search),\n",
        "    (\"w2v\", drm_w2v.search),\n",
        "    (\"w2v_pretrained\", drm_w2v_pretrained.search),\n",
        "    (\"d2v\", drm_d2v.search),\n",
        "    (\"lsi_rr\", lsi_rerank.search),\n",
        "    (\"lda_rr\", lda_rerank.search),\n",
        "    (\"w2v_rr\", w2v_rerank.search),\n",
        "    (\"w2v_pretrained_rr\", w2v_pretrained_rerank.search),\n",
        "    (\"d2v_rr\", d2v_rerank.search),\n",
        "    \n",
        "]"
      ],
      "execution_count": null,
      "outputs": []
    },
    {
      "cell_type": "code",
      "metadata": {
        "id": "Iv2Y_KUKyg41"
      },
      "source": [
        "# YOUR CODE HERE\n",
        "def evaluate_search_fn(search_fn, metric_fns, index_set=None):\n",
        "    # build a dict query_id -> query \n",
        "    queries_by_id = dict((q[0], q[1]) for q in queries)\n",
        "    \n",
        "    metrics = {}\n",
        "    for metric, metric_fn in metric_fns:\n",
        "        metrics[metric] = np.zeros(len(qrels), dtype=np.float32)\n",
        "\n",
        "    for i, (query_id, relevant_docs) in enumerate(qrels.items()):\n",
        "        query = queries_by_id[query_id]\n",
        "        if index_set:\n",
        "            results = search_fn.search(query)\n",
        "        else:\n",
        "            results = search_fn.search(query)\n",
        "        \n",
        "        for metric, metric_fn in metric_fns:\n",
        "            metrics[metric][i] = metric_fn(results, relevant_docs)\n",
        "\n",
        "    final_dict = {}\n",
        "    for metric, metric_vals in metrics.items():\n",
        "        final_dict[metric] = metric_vals.mean()\n",
        "    \n",
        "    return final_dict\n",
        "\n",
        "import seaborn as sns\n",
        "sns.set_theme()\n",
        "import matplotlib.patches as mpatches\n",
        "\n",
        "def plot_metrics_semantic(index_set, lda, lsi, w2v, w2v_pretrained, d2v, lda_rr, lsi_rr, w2v_rr, w2v_pretrained_rr, d2v_rr):\n",
        "    semantic_methods = ['LDA', 'LSI', 'W2V', 'W2V_PRETRAINED', 'D2V', 'LSI_RE_RANKED', 'LDA_RE_RANKED', 'W2V_RE_RANKED', 'W2V_PRETRAINED_RE_RANKED', 'D2V_RE_RANKED']\n",
        "    y_pos = np.arange(len(semantic_methods))\n",
        "    x_pos = np.arange(len(list_of_metrics))*15\n",
        "\n",
        "    err_performance = [lda['ERR'], lsi['ERR'],w2v['ERR'],w2v_pretrained['ERR'],d2v['ERR'],lda_rr['ERR'], lsi_rr['ERR'],w2v_rr['ERR'],w2v_pretrained_rr['ERR'],d2v_rr['ERR']]\n",
        "    map_performance = [lda['MAP'], lsi['MAP'],w2v['MAP'],w2v_pretrained['MAP'],d2v['MAP'],lda_rr['MAP'], lsi_rr['MAP'],w2v_rr['MAP'],w2v_pretrained_rr['MAP'],d2v_rr['MAP']]\n",
        "    recall1_performance = [lda['Recall@1'], lsi['Recall@1'],w2v['Recall@1'],w2v_pretrained['Recall@1'],d2v['Recall@1'],lda_rr['Recall@1'], lsi_rr['Recall@1'],w2v_rr['Recall@1'],w2v_pretrained_rr['Recall@1'],d2v_rr['Recall@1']]\n",
        "    recall5_performance = [lda['Recall@5'], lsi['Recall@5'],w2v['Recall@5'],w2v_pretrained['Recall@5'],d2v['Recall@5'],lda_rr['Recall@5'], lsi_rr['Recall@5'],w2v_rr['Recall@5'],w2v_pretrained_rr['Recall@5'],d2v_rr['Recall@5']]\n",
        "    recall10_performance = [lda['Recall@10'], lsi['Recall@10'],w2v['Recall@10'],w2v_pretrained['Recall@10'],d2v['Recall@10'],lda_rr['Recall@10'], lsi_rr['Recall@10'],w2v_rr['Recall@10'],w2v_pretrained_rr['Recall@10'],d2v_rr['Recall@10']]\n",
        "    precision1_performance = [lda['Precision@1'], lsi['Precision@1'],w2v['Precision@1'],w2v_pretrained['Precision@1'],d2v['Precision@1'],lda_rr['Precision@1'], lsi_rr['Precision@1'],w2v_rr['Precision@1'],w2v_pretrained_rr['Precision@1'],d2v_rr['Precision@1']]\n",
        "    precision5_performance = [lda['Precision@5'], lsi['Precision@5'],w2v['Precision@5'],w2v_pretrained['Precision@5'],d2v['Precision@5'],lda_rr['Precision@5'], lsi_rr['Precision@5'],w2v_rr['Precision@5'],w2v_pretrained_rr['Precision@5'],d2v_rr['Precision@5']]\n",
        "    precision10_performance = [lda['Precision@10'], lsi['Precision@10'],w2v['Precision@10'],w2v_pretrained['Precision@10'],d2v['Precision@10'],lda_rr['Precision@10'], lsi_rr['Precision@10'],w2v_rr['Precision@10'],w2v_pretrained_rr['Precision@10'],d2v_rr['Precision@10']]\n",
        "\n",
        "\n",
        "    # Initialise the subplot function using number of rows and columns \n",
        "    #figure, axis = plt.subplots(figsize=(30,10)) \n",
        "    colour=['red','blue','green','orange','yellow', 'black', 'purple', 'cyan', 'gray', 'brown']    \n",
        "    list_names_of_metrics = [obj[0] for obj in list_of_metrics]\n",
        "\n",
        "    plt.figure(figsize=(30,10))\n",
        "    plt.title(\"Performance Metrics Retrieval Algorithms index_set\"+str(index_set))\n",
        "    plt.ylim(0,0.4)\n",
        "    plt.ylabel(\"Performance score\")\n",
        "    plt.bar(x_pos[0] + y_pos, err_performance, align='center', alpha=0.5, color=colour)\n",
        "    plt.bar(x_pos[1] + y_pos, map_performance, align='center', alpha=0.5, color=colour)\n",
        "    plt.bar(x_pos[2] + y_pos, recall1_performance, align='center', alpha=0.5, color=colour)\n",
        "    plt.bar(x_pos[3] + y_pos, recall5_performance, align='center', alpha=0.5, color=colour)\n",
        "    plt.bar(x_pos[4] + y_pos, recall10_performance, align='center', alpha=0.5, color=colour)\n",
        "    plt.bar(x_pos[5] + y_pos, precision1_performance, align='center', alpha=0.5, color=colour)\n",
        "    plt.bar(x_pos[6] + y_pos, precision5_performance, align='center', alpha=0.5, color=colour)\n",
        "    plt.bar(x_pos[7] + y_pos, precision10_performance, align='center', alpha=0.5, color=colour)\n",
        "    plt.xticks(ticks=x_pos+4.5, labels = list_names_of_metrics)\n",
        "    \n",
        "    patch = []\n",
        "    for i in range(len(colour)):\n",
        "        patch.append(mpatches.Patch(color=colour[i], label=semantic_methods[i]))\n",
        "    plt.legend(handles=patch)\n",
        "\n",
        "index_set = 2\n",
        "lda = evaluate_search_fn(drm_lda, list_of_metrics, index_set)\n",
        "lsi = evaluate_search_fn(drm_lsi, list_of_metrics, index_set)\n",
        "w2v = evaluate_search_fn(drm_w2v, list_of_metrics, index_set)\n",
        "w2v_pretrained = evaluate_search_fn(drm_w2v_pretrained, list_of_metrics, index_set)\n",
        "d2v = evaluate_search_fn(drm_d2v, list_of_metrics, index_set)\n",
        "lda_rr = evaluate_search_fn(lda_rerank, list_of_metrics, index_set)\n",
        "lsi_rr = evaluate_search_fn(lsi_rerank, list_of_metrics, index_set)\n",
        "w2v_rr = evaluate_search_fn(w2v_rerank, list_of_metrics, index_set)\n",
        "w2v_pretrained_rr = evaluate_search_fn(w2v_pretrained_rerank, list_of_metrics, index_set)\n",
        "d2v_rr = evaluate_search_fn(d2v_rerank, list_of_metrics, index_set)\n",
        "plot_metrics_semantic(index_set, lda, lsi, w2v, w2v_pretrained, d2v, lda_rr, lsi_rr, w2v_rr, w2v_pretrained_rr, d2v_rr)\n",
        "\n",
        "## Backup data as measured on 19/02/2021\n",
        "# backup_lda = {'ERR': 0.09280718, 'MAP': 0.044842936, 'Recall@1': 0.010722611, 'Recall@5': 0.017371789, 'Recall@10': 0.057687044, 'Precision@1': 0.09615385, 'Precision@5': 0.042307694, 'Precision@10': 0.049999997}\n",
        "# backup_lsi = {'ERR': 0.12416386, 'MAP': 0.06553313, 'Recall@1': 0.015266352, 'Recall@5': 0.03333577, 'Recall@10': 0.05309492, 'Precision@1': 0.115384616, 'Precision@5': 0.08846155, 'Precision@10': 0.07692308}\n",
        "# backup_w2v = {'ERR': 0.0328733, 'MAP': 0.018421175, 'Recall@1': 0.0024038462, 'Recall@5': 0.0065477444, 'Recall@10': 0.027655803, 'Precision@1': 0.01923077, 'Precision@5': 0.01923077, 'Precision@10': 0.015384615}\n",
        "# backup_w2v_pretrained = {'ERR': 0.07163447, 'MAP': 0.016202154, 'Recall@1': 0.008176944, 'Recall@5': 0.011647566, 'Recall@10': 0.014715333, 'Precision@1': 0.115384616, 'Precision@5': 0.042307694, 'Precision@10': 0.026923079}\n",
        "# backup_d2v =  {'ERR': 0.019651536, 'MAP': 0.011632001, 'Recall@1': 0.0, 'Recall@5': 0.0018772895, 'Recall@10': 0.004258242, 'Precision@1': 0.0, 'Precision@5': 0.011538462, 'Precision@10': 0.0134615395}\n",
        "# backup_lda_rr =  {'ERR': 0.23544599, 'MAP': 0.14019437, 'Recall@1': 0.012183747, 'Recall@5': 0.08779089, 'Recall@10': 0.17484316, 'Precision@1': 0.1923077, 'Precision@5': 0.20769231, 'Precision@10': 0.21153846}\n",
        "# backup_lsi_rr = {'ERR': 0.21926498, 'MAP': 0.13779415, 'Recall@1': 0.020098357, 'Recall@5': 0.08950414, 'Recall@10': 0.14917979, 'Precision@1': 0.1923077, 'Precision@5': 0.1923077, 'Precision@10': 0.18461539}\n",
        "# w2v_rr = {'ERR': 0.18401656, 'MAP': 0.1243595, 'Recall@1': 0.02572024, 'Recall@5': 0.05953407, 'Recall@10': 0.12638572, 'Precision@1': 0.15384616, 'Precision@5': 0.13461539, 'Precision@10': 0.15384614}\n",
        "# backup_w2v_pretrained_rr =  {'ERR': 0.29809302, 'MAP': 0.19223021, 'Recall@1': 0.051203147, 'Recall@5': 0.12662736, 'Recall@10': 0.21042396, 'Precision@1': 0.3653846, 'Precision@5': 0.25, 'Precision@10': 0.2173077}\n",
        "# backup_d2v_rr = {'ERR': 0.17481758, 'MAP': 0.11130487, 'Recall@1': 0.004545495, 'Recall@5': 0.0545854, 'Recall@10': 0.106592864, 'Precision@1': 0.115384616, 'Precision@5': 0.13846155, 'Precision@10': 0.15576921}\n",
        "# plot_metrics_semantic(index_set, backup_lda, backup_lsi, backup_w2v, backup_w2v_pretrained, backup_d2v, backup_lda_rr, backup_lsi_rr, w2v_rr, backup_w2v_pretrained_rr, backup_d2v_rr)\n"
      ],
      "execution_count": null,
      "outputs": []
    },
    {
      "cell_type": "markdown",
      "metadata": {
        "id": "g8g6bwK0yg41"
      },
      "source": [
        "### Section 10.2: Summary (20 points)\n",
        "\n",
        "Your summary should compare methods from Part 1 and Part 2 (only for index set 2). State what you expected to see in the results, followed by either supporting evidence *or* justify why the results did not support your expectations. Consider the availability of data, scalability, domain/type of data, etc."
      ]
    },
    {
      "cell_type": "markdown",
      "metadata": {
        "id": "ZGsenPWvyg41"
      },
      "source": [
        "Traditional information retrieval uses the fairly simple approach of matching the exact terms in a query based on frequency. The advantages of the algorithms using these methods are A drawback of this method is of course that it may fail to detect relevant documents where no or only few words from a query are found."
      ]
    }
  ]
}